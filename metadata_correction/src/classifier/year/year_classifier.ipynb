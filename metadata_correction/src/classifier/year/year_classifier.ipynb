{
 "cells": [
  {
   "cell_type": "markdown",
   "id": "9d2f0050-2b11-4ec6-ad46-b4c19732b162",
   "metadata": {},
   "source": [
    "## Year Error Check"
   ]
  },
  {
   "cell_type": "code",
   "execution_count": 28,
   "id": "6277860c-dbf4-4983-b2aa-ace37a397cb5",
   "metadata": {},
   "outputs": [
    {
     "name": "stderr",
     "output_type": "stream",
     "text": [
      "Intel(R) Extension for Scikit-learn* enabled (https://github.com/intel/scikit-learn-intelex)\n"
     ]
    }
   ],
   "source": [
    "import pandas as pd\n",
    "from sklearn.metrics import classification_report, confusion_matrix, accuracy_score\n",
    "import re"
   ]
  },
  {
   "cell_type": "code",
   "execution_count": 29,
   "id": "f235ee25-8f7f-41a8-92db-c3ffaf128f2a",
   "metadata": {},
   "outputs": [],
   "source": [
    "year_dict = pd.read_csv('year_appendix.csv')"
   ]
  },
  {
   "cell_type": "code",
   "execution_count": 30,
   "id": "b9eec67f-94b3-4986-bf67-51b39540470d",
   "metadata": {},
   "outputs": [],
   "source": [
    "year_gt = pd.read_csv('year_gt.csv')"
   ]
  },
  {
   "cell_type": "code",
   "execution_count": 31,
   "id": "1b3fe9d5-1fc2-4831-9e3a-deec9426c168",
   "metadata": {},
   "outputs": [],
   "source": [
    "list_year_dict = []\n",
    "for values in year_dict['year']:\n",
    "    string = str(values)\n",
    "    list_year_dict.append(string)"
   ]
  },
  {
   "cell_type": "code",
   "execution_count": 32,
   "id": "9cb3218c-cbeb-4e59-89e9-fcf1d64bb291",
   "metadata": {},
   "outputs": [],
   "source": [
    "df_dict = pd.DataFrame(list_year_dict, columns = ['year_dict'])"
   ]
  },
  {
   "cell_type": "code",
   "execution_count": 33,
   "id": "caec5ba4-df00-412b-82aa-f9ef6b2d2c0e",
   "metadata": {},
   "outputs": [],
   "source": [
    "check= pd.Series(year_gt.year_gt.isin(df_dict.year_dict).values.astype(int))"
   ]
  },
  {
   "cell_type": "code",
   "execution_count": 34,
   "id": "d0ed30af-7427-4717-b12d-de5c36ff621d",
   "metadata": {},
   "outputs": [],
   "source": [
    "error_check = pd.DataFrame(check, columns = ['match'])\n",
    "result = pd.concat([year_gt, error_check], axis = 1)\n",
    "result.to_csv('predicted_error.csv', index = None)"
   ]
  },
  {
   "cell_type": "markdown",
   "id": "d17d15ee-dbda-4d22-bcfe-5bea83243e67",
   "metadata": {},
   "source": [
    "## Canonicalization"
   ]
  },
  {
   "cell_type": "code",
   "execution_count": 45,
   "id": "a949cf03-f3e1-4c70-8a11-a0ffec735bf0",
   "metadata": {},
   "outputs": [],
   "source": [
    "df = pd.read_csv('predicted_error.csv')\n",
    "df_year = df['year_gt']\n",
    "df_canonical = pd.to_datetime(df_year)\n",
    "df_canonical_year = df_canonical.dt.year\n",
    "df_canonical_year.to_csv('canonical_year.csv', index = None)"
   ]
  }
 ],
 "metadata": {
  "kernelspec": {
   "display_name": "Python 3 (ipykernel)",
   "language": "python",
   "name": "python3"
  },
  "language_info": {
   "codemirror_mode": {
    "name": "ipython",
    "version": 3
   },
   "file_extension": ".py",
   "mimetype": "text/x-python",
   "name": "python",
   "nbconvert_exporter": "python",
   "pygments_lexer": "ipython3",
   "version": "3.7.13"
  }
 },
 "nbformat": 4,
 "nbformat_minor": 5
}
