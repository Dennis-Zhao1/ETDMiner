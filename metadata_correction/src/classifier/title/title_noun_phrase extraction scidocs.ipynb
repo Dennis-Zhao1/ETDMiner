{
 "cells": [
  {
   "cell_type": "markdown",
   "metadata": {},
   "source": [
    "### Generating noun phrases from SciDocs for query classification\n",
    "\n",
    "- SciDocs uses MAG to generate a dataset with level:1 classes\n",
    "\n",
    "`\n",
    "0\tArt\n",
    "1\tBiology\n",
    "2\tBusiness\n",
    "3\tChemistry\n",
    "4\tComputer science\n",
    "5\tEconomics\n",
    "6\tEngineering\n",
    "7\tEnvironmental science\n",
    "8\tGeography\n",
    "9\tGeology\n",
    "10\tHistory\n",
    "11\tMaterials science\n",
    "12\tMathematics\n",
    "13\tMedicine\n",
    "14\tPhilosophy\n",
    "15\tPhysics\n",
    "16\tPolitical science\n",
    "17\tPsychology\n",
    "18\tSociology`\n",
    "\n",
    "The idea is if we can extract noun phrases from this dataset and give them a label. We can use a classifier to train on it and then classify our queries."
   ]
  },
  {
   "cell_type": "code",
   "execution_count": 1,
   "metadata": {
    "collapsed": true,
    "jupyter": {
     "outputs_hidden": true
    }
   },
   "outputs": [
    {
     "name": "stderr",
     "output_type": "stream",
     "text": [
      "/data/szr207/conda/envs/tf-gpu/lib/python3.7/site-packages/tensorflow/python/framework/dtypes.py:516: FutureWarning: Passing (type, 1) or '1type' as a synonym of type is deprecated; in a future version of numpy, it will be understood as (type, (1,)) / '(1,)type'.\n",
      "  _np_qint8 = np.dtype([(\"qint8\", np.int8, 1)])\n",
      "/data/szr207/conda/envs/tf-gpu/lib/python3.7/site-packages/tensorflow/python/framework/dtypes.py:517: FutureWarning: Passing (type, 1) or '1type' as a synonym of type is deprecated; in a future version of numpy, it will be understood as (type, (1,)) / '(1,)type'.\n",
      "  _np_quint8 = np.dtype([(\"quint8\", np.uint8, 1)])\n",
      "/data/szr207/conda/envs/tf-gpu/lib/python3.7/site-packages/tensorflow/python/framework/dtypes.py:518: FutureWarning: Passing (type, 1) or '1type' as a synonym of type is deprecated; in a future version of numpy, it will be understood as (type, (1,)) / '(1,)type'.\n",
      "  _np_qint16 = np.dtype([(\"qint16\", np.int16, 1)])\n",
      "/data/szr207/conda/envs/tf-gpu/lib/python3.7/site-packages/tensorflow/python/framework/dtypes.py:519: FutureWarning: Passing (type, 1) or '1type' as a synonym of type is deprecated; in a future version of numpy, it will be understood as (type, (1,)) / '(1,)type'.\n",
      "  _np_quint16 = np.dtype([(\"quint16\", np.uint16, 1)])\n",
      "/data/szr207/conda/envs/tf-gpu/lib/python3.7/site-packages/tensorflow/python/framework/dtypes.py:520: FutureWarning: Passing (type, 1) or '1type' as a synonym of type is deprecated; in a future version of numpy, it will be understood as (type, (1,)) / '(1,)type'.\n",
      "  _np_qint32 = np.dtype([(\"qint32\", np.int32, 1)])\n",
      "/data/szr207/conda/envs/tf-gpu/lib/python3.7/site-packages/tensorflow/python/framework/dtypes.py:525: FutureWarning: Passing (type, 1) or '1type' as a synonym of type is deprecated; in a future version of numpy, it will be understood as (type, (1,)) / '(1,)type'.\n",
      "  np_resource = np.dtype([(\"resource\", np.ubyte, 1)])\n",
      "/data/szr207/conda/envs/tf-gpu/lib/python3.7/site-packages/tensorboard/compat/tensorflow_stub/dtypes.py:541: FutureWarning: Passing (type, 1) or '1type' as a synonym of type is deprecated; in a future version of numpy, it will be understood as (type, (1,)) / '(1,)type'.\n",
      "  _np_qint8 = np.dtype([(\"qint8\", np.int8, 1)])\n",
      "/data/szr207/conda/envs/tf-gpu/lib/python3.7/site-packages/tensorboard/compat/tensorflow_stub/dtypes.py:542: FutureWarning: Passing (type, 1) or '1type' as a synonym of type is deprecated; in a future version of numpy, it will be understood as (type, (1,)) / '(1,)type'.\n",
      "  _np_quint8 = np.dtype([(\"quint8\", np.uint8, 1)])\n",
      "/data/szr207/conda/envs/tf-gpu/lib/python3.7/site-packages/tensorboard/compat/tensorflow_stub/dtypes.py:543: FutureWarning: Passing (type, 1) or '1type' as a synonym of type is deprecated; in a future version of numpy, it will be understood as (type, (1,)) / '(1,)type'.\n",
      "  _np_qint16 = np.dtype([(\"qint16\", np.int16, 1)])\n",
      "/data/szr207/conda/envs/tf-gpu/lib/python3.7/site-packages/tensorboard/compat/tensorflow_stub/dtypes.py:544: FutureWarning: Passing (type, 1) or '1type' as a synonym of type is deprecated; in a future version of numpy, it will be understood as (type, (1,)) / '(1,)type'.\n",
      "  _np_quint16 = np.dtype([(\"quint16\", np.uint16, 1)])\n",
      "/data/szr207/conda/envs/tf-gpu/lib/python3.7/site-packages/tensorboard/compat/tensorflow_stub/dtypes.py:545: FutureWarning: Passing (type, 1) or '1type' as a synonym of type is deprecated; in a future version of numpy, it will be understood as (type, (1,)) / '(1,)type'.\n",
      "  _np_qint32 = np.dtype([(\"qint32\", np.int32, 1)])\n",
      "/data/szr207/conda/envs/tf-gpu/lib/python3.7/site-packages/tensorboard/compat/tensorflow_stub/dtypes.py:550: FutureWarning: Passing (type, 1) or '1type' as a synonym of type is deprecated; in a future version of numpy, it will be understood as (type, (1,)) / '(1,)type'.\n",
      "  np_resource = np.dtype([(\"resource\", np.ubyte, 1)])\n",
      "Using TensorFlow backend.\n"
     ]
    }
   ],
   "source": [
    "import jsonlines\n",
    "import tqdm\n",
    "import json\n",
    "import spacy\n",
    "import numpy as np \n",
    "import pandas as pd\n",
    "\n",
    "from sklearn.feature_extraction import text\n",
    "from sklearn.feature_extraction.text import CountVectorizer, TfidfVectorizer\n",
    "from sklearn.decomposition import LatentDirichletAllocation\n",
    "\n",
    "# import scispacy\n",
    "import spacy\n",
    "# import en_core_web_sm\n",
    "\n",
    "from scipy.spatial.distance import jensenshannon\n",
    "\n",
    "import joblib\n",
    "\n",
    "from IPython.display import HTML, display\n",
    "\n",
    "from ipywidgets import interact, Layout, HBox, VBox, Box\n",
    "import ipywidgets as widgets\n",
    "from IPython.display import clear_output\n",
    "\n",
    "from tqdm import tqdm\n",
    "from os.path import isfile\n",
    "\n",
    "import seaborn as sb\n",
    "import matplotlib.pyplot as plt\n",
    "plt.style.use(\"dark_background\")\n",
    "import numpy as np\n",
    "import pandas as pd\n",
    "import seaborn as sns\n",
    "import matplotlib.pyplot as plt\n",
    "\n",
    "import keras\n",
    "from keras import optimizers\n",
    "from keras import backend as K\n",
    "from keras import regularizers\n",
    "from keras.models import Sequential\n",
    "from keras.layers import Dense, Activation, Dropout, Flatten\n",
    "from keras.layers import Embedding, Conv1D, MaxPooling1D, GlobalMaxPooling1D \n",
    "from keras.utils import plot_model\n",
    "from keras.preprocessing import sequence\n",
    "from keras.preprocessing.text import Tokenizer\n",
    "from keras.callbacks import EarlyStopping\n",
    "\n",
    "from tqdm import tqdm\n",
    "from nltk.corpus import stopwords\n",
    "from nltk.tokenize import RegexpTokenizer \n",
    "import os, re, csv, math, codecs\n",
    "from sklearn.model_selection import train_test_split\n",
    "sns.set_style(\"whitegrid\")\n",
    "np.random.seed(0)\n",
    "\n",
    "os.environ[\"CUDA_VISIBLE_DEVICES\"]=\"1\"\n",
    "\n",
    "EMBEDDING_DIR = '/data/szr207/projects/log_analysis'\n",
    "\n",
    "MAX_NB_WORDS = 100000\n",
    "tokenizer = RegexpTokenizer(r'\\w+')\n",
    "stop_words = set(stopwords.words('english'))\n",
    "stop_words.update(['.', ',', '\"', \"'\", ':', ';', '(', ')', '[', ']', '{', '}'])\n",
    "# DATA_PATH = '/data/szr207/projects/log_analysis/equal_scidocs.csv'\n",
    "\n",
    "from subprocess import check_output\n",
    "# print(check_output([\"ls\", DATA_PATH]).decode(\"utf8\"))\n",
    "plt.style.use(\"dark_background\")\n",
    "\n",
    "# DATA_PATH = '/data/szr207/dataset/scidocs/mag/combined.csv'\n"
   ]
  },
  {
   "cell_type": "code",
   "execution_count": 2,
   "metadata": {},
   "outputs": [],
   "source": [
    "path_json = '/data/szr207/dataset/scidocs/paper_metadata_mag_mesh.json'\n",
    "\n",
    "with open(path_json) as f:\n",
    "    paper_metadata_mag_mesh = json.load(f)"
   ]
  },
  {
   "cell_type": "code",
   "execution_count": 3,
   "metadata": {
    "collapsed": true,
    "jupyter": {
     "outputs_hidden": true
    }
   },
   "outputs": [
    {
     "name": "stdout",
     "output_type": "stream",
     "text": [
      "00014a8515491f0b3fe2a1ff6e0f5305e584dcd9 {'abstract': None, 'authors': ['115471397'], 'cited_by': [], 'paper_id': '00014a8515491f0b3fe2a1ff6e0f5305e584dcd9', 'references': [], 'title': 'ON THE CLASSIFICATION OF THE SCIENCES', 'year': None} None\n",
      "00021eeee2bf4e06fec98941206f97083c38b54d {'abstract': 'Numerous studies of E-Commerce have emphasized the sway of obstacles related to Information Technology (IT) infrastructure, Socio economic condition, Internet usage, Government and regulatory initiatives as major determinants of ecommerce success. Information communication technology (ICT) revolutionizes businesses around the world. In this paper e-commerce practices in Malaysia has been analyzed by its strength, weaknesses, opportunities and threats. This paper provides a general review of challenges and opportunities for e commerce practices in Malaysia. And to understand the in-depth of e-commerce practices and to investigates more solutions for the research problems. Analysis shows that E-Commerce in Malaysia is moving towards uptrend direction. But still there are some challenges which are influencing on E-Commerce. The challenges such as economic condition of the country, low wages of labors, low internet access, lack of awareness of online purchasing, e-readiness, high cost and legacy of fast internet. Findings show that there are sweet opportunities which can boost up E-Commerce in Malaysia. Strategic position of the country, political stability, foreign investment in information and communication technology (ICT) and high rate of education can be the charming part of E-Commerce growth in Malaysia.', 'authors': ['9172542', '144999003', '50724330'], 'cited_by': ['f365ac8bb12a7e3bd0b62f38d4cbd933f480325d'], 'paper_id': '00021eeee2bf4e06fec98941206f97083c38b54d', 'references': ['73df658dd68b95bb4d3a51ed13e255bb156ff0fa', 'f338218285697cbdf59a21ca44dce4d4d8273081'], 'title': 'Opportunities and challenges for E-Commerce in Malaysia: A theoretical approach', 'year': 2010} Numerous studies of E-Commerce have emphasized the sway of obstacles related to Information Technology (IT) infrastructure, Socio economic condition, Internet usage, Government and regulatory initiatives as major determinants of ecommerce success. Information communication technology (ICT) revolutionizes businesses around the world. In this paper e-commerce practices in Malaysia has been analyzed by its strength, weaknesses, opportunities and threats. This paper provides a general review of challenges and opportunities for e commerce practices in Malaysia. And to understand the in-depth of e-commerce practices and to investigates more solutions for the research problems. Analysis shows that E-Commerce in Malaysia is moving towards uptrend direction. But still there are some challenges which are influencing on E-Commerce. The challenges such as economic condition of the country, low wages of labors, low internet access, lack of awareness of online purchasing, e-readiness, high cost and legacy of fast internet. Findings show that there are sweet opportunities which can boost up E-Commerce in Malaysia. Strategic position of the country, political stability, foreign investment in information and communication technology (ICT) and high rate of education can be the charming part of E-Commerce growth in Malaysia.\n",
      "00027baa2a90e1a3d50c1da14882d518de6847f5 {'abstract': 'In order to elucidate the modes of interaction between lignin precursors and membranes, we have studied the influence of temperature, lipid composition and buffer composition on the partitioning of monolignol and dilignol model substances into phospholipid bilayers. The partitioning was determined by immobilized liposome chromatography, which is an established method for studies of pharmaceutical drugs but a new approach in studies of lignin synthesis. The temperature dependence of the retention and the effect of a high ammonium sulfate concentration in the mobile phase demonstrated that the interaction involved both hydrophobic effects and polar interactions. There was also a good correlation between the partitioning and the estimated hydrophobicity, in terms of octanol/water partitioning. The partitioning behavior of the model substances suggests that passive diffusion over the cell membrane is a possible transport route for lignin precursors. This conclusion is strengthened by comparison of the present results with the partitioning of pharmaceutical drugs that are known to pass cell membranes by diffusion.', 'authors': ['4827261', '91349183'], 'cited_by': ['c67e5ef94ca6ad2d8aa25fde5f6940033852d817', '5bdbecc813456daeafa852cc5609b8e994b6ca06', '1b82749e0d18ff931fe43926be6ae1aa88fd17b1', '20b421b7e1ec85ba103de2ae82c2bce94ab256cd', 'ec3dac772c4d3a69dbe1425bb7531205fa59c000', 'bb8e8373d43c702e0436ce2729eafb293c6e1d20', '9698c2d9ddef6e38eb32623be7f675252f80ac8b', '0ee2f9369761b2bfb1f9d2fdb2c2639f22d7765d', '2242194526c48ede0aa1a4317b699b9104e18506', '309cd7ac7cce76f98faa12ce5efa1a79ba46ba89', 'b494c500962659df403feeef05923acc93ce5fa1', 'da402c7b05b45122fd409513423dd1d8c76e6ea3', '80397ae8fe766eadf548bd56bf1dd9488ed4bdea', '5be185c89a1a7ed72e87593da80803a7412cd8e7', '299734a860dd12d49c006a53c6115adac522031c', 'e99831fe2c270e9b2e8286856ee37ac45455541c', '4562a4d9671bf88a5cb631df0ae6813fc9ae0427', 'c5c7cabd248213b00120e5f28d6eee373994ccea', '104a7570a76848953d63b2041b09a8b1c35a1a8b', 'c98f36bcd68d3e2b67b861656f6b438eda09efc0', '325f2e65a9cb5aee412e8b985794bfacfab24ee1', '210f2724a488ea8cd26e6795b6e575df9c4321f6', '2db5a10e181e1c9bfdcd336e12cd736eebe20374', '28de72b93eeaf4f0f6b4f01e69efc42f3a752288', 'a5d753b54b874a54017900f4ffd84616f77a5e29', '13206859edf8ddfdf830503a5e9b7d93b852429a', '661fa56c0b32ac7a7ef0c0751cd826c1832aab5e', '031476f6235082c9fb0c0a0522315c10c20f3ce2'], 'paper_id': '00027baa2a90e1a3d50c1da14882d518de6847f5', 'references': [], 'title': 'Interactions between model membranes and lignin-related compounds studied by immobilized liposome chromatography.', 'year': 2006} In order to elucidate the modes of interaction between lignin precursors and membranes, we have studied the influence of temperature, lipid composition and buffer composition on the partitioning of monolignol and dilignol model substances into phospholipid bilayers. The partitioning was determined by immobilized liposome chromatography, which is an established method for studies of pharmaceutical drugs but a new approach in studies of lignin synthesis. The temperature dependence of the retention and the effect of a high ammonium sulfate concentration in the mobile phase demonstrated that the interaction involved both hydrophobic effects and polar interactions. There was also a good correlation between the partitioning and the estimated hydrophobicity, in terms of octanol/water partitioning. The partitioning behavior of the model substances suggests that passive diffusion over the cell membrane is a possible transport route for lignin precursors. This conclusion is strengthened by comparison of the present results with the partitioning of pharmaceutical drugs that are known to pass cell membranes by diffusion.\n",
      "00034a5a5bd11b51ec046d31de273946d91fb766 {'abstract': None, 'authors': ['2472363'], 'cited_by': ['6d03233cdda7f878a8c77b8a263c90e135e7bf15', '815fcc71c6e9d7df9ea4ac6ba7387d587c8edae3', 'd438e674eb5342259f2810fa476959430664e7b4', 'b950143b6ce46f8e99d6c88c0b5c0da6dccd7803'], 'paper_id': '00034a5a5bd11b51ec046d31de273946d91fb766', 'references': [], 'title': 'Perpetual Peace: What Kant Should Have Said', 'year': 1988} None\n",
      "000c8d85037886c86de15290e5a8e9bae7b66103 {'abstract': \"List of Illustrations Preface Introduction CHAPTER ONE. Greek Tragedy Finds an American Audience 1. Setting the Stage 2. American Theater Makes Greek Tragedy Its Own CHAPTER TWO. Making Total Theater in America: Choreography and Music 1. Hellenic Influences on the Development of American Modern Dance 2. American Gesamtkunstwerke 3. Musical Theater 4. Visual Choreography in Robert Wilson's Alcestis CHAPTER THREE. Democratizing Greek Tragedy 1. Antigone and Politics in the Nineteenth Century: The Boston 1890 Antigone 2. Performance Groups in the 1960s--1970s: Brecht's Antigone by The Living Theatre 3. The 1980s and Beyond: Peter Sellars's Persians, Ajax, and Children of Heracles 4. Aeschylus's Prometheus Bound in the United States: From the Threat of Apocalypse to Communal Reconciliation CHAPTER FOUR. Reenvisioning the Hero: American Oedipus 1. Oedipus as Scapegoat 2. Plagues 3. Theban Cycles 4. Deconstructing Fatality 5. Abandonment CHAPTER FIVE. Reimagining Medea as American Other 1. Setting the Stage: Nineteenth-Century Medea 2. Medea as Social Critic from the Mid-1930s to the Late 1940s 3. Medea as Ethnic Other from the 1970s to the Present 4. Medea's Divided Self: Drag and Cross-Dressed Performances Epilogue Appendix A. Professional Productions and New Versions of Sophocles' and Euripides' Electras Appendix B. Professional Productions and New Versions of Antigone Appendix C. Professional Productions and New Versions of Aeschylus's Persians, Sophocles' Ajax, and Aeschylus's Prometheus Bound Appendix D. Professional Productions and New Versions of Oedipus Tyrannus Appendix E. Professional Productions and New Versions of Euripides' Medea Appendix F. Professional Productions and New Versions of Euripides' Iphigeneia in Aulis and Iphigeneia in Tauris Appendix G. Other Professional Productions and New Versions Notes References Index\", 'authors': ['103794787'], 'cited_by': [], 'paper_id': '000c8d85037886c86de15290e5a8e9bae7b66103', 'references': [], 'title': 'Reimagining Greek Tragedy on the American Stage', 'year': 2012} List of Illustrations Preface Introduction CHAPTER ONE. Greek Tragedy Finds an American Audience 1. Setting the Stage 2. American Theater Makes Greek Tragedy Its Own CHAPTER TWO. Making Total Theater in America: Choreography and Music 1. Hellenic Influences on the Development of American Modern Dance 2. American Gesamtkunstwerke 3. Musical Theater 4. Visual Choreography in Robert Wilson's Alcestis CHAPTER THREE. Democratizing Greek Tragedy 1. Antigone and Politics in the Nineteenth Century: The Boston 1890 Antigone 2. Performance Groups in the 1960s--1970s: Brecht's Antigone by The Living Theatre 3. The 1980s and Beyond: Peter Sellars's Persians, Ajax, and Children of Heracles 4. Aeschylus's Prometheus Bound in the United States: From the Threat of Apocalypse to Communal Reconciliation CHAPTER FOUR. Reenvisioning the Hero: American Oedipus 1. Oedipus as Scapegoat 2. Plagues 3. Theban Cycles 4. Deconstructing Fatality 5. Abandonment CHAPTER FIVE. Reimagining Medea as American Other 1. Setting the Stage: Nineteenth-Century Medea 2. Medea as Social Critic from the Mid-1930s to the Late 1940s 3. Medea as Ethnic Other from the 1970s to the Present 4. Medea's Divided Self: Drag and Cross-Dressed Performances Epilogue Appendix A. Professional Productions and New Versions of Sophocles' and Euripides' Electras Appendix B. Professional Productions and New Versions of Antigone Appendix C. Professional Productions and New Versions of Aeschylus's Persians, Sophocles' Ajax, and Aeschylus's Prometheus Bound Appendix D. Professional Productions and New Versions of Oedipus Tyrannus Appendix E. Professional Productions and New Versions of Euripides' Medea Appendix F. Professional Productions and New Versions of Euripides' Iphigeneia in Aulis and Iphigeneia in Tauris Appendix G. Other Professional Productions and New Versions Notes References Index\n",
      "000eb4e43735ee77ffe1691b91a0dee2d3e14cde {'abstract': \"Is it possible to define, for certain values n the product of vectors of the real vector space of n dimensions, such that this is, with respect to multiplication and the ordinary addition of vectors, a numerical system which contains the system of real numbers? It can be proven that this cannot be done. In the space of four dimensions this construction is possible if we are apart from the commutativity of the multiplication. The resulting system is the one ofQUATERNIONS. In this work I first do a reminder of the fundamental concepts of Hamilton's Hypercomplex and then a deep work with such concepts.\", 'authors': ['1827837'], 'cited_by': [], 'paper_id': '000eb4e43735ee77ffe1691b91a0dee2d3e14cde', 'references': [], 'title': \"New Trigonometric form of The Hamilton's Quaternions\", 'year': 2003} Is it possible to define, for certain values n the product of vectors of the real vector space of n dimensions, such that this is, with respect to multiplication and the ordinary addition of vectors, a numerical system which contains the system of real numbers? It can be proven that this cannot be done. In the space of four dimensions this construction is possible if we are apart from the commutativity of the multiplication. The resulting system is the one ofQUATERNIONS. In this work I first do a reminder of the fundamental concepts of Hamilton's Hypercomplex and then a deep work with such concepts.\n",
      "000ec6bf952325ff038e9866c69ad097d96031b9 {'abstract': \"This paper studies a public firm's investment decision and whether to raise the equity capital needed using the public market (SEO, Secondary Equity Offering) or a private channel (PIPE, Private Investment in Public Equity). Issuing a PIPE allows the firm to enjoy more financial flexibility. This is modeled in two dimensions: First, funds can be raised faster. Second, dilution costs caused by asymmetric information can be alleviated endogenously. However PIPEs are costly because new shares are temporarily illiquid. The model explains what firms use one market or the other and the optimal timing of investments to better use financial flexibility. For instance, market illiquidity makes the firm less likely to issue a PIPE, asymmetric information makes it more likely. The paper then considers private debt contracts and shows that the pecking order need not hold. The model explains empirical regularities, for instance, why do SEOs have negative abnormal returns around its announcement whereas abnormal returns for PIPEs are positive.\", 'authors': ['121289498'], 'cited_by': ['9cf496e8fc4be48044ba2ca2fa43987d01b755a5'], 'paper_id': '000ec6bf952325ff038e9866c69ad097d96031b9', 'references': ['76461db1918a63a34aafe81b6eeddeb3f7a36b83', '5e6ba70fc7d5169149ad4a174fae39a026e34f8c', 'a20d2b3140f848f8e1e6edfc1e87d02bd85abaee', 'caf7ed3df8a47fc8b1a018948398ea6d7079939b', 'f70c340617758260ce0d0e2e22a1ea5b7bb1cd3e', '2d52307e56b71ae31af8bb3b347fe6ad56dd48c5', 'b19eeca5106069c1ff17fc04f33fe9a76038b898', 'f29edc5188a4bac81fa53f97132144bb8594709c', '3e3c1892314fab7e4ca5b7368fd4d815cad10bbc', 'e381da596ec04d0883f9a17a9e7ab32d31affa8b'], 'title': 'A Theory of Private vs. Public Placements in Public Firms', 'year': 2011} This paper studies a public firm's investment decision and whether to raise the equity capital needed using the public market (SEO, Secondary Equity Offering) or a private channel (PIPE, Private Investment in Public Equity). Issuing a PIPE allows the firm to enjoy more financial flexibility. This is modeled in two dimensions: First, funds can be raised faster. Second, dilution costs caused by asymmetric information can be alleviated endogenously. However PIPEs are costly because new shares are temporarily illiquid. The model explains what firms use one market or the other and the optimal timing of investments to better use financial flexibility. For instance, market illiquidity makes the firm less likely to issue a PIPE, asymmetric information makes it more likely. The paper then considers private debt contracts and shows that the pecking order need not hold. The model explains empirical regularities, for instance, why do SEOs have negative abnormal returns around its announcement whereas abnormal returns for PIPEs are positive.\n",
      "0014e12eac7d90bb1959b6b2bc4f2b481cb0a512 {'abstract': None, 'authors': ['115461160', '66992079', '113865636', '89815482', '52259271', '67150763'], 'cited_by': [], 'paper_id': '0014e12eac7d90bb1959b6b2bc4f2b481cb0a512', 'references': [], 'title': '青色発光CaS : Cu, F薄膜の熱処理と発光特性', 'year': 1998} None\n",
      "001d134f355306faeb8993fe487a34e0ed0d278b {'abstract': 'This essay briefly traces the trajectory of late-nineteenth-century Afrikaner involvement in cricket. It then examines in greater depth the circumstances which during the first half of the twentieth century militated against the game developing a mass appeal among Afrikaners. The situation changed gradually with Afrikaner ascent to political power in 1948, and especially markedly different socio-economic prosperity during the 1960s, which contributed to cultural shifts and facilitated greater Afrikaner involvement in the game. The essay concludes with an assessment of the complex ways in which presumed Afrikaner identities played themselves out in the post-apartheid international sporting arena.', 'authors': ['104956196'], 'cited_by': [], 'paper_id': '001d134f355306faeb8993fe487a34e0ed0d278b', 'references': [], 'title': 'From J.J. ‘Boerjong’ Kotze to Hansie Cronje: Afrikaners and cricket in twentieth-century South Africa – diffusion and representation', 'year': 2011} This essay briefly traces the trajectory of late-nineteenth-century Afrikaner involvement in cricket. It then examines in greater depth the circumstances which during the first half of the twentieth century militated against the game developing a mass appeal among Afrikaners. The situation changed gradually with Afrikaner ascent to political power in 1948, and especially markedly different socio-economic prosperity during the 1960s, which contributed to cultural shifts and facilitated greater Afrikaner involvement in the game. The essay concludes with an assessment of the complex ways in which presumed Afrikaner identities played themselves out in the post-apartheid international sporting arena.\n",
      "001fb24b565bf8a5faf5551f753a55f3eed6c81c {'abstract': None, 'authors': ['97548238', '32850690', '13906425', '46429947', '101798240'], 'cited_by': ['caeaaf73ecc1692541e1fa85784fe2691cfccf79'], 'paper_id': '001fb24b565bf8a5faf5551f753a55f3eed6c81c', 'references': [], 'title': 'Roundtable: \"The Ideal of Objectivity\" and the Profession of History', 'year': 1991} None\n"
     ]
    }
   ],
   "source": [
    "for i in list(paper_metadata_mag_mesh.keys())[:10]:\n",
    "    print(i, paper_metadata_mag_mesh[i], paper_metadata_mag_mesh[i]['abstract'])"
   ]
  },
  {
   "cell_type": "code",
   "execution_count": 4,
   "metadata": {},
   "outputs": [],
   "source": [
    "import spacy\n",
    "# nlp = spacy.load('en_core_web_trf')\n",
    "nlp = spacy.load(\"en_core_web_sm\")"
   ]
  },
  {
   "cell_type": "code",
   "execution_count": 28,
   "metadata": {},
   "outputs": [
    {
     "name": "stderr",
     "output_type": "stream",
     "text": [
      "100%|██████████| 48473/48473 [18:19<00:00, 44.08it/s] \n"
     ]
    }
   ],
   "source": [
    "from collections import defaultdict\n",
    "\n",
    "dict_idx_np = defaultdict(list)\n",
    "# \n",
    "for i in tqdm(list(paper_metadata_mag_mesh.keys())):\n",
    "#     print(i, paper_metadata_mag_mesh[i]['title'], paper_metadata_mag_mesh[i]['abstract'])\n",
    "    if paper_metadata_mag_mesh[i]['title']:\n",
    "#         doc = nlp(paper_metadata_mag_mesh[i]['title'])\n",
    "#         for chunk in doc.noun_chunks:\n",
    "#             dict_idx_np[i].append((chunk.text, 'np'))\n",
    "        dict_idx_np[i].append((paper_metadata_mag_mesh[i]['title'], 'title'))\n",
    "    if paper_metadata_mag_mesh[i]['abstract']:\n",
    "        doc = nlp(paper_metadata_mag_mesh[i]['abstract'])\n",
    "        for chunk in doc.noun_chunks:\n",
    "            dict_idx_np[i].append((chunk.text, 'np'))"
   ]
  },
  {
   "cell_type": "code",
   "execution_count": 29,
   "metadata": {
    "collapsed": true,
    "jupyter": {
     "outputs_hidden": true
    }
   },
   "outputs": [
    {
     "ename": "AttributeError",
     "evalue": "'str' object has no attribute 'dumps'",
     "output_type": "error",
     "traceback": [
      "\u001b[0;31m---------------------------------------------------------------------------\u001b[0m",
      "\u001b[0;31mAttributeError\u001b[0m                            Traceback (most recent call last)",
      "\u001b[0;32m<ipython-input-29-3451450599c9>\u001b[0m in \u001b[0;36m<module>\u001b[0;34m\u001b[0m\n\u001b[0;32m----> 1\u001b[0;31m \u001b[0mjson\u001b[0m \u001b[0;34m=\u001b[0m \u001b[0mjson\u001b[0m\u001b[0;34m.\u001b[0m\u001b[0mdumps\u001b[0m\u001b[0;34m(\u001b[0m\u001b[0mdict_idx_np\u001b[0m\u001b[0;34m)\u001b[0m\u001b[0;34m\u001b[0m\u001b[0;34m\u001b[0m\u001b[0m\n\u001b[0m\u001b[1;32m      2\u001b[0m \u001b[0mf\u001b[0m \u001b[0;34m=\u001b[0m \u001b[0mopen\u001b[0m\u001b[0;34m(\u001b[0m\u001b[0;34m\"dict_idx_np_title_tag.json\"\u001b[0m\u001b[0;34m,\u001b[0m\u001b[0;34m\"w\"\u001b[0m\u001b[0;34m)\u001b[0m\u001b[0;34m\u001b[0m\u001b[0;34m\u001b[0m\u001b[0m\n\u001b[1;32m      3\u001b[0m \u001b[0mf\u001b[0m\u001b[0;34m.\u001b[0m\u001b[0mwrite\u001b[0m\u001b[0;34m(\u001b[0m\u001b[0mjson\u001b[0m\u001b[0;34m)\u001b[0m\u001b[0;34m\u001b[0m\u001b[0;34m\u001b[0m\u001b[0m\n\u001b[1;32m      4\u001b[0m \u001b[0mf\u001b[0m\u001b[0;34m.\u001b[0m\u001b[0mclose\u001b[0m\u001b[0;34m(\u001b[0m\u001b[0;34m)\u001b[0m\u001b[0;34m\u001b[0m\u001b[0;34m\u001b[0m\u001b[0m\n\u001b[1;32m      5\u001b[0m \u001b[0;31m# import json\u001b[0m\u001b[0;34m\u001b[0m\u001b[0;34m\u001b[0m\u001b[0;34m\u001b[0m\u001b[0m\n",
      "\u001b[0;31mAttributeError\u001b[0m: 'str' object has no attribute 'dumps'"
     ]
    }
   ],
   "source": [
    "json = json.dumps(dict_idx_np)\n",
    "f = open(\"dict_idx_np_title_tag.json\",\"w\")\n",
    "f.write(json)\n",
    "f.close()\n",
    "# import json\n",
    "\n",
    "# # f = open('dict_idx_np.json',) \n",
    "# with open('../dict_idx_np.json') as f:\n",
    "#     dict_idx_np = json.load(f)\n",
    "# #     print(d)"
   ]
  },
  {
   "cell_type": "code",
   "execution_count": 44,
   "metadata": {
    "scrolled": true
   },
   "outputs": [],
   "source": [
    "text = []\n",
    "label = []\n",
    "\n",
    "for idx in dict_idx_np:\n",
    "#     print(idx)\n",
    "    try:\n",
    "        for x in dict_idx_np[idx]:\n",
    "            text.append(x[0])\n",
    "            label.append(x[1])\n",
    "    except:\n",
    "        continue"
   ]
  },
  {
   "cell_type": "code",
   "execution_count": 39,
   "metadata": {},
   "outputs": [
    {
     "data": {
      "text/plain": [
       "'title'"
      ]
     },
     "execution_count": 39,
     "metadata": {},
     "output_type": "execute_result"
    }
   ],
   "source": [
    "dict_idx_np['0014e12eac7d90bb1959b6b2bc4f2b481cb0a512'][0][1]"
   ]
  },
  {
   "cell_type": "code",
   "execution_count": 49,
   "metadata": {},
   "outputs": [],
   "source": [
    "text = pd.Series(text)"
   ]
  },
  {
   "cell_type": "code",
   "execution_count": 50,
   "metadata": {
    "scrolled": true
   },
   "outputs": [],
   "source": [
    "label = pd.Series(label)"
   ]
  },
  {
   "cell_type": "code",
   "execution_count": 52,
   "metadata": {},
   "outputs": [
    {
     "data": {
      "text/plain": [
       "(2284510,)"
      ]
     },
     "execution_count": 52,
     "metadata": {},
     "output_type": "execute_result"
    }
   ],
   "source": [
    "text.shape"
   ]
  },
  {
   "cell_type": "code",
   "execution_count": 53,
   "metadata": {},
   "outputs": [],
   "source": [
    "df_text = pd.Series(text,\n",
    "              name=\"text\")\n",
    "df_text = df_text.to_frame()\n",
    "\n",
    "df_label = pd.Series(label,\n",
    "              name=\"label\")\n",
    "df_label = df_label.to_frame()"
   ]
  },
  {
   "cell_type": "code",
   "execution_count": 54,
   "metadata": {},
   "outputs": [],
   "source": [
    "df_new_final = pd.concat([df_text, df_label], axis=1)"
   ]
  },
  {
   "cell_type": "code",
   "execution_count": 55,
   "metadata": {},
   "outputs": [
    {
     "data": {
      "text/plain": [
       "(2284510, 2)"
      ]
     },
     "execution_count": 55,
     "metadata": {},
     "output_type": "execute_result"
    }
   ],
   "source": [
    "df_new_final.shape"
   ]
  },
  {
   "cell_type": "code",
   "execution_count": 60,
   "metadata": {},
   "outputs": [],
   "source": [
    "df_title = df_new_final[df_new_final['label']=='title']"
   ]
  },
  {
   "cell_type": "code",
   "execution_count": 61,
   "metadata": {},
   "outputs": [],
   "source": [
    "df_np = df_new_final[df_new_final['label']=='np'].sample(n=48473 , random_state=7)"
   ]
  },
  {
   "cell_type": "code",
   "execution_count": 64,
   "metadata": {},
   "outputs": [],
   "source": [
    "df = []\n",
    "df.append(df_title)\n",
    "df.append(df_np)"
   ]
  },
  {
   "cell_type": "code",
   "execution_count": 65,
   "metadata": {},
   "outputs": [
    {
     "data": {
      "text/plain": [
       "[                                                      text  label\n",
       " 0                    ON THE CLASSIFICATION OF THE SCIENCES  title\n",
       " 1        Opportunities and challenges for E-Commerce in...  title\n",
       " 70       Interactions between model membranes and ligni...  title\n",
       " 118            Perpetual Peace: What Kant Should Have Said  title\n",
       " 119        Reimagining Greek Tragedy on the American Stage  title\n",
       " ...                                                    ...    ...\n",
       " 2284164  Comparison of olmesartan combined with a calci...  title\n",
       " 2284223  Role of angiotensin II in plasma PAI-1 changes...  title\n",
       " 2284306  Factors that influence cancer patients' anxiet...  title\n",
       " 2284367  Is adjuvant chemotherapy indicated in stage I ...  title\n",
       " 2284456  Relationship between PCO2 and unfavorable outc...  title\n",
       " \n",
       " [48473 rows x 2 columns],                              text label\n",
       " 1439011     the most common grade    np\n",
       " 68616                   that task    np\n",
       " 1886113                       who    np\n",
       " 1050462  electrical cardioversion    np\n",
       " 516913               an adversary    np\n",
       " ...                           ...   ...\n",
       " 1882680                        ml    np\n",
       " 2261391                    safety    np\n",
       " 2133329       the brachial artery    np\n",
       " 1674542           both treatments    np\n",
       " 617703                 BACKGROUND    np\n",
       " \n",
       " [48473 rows x 2 columns]]"
      ]
     },
     "execution_count": 65,
     "metadata": {},
     "output_type": "execute_result"
    }
   ],
   "source": [
    "df"
   ]
  },
  {
   "cell_type": "code",
   "execution_count": 66,
   "metadata": {},
   "outputs": [],
   "source": [
    "data = pd.concat(df, axis=0).reset_index(drop=True)"
   ]
  },
  {
   "cell_type": "code",
   "execution_count": 68,
   "metadata": {},
   "outputs": [],
   "source": [
    "data.to_csv('noun_title_classification.csv', index=False)"
   ]
  },
  {
   "cell_type": "code",
   "execution_count": 72,
   "metadata": {},
   "outputs": [],
   "source": [
    "data.sample(frac=1).to_csv('noun_title_classification.csv', index=False)"
   ]
  },
  {
   "cell_type": "code",
   "execution_count": 73,
   "metadata": {},
   "outputs": [
    {
     "name": "stdout",
     "output_type": "stream",
     "text": [
      "text,label\n",
      "they,np\n",
      "PhD training in simulation: NATCOR,title\n",
      "Effect of SLCO1B1 Polymorphisms on Rifabutin Pharmacokinetics in African HIV-Infected Patients with Tuberculosis.,title\n",
      "methodology,np\n",
      "A randomized controlled trial of the efficacy and safety of electroanatomic circumferential pulmonary vein ablation supplemented by ablation of complex fractionated atrial electrograms versus potential-guided pulmonary vein antrum isolation guided by intracardiac ultrasound.,title\n",
      "\"Hospitalizations among female home-helpers in Denmark, 1981-1997.\",title\n",
      "\"Physical, Environmental, Social and Cultural Impacts of Climate Change on Europe's Regions\",title\n",
      "strong historical and cultural value,np\n",
      "money,np\n"
     ]
    }
   ],
   "source": [
    "!head noun_title_classification.csv"
   ]
  },
  {
   "cell_type": "code",
   "execution_count": null,
   "metadata": {},
   "outputs": [],
   "source": []
  }
 ],
 "metadata": {
  "kernelspec": {
   "display_name": "Python 3 (ipykernel)",
   "language": "python",
   "name": "python3"
  },
  "language_info": {
   "codemirror_mode": {
    "name": "ipython",
    "version": 3
   },
   "file_extension": ".py",
   "mimetype": "text/x-python",
   "name": "python",
   "nbconvert_exporter": "python",
   "pygments_lexer": "ipython3",
   "version": "3.7.13"
  }
 },
 "nbformat": 4,
 "nbformat_minor": 4
}
