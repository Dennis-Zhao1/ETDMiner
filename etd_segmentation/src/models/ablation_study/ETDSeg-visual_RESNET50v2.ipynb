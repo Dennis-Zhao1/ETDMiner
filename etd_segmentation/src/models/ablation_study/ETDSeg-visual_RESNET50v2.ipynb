{
 "cells": [
  {
   "cell_type": "markdown",
   "id": "146c424f",
   "metadata": {},
   "source": [
    "## Data Preparation"
   ]
  },
  {
   "cell_type": "code",
   "execution_count": 45,
   "id": "c720d0ca",
   "metadata": {},
   "outputs": [],
   "source": [
    "import pandas as pd\n",
    "from sklearn.model_selection import train_test_split\n",
    "import numpy as np\n",
    "from sentence_splitter import SentenceSplitter\n",
    "import matplotlib.pyplot as plt\n",
    "import os\n",
    "import ast\n",
    "import cv2\n",
    "from sklearn.metrics import confusion_matrix, classification_report\n",
    "from tqdm import tqdm\n",
    "import time\n",
    "\n",
    "import tensorflow as tf\n",
    "import tensorflow_hub as hub\n",
    "import tensorflow_text as text\n",
    "from tensorflow import keras\n",
    "from tensorflow.keras.callbacks import EarlyStopping\n",
    "from tensorflow.keras.optimizers import SGD\n",
    "from tensorflow.python.keras import backend as K\n",
    "from focal_loss import SparseCategoricalFocalLoss"
   ]
  },
  {
   "cell_type": "code",
   "execution_count": 2,
   "id": "4cab5782-1087-419a-93cf-b7e21fcde925",
   "metadata": {},
   "outputs": [
    {
     "name": "stderr",
     "output_type": "stream",
     "text": [
      "2023-05-31 15:15:55.725743: I tensorflow/core/platform/cpu_feature_guard.cc:193] This TensorFlow binary is optimized with oneAPI Deep Neural Network Library (oneDNN) to use the following CPU instructions in performance-critical operations:  AVX2 AVX512F FMA\n",
      "To enable them in other operations, rebuild TensorFlow with the appropriate compiler flags.\n",
      "2023-05-31 15:15:59.453132: I tensorflow/core/common_runtime/gpu/gpu_device.cc:1616] Created device /job:localhost/replica:0/task:0/device:GPU:0 with 14615 MB memory:  -> device: 0, name: Tesla V100-SXM2-16GB, pci bus id: 0000:1a:00.0, compute capability: 7.0\n"
     ]
    }
   ],
   "source": [
    "config = tf.compat.v1.ConfigProto( device_count = {'GPU': 1} )\n",
    "sess = tf.compat.v1.Session(config=config) \n",
    "K.set_session(sess)"
   ]
  },
  {
   "cell_type": "code",
   "execution_count": 3,
   "id": "6e94a384-196f-4cff-ae3d-d95559ebed75",
   "metadata": {},
   "outputs": [
    {
     "name": "stdout",
     "output_type": "stream",
     "text": [
      "Found GPU at: /device:GPU:0\n"
     ]
    },
    {
     "name": "stderr",
     "output_type": "stream",
     "text": [
      "2023-05-31 15:16:06.178178: I tensorflow/core/common_runtime/gpu/gpu_device.cc:1616] Created device /device:GPU:0 with 14615 MB memory:  -> device: 0, name: Tesla V100-SXM2-16GB, pci bus id: 0000:1a:00.0, compute capability: 7.0\n"
     ]
    }
   ],
   "source": [
    "device_name = tf.test.gpu_device_name()\n",
    "if \"GPU\" not in device_name:\n",
    "    print(\"GPU device not found\")\n",
    "print('Found GPU at: {}'.format(device_name))"
   ]
  },
  {
   "cell_type": "code",
   "execution_count": 4,
   "id": "cc07ae00-3c41-4e65-84fd-16408bee23a5",
   "metadata": {},
   "outputs": [],
   "source": [
    "# data_1 = pd.read_csv(\"ETD_data.csv\")\n",
    "# data_1['text'] = data_1['text'].astype(str)\n",
    "# data_1\n",
    "# train_image = pd.read_csv(\"trainETD500.csv\")\n",
    "# data_2 = train_image.drop(columns = 'labels')\n",
    "# data_2\n",
    "# ETD500 = pd.concat([data_2, data_1], axis = 1)\n",
    "# ETD500.to_csv('500ETD.csv', encoding = 'utf-8', index=None)\n",
    "# ack = pd.read_csv('ack.csv')\n",
    "# ded = pd.read_csv('ded.csv')\n",
    "# chabs = pd.read_csv('chapter_abs.csv')\n",
    "# abstract = pd.read_csv('abstract.csv')\n",
    "# merged = pd.concat([ETD500, ack, ded, chabs, abstract], axis=0)\n",
    "# merged.set_index('img_path')\n",
    "# #merged.to_csv('inspect_merged.csv', index = None)"
   ]
  },
  {
   "cell_type": "code",
   "execution_count": 5,
   "id": "bf2a932b-0ba9-4770-9995-d48f1fb53ff6",
   "metadata": {},
   "outputs": [],
   "source": [
    "# df500 = pd.read_csv('500ETD_updated.csv')\n",
    "# df500['text'] = df500['text'].astype(str)\n",
    "# df500"
   ]
  },
  {
   "cell_type": "code",
   "execution_count": 6,
   "id": "a7e30d16-85be-4f79-a9ed-c543b34018ed",
   "metadata": {},
   "outputs": [],
   "source": [
    "# df500 = df500[df500['class'] != 'Label-Chapters']\n",
    "# df500.to_csv(\"500ETD_chaptersExcluded.csv\", encoding = 'utf-8', index = None)\n",
    "# df500"
   ]
  },
  {
   "cell_type": "code",
   "execution_count": 7,
   "id": "82e710bd-5ef1-4832-baa7-f36acaac7740",
   "metadata": {},
   "outputs": [
    {
     "data": {
      "text/html": [
       "<div>\n",
       "<style scoped>\n",
       "    .dataframe tbody tr th:only-of-type {\n",
       "        vertical-align: middle;\n",
       "    }\n",
       "\n",
       "    .dataframe tbody tr th {\n",
       "        vertical-align: top;\n",
       "    }\n",
       "\n",
       "    .dataframe thead th {\n",
       "        text-align: right;\n",
       "    }\n",
       "</style>\n",
       "<table border=\"1\" class=\"dataframe\">\n",
       "  <thead>\n",
       "    <tr style=\"text-align: right;\">\n",
       "      <th></th>\n",
       "      <th>img_path</th>\n",
       "      <th>text</th>\n",
       "      <th>class</th>\n",
       "    </tr>\n",
       "  </thead>\n",
       "  <tbody>\n",
       "    <tr>\n",
       "      <th>0</th>\n",
       "      <td>/home/mchou001/train/1/1.png</td>\n",
       "      <td>'SOME ASPECTS OF RADIATION INDUCED NUCLEATION ...</td>\n",
       "      <td>Label-TitlePage</td>\n",
       "    </tr>\n",
       "    <tr>\n",
       "      <th>1</th>\n",
       "      <td>/home/mchou001/train/1/2.png</td>\n",
       "      <td>'2', 'Dedicated to my', 'parents and sisters'</td>\n",
       "      <td>Label-Dedication</td>\n",
       "    </tr>\n",
       "    <tr>\n",
       "      <th>2</th>\n",
       "      <td>/home/mchou001/train/1/3.png</td>\n",
       "      <td>'3', 'SOME ASPECTS OF RADIATION INDUCED NUCLEA...</td>\n",
       "      <td>Label-Abstract</td>\n",
       "    </tr>\n",
       "    <tr>\n",
       "      <th>3</th>\n",
       "      <td>/home/mchou001/train/1/4.png</td>\n",
       "      <td>'4', 'Acknowledgements', 'I wish to thank fore...</td>\n",
       "      <td>Label-Acknowledgement</td>\n",
       "    </tr>\n",
       "    <tr>\n",
       "      <th>4</th>\n",
       "      <td>/home/mchou001/train/1/5.png</td>\n",
       "      <td>'5', 'Table of Contents', 'Abstract', '3', 'Ac...</td>\n",
       "      <td>Label-TableofContent</td>\n",
       "    </tr>\n",
       "    <tr>\n",
       "      <th>...</th>\n",
       "      <td>...</td>\n",
       "      <td>...</td>\n",
       "      <td>...</td>\n",
       "    </tr>\n",
       "    <tr>\n",
       "      <th>24760</th>\n",
       "      <td>/home/mchou001/Label-Dedication/502/aug987.png</td>\n",
       "      <td>Dedication\\nThe song was reproduced with the p...</td>\n",
       "      <td>Label-Dedication</td>\n",
       "    </tr>\n",
       "    <tr>\n",
       "      <th>24761</th>\n",
       "      <td>/home/mchou001/Label-Dedication/502/aug988.png</td>\n",
       "      <td>Dedication\\nPermission is required for further...</td>\n",
       "      <td>Label-Dedication</td>\n",
       "    </tr>\n",
       "    <tr>\n",
       "      <th>24762</th>\n",
       "      <td>/home/mchou001/Label-Dedication/502/aug989.png</td>\n",
       "      <td>Dedication\\nPermission is needed for further r...</td>\n",
       "      <td>Label-Dedication</td>\n",
       "    </tr>\n",
       "    <tr>\n",
       "      <th>24763</th>\n",
       "      <td>/home/mchou001/Label-Dedication/502/aug990.png</td>\n",
       "      <td>Dedication\\nPermission is required for any fur...</td>\n",
       "      <td>Label-Dedication</td>\n",
       "    </tr>\n",
       "    <tr>\n",
       "      <th>24764</th>\n",
       "      <td>/home/mchou001/Label-Dedication/502/aug991.png</td>\n",
       "      <td>Dedication\\nPermission is not granted for furt...</td>\n",
       "      <td>Label-Dedication</td>\n",
       "    </tr>\n",
       "  </tbody>\n",
       "</table>\n",
       "<p>24765 rows × 3 columns</p>\n",
       "</div>"
      ],
      "text/plain": [
       "                                             img_path  \\\n",
       "0                        /home/mchou001/train/1/1.png   \n",
       "1                        /home/mchou001/train/1/2.png   \n",
       "2                        /home/mchou001/train/1/3.png   \n",
       "3                        /home/mchou001/train/1/4.png   \n",
       "4                        /home/mchou001/train/1/5.png   \n",
       "...                                               ...   \n",
       "24760  /home/mchou001/Label-Dedication/502/aug987.png   \n",
       "24761  /home/mchou001/Label-Dedication/502/aug988.png   \n",
       "24762  /home/mchou001/Label-Dedication/502/aug989.png   \n",
       "24763  /home/mchou001/Label-Dedication/502/aug990.png   \n",
       "24764  /home/mchou001/Label-Dedication/502/aug991.png   \n",
       "\n",
       "                                                    text  \\\n",
       "0      'SOME ASPECTS OF RADIATION INDUCED NUCLEATION ...   \n",
       "1          '2', 'Dedicated to my', 'parents and sisters'   \n",
       "2      '3', 'SOME ASPECTS OF RADIATION INDUCED NUCLEA...   \n",
       "3      '4', 'Acknowledgements', 'I wish to thank fore...   \n",
       "4      '5', 'Table of Contents', 'Abstract', '3', 'Ac...   \n",
       "...                                                  ...   \n",
       "24760  Dedication\\nThe song was reproduced with the p...   \n",
       "24761  Dedication\\nPermission is required for further...   \n",
       "24762  Dedication\\nPermission is needed for further r...   \n",
       "24763  Dedication\\nPermission is required for any fur...   \n",
       "24764  Dedication\\nPermission is not granted for furt...   \n",
       "\n",
       "                       class  \n",
       "0            Label-TitlePage  \n",
       "1           Label-Dedication  \n",
       "2             Label-Abstract  \n",
       "3      Label-Acknowledgement  \n",
       "4       Label-TableofContent  \n",
       "...                      ...  \n",
       "24760       Label-Dedication  \n",
       "24761       Label-Dedication  \n",
       "24762       Label-Dedication  \n",
       "24763       Label-Dedication  \n",
       "24764       Label-Dedication  \n",
       "\n",
       "[24765 rows x 3 columns]"
      ]
     },
     "execution_count": 7,
     "metadata": {},
     "output_type": "execute_result"
    }
   ],
   "source": [
    "data = pd.read_csv(\"500ETD_v2.csv\", encoding = 'utf-8')\n",
    "data['text'] = data['text'].astype(str)\n",
    "data"
   ]
  },
  {
   "cell_type": "code",
   "execution_count": 8,
   "id": "9af3ce40-24d5-4404-8d39-e4555d2a14e6",
   "metadata": {},
   "outputs": [],
   "source": [
    "label_map = {\"Label-Appendices\": 0, \"Label-ReferenceList\": 1, \"Label-Other\": 2, \"Label-TableofContent\": 3,  \"Label-TitlePage\": 4, \"Label-Abstract\": 5,\n",
    "             \"Label-ListofFigures\": 6, \"Label-Acknowledgement\": 7, \"Label-ListofTables\": 8, \"Label-CurriculumVitae\": 9, \"Label-Dedication\": 10, \"Label-ChapterAbstract\": 11}"
   ]
  },
  {
   "cell_type": "code",
   "execution_count": 9,
   "id": "fb854e44-5924-4b4e-b056-05c7797105a6",
   "metadata": {},
   "outputs": [],
   "source": [
    "data['label_idx'] = data['class'].apply(lambda x: label_map[x])"
   ]
  },
  {
   "cell_type": "code",
   "execution_count": 10,
   "id": "cedaf4d5-47e1-4517-b96e-96fc10fb268c",
   "metadata": {},
   "outputs": [
    {
     "data": {
      "text/html": [
       "<div>\n",
       "<style scoped>\n",
       "    .dataframe tbody tr th:only-of-type {\n",
       "        vertical-align: middle;\n",
       "    }\n",
       "\n",
       "    .dataframe tbody tr th {\n",
       "        vertical-align: top;\n",
       "    }\n",
       "\n",
       "    .dataframe thead th {\n",
       "        text-align: right;\n",
       "    }\n",
       "</style>\n",
       "<table border=\"1\" class=\"dataframe\">\n",
       "  <thead>\n",
       "    <tr style=\"text-align: right;\">\n",
       "      <th></th>\n",
       "      <th>img_path</th>\n",
       "      <th>text</th>\n",
       "      <th>class</th>\n",
       "      <th>label_idx</th>\n",
       "    </tr>\n",
       "  </thead>\n",
       "  <tbody>\n",
       "    <tr>\n",
       "      <th>0</th>\n",
       "      <td>/home/mchou001/train/1/1.png</td>\n",
       "      <td>'SOME ASPECTS OF RADIATION INDUCED NUCLEATION ...</td>\n",
       "      <td>Label-TitlePage</td>\n",
       "      <td>4</td>\n",
       "    </tr>\n",
       "    <tr>\n",
       "      <th>1</th>\n",
       "      <td>/home/mchou001/train/1/2.png</td>\n",
       "      <td>'2', 'Dedicated to my', 'parents and sisters'</td>\n",
       "      <td>Label-Dedication</td>\n",
       "      <td>10</td>\n",
       "    </tr>\n",
       "    <tr>\n",
       "      <th>2</th>\n",
       "      <td>/home/mchou001/train/1/3.png</td>\n",
       "      <td>'3', 'SOME ASPECTS OF RADIATION INDUCED NUCLEA...</td>\n",
       "      <td>Label-Abstract</td>\n",
       "      <td>5</td>\n",
       "    </tr>\n",
       "    <tr>\n",
       "      <th>3</th>\n",
       "      <td>/home/mchou001/train/1/4.png</td>\n",
       "      <td>'4', 'Acknowledgements', 'I wish to thank fore...</td>\n",
       "      <td>Label-Acknowledgement</td>\n",
       "      <td>7</td>\n",
       "    </tr>\n",
       "    <tr>\n",
       "      <th>4</th>\n",
       "      <td>/home/mchou001/train/1/5.png</td>\n",
       "      <td>'5', 'Table of Contents', 'Abstract', '3', 'Ac...</td>\n",
       "      <td>Label-TableofContent</td>\n",
       "      <td>3</td>\n",
       "    </tr>\n",
       "    <tr>\n",
       "      <th>...</th>\n",
       "      <td>...</td>\n",
       "      <td>...</td>\n",
       "      <td>...</td>\n",
       "      <td>...</td>\n",
       "    </tr>\n",
       "    <tr>\n",
       "      <th>24760</th>\n",
       "      <td>/home/mchou001/Label-Dedication/502/aug987.png</td>\n",
       "      <td>Dedication\\nThe song was reproduced with the p...</td>\n",
       "      <td>Label-Dedication</td>\n",
       "      <td>10</td>\n",
       "    </tr>\n",
       "    <tr>\n",
       "      <th>24761</th>\n",
       "      <td>/home/mchou001/Label-Dedication/502/aug988.png</td>\n",
       "      <td>Dedication\\nPermission is required for further...</td>\n",
       "      <td>Label-Dedication</td>\n",
       "      <td>10</td>\n",
       "    </tr>\n",
       "    <tr>\n",
       "      <th>24762</th>\n",
       "      <td>/home/mchou001/Label-Dedication/502/aug989.png</td>\n",
       "      <td>Dedication\\nPermission is needed for further r...</td>\n",
       "      <td>Label-Dedication</td>\n",
       "      <td>10</td>\n",
       "    </tr>\n",
       "    <tr>\n",
       "      <th>24763</th>\n",
       "      <td>/home/mchou001/Label-Dedication/502/aug990.png</td>\n",
       "      <td>Dedication\\nPermission is required for any fur...</td>\n",
       "      <td>Label-Dedication</td>\n",
       "      <td>10</td>\n",
       "    </tr>\n",
       "    <tr>\n",
       "      <th>24764</th>\n",
       "      <td>/home/mchou001/Label-Dedication/502/aug991.png</td>\n",
       "      <td>Dedication\\nPermission is not granted for furt...</td>\n",
       "      <td>Label-Dedication</td>\n",
       "      <td>10</td>\n",
       "    </tr>\n",
       "  </tbody>\n",
       "</table>\n",
       "<p>24765 rows × 4 columns</p>\n",
       "</div>"
      ],
      "text/plain": [
       "                                             img_path  \\\n",
       "0                        /home/mchou001/train/1/1.png   \n",
       "1                        /home/mchou001/train/1/2.png   \n",
       "2                        /home/mchou001/train/1/3.png   \n",
       "3                        /home/mchou001/train/1/4.png   \n",
       "4                        /home/mchou001/train/1/5.png   \n",
       "...                                               ...   \n",
       "24760  /home/mchou001/Label-Dedication/502/aug987.png   \n",
       "24761  /home/mchou001/Label-Dedication/502/aug988.png   \n",
       "24762  /home/mchou001/Label-Dedication/502/aug989.png   \n",
       "24763  /home/mchou001/Label-Dedication/502/aug990.png   \n",
       "24764  /home/mchou001/Label-Dedication/502/aug991.png   \n",
       "\n",
       "                                                    text  \\\n",
       "0      'SOME ASPECTS OF RADIATION INDUCED NUCLEATION ...   \n",
       "1          '2', 'Dedicated to my', 'parents and sisters'   \n",
       "2      '3', 'SOME ASPECTS OF RADIATION INDUCED NUCLEA...   \n",
       "3      '4', 'Acknowledgements', 'I wish to thank fore...   \n",
       "4      '5', 'Table of Contents', 'Abstract', '3', 'Ac...   \n",
       "...                                                  ...   \n",
       "24760  Dedication\\nThe song was reproduced with the p...   \n",
       "24761  Dedication\\nPermission is required for further...   \n",
       "24762  Dedication\\nPermission is needed for further r...   \n",
       "24763  Dedication\\nPermission is required for any fur...   \n",
       "24764  Dedication\\nPermission is not granted for furt...   \n",
       "\n",
       "                       class  label_idx  \n",
       "0            Label-TitlePage          4  \n",
       "1           Label-Dedication         10  \n",
       "2             Label-Abstract          5  \n",
       "3      Label-Acknowledgement          7  \n",
       "4       Label-TableofContent          3  \n",
       "...                      ...        ...  \n",
       "24760       Label-Dedication         10  \n",
       "24761       Label-Dedication         10  \n",
       "24762       Label-Dedication         10  \n",
       "24763       Label-Dedication         10  \n",
       "24764       Label-Dedication         10  \n",
       "\n",
       "[24765 rows x 4 columns]"
      ]
     },
     "execution_count": 10,
     "metadata": {},
     "output_type": "execute_result"
    }
   ],
   "source": [
    "data"
   ]
  },
  {
   "cell_type": "markdown",
   "id": "84cd7fb6-c376-4940-8bce-9afd40487d9f",
   "metadata": {},
   "source": [
    "## Visualize the data"
   ]
  },
  {
   "cell_type": "code",
   "execution_count": 11,
   "id": "5699cb9a-312f-426a-94ef-6bb824c7a336",
   "metadata": {},
   "outputs": [
    {
     "data": {
      "image/png": "[encoded data removed]",
      "text/plain": [
       "<Figure size 640x480 with 1 Axes>"
      ]
     },
     "metadata": {},
     "output_type": "display_data"
    },
    {
     "name": "stdout",
     "output_type": "stream",
     "text": [
      "Text:'74-11,887', 'CHINN, Dennis Leslie, 1946-', 'POTENTIAL EFFECTS OF INCOME REDISTRIBUTION', 'ON ECONOMIC GROWTH CONSTRAINTS: EVIDENCE FROM', 'TAIWAN AND SOUTH KOREA.', 'University of California, Berkeley,', 'Ph.D., 1974', 'Economics, general', 'University Microfilms, A XEROX Company Ann Arbor, Michigan', 'C', '1974', 'DENNIS LESLIE CHINN', 'ALL RIGHTS RESERVED', 'THIS DISSERTATION HAS BEEN MICROFILMED EXACTLY AS RECEIVED.'\n",
      "Label:Label-TitlePage\n"
     ]
    }
   ],
   "source": [
    "%matplotlib inline\n",
    "def visualize(idx):\n",
    "    current_row = data.iloc[idx]\n",
    "    image = cv2.imread(current_row['img_path'])\n",
    "    text = current_row['text']\n",
    "    label = current_row['class']\n",
    "    \n",
    "    plt.subplot(1,2,1)\n",
    "    plt.imshow(image)\n",
    "    plt.axis(\"off\")\n",
    "    plt.title(\"Image\")\n",
    "    plt.show()\n",
    "    \n",
    "    print(f\"Text:{text}\")\n",
    "    print(f\"Label:{label}\")\n",
    "\n",
    "random_idx = np.random.choice(len(data))\n",
    "visualize(random_idx)"
   ]
  },
  {
   "cell_type": "code",
   "execution_count": 12,
   "id": "cb557ed4-c1f2-4cde-9671-10b0bee6b2f6",
   "metadata": {},
   "outputs": [
    {
     "data": {
      "text/plain": [
       "Label-Appendices         8112\n",
       "Label-ReferenceList      3230\n",
       "Label-Other              2363\n",
       "Label-CurriculumVitae    1980\n",
       "Label-ChapterAbstract    1386\n",
       "Label-ListofFigures      1171\n",
       "Label-TableofContent     1120\n",
       "Label-ListofTables       1110\n",
       "Label-Abstract           1094\n",
       "Label-Acknowledgement    1084\n",
       "Label-Dedication         1069\n",
       "Label-TitlePage          1046\n",
       "Name: class, dtype: int64"
      ]
     },
     "execution_count": 12,
     "metadata": {},
     "output_type": "execute_result"
    }
   ],
   "source": [
    "data['class'].value_counts()"
   ]
  },
  {
   "cell_type": "markdown",
   "id": "d93d76b2-a9f7-40b2-8d27-d581eca27958",
   "metadata": {},
   "source": [
    "## Train, Test and Validation set"
   ]
  },
  {
   "cell_type": "code",
   "execution_count": 13,
   "id": "a19f31ca",
   "metadata": {},
   "outputs": [
    {
     "name": "stdout",
     "output_type": "stream",
     "text": [
      "Total training examples: 15787\n",
      "Total validation examples: 5263\n",
      "Total test examples: 3715\n"
     ]
    }
   ],
   "source": [
    "# 15% for test\n",
    "train_df, test_df = train_test_split(\n",
    "    data, test_size=0.15, stratify=data[\"class\"].values, random_state=42\n",
    ")\n",
    "# 25% for validation\n",
    "train_df, val_df = train_test_split(\n",
    "    train_df, test_size=0.25, stratify=train_df[\"class\"].values, random_state=42\n",
    ")\n",
    "\n",
    "print(f\"Total training examples: {len(train_df)}\")\n",
    "print(f\"Total validation examples: {len(val_df)}\")\n",
    "print(f\"Total test examples: {len(test_df)}\")"
   ]
  },
  {
   "cell_type": "code",
   "execution_count": 14,
   "id": "9b83c0f0-e37b-4482-8522-84a73290de01",
   "metadata": {},
   "outputs": [
    {
     "data": {
      "text/plain": [
       "img_path     object\n",
       "text         object\n",
       "class        object\n",
       "label_idx     int64\n",
       "dtype: object"
      ]
     },
     "execution_count": 14,
     "metadata": {},
     "output_type": "execute_result"
    }
   ],
   "source": [
    "train_df.dtypes"
   ]
  },
  {
   "cell_type": "code",
   "execution_count": 15,
   "id": "6fe940a4-bab4-48ea-b079-cd36baa8ccff",
   "metadata": {},
   "outputs": [
    {
     "data": {
      "text/plain": [
       "img_path     object\n",
       "text         object\n",
       "class        object\n",
       "label_idx     int64\n",
       "dtype: object"
      ]
     },
     "execution_count": 15,
     "metadata": {},
     "output_type": "execute_result"
    }
   ],
   "source": [
    "test_df.dtypes"
   ]
  },
  {
   "cell_type": "code",
   "execution_count": 16,
   "id": "6dbfb349-aad9-4e3e-ae7c-584e13149b53",
   "metadata": {},
   "outputs": [
    {
     "data": {
      "text/plain": [
       "img_path     object\n",
       "text         object\n",
       "class        object\n",
       "label_idx     int64\n",
       "dtype: object"
      ]
     },
     "execution_count": 16,
     "metadata": {},
     "output_type": "execute_result"
    }
   ],
   "source": [
    "val_df.dtypes"
   ]
  },
  {
   "cell_type": "code",
   "execution_count": 17,
   "id": "2f50bad2-cbe7-4fdd-bd3b-23f10989cb5e",
   "metadata": {},
   "outputs": [
    {
     "data": {
      "text/plain": [
       "Label-Appendices         5171\n",
       "Label-ReferenceList      2059\n",
       "Label-Other              1507\n",
       "Label-CurriculumVitae    1262\n",
       "Label-ChapterAbstract     883\n",
       "Label-ListofFigures       746\n",
       "Label-TableofContent      714\n",
       "Label-ListofTables        708\n",
       "Label-Abstract            697\n",
       "Label-Acknowledgement     691\n",
       "Label-Dedication          682\n",
       "Label-TitlePage           667\n",
       "Name: class, dtype: int64"
      ]
     },
     "execution_count": 17,
     "metadata": {},
     "output_type": "execute_result"
    }
   ],
   "source": [
    "train_df['class'].value_counts()"
   ]
  },
  {
   "cell_type": "code",
   "execution_count": 18,
   "id": "5802eda4-30c1-4753-b042-552ab795f95a",
   "metadata": {},
   "outputs": [
    {
     "data": {
      "text/plain": [
       "Label-Appendices         1217\n",
       "Label-ReferenceList       485\n",
       "Label-Other               354\n",
       "Label-CurriculumVitae     297\n",
       "Label-ChapterAbstract     208\n",
       "Label-ListofFigures       176\n",
       "Label-TableofContent      168\n",
       "Label-ListofTables        166\n",
       "Label-Abstract            164\n",
       "Label-Acknowledgement     163\n",
       "Label-Dedication          160\n",
       "Label-TitlePage           157\n",
       "Name: class, dtype: int64"
      ]
     },
     "execution_count": 18,
     "metadata": {},
     "output_type": "execute_result"
    }
   ],
   "source": [
    "test_df['class'].value_counts()"
   ]
  },
  {
   "cell_type": "code",
   "execution_count": 19,
   "id": "2bbbf235-cf9c-49e8-9a27-92651f34a65b",
   "metadata": {},
   "outputs": [
    {
     "data": {
      "text/plain": [
       "Label-Appendices         1724\n",
       "Label-ReferenceList       686\n",
       "Label-Other               502\n",
       "Label-CurriculumVitae     421\n",
       "Label-ChapterAbstract     295\n",
       "Label-ListofFigures       249\n",
       "Label-TableofContent      238\n",
       "Label-ListofTables        236\n",
       "Label-Abstract            233\n",
       "Label-Acknowledgement     230\n",
       "Label-Dedication          227\n",
       "Label-TitlePage           222\n",
       "Name: class, dtype: int64"
      ]
     },
     "execution_count": 19,
     "metadata": {},
     "output_type": "execute_result"
    }
   ],
   "source": [
    "val_df['class'].value_counts()"
   ]
  },
  {
   "cell_type": "code",
   "execution_count": 20,
   "id": "2ad2594e-78f3-4b2d-8fd3-5f0b0b8fad9f",
   "metadata": {},
   "outputs": [],
   "source": [
    "# Define TF Hub paths to the BERT encoder and its preprocessor\n",
    "#'https://tfhub.dev/tensorflow/bert_en_uncased_L-24_H-1024_A-16/3'\n",
    "    \n",
    "# bert_model_path = (\n",
    "#     'https://tfhub.dev/tensorflow/talkheads_ggelu_bert_en_large/2'\n",
    "# )\n",
    "# bert_preprocess_path = \"https://tfhub.dev/tensorflow/bert_en_uncased_preprocess/3\""
   ]
  },
  {
   "cell_type": "code",
   "execution_count": 21,
   "id": "0bbaecf0-02f5-418e-8655-78f28b77f5ce",
   "metadata": {},
   "outputs": [],
   "source": [
    "# def make_bert_preprocessing_model(sentence_features, seq_length=512):\n",
    "#     \"\"\"Returns Model mapping string features to BERT inputs.\n",
    "\n",
    "#   Args:\n",
    "#     sentence_features: A list with the names of string-valued features.\n",
    "#     seq_length: An integer that defines the sequence length of BERT inputs.\n",
    "\n",
    "#   Returns:\n",
    "#     A Keras Model that can be called on a list or dict of string Tensors\n",
    "#     (with the order or names, resp., given by sentence_features) and\n",
    "#     returns a dict of tensors for input to BERT.\n",
    "#   \"\"\"\n",
    "\n",
    "#     input_segments = [\n",
    "#         tf.keras.layers.Input(shape=(), dtype=tf.string, name=ft)\n",
    "#         for ft in sentence_features\n",
    "#     ]\n",
    "\n",
    "#     # Tokenize the text to word pieces.\n",
    "#     bert_preprocess = hub.load(bert_preprocess_path)\n",
    "#     tokenizer = hub.KerasLayer(bert_preprocess.tokenize, name=\"tokenizer\")\n",
    "#     segments = [tokenizer(s) for s in input_segments]\n",
    "\n",
    "#     # Optional: Trim segments in a smart way to fit seq_length.\n",
    "#     # Simple cases (like this example) can skip this step and let\n",
    "#     # the next step apply a default truncation to approximately equal lengths.\n",
    "#     truncated_segments = segments\n",
    "\n",
    "#     # Pack inputs. The details (start/end token ids, dict of output tensors)\n",
    "#     # are model-dependent, so this gets loaded from the SavedModel.\n",
    "#     packer = hub.KerasLayer(\n",
    "#         bert_preprocess.bert_pack_inputs,\n",
    "#         arguments=dict(seq_length=seq_length),\n",
    "#         name=\"packer\",\n",
    "#     )\n",
    "#     model_inputs = packer(truncated_segments)\n",
    "#     return keras.Model(input_segments, model_inputs)"
   ]
  },
  {
   "cell_type": "code",
   "execution_count": 22,
   "id": "23d1c5dd-7f11-4c32-a2c9-51079b733a1d",
   "metadata": {},
   "outputs": [
    {
     "name": "stderr",
     "output_type": "stream",
     "text": [
      "2023-05-20 03:03:59.493181: I tensorflow/core/common_runtime/gpu/gpu_device.cc:1616] Created device /job:localhost/replica:0/task:0/device:GPU:0 with 14615 MB memory:  -> device: 0, name: Tesla V100-SXM2-16GB, pci bus id: 0000:1c:00.0, compute capability: 7.0\n"
     ]
    }
   ],
   "source": [
    "# bert_preprocess_model = make_bert_preprocessing_model(['text'])\n",
    "# #keras.utils.plot_model(bert_preprocess_model, show_shapes=True, show_dtype=True)"
   ]
  },
  {
   "cell_type": "code",
   "execution_count": 20,
   "id": "dbfbc844-00ba-4a0f-b6c3-5bfa94046fe9",
   "metadata": {},
   "outputs": [],
   "source": [
    "def dataframe_to_dataset(dataframe):\n",
    "    columns = [\"img_path\", \"label_idx\"]\n",
    "    dataframe = dataframe[columns].copy()\n",
    "    labels = dataframe.pop(\"label_idx\")\n",
    "    ds = tf.data.Dataset.from_tensor_slices((dict(dataframe), labels))\n",
    "    ds = ds.shuffle(buffer_size=len(dataframe))\n",
    "    return ds"
   ]
  },
  {
   "cell_type": "code",
   "execution_count": 21,
   "id": "92a2f1bc-8e39-420e-98e1-48b5e82cc34d",
   "metadata": {},
   "outputs": [],
   "source": [
    "resize = (224, 224)\n",
    "# bert_input_features = [\"input_word_ids\", \"input_type_ids\", \"input_mask\"]\n",
    "\n",
    "from keras.preprocessing.image import ImageDataGenerator\n",
    "\n",
    "def preprocess_image(image_path):\n",
    "\n",
    "    img_path = tf.io.read_file(image_path)\n",
    "    image_decode = tf.image.decode_png(img_path, 3)\n",
    "    image = tf.image.resize(image_decode, resize)\n",
    "    return image\n",
    "\n",
    "\n",
    "# def preprocess_text(text):\n",
    "#     text = tf.convert_to_tensor([text])\n",
    "#     output = bert_preprocess_model([text])\n",
    "#     output = {feature: tf.squeeze(output[feature]) for feature in bert_input_features}\n",
    "#     return output\n",
    "\n",
    "\n",
    "def preprocess_text_and_image(sample):\n",
    "    image_1 = preprocess_image(sample[\"img_path\"])\n",
    "    return {\"image\": image_1}"
   ]
  },
  {
   "cell_type": "code",
   "execution_count": 22,
   "id": "f57fe8ed-410d-4a51-af44-226f10588fe5",
   "metadata": {},
   "outputs": [],
   "source": [
    "# example of progressively loading data\n",
    "batch_size = 8\n",
    "auto = tf.data.AUTOTUNE\n",
    "\n",
    "\n",
    "def prepare_dataset(dataframe, training=True):\n",
    "    ds = dataframe_to_dataset(dataframe)\n",
    "    if training:\n",
    "        ds = ds.shuffle(len(train_df))\n",
    "    ds = ds.map(lambda x, y: (preprocess_text_and_image(x), y)).cache()\n",
    "    ds = ds.batch(batch_size).prefetch(auto)\n",
    "    return ds"
   ]
  },
  {
   "cell_type": "code",
   "execution_count": 23,
   "id": "d71c45b7-4cd0-486f-a7c3-c628de437cb3",
   "metadata": {},
   "outputs": [
    {
     "name": "stderr",
     "output_type": "stream",
     "text": [
      "2023-05-31 15:17:22.259650: I tensorflow/core/common_runtime/gpu/gpu_device.cc:1616] Created device /job:localhost/replica:0/task:0/device:GPU:0 with 14615 MB memory:  -> device: 0, name: Tesla V100-SXM2-16GB, pci bus id: 0000:1a:00.0, compute capability: 7.0\n"
     ]
    }
   ],
   "source": [
    "train_ds = prepare_dataset(train_df)\n",
    "validation_ds = prepare_dataset(val_df, False)\n",
    "test_ds = prepare_dataset(test_df, False)"
   ]
  },
  {
   "cell_type": "code",
   "execution_count": 24,
   "id": "7d7f08f2-5e8b-4ad0-84fb-f2ea668fe9ca",
   "metadata": {},
   "outputs": [
    {
     "data": {
      "text/plain": [
       "<PrefetchDataset element_spec=({'image': TensorSpec(shape=(None, 224, 224, 3), dtype=tf.float32, name=None)}, TensorSpec(shape=(None,), dtype=tf.int64, name=None))>"
      ]
     },
     "execution_count": 24,
     "metadata": {},
     "output_type": "execute_result"
    }
   ],
   "source": [
    "train_ds"
   ]
  },
  {
   "cell_type": "code",
   "execution_count": 25,
   "id": "bd013758-e3fd-46d4-8fef-53d437097b5b",
   "metadata": {},
   "outputs": [],
   "source": [
    "def separate_labels(ds):\n",
    "    labels = []\n",
    "    for _, label in tqdm(ds.unbatch(), desc = 'Progress Bar'):\n",
    "        labels.append(label)\n",
    "    labels = np.array(labels)\n",
    "    return labels"
   ]
  },
  {
   "cell_type": "code",
   "execution_count": 26,
   "id": "0948c15c-0d10-4d1c-af0a-1bc53dbf6e1f",
   "metadata": {},
   "outputs": [
    {
     "name": "stdout",
     "output_type": "stream",
     "text": [
      "####### Separating Test Labels ##############\n"
     ]
    },
    {
     "name": "stderr",
     "output_type": "stream",
     "text": [
      "Progress Bar: 3715it [00:40, 90.64it/s] \n"
     ]
    }
   ],
   "source": [
    "print('####### Separating Test Labels ##############')\n",
    "test_labels = separate_labels(test_ds)"
   ]
  },
  {
   "cell_type": "markdown",
   "id": "051e4947-4818-4f09-81c6-40d227d4db58",
   "metadata": {},
   "source": [
    "## Projection Configuration"
   ]
  },
  {
   "cell_type": "code",
   "execution_count": 27,
   "id": "bd0de663-6b03-4e3f-9a1a-1e568df3dab8",
   "metadata": {},
   "outputs": [],
   "source": [
    "def project_embeddings(\n",
    "    embeddings, num_projection_layers, projection_dims, dropout_rate\n",
    "):\n",
    "    projected_embeddings = keras.layers.Dense(units=projection_dims)(embeddings)\n",
    "    for _ in range(num_projection_layers):\n",
    "        x = tf.nn.gelu(projected_embeddings)\n",
    "        x = keras.layers.Dense(projection_dims)(x)\n",
    "        x = keras.layers.Dropout(dropout_rate)(x)\n",
    "        x = keras.layers.Add()([projected_embeddings, x])\n",
    "        projected_embeddings = keras.layers.LayerNormalization()(x)\n",
    "    return projected_embeddings"
   ]
  },
  {
   "cell_type": "markdown",
   "id": "358a986b-1c23-43b7-a04a-ba5a5344898d",
   "metadata": {},
   "source": [
    "## Vision Encoder"
   ]
  },
  {
   "cell_type": "code",
   "execution_count": 28,
   "id": "a473614a-cd41-4a0c-b81d-76fed359ba21",
   "metadata": {},
   "outputs": [],
   "source": [
    "def create_vision_encoder(\n",
    "    num_projection_layers, projection_dims, dropout_rate, trainable=False\n",
    "):\n",
    "    # Load the pre-trained ResNet50V2 model to be used as the base encoder.\n",
    "    resnet_v2 = keras.applications.ResNet50V2(\n",
    "        include_top=False, weights=\"imagenet\", pooling=\"avg\"\n",
    "    )\n",
    "    # Set the trainability of the base encoder.\n",
    "    for layer in resnet_v2.layers:\n",
    "        layer.trainable = trainable\n",
    "\n",
    "    # Receive the images as inputs.\n",
    "    image_1 = keras.Input(shape=(224, 224, 3), name=\"image\")\n",
    "\n",
    "    # Preprocess the input image.\n",
    "    preprocessed_1 = keras.applications.resnet_v2.preprocess_input(image_1)\n",
    "\n",
    "    # Generate the embeddings for the images using the resnet_v2 model\n",
    "    embeddings = resnet_v2(preprocessed_1)\n",
    "    # embeddings = keras.layers.Concatenate()([embeddings_1, embeddings_2])\n",
    "\n",
    "    # Project the embeddings produced by the model.\n",
    "    outputs = project_embeddings(\n",
    "        embeddings, num_projection_layers, projection_dims, dropout_rate\n",
    "    )\n",
    "    # Create the vision encoder model.\n",
    "    return keras.Model([image_1], outputs, name=\"vision_encoder\")"
   ]
  },
  {
   "cell_type": "markdown",
   "id": "eb3e7926-c9e0-452f-90cd-7bbe2654870e",
   "metadata": {},
   "source": [
    "## Text Encoder"
   ]
  },
  {
   "cell_type": "code",
   "execution_count": 35,
   "id": "7ba597a8-e54a-429c-80d3-5e80188cfb3c",
   "metadata": {},
   "outputs": [],
   "source": [
    "# def create_text_encoder(\n",
    "#     num_projection_layers, projection_dims, dropout_rate, trainable=False\n",
    "# ):\n",
    "#     # Load the pre-trained BERT model to be used as the base encoder.\n",
    "#     bert = hub.KerasLayer(bert_model_path, name=\"bert\",)\n",
    "#     # Set the trainability of the base encoder.\n",
    "#     bert.trainable = trainable\n",
    "\n",
    "#     # Receive the text as inputs.\n",
    "#     bert_input_features = [\"input_type_ids\", \"input_mask\", \"input_word_ids\"]\n",
    "#     inputs = {\n",
    "#         feature: keras.Input(shape=(512,), dtype=tf.int32, name=feature)\n",
    "#         for feature in bert_input_features\n",
    "#     }\n",
    "\n",
    "#     # Generate embeddings for the preprocessed text using the BERT model.\n",
    "#     embeddings = bert(inputs)[\"pooled_output\"]\n",
    "\n",
    "#     # Project the embeddings produced by the model.\n",
    "#     outputs = project_embeddings(\n",
    "#         embeddings, num_projection_layers, projection_dims, dropout_rate\n",
    "#     )\n",
    "#     # Create the text encoder model.\n",
    "#     return keras.Model(inputs, outputs, name=\"text_encoder\")"
   ]
  },
  {
   "cell_type": "markdown",
   "id": "91481603-e387-408a-ac77-056c596d8076",
   "metadata": {},
   "source": [
    "## Multimodal"
   ]
  },
  {
   "cell_type": "code",
   "execution_count": 30,
   "id": "09b1a0f4-7ee4-4560-89e8-208aeea76a11",
   "metadata": {},
   "outputs": [
    {
     "name": "stdout",
     "output_type": "stream",
     "text": [
      "Model: \"model\"\n",
      "_________________________________________________________________\n",
      " Layer (type)                Output Shape              Param #   \n",
      "=================================================================\n",
      " image (InputLayer)          [(None, 224, 224, 3)]     0         \n",
      "                                                                 \n",
      " vision_encoder (Functional)  (None, 256)              24155648  \n",
      "                                                                 \n",
      " dropout_3 (Dropout)         (None, 256)               0         \n",
      "                                                                 \n",
      " dense_5 (Dense)             (None, 12)                3084      \n",
      "                                                                 \n",
      "=================================================================\n",
      "Total params: 24,158,732\n",
      "Trainable params: 593,932\n",
      "Non-trainable params: 23,564,800\n",
      "_________________________________________________________________\n"
     ]
    }
   ],
   "source": [
    "def create_multimodal_model(\n",
    "    num_projection_layers=1,\n",
    "    projection_dims=256,\n",
    "    dropout_rate=0.1,\n",
    "    vision_trainable=False,\n",
    "    text_trainable=False,\n",
    "    attention = False\n",
    "):\n",
    "    # Receive the images as inputs.\n",
    "    image_1 = keras.Input(shape=(224, 224, 3), name=\"image\")\n",
    "\n",
    "    # # Receive the text as inputs.\n",
    "    # bert_input_features = [\"input_type_ids\", \"input_mask\", \"input_word_ids\"]\n",
    "    # text_inputs = {\n",
    "    #     feature: keras.Input(shape=(512,), dtype=tf.int32, name=feature)\n",
    "    #     for feature in bert_input_features\n",
    "    # }\n",
    "\n",
    "    # Create the encoders.\n",
    "    vision_encoder = create_vision_encoder(\n",
    "        num_projection_layers, projection_dims, dropout_rate, vision_trainable\n",
    "    )\n",
    "    # text_encoder = create_text_encoder(\n",
    "    #     num_projection_layers, projection_dims, dropout_rate, text_trainable\n",
    "    # )\n",
    "\n",
    "    # Fetch the embedding projections.\n",
    "    vision_projections = vision_encoder([image_1])\n",
    "    #text_projections = text_encoder(text_inputs)\n",
    "    \n",
    "    # Cross attention\n",
    "    if attention:\n",
    "        query_value_attention_seq = keras.layers.Attention(use_scale=True, dropout=0.8)(\n",
    "            [vision_projections, text_projections]\n",
    "        )\n",
    "    \n",
    "    # Dropout\n",
    "    vision_projections = keras.layers.Dropout(0.8)(vision_projections)\n",
    "    #text_projections = keras.layers.Dropout(0.8)(text_projections)\n",
    "\n",
    "    # Concatenate the projections and pass through the classification layer.\n",
    "    #concatenated = keras.layers.Concatenate()([vision_projections, text_projections])\n",
    "    # if attention:\n",
    "    #     concatenated = keras.layers.Concatenate()([concatenated, query_value_attention_seq])\n",
    "    outputs = keras.layers.Dense(12, activation=\"softmax\")(vision_projections)\n",
    "    return keras.Model([image_1], outputs)\n",
    "\n",
    "\n",
    "multimodal_model = create_multimodal_model(attention=False)\n",
    "multimodal_model.summary()"
   ]
  },
  {
   "cell_type": "code",
   "execution_count": 31,
   "id": "dd038060-8bff-47d4-8719-22e21e7590c1",
   "metadata": {},
   "outputs": [],
   "source": [
    "EPOCHS = 40\n",
    "# learning_rate = keras.optimizers.schedules.CosineDecay(\n",
    "#     initial_learning_rate=0.001, decay_steps=train_ds.cardinality() * EPOCHS\n",
    "# )\n",
    "optimizer = tf.keras.optimizers.Adam(\n",
    "    decay=0.004, epsilon=1e-07, clipvalue=2.0, learning_rate=0.001)\n",
    "\n",
    "multimodal_model.compile(\n",
    "    optimizer=optimizer, loss=SparseCategoricalFocalLoss(gamma=2), metrics=\"accuracy\"\n",
    ")"
   ]
  },
  {
   "cell_type": "code",
   "execution_count": 33,
   "id": "53863842-cf5c-4b21-ae5f-5e6c2fa88d4b",
   "metadata": {},
   "outputs": [],
   "source": [
    "checkpoint = tf.keras.callbacks.ModelCheckpoint('multimodal_resNET50BERT_minority-4.h5', monitor='val_loss', save_best_only=True, verbose=1)\n",
    "es = EarlyStopping(monitor='val_loss', patience=10, restore_best_weights=True, mode='min', verbose=1)"
   ]
  },
  {
   "cell_type": "code",
   "execution_count": 34,
   "id": "190ecb6e-c8eb-4710-b6d2-812c7b447ffe",
   "metadata": {},
   "outputs": [
    {
     "name": "stdout",
     "output_type": "stream",
     "text": [
      "Epoch 1/40\n"
     ]
    },
    {
     "name": "stderr",
     "output_type": "stream",
     "text": [
      "2023-05-31 15:22:29.057777: I tensorflow/stream_executor/cuda/cuda_dnn.cc:384] Loaded cuDNN version 8401\n"
     ]
    },
    {
     "name": "stdout",
     "output_type": "stream",
     "text": [
      "1974/1974 [==============================] - ETA: 0s - loss: 1.2002 - accuracy: 0.5097\n",
      "Epoch 1: val_loss improved from inf to 0.57349, saving model to multimodal_resNET50BERT_minority-4.h5\n",
      "1974/1974 [==============================] - 254s 117ms/step - loss: 1.2002 - accuracy: 0.5097 - val_loss: 0.5735 - val_accuracy: 0.6958\n",
      "Epoch 2/40\n",
      "1974/1974 [==============================] - ETA: 0s - loss: 0.6900 - accuracy: 0.6412\n",
      "Epoch 2: val_loss improved from 0.57349 to 0.50921, saving model to multimodal_resNET50BERT_minority-4.h5\n",
      "1974/1974 [==============================] - 41s 21ms/step - loss: 0.6900 - accuracy: 0.6412 - val_loss: 0.5092 - val_accuracy: 0.7237\n",
      "Epoch 3/40\n",
      "1971/1974 [============================>.] - ETA: 0s - loss: 0.6069 - accuracy: 0.6754\n",
      "Epoch 3: val_loss improved from 0.50921 to 0.47192, saving model to multimodal_resNET50BERT_minority-4.h5\n",
      "1974/1974 [==============================] - 40s 20ms/step - loss: 0.6065 - accuracy: 0.6756 - val_loss: 0.4719 - val_accuracy: 0.7471\n",
      "Epoch 4/40\n",
      "1973/1974 [============================>.] - ETA: 0s - loss: 0.5652 - accuracy: 0.6945\n",
      "Epoch 4: val_loss improved from 0.47192 to 0.45510, saving model to multimodal_resNET50BERT_minority-4.h5\n",
      "1974/1974 [==============================] - 40s 20ms/step - loss: 0.5651 - accuracy: 0.6946 - val_loss: 0.4551 - val_accuracy: 0.7526\n",
      "Epoch 5/40\n",
      "1973/1974 [============================>.] - ETA: 0s - loss: 0.5499 - accuracy: 0.7017\n",
      "Epoch 5: val_loss improved from 0.45510 to 0.44228, saving model to multimodal_resNET50BERT_minority-4.h5\n",
      "1974/1974 [==============================] - 41s 21ms/step - loss: 0.5498 - accuracy: 0.7017 - val_loss: 0.4423 - val_accuracy: 0.7615\n",
      "Epoch 6/40\n",
      "1973/1974 [============================>.] - ETA: 0s - loss: 0.5172 - accuracy: 0.7181\n",
      "Epoch 6: val_loss improved from 0.44228 to 0.43416, saving model to multimodal_resNET50BERT_minority-4.h5\n",
      "1974/1974 [==============================] - 40s 20ms/step - loss: 0.5171 - accuracy: 0.7181 - val_loss: 0.4342 - val_accuracy: 0.7634\n",
      "Epoch 7/40\n",
      "1971/1974 [============================>.] - ETA: 0s - loss: 0.5005 - accuracy: 0.7265\n",
      "Epoch 7: val_loss improved from 0.43416 to 0.42753, saving model to multimodal_resNET50BERT_minority-4.h5\n",
      "1974/1974 [==============================] - 40s 20ms/step - loss: 0.5003 - accuracy: 0.7266 - val_loss: 0.4275 - val_accuracy: 0.7672\n",
      "Epoch 8/40\n",
      "1972/1974 [============================>.] - ETA: 0s - loss: 0.4925 - accuracy: 0.7248\n",
      "Epoch 8: val_loss improved from 0.42753 to 0.42276, saving model to multimodal_resNET50BERT_minority-4.h5\n",
      "1974/1974 [==============================] - 40s 20ms/step - loss: 0.4924 - accuracy: 0.7248 - val_loss: 0.4228 - val_accuracy: 0.7667\n",
      "Epoch 9/40\n",
      "1971/1974 [============================>.] - ETA: 0s - loss: 0.4857 - accuracy: 0.7348\n",
      "Epoch 9: val_loss improved from 0.42276 to 0.41764, saving model to multimodal_resNET50BERT_minority-4.h5\n",
      "1974/1974 [==============================] - 40s 20ms/step - loss: 0.4855 - accuracy: 0.7348 - val_loss: 0.4176 - val_accuracy: 0.7690\n",
      "Epoch 10/40\n",
      "1973/1974 [============================>.] - ETA: 0s - loss: 0.4760 - accuracy: 0.7335\n",
      "Epoch 10: val_loss improved from 0.41764 to 0.41565, saving model to multimodal_resNET50BERT_minority-4.h5\n",
      "1974/1974 [==============================] - 40s 20ms/step - loss: 0.4759 - accuracy: 0.7335 - val_loss: 0.4157 - val_accuracy: 0.7680\n",
      "Epoch 11/40\n",
      "1971/1974 [============================>.] - ETA: 0s - loss: 0.4719 - accuracy: 0.7392\n",
      "Epoch 11: val_loss improved from 0.41565 to 0.41083, saving model to multimodal_resNET50BERT_minority-4.h5\n",
      "1974/1974 [==============================] - 40s 20ms/step - loss: 0.4718 - accuracy: 0.7392 - val_loss: 0.4108 - val_accuracy: 0.7737\n",
      "Epoch 12/40\n",
      "1974/1974 [==============================] - ETA: 0s - loss: 0.4598 - accuracy: 0.7410\n",
      "Epoch 12: val_loss improved from 0.41083 to 0.40824, saving model to multimodal_resNET50BERT_minority-4.h5\n",
      "1974/1974 [==============================] - 40s 20ms/step - loss: 0.4598 - accuracy: 0.7410 - val_loss: 0.4082 - val_accuracy: 0.7733\n",
      "Epoch 13/40\n",
      "1972/1974 [============================>.] - ETA: 0s - loss: 0.4580 - accuracy: 0.7402\n",
      "Epoch 13: val_loss improved from 0.40824 to 0.40590, saving model to multimodal_resNET50BERT_minority-4.h5\n",
      "1974/1974 [==============================] - 40s 20ms/step - loss: 0.4579 - accuracy: 0.7402 - val_loss: 0.4059 - val_accuracy: 0.7750\n",
      "Epoch 14/40\n",
      "1972/1974 [============================>.] - ETA: 0s - loss: 0.4467 - accuracy: 0.7479\n",
      "Epoch 14: val_loss improved from 0.40590 to 0.40368, saving model to multimodal_resNET50BERT_minority-4.h5\n",
      "1974/1974 [==============================] - 40s 20ms/step - loss: 0.4466 - accuracy: 0.7479 - val_loss: 0.4037 - val_accuracy: 0.7754\n",
      "Epoch 15/40\n",
      "1974/1974 [==============================] - ETA: 0s - loss: 0.4559 - accuracy: 0.7472\n",
      "Epoch 15: val_loss improved from 0.40368 to 0.40165, saving model to multimodal_resNET50BERT_minority-4.h5\n",
      "1974/1974 [==============================] - 41s 21ms/step - loss: 0.4559 - accuracy: 0.7472 - val_loss: 0.4016 - val_accuracy: 0.7777\n",
      "Epoch 16/40\n",
      "1972/1974 [============================>.] - ETA: 0s - loss: 0.4455 - accuracy: 0.7527\n",
      "Epoch 16: val_loss improved from 0.40165 to 0.39923, saving model to multimodal_resNET50BERT_minority-4.h5\n",
      "1974/1974 [==============================] - 40s 20ms/step - loss: 0.4455 - accuracy: 0.7527 - val_loss: 0.3992 - val_accuracy: 0.7769\n",
      "Epoch 17/40\n",
      "1973/1974 [============================>.] - ETA: 0s - loss: 0.4430 - accuracy: 0.7540\n",
      "Epoch 17: val_loss improved from 0.39923 to 0.39789, saving model to multimodal_resNET50BERT_minority-4.h5\n",
      "1974/1974 [==============================] - 40s 20ms/step - loss: 0.4430 - accuracy: 0.7540 - val_loss: 0.3979 - val_accuracy: 0.7775\n",
      "Epoch 18/40\n",
      "1973/1974 [============================>.] - ETA: 0s - loss: 0.4371 - accuracy: 0.7525\n",
      "Epoch 18: val_loss improved from 0.39789 to 0.39681, saving model to multimodal_resNET50BERT_minority-4.h5\n",
      "1974/1974 [==============================] - 40s 20ms/step - loss: 0.4370 - accuracy: 0.7526 - val_loss: 0.3968 - val_accuracy: 0.7766\n",
      "Epoch 19/40\n",
      "1974/1974 [==============================] - ETA: 0s - loss: 0.4315 - accuracy: 0.7545\n",
      "Epoch 19: val_loss improved from 0.39681 to 0.39564, saving model to multimodal_resNET50BERT_minority-4.h5\n",
      "1974/1974 [==============================] - 40s 20ms/step - loss: 0.4315 - accuracy: 0.7545 - val_loss: 0.3956 - val_accuracy: 0.7785\n",
      "Epoch 20/40\n",
      "1971/1974 [============================>.] - ETA: 0s - loss: 0.4289 - accuracy: 0.7567\n",
      "Epoch 20: val_loss improved from 0.39564 to 0.39389, saving model to multimodal_resNET50BERT_minority-4.h5\n",
      "1974/1974 [==============================] - 40s 20ms/step - loss: 0.4287 - accuracy: 0.7568 - val_loss: 0.3939 - val_accuracy: 0.7790\n",
      "Epoch 21/40\n",
      "1973/1974 [============================>.] - ETA: 0s - loss: 0.4280 - accuracy: 0.7556\n",
      "Epoch 21: val_loss improved from 0.39389 to 0.39231, saving model to multimodal_resNET50BERT_minority-4.h5\n",
      "1974/1974 [==============================] - 41s 21ms/step - loss: 0.4280 - accuracy: 0.7557 - val_loss: 0.3923 - val_accuracy: 0.7788\n",
      "Epoch 22/40\n",
      "1972/1974 [============================>.] - ETA: 0s - loss: 0.4233 - accuracy: 0.7586\n",
      "Epoch 22: val_loss improved from 0.39231 to 0.39162, saving model to multimodal_resNET50BERT_minority-4.h5\n",
      "1974/1974 [==============================] - 40s 20ms/step - loss: 0.4232 - accuracy: 0.7586 - val_loss: 0.3916 - val_accuracy: 0.7786\n",
      "Epoch 23/40\n",
      "1971/1974 [============================>.] - ETA: 0s - loss: 0.4260 - accuracy: 0.7561\n",
      "Epoch 23: val_loss improved from 0.39162 to 0.39026, saving model to multimodal_resNET50BERT_minority-4.h5\n",
      "1974/1974 [==============================] - 40s 20ms/step - loss: 0.4259 - accuracy: 0.7563 - val_loss: 0.3903 - val_accuracy: 0.7807\n",
      "Epoch 24/40\n",
      "1974/1974 [==============================] - ETA: 0s - loss: 0.4235 - accuracy: 0.7639\n",
      "Epoch 24: val_loss improved from 0.39026 to 0.38957, saving model to multimodal_resNET50BERT_minority-4.h5\n",
      "1974/1974 [==============================] - 40s 20ms/step - loss: 0.4235 - accuracy: 0.7639 - val_loss: 0.3896 - val_accuracy: 0.7802\n",
      "Epoch 25/40\n",
      "1972/1974 [============================>.] - ETA: 0s - loss: 0.4211 - accuracy: 0.7626\n",
      "Epoch 25: val_loss improved from 0.38957 to 0.38840, saving model to multimodal_resNET50BERT_minority-4.h5\n",
      "1974/1974 [==============================] - 40s 20ms/step - loss: 0.4210 - accuracy: 0.7626 - val_loss: 0.3884 - val_accuracy: 0.7809\n",
      "Epoch 26/40\n",
      "1972/1974 [============================>.] - ETA: 0s - loss: 0.4119 - accuracy: 0.7686\n",
      "Epoch 26: val_loss improved from 0.38840 to 0.38705, saving model to multimodal_resNET50BERT_minority-4.h5\n",
      "1974/1974 [==============================] - 40s 20ms/step - loss: 0.4119 - accuracy: 0.7686 - val_loss: 0.3871 - val_accuracy: 0.7805\n",
      "Epoch 27/40\n",
      "1972/1974 [============================>.] - ETA: 0s - loss: 0.4156 - accuracy: 0.7634\n",
      "Epoch 27: val_loss improved from 0.38705 to 0.38676, saving model to multimodal_resNET50BERT_minority-4.h5\n",
      "1974/1974 [==============================] - 40s 20ms/step - loss: 0.4156 - accuracy: 0.7635 - val_loss: 0.3868 - val_accuracy: 0.7800\n",
      "Epoch 28/40\n",
      "1972/1974 [============================>.] - ETA: 0s - loss: 0.4111 - accuracy: 0.7657\n",
      "Epoch 28: val_loss improved from 0.38676 to 0.38570, saving model to multimodal_resNET50BERT_minority-4.h5\n",
      "1974/1974 [==============================] - 40s 21ms/step - loss: 0.4111 - accuracy: 0.7656 - val_loss: 0.3857 - val_accuracy: 0.7826\n",
      "Epoch 29/40\n",
      "1971/1974 [============================>.] - ETA: 0s - loss: 0.4070 - accuracy: 0.7662\n",
      "Epoch 29: val_loss improved from 0.38570 to 0.38491, saving model to multimodal_resNET50BERT_minority-4.h5\n",
      "1974/1974 [==============================] - 40s 20ms/step - loss: 0.4069 - accuracy: 0.7663 - val_loss: 0.3849 - val_accuracy: 0.7819\n",
      "Epoch 30/40\n",
      "1972/1974 [============================>.] - ETA: 0s - loss: 0.4080 - accuracy: 0.7637\n",
      "Epoch 30: val_loss improved from 0.38491 to 0.38461, saving model to multimodal_resNET50BERT_minority-4.h5\n",
      "1974/1974 [==============================] - 40s 21ms/step - loss: 0.4079 - accuracy: 0.7637 - val_loss: 0.3846 - val_accuracy: 0.7815\n",
      "Epoch 31/40\n",
      "1971/1974 [============================>.] - ETA: 0s - loss: 0.4089 - accuracy: 0.7655\n",
      "Epoch 31: val_loss improved from 0.38461 to 0.38412, saving model to multimodal_resNET50BERT_minority-4.h5\n",
      "1974/1974 [==============================] - 40s 20ms/step - loss: 0.4088 - accuracy: 0.7655 - val_loss: 0.3841 - val_accuracy: 0.7832\n",
      "Epoch 32/40\n",
      "1972/1974 [============================>.] - ETA: 0s - loss: 0.4031 - accuracy: 0.7646\n",
      "Epoch 32: val_loss improved from 0.38412 to 0.38356, saving model to multimodal_resNET50BERT_minority-4.h5\n",
      "1974/1974 [==============================] - 40s 20ms/step - loss: 0.4029 - accuracy: 0.7646 - val_loss: 0.3836 - val_accuracy: 0.7842\n",
      "Epoch 33/40\n",
      "1971/1974 [============================>.] - ETA: 0s - loss: 0.4027 - accuracy: 0.7710\n",
      "Epoch 33: val_loss improved from 0.38356 to 0.38294, saving model to multimodal_resNET50BERT_minority-4.h5\n",
      "1974/1974 [==============================] - 40s 20ms/step - loss: 0.4026 - accuracy: 0.7710 - val_loss: 0.3829 - val_accuracy: 0.7838\n",
      "Epoch 34/40\n",
      "1972/1974 [============================>.] - ETA: 0s - loss: 0.4036 - accuracy: 0.7696\n",
      "Epoch 34: val_loss improved from 0.38294 to 0.38206, saving model to multimodal_resNET50BERT_minority-4.h5\n",
      "1974/1974 [==============================] - 40s 20ms/step - loss: 0.4034 - accuracy: 0.7696 - val_loss: 0.3821 - val_accuracy: 0.7851\n",
      "Epoch 35/40\n",
      "1973/1974 [============================>.] - ETA: 0s - loss: 0.4025 - accuracy: 0.7706\n",
      "Epoch 35: val_loss did not improve from 0.38206\n",
      "1974/1974 [==============================] - 39s 20ms/step - loss: 0.4025 - accuracy: 0.7706 - val_loss: 0.3822 - val_accuracy: 0.7830\n",
      "Epoch 36/40\n",
      "1972/1974 [============================>.] - ETA: 0s - loss: 0.4028 - accuracy: 0.7681\n",
      "Epoch 36: val_loss improved from 0.38206 to 0.38105, saving model to multimodal_resNET50BERT_minority-4.h5\n",
      "1974/1974 [==============================] - 41s 21ms/step - loss: 0.4027 - accuracy: 0.7681 - val_loss: 0.3810 - val_accuracy: 0.7859\n",
      "Epoch 37/40\n",
      "1973/1974 [============================>.] - ETA: 0s - loss: 0.4010 - accuracy: 0.7705\n",
      "Epoch 37: val_loss improved from 0.38105 to 0.38070, saving model to multimodal_resNET50BERT_minority-4.h5\n",
      "1974/1974 [==============================] - 40s 20ms/step - loss: 0.4009 - accuracy: 0.7706 - val_loss: 0.3807 - val_accuracy: 0.7845\n",
      "Epoch 38/40\n",
      "1973/1974 [============================>.] - ETA: 0s - loss: 0.4007 - accuracy: 0.7689\n",
      "Epoch 38: val_loss improved from 0.38070 to 0.38006, saving model to multimodal_resNET50BERT_minority-4.h5\n",
      "1974/1974 [==============================] - 40s 20ms/step - loss: 0.4007 - accuracy: 0.7690 - val_loss: 0.3801 - val_accuracy: 0.7851\n",
      "Epoch 39/40\n",
      "1974/1974 [==============================] - ETA: 0s - loss: 0.3972 - accuracy: 0.7687\n",
      "Epoch 39: val_loss improved from 0.38006 to 0.37969, saving model to multimodal_resNET50BERT_minority-4.h5\n",
      "1974/1974 [==============================] - 40s 20ms/step - loss: 0.3972 - accuracy: 0.7687 - val_loss: 0.3797 - val_accuracy: 0.7843\n",
      "Epoch 40/40\n",
      "1973/1974 [============================>.] - ETA: 0s - loss: 0.3910 - accuracy: 0.7737\n",
      "Epoch 40: val_loss improved from 0.37969 to 0.37949, saving model to multimodal_resNET50BERT_minority-4.h5\n",
      "1974/1974 [==============================] - 40s 20ms/step - loss: 0.3910 - accuracy: 0.7737 - val_loss: 0.3795 - val_accuracy: 0.7859\n",
      "Training on GPU took: 30.418772010008492 minutes\n"
     ]
    }
   ],
   "source": [
    "start = time.time()\n",
    "with tf.device('/device:GPU:0'):\n",
    "    history = multimodal_model.fit(train_ds, validation_data=validation_ds, callbacks=[es, checkpoint], epochs=EPOCHS)\n",
    "stop = time.time()\n",
    "print(f'Training on GPU took: {(stop-start)/60} minutes')"
   ]
  },
  {
   "cell_type": "code",
   "execution_count": 35,
   "id": "1dc844ba-107d-4a92-8cae-833d9d3e76c1",
   "metadata": {},
   "outputs": [
    {
     "data": {
      "image/png": "[encoded data removed]",
      "text/plain": [
       "<Figure size 640x480 with 1 Axes>"
      ]
     },
     "metadata": {},
     "output_type": "display_data"
    }
   ],
   "source": [
    "loss_val = history.history['val_loss']\n",
    "loss_train = history.history['loss']\n",
    "plt.plot(loss_train, 'g', label='Training loss')\n",
    "plt.plot(loss_val, 'b', label='validation loss')\n",
    "plt.title('Training and Validation loss')\n",
    "plt.xlabel('Epochs')\n",
    "plt.ylabel('Loss')\n",
    "plt.legend()\n",
    "plt.show()"
   ]
  },
  {
   "cell_type": "code",
   "execution_count": 36,
   "id": "ed08499f-1fe6-4410-9e4c-4c550d5dd1d2",
   "metadata": {},
   "outputs": [
    {
     "data": {
      "image/png": "[encoded data removed]",
      "text/plain": [
       "<Figure size 640x480 with 1 Axes>"
      ]
     },
     "metadata": {},
     "output_type": "display_data"
    }
   ],
   "source": [
    "loss_train = history.history['accuracy']\n",
    "loss_val = history.history['val_accuracy']\n",
    "plt.plot(loss_train, 'g', label='Training Accuracy')\n",
    "plt.plot(loss_val, 'b', label='Validation Accuracy')\n",
    "plt.title('Training and Validation Accuracy')\n",
    "plt.xlabel('Epochs')\n",
    "plt.ylabel('Loss')\n",
    "plt.legend()\n",
    "plt.show()"
   ]
  },
  {
   "cell_type": "code",
   "execution_count": 49,
   "id": "c20c1a6d-a5ac-415c-9b52-317523780c1b",
   "metadata": {},
   "outputs": [],
   "source": [
    "#model = keras.models.load_weights('multimodal_resNET50BERT_minority-3.h5')"
   ]
  },
  {
   "cell_type": "code",
   "execution_count": 44,
   "id": "be1b3eb7-2fab-4523-8aa2-0dc3bbdb4b7d",
   "metadata": {},
   "outputs": [],
   "source": [
    "multimodal_model.load_weights('multimodal_resNET50BERT_minority-4.h5')"
   ]
  },
  {
   "cell_type": "code",
   "execution_count": 40,
   "id": "7c867ddb-f012-4c62-a6ca-04eb5108a245",
   "metadata": {},
   "outputs": [
    {
     "name": "stdout",
     "output_type": "stream",
     "text": [
      "465/465 [==============================] - 7s 14ms/step - loss: 0.3906 - accuracy: 0.7825\n",
      "Accuracy on the test set: 78.25%.\n"
     ]
    }
   ],
   "source": [
    "_, acc = multimodal_model.evaluate(test_ds)\n",
    "print(f\"Accuracy on the test set: {round(acc * 100, 2)}%.\")"
   ]
  },
  {
   "cell_type": "code",
   "execution_count": 41,
   "id": "e3348ec5-2ba1-4987-b60f-f2324a1c89ec",
   "metadata": {},
   "outputs": [],
   "source": [
    "class_names = list(label_map.keys())\n",
    "def detailed_test_eval(model):\n",
    "    prediction_labels = np.argmax(model.predict(test_ds), 1)\n",
    "    print(classification_report(test_labels, prediction_labels, target_names=class_names))\n",
    "    result = pd.DataFrame(confusion_matrix(test_labels, prediction_labels),\n",
    "                        index=class_names, columns=class_names)\n",
    "    result.to_csv('ETDSeg_confusion-matrix-3.csv')\n",
    "    return result"
   ]
  },
  {
   "cell_type": "code",
   "execution_count": 42,
   "id": "abd805ff-dd99-4ed4-ae86-ce6eb20b3652",
   "metadata": {},
   "outputs": [
    {
     "name": "stdout",
     "output_type": "stream",
     "text": [
      "465/465 [==============================] - 6s 12ms/step\n",
      "                       precision    recall  f1-score   support\n",
      "\n",
      "     Label-Appendices       0.74      0.87      0.80      1217\n",
      "  Label-ReferenceList       0.81      0.84      0.83       485\n",
      "          Label-Other       0.64      0.41      0.50       354\n",
      " Label-TableofContent       0.77      0.75      0.76       168\n",
      "      Label-TitlePage       0.88      0.88      0.88       157\n",
      "       Label-Abstract       0.56      0.45      0.50       164\n",
      "  Label-ListofFigures       0.70      0.66      0.68       176\n",
      "Label-Acknowledgement       0.73      0.63      0.68       163\n",
      "   Label-ListofTables       0.80      0.70      0.75       166\n",
      "Label-CurriculumVitae       0.92      0.96      0.94       297\n",
      "     Label-Dedication       0.99      0.91      0.95       160\n",
      "Label-ChapterAbstract       0.99      0.95      0.97       208\n",
      "\n",
      "             accuracy                           0.78      3715\n",
      "            macro avg       0.79      0.75      0.77      3715\n",
      "         weighted avg       0.78      0.78      0.78      3715\n",
      "\n"
     ]
    },
    {
     "data": {
      "text/html": [
       "<div>\n",
       "<style scoped>\n",
       "    .dataframe tbody tr th:only-of-type {\n",
       "        vertical-align: middle;\n",
       "    }\n",
       "\n",
       "    .dataframe tbody tr th {\n",
       "        vertical-align: top;\n",
       "    }\n",
       "\n",
       "    .dataframe thead th {\n",
       "        text-align: right;\n",
       "    }\n",
       "</style>\n",
       "<table border=\"1\" class=\"dataframe\">\n",
       "  <thead>\n",
       "    <tr style=\"text-align: right;\">\n",
       "      <th></th>\n",
       "      <th>Label-Appendices</th>\n",
       "      <th>Label-ReferenceList</th>\n",
       "      <th>Label-Other</th>\n",
       "      <th>Label-TableofContent</th>\n",
       "      <th>Label-TitlePage</th>\n",
       "      <th>Label-Abstract</th>\n",
       "      <th>Label-ListofFigures</th>\n",
       "      <th>Label-Acknowledgement</th>\n",
       "      <th>Label-ListofTables</th>\n",
       "      <th>Label-CurriculumVitae</th>\n",
       "      <th>Label-Dedication</th>\n",
       "      <th>Label-ChapterAbstract</th>\n",
       "    </tr>\n",
       "  </thead>\n",
       "  <tbody>\n",
       "    <tr>\n",
       "      <th>Label-Appendices</th>\n",
       "      <td>1055</td>\n",
       "      <td>46</td>\n",
       "      <td>54</td>\n",
       "      <td>8</td>\n",
       "      <td>5</td>\n",
       "      <td>21</td>\n",
       "      <td>5</td>\n",
       "      <td>8</td>\n",
       "      <td>3</td>\n",
       "      <td>12</td>\n",
       "      <td>0</td>\n",
       "      <td>0</td>\n",
       "    </tr>\n",
       "    <tr>\n",
       "      <th>Label-ReferenceList</th>\n",
       "      <td>60</td>\n",
       "      <td>406</td>\n",
       "      <td>1</td>\n",
       "      <td>0</td>\n",
       "      <td>0</td>\n",
       "      <td>4</td>\n",
       "      <td>6</td>\n",
       "      <td>3</td>\n",
       "      <td>1</td>\n",
       "      <td>3</td>\n",
       "      <td>1</td>\n",
       "      <td>0</td>\n",
       "    </tr>\n",
       "    <tr>\n",
       "      <th>Label-Other</th>\n",
       "      <td>151</td>\n",
       "      <td>11</td>\n",
       "      <td>144</td>\n",
       "      <td>7</td>\n",
       "      <td>12</td>\n",
       "      <td>14</td>\n",
       "      <td>6</td>\n",
       "      <td>4</td>\n",
       "      <td>3</td>\n",
       "      <td>2</td>\n",
       "      <td>0</td>\n",
       "      <td>0</td>\n",
       "    </tr>\n",
       "    <tr>\n",
       "      <th>Label-TableofContent</th>\n",
       "      <td>25</td>\n",
       "      <td>1</td>\n",
       "      <td>1</td>\n",
       "      <td>126</td>\n",
       "      <td>1</td>\n",
       "      <td>0</td>\n",
       "      <td>10</td>\n",
       "      <td>0</td>\n",
       "      <td>4</td>\n",
       "      <td>0</td>\n",
       "      <td>0</td>\n",
       "      <td>0</td>\n",
       "    </tr>\n",
       "    <tr>\n",
       "      <th>Label-TitlePage</th>\n",
       "      <td>12</td>\n",
       "      <td>0</td>\n",
       "      <td>6</td>\n",
       "      <td>1</td>\n",
       "      <td>138</td>\n",
       "      <td>0</td>\n",
       "      <td>0</td>\n",
       "      <td>0</td>\n",
       "      <td>0</td>\n",
       "      <td>0</td>\n",
       "      <td>0</td>\n",
       "      <td>0</td>\n",
       "    </tr>\n",
       "    <tr>\n",
       "      <th>Label-Abstract</th>\n",
       "      <td>47</td>\n",
       "      <td>7</td>\n",
       "      <td>11</td>\n",
       "      <td>0</td>\n",
       "      <td>1</td>\n",
       "      <td>74</td>\n",
       "      <td>1</td>\n",
       "      <td>17</td>\n",
       "      <td>0</td>\n",
       "      <td>6</td>\n",
       "      <td>0</td>\n",
       "      <td>0</td>\n",
       "    </tr>\n",
       "    <tr>\n",
       "      <th>Label-ListofFigures</th>\n",
       "      <td>15</td>\n",
       "      <td>12</td>\n",
       "      <td>0</td>\n",
       "      <td>14</td>\n",
       "      <td>0</td>\n",
       "      <td>0</td>\n",
       "      <td>117</td>\n",
       "      <td>1</td>\n",
       "      <td>16</td>\n",
       "      <td>1</td>\n",
       "      <td>0</td>\n",
       "      <td>0</td>\n",
       "    </tr>\n",
       "    <tr>\n",
       "      <th>Label-Acknowledgement</th>\n",
       "      <td>31</td>\n",
       "      <td>6</td>\n",
       "      <td>5</td>\n",
       "      <td>0</td>\n",
       "      <td>0</td>\n",
       "      <td>14</td>\n",
       "      <td>0</td>\n",
       "      <td>103</td>\n",
       "      <td>0</td>\n",
       "      <td>1</td>\n",
       "      <td>0</td>\n",
       "      <td>3</td>\n",
       "    </tr>\n",
       "    <tr>\n",
       "      <th>Label-ListofTables</th>\n",
       "      <td>12</td>\n",
       "      <td>7</td>\n",
       "      <td>0</td>\n",
       "      <td>7</td>\n",
       "      <td>0</td>\n",
       "      <td>1</td>\n",
       "      <td>22</td>\n",
       "      <td>0</td>\n",
       "      <td>116</td>\n",
       "      <td>1</td>\n",
       "      <td>0</td>\n",
       "      <td>0</td>\n",
       "    </tr>\n",
       "    <tr>\n",
       "      <th>Label-CurriculumVitae</th>\n",
       "      <td>4</td>\n",
       "      <td>3</td>\n",
       "      <td>0</td>\n",
       "      <td>0</td>\n",
       "      <td>0</td>\n",
       "      <td>0</td>\n",
       "      <td>0</td>\n",
       "      <td>3</td>\n",
       "      <td>2</td>\n",
       "      <td>285</td>\n",
       "      <td>0</td>\n",
       "      <td>0</td>\n",
       "    </tr>\n",
       "    <tr>\n",
       "      <th>Label-Dedication</th>\n",
       "      <td>13</td>\n",
       "      <td>0</td>\n",
       "      <td>1</td>\n",
       "      <td>0</td>\n",
       "      <td>0</td>\n",
       "      <td>0</td>\n",
       "      <td>0</td>\n",
       "      <td>1</td>\n",
       "      <td>0</td>\n",
       "      <td>0</td>\n",
       "      <td>145</td>\n",
       "      <td>0</td>\n",
       "    </tr>\n",
       "    <tr>\n",
       "      <th>Label-ChapterAbstract</th>\n",
       "      <td>2</td>\n",
       "      <td>0</td>\n",
       "      <td>3</td>\n",
       "      <td>0</td>\n",
       "      <td>0</td>\n",
       "      <td>4</td>\n",
       "      <td>0</td>\n",
       "      <td>1</td>\n",
       "      <td>0</td>\n",
       "      <td>0</td>\n",
       "      <td>0</td>\n",
       "      <td>198</td>\n",
       "    </tr>\n",
       "  </tbody>\n",
       "</table>\n",
       "</div>"
      ],
      "text/plain": [
       "                       Label-Appendices  Label-ReferenceList  Label-Other  \\\n",
       "Label-Appendices                   1055                   46           54   \n",
       "Label-ReferenceList                  60                  406            1   \n",
       "Label-Other                         151                   11          144   \n",
       "Label-TableofContent                 25                    1            1   \n",
       "Label-TitlePage                      12                    0            6   \n",
       "Label-Abstract                       47                    7           11   \n",
       "Label-ListofFigures                  15                   12            0   \n",
       "Label-Acknowledgement                31                    6            5   \n",
       "Label-ListofTables                   12                    7            0   \n",
       "Label-CurriculumVitae                 4                    3            0   \n",
       "Label-Dedication                     13                    0            1   \n",
       "Label-ChapterAbstract                 2                    0            3   \n",
       "\n",
       "                       Label-TableofContent  Label-TitlePage  Label-Abstract  \\\n",
       "Label-Appendices                          8                5              21   \n",
       "Label-ReferenceList                       0                0               4   \n",
       "Label-Other                               7               12              14   \n",
       "Label-TableofContent                    126                1               0   \n",
       "Label-TitlePage                           1              138               0   \n",
       "Label-Abstract                            0                1              74   \n",
       "Label-ListofFigures                      14                0               0   \n",
       "Label-Acknowledgement                     0                0              14   \n",
       "Label-ListofTables                        7                0               1   \n",
       "Label-CurriculumVitae                     0                0               0   \n",
       "Label-Dedication                          0                0               0   \n",
       "Label-ChapterAbstract                     0                0               4   \n",
       "\n",
       "                       Label-ListofFigures  Label-Acknowledgement  \\\n",
       "Label-Appendices                         5                      8   \n",
       "Label-ReferenceList                      6                      3   \n",
       "Label-Other                              6                      4   \n",
       "Label-TableofContent                    10                      0   \n",
       "Label-TitlePage                          0                      0   \n",
       "Label-Abstract                           1                     17   \n",
       "Label-ListofFigures                    117                      1   \n",
       "Label-Acknowledgement                    0                    103   \n",
       "Label-ListofTables                      22                      0   \n",
       "Label-CurriculumVitae                    0                      3   \n",
       "Label-Dedication                         0                      1   \n",
       "Label-ChapterAbstract                    0                      1   \n",
       "\n",
       "                       Label-ListofTables  Label-CurriculumVitae  \\\n",
       "Label-Appendices                        3                     12   \n",
       "Label-ReferenceList                     1                      3   \n",
       "Label-Other                             3                      2   \n",
       "Label-TableofContent                    4                      0   \n",
       "Label-TitlePage                         0                      0   \n",
       "Label-Abstract                          0                      6   \n",
       "Label-ListofFigures                    16                      1   \n",
       "Label-Acknowledgement                   0                      1   \n",
       "Label-ListofTables                    116                      1   \n",
       "Label-CurriculumVitae                   2                    285   \n",
       "Label-Dedication                        0                      0   \n",
       "Label-ChapterAbstract                   0                      0   \n",
       "\n",
       "                       Label-Dedication  Label-ChapterAbstract  \n",
       "Label-Appendices                      0                      0  \n",
       "Label-ReferenceList                   1                      0  \n",
       "Label-Other                           0                      0  \n",
       "Label-TableofContent                  0                      0  \n",
       "Label-TitlePage                       0                      0  \n",
       "Label-Abstract                        0                      0  \n",
       "Label-ListofFigures                   0                      0  \n",
       "Label-Acknowledgement                 0                      3  \n",
       "Label-ListofTables                    0                      0  \n",
       "Label-CurriculumVitae                 0                      0  \n",
       "Label-Dedication                    145                      0  \n",
       "Label-ChapterAbstract                 0                    198  "
      ]
     },
     "execution_count": 42,
     "metadata": {},
     "output_type": "execute_result"
    }
   ],
   "source": [
    "detailed_test_eval(multimodal_model)"
   ]
  },
  {
   "cell_type": "code",
   "execution_count": null,
   "id": "e020ffe6-9bc6-47cf-8793-861bc92fd1ea",
   "metadata": {},
   "outputs": [],
   "source": []
  }
 ],
 "metadata": {
  "kernelspec": {
   "display_name": "Python 3 (ipykernel)",
   "language": "python",
   "name": "python3"
  },
  "language_info": {
   "codemirror_mode": {
    "name": "ipython",
    "version": 3
   },
   "file_extension": ".py",
   "mimetype": "text/x-python",
   "name": "python",
   "nbconvert_exporter": "python",
   "pygments_lexer": "ipython3",
   "version": "3.7.13"
  }
 },
 "nbformat": 4,
 "nbformat_minor": 5
}
