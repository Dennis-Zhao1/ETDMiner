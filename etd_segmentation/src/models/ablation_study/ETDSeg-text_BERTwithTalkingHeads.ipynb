{
 "cells": [
  {
   "cell_type": "markdown",
   "id": "146c424f",
   "metadata": {},
   "source": [
    "## Data Preparation"
   ]
  },
  {
   "cell_type": "code",
   "execution_count": 1,
   "id": "c720d0ca",
   "metadata": {},
   "outputs": [
    {
     "name": "stderr",
     "output_type": "stream",
     "text": [
      "Intel(R) Extension for Scikit-learn* enabled (https://github.com/intel/scikit-learn-intelex)\n",
      "/opt/conda/lib/python3.7/site-packages/sklearn/_distributor_init.py:25: FutureWarning: \n",
      "USE_DAAL4PY_SKLEARN variable is deprecated for Intel(R) Extension for Scikit-learn\n",
      "and will be delete in the 2022.1 release.\n",
      "Please, use new construction of global patching:\n",
      "python sklearnex.glob patch_sklearn\n",
      "Read more: https://intel.github.io/scikit-learn-intelex/global_patching.html\n",
      "  FutureWarning)\n",
      "2023-06-01 10:28:10.552893: I tensorflow/core/platform/cpu_feature_guard.cc:193] This TensorFlow binary is optimized with oneAPI Deep Neural Network Library (oneDNN) to use the following CPU instructions in performance-critical operations:  AVX2 AVX512F FMA\n",
      "To enable them in other operations, rebuild TensorFlow with the appropriate compiler flags.\n",
      "2023-06-01 10:28:10.814723: E tensorflow/stream_executor/cuda/cuda_blas.cc:2981] Unable to register cuBLAS factory: Attempting to register factory for plugin cuBLAS when one has already been registered\n"
     ]
    }
   ],
   "source": [
    "import pandas as pd\n",
    "from sklearn.model_selection import train_test_split\n",
    "import numpy as np\n",
    "from sentence_splitter import SentenceSplitter\n",
    "import matplotlib.pyplot as plt\n",
    "import os\n",
    "import ast\n",
    "import cv2\n",
    "from sklearn.metrics import confusion_matrix, classification_report\n",
    "from tqdm import tqdm\n",
    "import time\n",
    "\n",
    "import tensorflow as tf\n",
    "import tensorflow_hub as hub\n",
    "import tensorflow_text as text\n",
    "from tensorflow import keras\n",
    "from tensorflow.keras.callbacks import EarlyStopping\n",
    "from tensorflow.keras.optimizers import SGD\n",
    "from tensorflow.python.keras import backend as K\n",
    "from focal_loss import SparseCategoricalFocalLoss"
   ]
  },
  {
   "cell_type": "code",
   "execution_count": 2,
   "id": "4cab5782-1087-419a-93cf-b7e21fcde925",
   "metadata": {},
   "outputs": [
    {
     "name": "stderr",
     "output_type": "stream",
     "text": [
      "2023-06-01 10:28:20.016837: I tensorflow/core/platform/cpu_feature_guard.cc:193] This TensorFlow binary is optimized with oneAPI Deep Neural Network Library (oneDNN) to use the following CPU instructions in performance-critical operations:  AVX2 AVX512F FMA\n",
      "To enable them in other operations, rebuild TensorFlow with the appropriate compiler flags.\n",
      "2023-06-01 10:28:20.992547: I tensorflow/core/common_runtime/gpu/gpu_device.cc:1616] Created device /job:localhost/replica:0/task:0/device:GPU:0 with 14615 MB memory:  -> device: 0, name: Tesla V100-SXM2-16GB, pci bus id: 0000:1a:00.0, compute capability: 7.0\n"
     ]
    }
   ],
   "source": [
    "config = tf.compat.v1.ConfigProto( device_count = {'GPU': 1} )\n",
    "sess = tf.compat.v1.Session(config=config) \n",
    "K.set_session(sess)"
   ]
  },
  {
   "cell_type": "code",
   "execution_count": 3,
   "id": "6e94a384-196f-4cff-ae3d-d95559ebed75",
   "metadata": {},
   "outputs": [
    {
     "name": "stdout",
     "output_type": "stream",
     "text": [
      "Found GPU at: /device:GPU:0\n"
     ]
    },
    {
     "name": "stderr",
     "output_type": "stream",
     "text": [
      "2023-06-01 10:28:25.637390: I tensorflow/core/common_runtime/gpu/gpu_device.cc:1616] Created device /device:GPU:0 with 14615 MB memory:  -> device: 0, name: Tesla V100-SXM2-16GB, pci bus id: 0000:1a:00.0, compute capability: 7.0\n"
     ]
    }
   ],
   "source": [
    "device_name = tf.test.gpu_device_name()\n",
    "if \"GPU\" not in device_name:\n",
    "    print(\"GPU device not found\")\n",
    "print('Found GPU at: {}'.format(device_name))"
   ]
  },
  {
   "cell_type": "code",
   "execution_count": 4,
   "id": "cc07ae00-3c41-4e65-84fd-16408bee23a5",
   "metadata": {},
   "outputs": [],
   "source": [
    "# data_1 = pd.read_csv(\"ETD_data.csv\")\n",
    "# data_1['text'] = data_1['text'].astype(str)\n",
    "# data_1\n",
    "# train_image = pd.read_csv(\"trainETD500.csv\")\n",
    "# data_2 = train_image.drop(columns = 'labels')\n",
    "# data_2\n",
    "# ETD500 = pd.concat([data_2, data_1], axis = 1)\n",
    "# ETD500.to_csv('500ETD.csv', encoding = 'utf-8', index=None)\n",
    "# ack = pd.read_csv('ack.csv')\n",
    "# ded = pd.read_csv('ded.csv')\n",
    "# chabs = pd.read_csv('chapter_abs.csv')\n",
    "# abstract = pd.read_csv('abstract.csv')\n",
    "# merged = pd.concat([ETD500, ack, ded, chabs, abstract], axis=0)\n",
    "# merged.set_index('img_path')\n",
    "# #merged.to_csv('inspect_merged.csv', index = None)"
   ]
  },
  {
   "cell_type": "code",
   "execution_count": 5,
   "id": "bf2a932b-0ba9-4770-9995-d48f1fb53ff6",
   "metadata": {},
   "outputs": [],
   "source": [
    "# df500 = pd.read_csv('500ETD_updated.csv')\n",
    "# df500['text'] = df500['text'].astype(str)\n",
    "# df500"
   ]
  },
  {
   "cell_type": "code",
   "execution_count": 6,
   "id": "a7e30d16-85be-4f79-a9ed-c543b34018ed",
   "metadata": {},
   "outputs": [],
   "source": [
    "# df500 = df500[df500['class'] != 'Label-Chapters']\n",
    "# df500.to_csv(\"500ETD_chaptersExcluded.csv\", encoding = 'utf-8', index = None)\n",
    "# df500"
   ]
  },
  {
   "cell_type": "code",
   "execution_count": 7,
   "id": "82e710bd-5ef1-4832-baa7-f36acaac7740",
   "metadata": {},
   "outputs": [
    {
     "data": {
      "text/html": [
       "<div>\n",
       "<style scoped>\n",
       "    .dataframe tbody tr th:only-of-type {\n",
       "        vertical-align: middle;\n",
       "    }\n",
       "\n",
       "    .dataframe tbody tr th {\n",
       "        vertical-align: top;\n",
       "    }\n",
       "\n",
       "    .dataframe thead th {\n",
       "        text-align: right;\n",
       "    }\n",
       "</style>\n",
       "<table border=\"1\" class=\"dataframe\">\n",
       "  <thead>\n",
       "    <tr style=\"text-align: right;\">\n",
       "      <th></th>\n",
       "      <th>img_path</th>\n",
       "      <th>text</th>\n",
       "      <th>class</th>\n",
       "    </tr>\n",
       "  </thead>\n",
       "  <tbody>\n",
       "    <tr>\n",
       "      <th>0</th>\n",
       "      <td>/home/mchou001/train/1/1.png</td>\n",
       "      <td>'SOME ASPECTS OF RADIATION INDUCED NUCLEATION ...</td>\n",
       "      <td>Label-TitlePage</td>\n",
       "    </tr>\n",
       "    <tr>\n",
       "      <th>1</th>\n",
       "      <td>/home/mchou001/train/1/2.png</td>\n",
       "      <td>'2', 'Dedicated to my', 'parents and sisters'</td>\n",
       "      <td>Label-Dedication</td>\n",
       "    </tr>\n",
       "    <tr>\n",
       "      <th>2</th>\n",
       "      <td>/home/mchou001/train/1/3.png</td>\n",
       "      <td>'3', 'SOME ASPECTS OF RADIATION INDUCED NUCLEA...</td>\n",
       "      <td>Label-Abstract</td>\n",
       "    </tr>\n",
       "    <tr>\n",
       "      <th>3</th>\n",
       "      <td>/home/mchou001/train/1/4.png</td>\n",
       "      <td>'4', 'Acknowledgements', 'I wish to thank fore...</td>\n",
       "      <td>Label-Acknowledgement</td>\n",
       "    </tr>\n",
       "    <tr>\n",
       "      <th>4</th>\n",
       "      <td>/home/mchou001/train/1/5.png</td>\n",
       "      <td>'5', 'Table of Contents', 'Abstract', '3', 'Ac...</td>\n",
       "      <td>Label-TableofContent</td>\n",
       "    </tr>\n",
       "    <tr>\n",
       "      <th>...</th>\n",
       "      <td>...</td>\n",
       "      <td>...</td>\n",
       "      <td>...</td>\n",
       "    </tr>\n",
       "    <tr>\n",
       "      <th>24760</th>\n",
       "      <td>/home/mchou001/Label-Dedication/502/aug987.png</td>\n",
       "      <td>Dedication\\nThe song was reproduced with the p...</td>\n",
       "      <td>Label-Dedication</td>\n",
       "    </tr>\n",
       "    <tr>\n",
       "      <th>24761</th>\n",
       "      <td>/home/mchou001/Label-Dedication/502/aug988.png</td>\n",
       "      <td>Dedication\\nPermission is required for further...</td>\n",
       "      <td>Label-Dedication</td>\n",
       "    </tr>\n",
       "    <tr>\n",
       "      <th>24762</th>\n",
       "      <td>/home/mchou001/Label-Dedication/502/aug989.png</td>\n",
       "      <td>Dedication\\nPermission is needed for further r...</td>\n",
       "      <td>Label-Dedication</td>\n",
       "    </tr>\n",
       "    <tr>\n",
       "      <th>24763</th>\n",
       "      <td>/home/mchou001/Label-Dedication/502/aug990.png</td>\n",
       "      <td>Dedication\\nPermission is required for any fur...</td>\n",
       "      <td>Label-Dedication</td>\n",
       "    </tr>\n",
       "    <tr>\n",
       "      <th>24764</th>\n",
       "      <td>/home/mchou001/Label-Dedication/502/aug991.png</td>\n",
       "      <td>Dedication\\nPermission is not granted for furt...</td>\n",
       "      <td>Label-Dedication</td>\n",
       "    </tr>\n",
       "  </tbody>\n",
       "</table>\n",
       "<p>24765 rows × 3 columns</p>\n",
       "</div>"
      ],
      "text/plain": [
       "                                             img_path  \\\n",
       "0                        /home/mchou001/train/1/1.png   \n",
       "1                        /home/mchou001/train/1/2.png   \n",
       "2                        /home/mchou001/train/1/3.png   \n",
       "3                        /home/mchou001/train/1/4.png   \n",
       "4                        /home/mchou001/train/1/5.png   \n",
       "...                                               ...   \n",
       "24760  /home/mchou001/Label-Dedication/502/aug987.png   \n",
       "24761  /home/mchou001/Label-Dedication/502/aug988.png   \n",
       "24762  /home/mchou001/Label-Dedication/502/aug989.png   \n",
       "24763  /home/mchou001/Label-Dedication/502/aug990.png   \n",
       "24764  /home/mchou001/Label-Dedication/502/aug991.png   \n",
       "\n",
       "                                                    text  \\\n",
       "0      'SOME ASPECTS OF RADIATION INDUCED NUCLEATION ...   \n",
       "1          '2', 'Dedicated to my', 'parents and sisters'   \n",
       "2      '3', 'SOME ASPECTS OF RADIATION INDUCED NUCLEA...   \n",
       "3      '4', 'Acknowledgements', 'I wish to thank fore...   \n",
       "4      '5', 'Table of Contents', 'Abstract', '3', 'Ac...   \n",
       "...                                                  ...   \n",
       "24760  Dedication\\nThe song was reproduced with the p...   \n",
       "24761  Dedication\\nPermission is required for further...   \n",
       "24762  Dedication\\nPermission is needed for further r...   \n",
       "24763  Dedication\\nPermission is required for any fur...   \n",
       "24764  Dedication\\nPermission is not granted for furt...   \n",
       "\n",
       "                       class  \n",
       "0            Label-TitlePage  \n",
       "1           Label-Dedication  \n",
       "2             Label-Abstract  \n",
       "3      Label-Acknowledgement  \n",
       "4       Label-TableofContent  \n",
       "...                      ...  \n",
       "24760       Label-Dedication  \n",
       "24761       Label-Dedication  \n",
       "24762       Label-Dedication  \n",
       "24763       Label-Dedication  \n",
       "24764       Label-Dedication  \n",
       "\n",
       "[24765 rows x 3 columns]"
      ]
     },
     "execution_count": 7,
     "metadata": {},
     "output_type": "execute_result"
    }
   ],
   "source": [
    "data = pd.read_csv(\"500ETD_v2.csv\", encoding = 'utf-8')\n",
    "data['text'] = data['text'].astype(str)\n",
    "data"
   ]
  },
  {
   "cell_type": "code",
   "execution_count": 8,
   "id": "9af3ce40-24d5-4404-8d39-e4555d2a14e6",
   "metadata": {},
   "outputs": [],
   "source": [
    "label_map = {\"Label-Appendices\": 0, \"Label-ReferenceList\": 1, \"Label-Other\": 2, \"Label-TableofContent\": 3,  \"Label-TitlePage\": 4, \"Label-Abstract\": 5,\n",
    "             \"Label-ListofFigures\": 6, \"Label-Acknowledgement\": 7, \"Label-ListofTables\": 8, \"Label-CurriculumVitae\": 9, \"Label-Dedication\": 10, \"Label-ChapterAbstract\": 11}"
   ]
  },
  {
   "cell_type": "code",
   "execution_count": 9,
   "id": "fb854e44-5924-4b4e-b056-05c7797105a6",
   "metadata": {},
   "outputs": [],
   "source": [
    "data['label_idx'] = data['class'].apply(lambda x: label_map[x])"
   ]
  },
  {
   "cell_type": "code",
   "execution_count": 10,
   "id": "cedaf4d5-47e1-4517-b96e-96fc10fb268c",
   "metadata": {},
   "outputs": [
    {
     "data": {
      "text/html": [
       "<div>\n",
       "<style scoped>\n",
       "    .dataframe tbody tr th:only-of-type {\n",
       "        vertical-align: middle;\n",
       "    }\n",
       "\n",
       "    .dataframe tbody tr th {\n",
       "        vertical-align: top;\n",
       "    }\n",
       "\n",
       "    .dataframe thead th {\n",
       "        text-align: right;\n",
       "    }\n",
       "</style>\n",
       "<table border=\"1\" class=\"dataframe\">\n",
       "  <thead>\n",
       "    <tr style=\"text-align: right;\">\n",
       "      <th></th>\n",
       "      <th>img_path</th>\n",
       "      <th>text</th>\n",
       "      <th>class</th>\n",
       "      <th>label_idx</th>\n",
       "    </tr>\n",
       "  </thead>\n",
       "  <tbody>\n",
       "    <tr>\n",
       "      <th>0</th>\n",
       "      <td>/home/mchou001/train/1/1.png</td>\n",
       "      <td>'SOME ASPECTS OF RADIATION INDUCED NUCLEATION ...</td>\n",
       "      <td>Label-TitlePage</td>\n",
       "      <td>4</td>\n",
       "    </tr>\n",
       "    <tr>\n",
       "      <th>1</th>\n",
       "      <td>/home/mchou001/train/1/2.png</td>\n",
       "      <td>'2', 'Dedicated to my', 'parents and sisters'</td>\n",
       "      <td>Label-Dedication</td>\n",
       "      <td>10</td>\n",
       "    </tr>\n",
       "    <tr>\n",
       "      <th>2</th>\n",
       "      <td>/home/mchou001/train/1/3.png</td>\n",
       "      <td>'3', 'SOME ASPECTS OF RADIATION INDUCED NUCLEA...</td>\n",
       "      <td>Label-Abstract</td>\n",
       "      <td>5</td>\n",
       "    </tr>\n",
       "    <tr>\n",
       "      <th>3</th>\n",
       "      <td>/home/mchou001/train/1/4.png</td>\n",
       "      <td>'4', 'Acknowledgements', 'I wish to thank fore...</td>\n",
       "      <td>Label-Acknowledgement</td>\n",
       "      <td>7</td>\n",
       "    </tr>\n",
       "    <tr>\n",
       "      <th>4</th>\n",
       "      <td>/home/mchou001/train/1/5.png</td>\n",
       "      <td>'5', 'Table of Contents', 'Abstract', '3', 'Ac...</td>\n",
       "      <td>Label-TableofContent</td>\n",
       "      <td>3</td>\n",
       "    </tr>\n",
       "    <tr>\n",
       "      <th>...</th>\n",
       "      <td>...</td>\n",
       "      <td>...</td>\n",
       "      <td>...</td>\n",
       "      <td>...</td>\n",
       "    </tr>\n",
       "    <tr>\n",
       "      <th>24760</th>\n",
       "      <td>/home/mchou001/Label-Dedication/502/aug987.png</td>\n",
       "      <td>Dedication\\nThe song was reproduced with the p...</td>\n",
       "      <td>Label-Dedication</td>\n",
       "      <td>10</td>\n",
       "    </tr>\n",
       "    <tr>\n",
       "      <th>24761</th>\n",
       "      <td>/home/mchou001/Label-Dedication/502/aug988.png</td>\n",
       "      <td>Dedication\\nPermission is required for further...</td>\n",
       "      <td>Label-Dedication</td>\n",
       "      <td>10</td>\n",
       "    </tr>\n",
       "    <tr>\n",
       "      <th>24762</th>\n",
       "      <td>/home/mchou001/Label-Dedication/502/aug989.png</td>\n",
       "      <td>Dedication\\nPermission is needed for further r...</td>\n",
       "      <td>Label-Dedication</td>\n",
       "      <td>10</td>\n",
       "    </tr>\n",
       "    <tr>\n",
       "      <th>24763</th>\n",
       "      <td>/home/mchou001/Label-Dedication/502/aug990.png</td>\n",
       "      <td>Dedication\\nPermission is required for any fur...</td>\n",
       "      <td>Label-Dedication</td>\n",
       "      <td>10</td>\n",
       "    </tr>\n",
       "    <tr>\n",
       "      <th>24764</th>\n",
       "      <td>/home/mchou001/Label-Dedication/502/aug991.png</td>\n",
       "      <td>Dedication\\nPermission is not granted for furt...</td>\n",
       "      <td>Label-Dedication</td>\n",
       "      <td>10</td>\n",
       "    </tr>\n",
       "  </tbody>\n",
       "</table>\n",
       "<p>24765 rows × 4 columns</p>\n",
       "</div>"
      ],
      "text/plain": [
       "                                             img_path  \\\n",
       "0                        /home/mchou001/train/1/1.png   \n",
       "1                        /home/mchou001/train/1/2.png   \n",
       "2                        /home/mchou001/train/1/3.png   \n",
       "3                        /home/mchou001/train/1/4.png   \n",
       "4                        /home/mchou001/train/1/5.png   \n",
       "...                                               ...   \n",
       "24760  /home/mchou001/Label-Dedication/502/aug987.png   \n",
       "24761  /home/mchou001/Label-Dedication/502/aug988.png   \n",
       "24762  /home/mchou001/Label-Dedication/502/aug989.png   \n",
       "24763  /home/mchou001/Label-Dedication/502/aug990.png   \n",
       "24764  /home/mchou001/Label-Dedication/502/aug991.png   \n",
       "\n",
       "                                                    text  \\\n",
       "0      'SOME ASPECTS OF RADIATION INDUCED NUCLEATION ...   \n",
       "1          '2', 'Dedicated to my', 'parents and sisters'   \n",
       "2      '3', 'SOME ASPECTS OF RADIATION INDUCED NUCLEA...   \n",
       "3      '4', 'Acknowledgements', 'I wish to thank fore...   \n",
       "4      '5', 'Table of Contents', 'Abstract', '3', 'Ac...   \n",
       "...                                                  ...   \n",
       "24760  Dedication\\nThe song was reproduced with the p...   \n",
       "24761  Dedication\\nPermission is required for further...   \n",
       "24762  Dedication\\nPermission is needed for further r...   \n",
       "24763  Dedication\\nPermission is required for any fur...   \n",
       "24764  Dedication\\nPermission is not granted for furt...   \n",
       "\n",
       "                       class  label_idx  \n",
       "0            Label-TitlePage          4  \n",
       "1           Label-Dedication         10  \n",
       "2             Label-Abstract          5  \n",
       "3      Label-Acknowledgement          7  \n",
       "4       Label-TableofContent          3  \n",
       "...                      ...        ...  \n",
       "24760       Label-Dedication         10  \n",
       "24761       Label-Dedication         10  \n",
       "24762       Label-Dedication         10  \n",
       "24763       Label-Dedication         10  \n",
       "24764       Label-Dedication         10  \n",
       "\n",
       "[24765 rows x 4 columns]"
      ]
     },
     "execution_count": 10,
     "metadata": {},
     "output_type": "execute_result"
    }
   ],
   "source": [
    "data"
   ]
  },
  {
   "cell_type": "markdown",
   "id": "84cd7fb6-c376-4940-8bce-9afd40487d9f",
   "metadata": {},
   "source": [
    "## Visualize the data"
   ]
  },
  {
   "cell_type": "code",
   "execution_count": 11,
   "id": "5699cb9a-312f-426a-94ef-6bb824c7a336",
   "metadata": {},
   "outputs": [
    {
     "data": {
      "image/png": "[encoded data removed]",
      "text/plain": [
       "<Figure size 640x480 with 1 Axes>"
      ]
     },
     "metadata": {},
     "output_type": "display_data"
    },
    {
     "name": "stdout",
     "output_type": "stream",
     "text": [
      "Text:'RESEARCH ON UTILIZATION OF PATTERN RECOGNITION TECHNIQUES TO', 'IDENTIFY AND CLASSIFY OBJECTS IN VIDEO DATA,', 'in.d.] Report SM-48464CF, Dougias Alrcraf', 't', 'Company,', 'Roberts, L.G.', '[1965].', 'Machine perception of', 'three-dimenslonal solids, In J. Tippet et al (Eds.).', 'OPTICAL AND ELECTRO- OPTICAL INFORMATION PROCESSING,', 'Cambridge Massachusetts Institute of Technology,', '159-197', 'Rose, A, Television pick-up tubes and the problem', 'of vision, In L. Marton (Ed.), ADVANCES', 'IN', 'ELECTRONICS, New York: Academic, 131-167,', 'Rosen, Charles A. [1967]. Pattern classiflcatlon by', 'adaptive machines, SCIENCE, 156, 38-44.', 'Rosenbilth, Walter A.', '(Ed.).', '[1961].', 'SENSORY', 'COMMUNICATION, Cambridge: Massachusetts Institute of', 'Technology', 'Rosenfeld, Azriel, Huang, Han, and Schneider, Victor,', '[1968], An application of cluster detection to text', 'and plcture processing, Technical Report 68-68,', 'Computer Sclence Center, Unlversity of Maryland,', 'College Park, Maryland.', 'Rosenfeld, A., and Pfiatz, J.L,', '[1968].', 'Distance', 'functions on digital pictures, PATTERN RECOGNITION,', '1 (1), 33-63,', 'Rosenfeld, Azriel, Thomas, Richard B. and Lee, Yung.', '[1969], Edge and curve ephancement In digital', 'pictures, Technical Report 69-13, Computer Science', 'Center, University of Maryland, College Park,', 'Maryland,', 'Rosenfeld, Azr101', '[1968].', 'Picture processing', 'by', 'computer, Technical Report 68-71, Computer Sclence', 'Center, University of Maryland, College Park,', 'Maryland,', 'Schade, Otto,', '[1948].', 'Electro-optical characterlstics', 'of television systems, RCA REVIEW, IX, (four', 'articles).', 'SCIENCE OF CÓLOR. [1958]. OPTICAL SOCIETY OF AMERICA,', 'Schrelber, W, [1964]. Vidicon noise. PROCEEDINGS IEEE,', '52 (1), 217.', '450', 'Reproduced with permission of the copyright owner. Further reproduction prohibited without permission.'\n",
      "Label:Label-ReferenceList\n"
     ]
    }
   ],
   "source": [
    "%matplotlib inline\n",
    "def visualize(idx):\n",
    "    current_row = data.iloc[idx]\n",
    "    image = cv2.imread(current_row['img_path'])\n",
    "    text = current_row['text']\n",
    "    label = current_row['class']\n",
    "    \n",
    "    plt.subplot(1,2,1)\n",
    "    plt.imshow(image)\n",
    "    plt.axis(\"off\")\n",
    "    plt.title(\"Image\")\n",
    "    plt.show()\n",
    "    \n",
    "    print(f\"Text:{text}\")\n",
    "    print(f\"Label:{label}\")\n",
    "\n",
    "random_idx = np.random.choice(len(data))\n",
    "visualize(random_idx)"
   ]
  },
  {
   "cell_type": "code",
   "execution_count": 12,
   "id": "cb557ed4-c1f2-4cde-9671-10b0bee6b2f6",
   "metadata": {},
   "outputs": [
    {
     "data": {
      "text/plain": [
       "Label-Appendices         8112\n",
       "Label-ReferenceList      3230\n",
       "Label-Other              2363\n",
       "Label-CurriculumVitae    1980\n",
       "Label-ChapterAbstract    1386\n",
       "Label-ListofFigures      1171\n",
       "Label-TableofContent     1120\n",
       "Label-ListofTables       1110\n",
       "Label-Abstract           1094\n",
       "Label-Acknowledgement    1084\n",
       "Label-Dedication         1069\n",
       "Label-TitlePage          1046\n",
       "Name: class, dtype: int64"
      ]
     },
     "execution_count": 12,
     "metadata": {},
     "output_type": "execute_result"
    }
   ],
   "source": [
    "data['class'].value_counts()"
   ]
  },
  {
   "cell_type": "markdown",
   "id": "d93d76b2-a9f7-40b2-8d27-d581eca27958",
   "metadata": {},
   "source": [
    "## Train, Test and Validation set"
   ]
  },
  {
   "cell_type": "code",
   "execution_count": 13,
   "id": "a19f31ca",
   "metadata": {},
   "outputs": [
    {
     "name": "stdout",
     "output_type": "stream",
     "text": [
      "Total training examples: 15787\n",
      "Total validation examples: 5263\n",
      "Total test examples: 3715\n"
     ]
    }
   ],
   "source": [
    "# 15% for test\n",
    "train_df, test_df = train_test_split(\n",
    "    data, test_size=0.15, stratify=data[\"class\"].values, random_state=42\n",
    ")\n",
    "# 25% for validation\n",
    "train_df, val_df = train_test_split(\n",
    "    train_df, test_size=0.25, stratify=train_df[\"class\"].values, random_state=42\n",
    ")\n",
    "\n",
    "print(f\"Total training examples: {len(train_df)}\")\n",
    "print(f\"Total validation examples: {len(val_df)}\")\n",
    "print(f\"Total test examples: {len(test_df)}\")"
   ]
  },
  {
   "cell_type": "code",
   "execution_count": 14,
   "id": "9b83c0f0-e37b-4482-8522-84a73290de01",
   "metadata": {},
   "outputs": [
    {
     "data": {
      "text/plain": [
       "img_path     object\n",
       "text         object\n",
       "class        object\n",
       "label_idx     int64\n",
       "dtype: object"
      ]
     },
     "execution_count": 14,
     "metadata": {},
     "output_type": "execute_result"
    }
   ],
   "source": [
    "train_df.dtypes"
   ]
  },
  {
   "cell_type": "code",
   "execution_count": 15,
   "id": "6fe940a4-bab4-48ea-b079-cd36baa8ccff",
   "metadata": {},
   "outputs": [
    {
     "data": {
      "text/plain": [
       "img_path     object\n",
       "text         object\n",
       "class        object\n",
       "label_idx     int64\n",
       "dtype: object"
      ]
     },
     "execution_count": 15,
     "metadata": {},
     "output_type": "execute_result"
    }
   ],
   "source": [
    "test_df.dtypes"
   ]
  },
  {
   "cell_type": "code",
   "execution_count": 16,
   "id": "6dbfb349-aad9-4e3e-ae7c-584e13149b53",
   "metadata": {},
   "outputs": [
    {
     "data": {
      "text/plain": [
       "img_path     object\n",
       "text         object\n",
       "class        object\n",
       "label_idx     int64\n",
       "dtype: object"
      ]
     },
     "execution_count": 16,
     "metadata": {},
     "output_type": "execute_result"
    }
   ],
   "source": [
    "val_df.dtypes"
   ]
  },
  {
   "cell_type": "code",
   "execution_count": 17,
   "id": "2f50bad2-cbe7-4fdd-bd3b-23f10989cb5e",
   "metadata": {},
   "outputs": [
    {
     "data": {
      "text/plain": [
       "Label-Appendices         5171\n",
       "Label-ReferenceList      2059\n",
       "Label-Other              1507\n",
       "Label-CurriculumVitae    1262\n",
       "Label-ChapterAbstract     883\n",
       "Label-ListofFigures       746\n",
       "Label-TableofContent      714\n",
       "Label-ListofTables        708\n",
       "Label-Abstract            697\n",
       "Label-Acknowledgement     691\n",
       "Label-Dedication          682\n",
       "Label-TitlePage           667\n",
       "Name: class, dtype: int64"
      ]
     },
     "execution_count": 17,
     "metadata": {},
     "output_type": "execute_result"
    }
   ],
   "source": [
    "train_df['class'].value_counts()"
   ]
  },
  {
   "cell_type": "code",
   "execution_count": 18,
   "id": "5802eda4-30c1-4753-b042-552ab795f95a",
   "metadata": {},
   "outputs": [
    {
     "data": {
      "text/plain": [
       "Label-Appendices         1217\n",
       "Label-ReferenceList       485\n",
       "Label-Other               354\n",
       "Label-CurriculumVitae     297\n",
       "Label-ChapterAbstract     208\n",
       "Label-ListofFigures       176\n",
       "Label-TableofContent      168\n",
       "Label-ListofTables        166\n",
       "Label-Abstract            164\n",
       "Label-Acknowledgement     163\n",
       "Label-Dedication          160\n",
       "Label-TitlePage           157\n",
       "Name: class, dtype: int64"
      ]
     },
     "execution_count": 18,
     "metadata": {},
     "output_type": "execute_result"
    }
   ],
   "source": [
    "test_df['class'].value_counts()"
   ]
  },
  {
   "cell_type": "code",
   "execution_count": 19,
   "id": "2bbbf235-cf9c-49e8-9a27-92651f34a65b",
   "metadata": {},
   "outputs": [
    {
     "data": {
      "text/plain": [
       "Label-Appendices         1724\n",
       "Label-ReferenceList       686\n",
       "Label-Other               502\n",
       "Label-CurriculumVitae     421\n",
       "Label-ChapterAbstract     295\n",
       "Label-ListofFigures       249\n",
       "Label-TableofContent      238\n",
       "Label-ListofTables        236\n",
       "Label-Abstract            233\n",
       "Label-Acknowledgement     230\n",
       "Label-Dedication          227\n",
       "Label-TitlePage           222\n",
       "Name: class, dtype: int64"
      ]
     },
     "execution_count": 19,
     "metadata": {},
     "output_type": "execute_result"
    }
   ],
   "source": [
    "val_df['class'].value_counts()"
   ]
  },
  {
   "cell_type": "code",
   "execution_count": 20,
   "id": "2ad2594e-78f3-4b2d-8fd3-5f0b0b8fad9f",
   "metadata": {},
   "outputs": [],
   "source": [
    "# Define TF Hub paths to the BERT encoder and its preprocessor\n",
    "#'https://tfhub.dev/tensorflow/bert_en_uncased_L-24_H-1024_A-16/3'\n",
    "    \n",
    "bert_model_path = (\n",
    "    'https://tfhub.dev/tensorflow/talkheads_ggelu_bert_en_large/2'\n",
    ")\n",
    "bert_preprocess_path = \"https://tfhub.dev/tensorflow/bert_en_uncased_preprocess/3\""
   ]
  },
  {
   "cell_type": "code",
   "execution_count": 21,
   "id": "0bbaecf0-02f5-418e-8655-78f28b77f5ce",
   "metadata": {},
   "outputs": [],
   "source": [
    "def make_bert_preprocessing_model(sentence_features, seq_length=512):\n",
    "    \"\"\"Returns Model mapping string features to BERT inputs.\n",
    "\n",
    "  Args:\n",
    "    sentence_features: A list with the names of string-valued features.\n",
    "    seq_length: An integer that defines the sequence length of BERT inputs.\n",
    "\n",
    "  Returns:\n",
    "    A Keras Model that can be called on a list or dict of string Tensors\n",
    "    (with the order or names, resp., given by sentence_features) and\n",
    "    returns a dict of tensors for input to BERT.\n",
    "  \"\"\"\n",
    "\n",
    "    input_segments = [\n",
    "        tf.keras.layers.Input(shape=(), dtype=tf.string, name=ft)\n",
    "        for ft in sentence_features\n",
    "    ]\n",
    "\n",
    "    # Tokenize the text to word pieces.\n",
    "    bert_preprocess = hub.load(bert_preprocess_path)\n",
    "    tokenizer = hub.KerasLayer(bert_preprocess.tokenize, name=\"tokenizer\")\n",
    "    segments = [tokenizer(s) for s in input_segments]\n",
    "\n",
    "    # Optional: Trim segments in a smart way to fit seq_length.\n",
    "    # Simple cases (like this example) can skip this step and let\n",
    "    # the next step apply a default truncation to approximately equal lengths.\n",
    "    truncated_segments = segments\n",
    "\n",
    "    # Pack inputs. The details (start/end token ids, dict of output tensors)\n",
    "    # are model-dependent, so this gets loaded from the SavedModel.\n",
    "    packer = hub.KerasLayer(\n",
    "        bert_preprocess.bert_pack_inputs,\n",
    "        arguments=dict(seq_length=seq_length),\n",
    "        name=\"packer\",\n",
    "    )\n",
    "    model_inputs = packer(truncated_segments)\n",
    "    return keras.Model(input_segments, model_inputs)"
   ]
  },
  {
   "cell_type": "code",
   "execution_count": 22,
   "id": "23d1c5dd-7f11-4c32-a2c9-51079b733a1d",
   "metadata": {},
   "outputs": [
    {
     "name": "stderr",
     "output_type": "stream",
     "text": [
      "2023-06-01 10:28:32.518234: I tensorflow/core/common_runtime/gpu/gpu_device.cc:1616] Created device /job:localhost/replica:0/task:0/device:GPU:0 with 14615 MB memory:  -> device: 0, name: Tesla V100-SXM2-16GB, pci bus id: 0000:1a:00.0, compute capability: 7.0\n"
     ]
    }
   ],
   "source": [
    "bert_preprocess_model = make_bert_preprocessing_model(['text'])\n",
    "#keras.utils.plot_model(bert_preprocess_model, show_shapes=True, show_dtype=True)"
   ]
  },
  {
   "cell_type": "markdown",
   "id": "fd11ac09-9ba6-4d77-8b41-0db80fec9670",
   "metadata": {},
   "source": [
    "## Running the preprocessor on a sample unit"
   ]
  },
  {
   "cell_type": "code",
   "execution_count": 23,
   "id": "f684f11b-6e29-4d87-bcfd-3569b960e4fa",
   "metadata": {},
   "outputs": [
    {
     "name": "stdout",
     "output_type": "stream",
     "text": [
      "Text: '137', 'tagle *xxvii', 'wen-reeponse, 1966 data set', 'number of', 'percentage of total', 'charmeteristic', 'respondents', 'hespondent set', '(a) age of hoad of household', '142', '4.8%', '(b) lonome of housmhold', '221', '7.4', '(c) numbex of chileren', '39', '1.3', '(a) ecucational attainment', '73', '2.4', 'of hand of household', 'la] faca', '119', '4.0', '(f) fead of household', '24', '0.8', '(father, mother, or other}', '[g] eccupation of head of', '107', '3.6', 'houmehold', 'the total respondant eut is comprised of 2973 househalde.', 'pexcentage distributione for the clenentary gchool districts,', 'the esma procedures wege followed fore the 1969 data bat. a table', 'abowing the nisuing deta pattern fbx 1969 za not given becausa it would', 'be neaxly identical to the 1966 pattern in view of the fact that 97 percent', 'of the 1969 population is derived fxom the 1966 population.', 'reproduced with parmission of the copyright owner. further reproduction prohibiled without permission.'\n"
     ]
    }
   ],
   "source": [
    "idx = np.random.choice(len(train_df))\n",
    "row = train_df.iloc[idx]\n",
    "sample_text  = row[\"text\"].lower()\n",
    "\n",
    "print(f\"Text: {sample_text}\")"
   ]
  },
  {
   "cell_type": "code",
   "execution_count": 24,
   "id": "960916a0-ab97-47dd-8c28-a0f90fa8839e",
   "metadata": {},
   "outputs": [],
   "source": [
    "test_text = [np.array([sample_text])]\n",
    "text_preprocessed = bert_preprocess_model(test_text)"
   ]
  },
  {
   "cell_type": "code",
   "execution_count": 25,
   "id": "3335f6a0-3db8-4813-95a2-2192d67162b7",
   "metadata": {},
   "outputs": [
    {
     "name": "stdout",
     "output_type": "stream",
     "text": [
      "Keys           :  ['input_word_ids', 'input_mask', 'input_type_ids']\n",
      "Shape Word Ids :  (1, 512)\n",
      "Word Ids       :  tf.Tensor(\n",
      "[  101  1005 14989  1005  1010  1005  6415  2571  1008 22038  5737  2072\n",
      "  1005  1010  1005 19181], shape=(16,), dtype=int32)\n",
      "Shape Mask     :  (1, 512)\n",
      "Input Mask     :  tf.Tensor([1 1 1 1 1 1 1 1 1 1 1 1 1 1 1 1], shape=(16,), dtype=int32)\n",
      "Shape Type Ids :  (1, 512)\n",
      "Type Ids       :  tf.Tensor([0 0 0 0 0 0 0 0 0 0 0 0 0 0 0 0], shape=(16,), dtype=int32)\n"
     ]
    }
   ],
   "source": [
    "print(\"Keys           : \", list(text_preprocessed.keys()))\n",
    "print(\"Shape Word Ids : \", text_preprocessed[\"input_word_ids\"].shape)\n",
    "print(\"Word Ids       : \", text_preprocessed[\"input_word_ids\"][0, :16])\n",
    "print(\"Shape Mask     : \", text_preprocessed[\"input_mask\"].shape)\n",
    "print(\"Input Mask     : \", text_preprocessed[\"input_mask\"][0, :16])\n",
    "print(\"Shape Type Ids : \", text_preprocessed[\"input_type_ids\"].shape)\n",
    "print(\"Type Ids       : \", text_preprocessed[\"input_type_ids\"][0, :16])"
   ]
  },
  {
   "cell_type": "code",
   "execution_count": 26,
   "id": "dbfbc844-00ba-4a0f-b6c3-5bfa94046fe9",
   "metadata": {},
   "outputs": [],
   "source": [
    "def dataframe_to_dataset(dataframe):\n",
    "    columns = [\"text\", \"label_idx\"]\n",
    "    dataframe = dataframe[columns].copy()\n",
    "    labels = dataframe.pop(\"label_idx\")\n",
    "    ds = tf.data.Dataset.from_tensor_slices((dict(dataframe), labels))\n",
    "    ds = ds.shuffle(buffer_size=len(dataframe))\n",
    "    return ds"
   ]
  },
  {
   "cell_type": "code",
   "execution_count": 27,
   "id": "92a2f1bc-8e39-420e-98e1-48b5e82cc34d",
   "metadata": {},
   "outputs": [],
   "source": [
    "#resize = (224, 224)\n",
    "bert_input_features = [\"input_word_ids\", \"input_type_ids\", \"input_mask\"]\n",
    "\n",
    "# from keras.preprocessing.image import ImageDataGenerator\n",
    "\n",
    "# def preprocess_image(image_path):\n",
    "\n",
    "#     img_path = tf.io.read_file(image_path)\n",
    "#     image_decode = tf.image.decode_png(img_path, 3)\n",
    "#     image = tf.image.resize(image_decode, resize)\n",
    "#     return image\n",
    "\n",
    "\n",
    "def preprocess_text(text):\n",
    "    text = tf.convert_to_tensor([text])\n",
    "    output = bert_preprocess_model([text])\n",
    "    output = {feature: tf.squeeze(output[feature]) for feature in bert_input_features}\n",
    "    return output\n",
    "\n",
    "\n",
    "def preprocess_text_and_image(sample):\n",
    "    #image_1 = preprocess_image(sample[\"img_path\"])\n",
    "    text = preprocess_text(sample[\"text\"])\n",
    "    return {\"text\": text}"
   ]
  },
  {
   "cell_type": "code",
   "execution_count": 28,
   "id": "f57fe8ed-410d-4a51-af44-226f10588fe5",
   "metadata": {},
   "outputs": [],
   "source": [
    "# example of progressively loading data\n",
    "batch_size = 8\n",
    "auto = tf.data.AUTOTUNE\n",
    "\n",
    "\n",
    "def prepare_dataset(dataframe, training=True):\n",
    "    ds = dataframe_to_dataset(dataframe)\n",
    "    if training:\n",
    "        ds = ds.shuffle(len(train_df))\n",
    "    ds = ds.map(lambda x, y: (preprocess_text_and_image(x), y)).cache()\n",
    "    ds = ds.batch(batch_size).prefetch(auto)\n",
    "    return ds"
   ]
  },
  {
   "cell_type": "code",
   "execution_count": 29,
   "id": "d71c45b7-4cd0-486f-a7c3-c628de437cb3",
   "metadata": {},
   "outputs": [],
   "source": [
    "train_ds = prepare_dataset(train_df)\n",
    "validation_ds = prepare_dataset(val_df, False)\n",
    "test_ds = prepare_dataset(test_df, False)"
   ]
  },
  {
   "cell_type": "code",
   "execution_count": 30,
   "id": "7d7f08f2-5e8b-4ad0-84fb-f2ea668fe9ca",
   "metadata": {},
   "outputs": [
    {
     "data": {
      "text/plain": [
       "<PrefetchDataset element_spec=({'text': {'input_word_ids': TensorSpec(shape=(None, 512), dtype=tf.int32, name=None), 'input_type_ids': TensorSpec(shape=(None, 512), dtype=tf.int32, name=None), 'input_mask': TensorSpec(shape=(None, 512), dtype=tf.int32, name=None)}}, TensorSpec(shape=(None,), dtype=tf.int64, name=None))>"
      ]
     },
     "execution_count": 30,
     "metadata": {},
     "output_type": "execute_result"
    }
   ],
   "source": [
    "train_ds"
   ]
  },
  {
   "cell_type": "code",
   "execution_count": 31,
   "id": "bd013758-e3fd-46d4-8fef-53d437097b5b",
   "metadata": {},
   "outputs": [],
   "source": [
    "def separate_labels(ds):\n",
    "    labels = []\n",
    "    for _, label in tqdm(ds.unbatch(), desc = 'Progress Bar'):\n",
    "        labels.append(label)\n",
    "    labels = np.array(labels)\n",
    "    return labels"
   ]
  },
  {
   "cell_type": "code",
   "execution_count": 32,
   "id": "0948c15c-0d10-4d1c-af0a-1bc53dbf6e1f",
   "metadata": {},
   "outputs": [
    {
     "name": "stdout",
     "output_type": "stream",
     "text": [
      "####### Separating Test Labels ##############\n"
     ]
    },
    {
     "name": "stderr",
     "output_type": "stream",
     "text": [
      "Progress Bar: 3715it [00:04, 783.14it/s]\n"
     ]
    }
   ],
   "source": [
    "print('####### Separating Test Labels ##############')\n",
    "test_labels = separate_labels(test_ds)"
   ]
  },
  {
   "cell_type": "markdown",
   "id": "051e4947-4818-4f09-81c6-40d227d4db58",
   "metadata": {},
   "source": [
    "## Projection Configuration"
   ]
  },
  {
   "cell_type": "code",
   "execution_count": 33,
   "id": "bd0de663-6b03-4e3f-9a1a-1e568df3dab8",
   "metadata": {},
   "outputs": [],
   "source": [
    "def project_embeddings(\n",
    "    embeddings, num_projection_layers, projection_dims, dropout_rate\n",
    "):\n",
    "    projected_embeddings = keras.layers.Dense(units=projection_dims)(embeddings)\n",
    "    for _ in range(num_projection_layers):\n",
    "        x = tf.nn.gelu(projected_embeddings)\n",
    "        x = keras.layers.Dense(projection_dims)(x)\n",
    "        x = keras.layers.Dropout(dropout_rate)(x)\n",
    "        x = keras.layers.Add()([projected_embeddings, x])\n",
    "        projected_embeddings = keras.layers.LayerNormalization()(x)\n",
    "    return projected_embeddings"
   ]
  },
  {
   "cell_type": "markdown",
   "id": "eb3e7926-c9e0-452f-90cd-7bbe2654870e",
   "metadata": {},
   "source": [
    "## Text Encoder"
   ]
  },
  {
   "cell_type": "code",
   "execution_count": 34,
   "id": "7ba597a8-e54a-429c-80d3-5e80188cfb3c",
   "metadata": {},
   "outputs": [],
   "source": [
    "def create_text_encoder(\n",
    "    num_projection_layers, projection_dims, dropout_rate, trainable=False\n",
    "):\n",
    "    # Load the pre-trained BERT model to be used as the base encoder.\n",
    "    bert = hub.KerasLayer(bert_model_path, name=\"bert\",)\n",
    "    # Set the trainability of the base encoder.\n",
    "    bert.trainable = trainable\n",
    "\n",
    "    # Receive the text as inputs.\n",
    "    bert_input_features = [\"input_type_ids\", \"input_mask\", \"input_word_ids\"]\n",
    "    inputs = {\n",
    "        feature: keras.Input(shape=(512,), dtype=tf.int32, name=feature)\n",
    "        for feature in bert_input_features\n",
    "    }\n",
    "\n",
    "    # Generate embeddings for the preprocessed text using the BERT model.\n",
    "    embeddings = bert(inputs)[\"pooled_output\"]\n",
    "\n",
    "    # Project the embeddings produced by the model.\n",
    "    outputs = project_embeddings(\n",
    "        embeddings, num_projection_layers, projection_dims, dropout_rate\n",
    "    )\n",
    "    # Create the text encoder model.\n",
    "    return keras.Model(inputs, outputs, name=\"text_encoder\")"
   ]
  },
  {
   "cell_type": "markdown",
   "id": "91481603-e387-408a-ac77-056c596d8076",
   "metadata": {},
   "source": [
    "## Multimodal"
   ]
  },
  {
   "cell_type": "code",
   "execution_count": 35,
   "id": "09b1a0f4-7ee4-4560-89e8-208aeea76a11",
   "metadata": {},
   "outputs": [
    {
     "name": "stdout",
     "output_type": "stream",
     "text": [
      "Model: \"model_1\"\n",
      "__________________________________________________________________________________________________\n",
      " Layer (type)                   Output Shape         Param #     Connected to                     \n",
      "==================================================================================================\n",
      " input_mask (InputLayer)        [(None, 512)]        0           []                               \n",
      "                                                                                                  \n",
      " input_type_ids (InputLayer)    [(None, 512)]        0           []                               \n",
      "                                                                                                  \n",
      " input_word_ids (InputLayer)    [(None, 512)]        0           []                               \n",
      "                                                                                                  \n",
      " text_encoder (Functional)      (None, 256)          436244481   ['input_mask[0][0]',             \n",
      "                                                                  'input_type_ids[0][0]',         \n",
      "                                                                  'input_word_ids[0][0]']         \n",
      "                                                                                                  \n",
      " dropout_1 (Dropout)            (None, 256)          0           ['text_encoder[0][0]']           \n",
      "                                                                                                  \n",
      " dense_2 (Dense)                (None, 12)           3084        ['dropout_1[0][0]']              \n",
      "                                                                                                  \n",
      "==================================================================================================\n",
      "Total params: 436,247,565\n",
      "Trainable params: 331,788\n",
      "Non-trainable params: 435,915,777\n",
      "__________________________________________________________________________________________________\n"
     ]
    }
   ],
   "source": [
    "def create_multimodal_model(\n",
    "    num_projection_layers=1,\n",
    "    projection_dims=256,\n",
    "    dropout_rate=0.1,\n",
    "    vision_trainable=False,\n",
    "    text_trainable=False,\n",
    "    attention = False\n",
    "):\n",
    "    # Receive the images as inputs.\n",
    "    #image_1 = keras.Input(shape=(224, 224, 3), name=\"image\")\n",
    "\n",
    "    # Receive the text as inputs.\n",
    "    bert_input_features = [\"input_type_ids\", \"input_mask\", \"input_word_ids\"]\n",
    "    text_inputs = {\n",
    "        feature: keras.Input(shape=(512,), dtype=tf.int32, name=feature)\n",
    "        for feature in bert_input_features\n",
    "    }\n",
    "\n",
    "    # Create the encoders.\n",
    "    # vision_encoder = create_vision_encoder(\n",
    "    #     num_projection_layers, projection_dims, dropout_rate, vision_trainable\n",
    "    # )\n",
    "    text_encoder = create_text_encoder(\n",
    "        num_projection_layers, projection_dims, dropout_rate, text_trainable\n",
    "    )\n",
    "\n",
    "    # Fetch the embedding projections.\n",
    "    #vision_projections = vision_encoder([image_1])\n",
    "    text_projections = text_encoder(text_inputs)\n",
    "    \n",
    "    # Cross attention\n",
    "    # if attention:\n",
    "    #     query_value_attention_seq = keras.layers.Attention(use_scale=True, dropout=0.8)(\n",
    "    #         [vision_projections, text_projections]\n",
    "    #     )\n",
    "    \n",
    "    # Dropout\n",
    "    #vision_projections = keras.layers.Dropout(0.8)(vision_projections)\n",
    "    text_projections = keras.layers.Dropout(0.8)(text_projections)\n",
    "\n",
    "    # Concatenate the projections and pass through the classification layer.\n",
    "    # concatenated = keras.layers.Concatenate()([vision_projections, text_projections])\n",
    "    # if attention:\n",
    "    #     concatenated = keras.layers.Concatenate()([concatenated, query_value_attention_seq])\n",
    "    outputs = keras.layers.Dense(12, activation=\"softmax\")(text_projections)\n",
    "    return keras.Model([text_inputs], outputs)\n",
    "\n",
    "\n",
    "multimodal_model = create_multimodal_model(attention=False)\n",
    "multimodal_model.summary()"
   ]
  },
  {
   "cell_type": "code",
   "execution_count": 36,
   "id": "dd038060-8bff-47d4-8719-22e21e7590c1",
   "metadata": {},
   "outputs": [],
   "source": [
    "EPOCHS = 40\n",
    "# learning_rate = keras.optimizers.schedules.CosineDecay(\n",
    "#     initial_learning_rate=0.001, decay_steps=train_ds.cardinality() * EPOCHS\n",
    "# )\n",
    "optimizer = tf.keras.optimizers.Adam(\n",
    "    decay=0.004, epsilon=1e-07, clipvalue=2.0, learning_rate=0.001)\n",
    "\n",
    "multimodal_model.compile(\n",
    "    optimizer=optimizer, loss=SparseCategoricalFocalLoss(gamma=2), metrics=\"accuracy\"\n",
    ")"
   ]
  },
  {
   "cell_type": "code",
   "execution_count": 37,
   "id": "53863842-cf5c-4b21-ae5f-5e6c2fa88d4b",
   "metadata": {},
   "outputs": [],
   "source": [
    "checkpoint = tf.keras.callbacks.ModelCheckpoint('multimodal_resNET50BERT_minority-5.h5', monitor='val_loss', save_best_only=True, verbose=1)\n",
    "es = EarlyStopping(monitor='val_loss', patience=10, restore_best_weights=True, mode='min', verbose=1)"
   ]
  },
  {
   "cell_type": "code",
   "execution_count": 38,
   "id": "190ecb6e-c8eb-4710-b6d2-812c7b447ffe",
   "metadata": {},
   "outputs": [
    {
     "name": "stdout",
     "output_type": "stream",
     "text": [
      "Epoch 1/40\n"
     ]
    },
    {
     "name": "stderr",
     "output_type": "stream",
     "text": [
      "2023-05-31 17:26:49.283209: I tensorflow/stream_executor/cuda/cuda_dnn.cc:384] Loaded cuDNN version 8401\n"
     ]
    },
    {
     "name": "stdout",
     "output_type": "stream",
     "text": [
      "1974/1974 [==============================] - ETA: 0s - loss: 1.6212 - accuracy: 0.4138\n",
      "Epoch 1: val_loss improved from inf to 0.75436, saving model to multimodal_resNET50BERT_minority-5.h5\n",
      "1974/1974 [==============================] - 1266s 627ms/step - loss: 1.6212 - accuracy: 0.4138 - val_loss: 0.7544 - val_accuracy: 0.6475\n",
      "Epoch 2/40\n",
      "1974/1974 [==============================] - ETA: 0s - loss: 0.7796 - accuracy: 0.6209\n",
      "Epoch 2: val_loss improved from 0.75436 to 0.52955, saving model to multimodal_resNET50BERT_minority-5.h5\n",
      "1974/1974 [==============================] - 1230s 623ms/step - loss: 0.7796 - accuracy: 0.6209 - val_loss: 0.5296 - val_accuracy: 0.7386\n",
      "Epoch 3/40\n",
      "1974/1974 [==============================] - ETA: 0s - loss: 0.6378 - accuracy: 0.6747\n",
      "Epoch 3: val_loss improved from 0.52955 to 0.48378, saving model to multimodal_resNET50BERT_minority-5.h5\n",
      "1974/1974 [==============================] - 1229s 623ms/step - loss: 0.6378 - accuracy: 0.6747 - val_loss: 0.4838 - val_accuracy: 0.7551\n",
      "Epoch 4/40\n",
      "1974/1974 [==============================] - ETA: 0s - loss: 0.5666 - accuracy: 0.7037\n",
      "Epoch 4: val_loss improved from 0.48378 to 0.44254, saving model to multimodal_resNET50BERT_minority-5.h5\n",
      "1974/1974 [==============================] - 1229s 623ms/step - loss: 0.5666 - accuracy: 0.7037 - val_loss: 0.4425 - val_accuracy: 0.7672\n",
      "Epoch 5/40\n",
      "1974/1974 [==============================] - ETA: 0s - loss: 0.5309 - accuracy: 0.7155\n",
      "Epoch 5: val_loss improved from 0.44254 to 0.42073, saving model to multimodal_resNET50BERT_minority-5.h5\n",
      "1974/1974 [==============================] - 1228s 622ms/step - loss: 0.5309 - accuracy: 0.7155 - val_loss: 0.4207 - val_accuracy: 0.7710\n",
      "Epoch 6/40\n",
      "1974/1974 [==============================] - ETA: 0s - loss: 0.5084 - accuracy: 0.7235\n",
      "Epoch 6: val_loss improved from 0.42073 to 0.41157, saving model to multimodal_resNET50BERT_minority-5.h5\n",
      "1974/1974 [==============================] - 1229s 623ms/step - loss: 0.5084 - accuracy: 0.7235 - val_loss: 0.4116 - val_accuracy: 0.7748\n",
      "Epoch 7/40\n",
      "1974/1974 [==============================] - ETA: 0s - loss: 0.4845 - accuracy: 0.7360\n",
      "Epoch 7: val_loss improved from 0.41157 to 0.39693, saving model to multimodal_resNET50BERT_minority-5.h5\n",
      "1974/1974 [==============================] - 1230s 623ms/step - loss: 0.4845 - accuracy: 0.7360 - val_loss: 0.3969 - val_accuracy: 0.7832\n",
      "Epoch 8/40\n",
      "1974/1974 [==============================] - ETA: 0s - loss: 0.4685 - accuracy: 0.7368\n",
      "Epoch 8: val_loss improved from 0.39693 to 0.38393, saving model to multimodal_resNET50BERT_minority-5.h5\n",
      "1974/1974 [==============================] - 1230s 623ms/step - loss: 0.4685 - accuracy: 0.7368 - val_loss: 0.3839 - val_accuracy: 0.7872\n",
      "Epoch 9/40\n",
      "1974/1974 [==============================] - ETA: 0s - loss: 0.4611 - accuracy: 0.7407\n",
      "Epoch 9: val_loss improved from 0.38393 to 0.37762, saving model to multimodal_resNET50BERT_minority-5.h5\n",
      "1974/1974 [==============================] - 1230s 623ms/step - loss: 0.4611 - accuracy: 0.7407 - val_loss: 0.3776 - val_accuracy: 0.7912\n",
      "Epoch 10/40\n",
      "1974/1974 [==============================] - ETA: 0s - loss: 0.4499 - accuracy: 0.7468\n",
      "Epoch 10: val_loss improved from 0.37762 to 0.37441, saving model to multimodal_resNET50BERT_minority-5.h5\n",
      "1974/1974 [==============================] - 1230s 623ms/step - loss: 0.4499 - accuracy: 0.7468 - val_loss: 0.3744 - val_accuracy: 0.7942\n",
      "Epoch 11/40\n",
      "1974/1974 [==============================] - ETA: 0s - loss: 0.4397 - accuracy: 0.7505\n",
      "Epoch 11: val_loss improved from 0.37441 to 0.36697, saving model to multimodal_resNET50BERT_minority-5.h5\n",
      "1974/1974 [==============================] - 1229s 623ms/step - loss: 0.4397 - accuracy: 0.7505 - val_loss: 0.3670 - val_accuracy: 0.7942\n",
      "Epoch 12/40\n",
      "1974/1974 [==============================] - ETA: 0s - loss: 0.4328 - accuracy: 0.7566\n",
      "Epoch 12: val_loss improved from 0.36697 to 0.36186, saving model to multimodal_resNET50BERT_minority-5.h5\n",
      "1974/1974 [==============================] - 1229s 622ms/step - loss: 0.4328 - accuracy: 0.7566 - val_loss: 0.3619 - val_accuracy: 0.7980\n",
      "Epoch 13/40\n",
      "1974/1974 [==============================] - ETA: 0s - loss: 0.4193 - accuracy: 0.7592\n",
      "Epoch 13: val_loss improved from 0.36186 to 0.35544, saving model to multimodal_resNET50BERT_minority-5.h5\n",
      "1974/1974 [==============================] - 1229s 623ms/step - loss: 0.4193 - accuracy: 0.7592 - val_loss: 0.3554 - val_accuracy: 0.7992\n",
      "Epoch 14/40\n",
      "1974/1974 [==============================] - ETA: 0s - loss: 0.4213 - accuracy: 0.7580\n",
      "Epoch 14: val_loss improved from 0.35544 to 0.35405, saving model to multimodal_resNET50BERT_minority-5.h5\n",
      "1974/1974 [==============================] - 1229s 623ms/step - loss: 0.4213 - accuracy: 0.7580 - val_loss: 0.3540 - val_accuracy: 0.8003\n",
      "Epoch 15/40\n",
      "1974/1974 [==============================] - ETA: 0s - loss: 0.4169 - accuracy: 0.7608\n",
      "Epoch 15: val_loss improved from 0.35405 to 0.35058, saving model to multimodal_resNET50BERT_minority-5.h5\n",
      "1974/1974 [==============================] - 1230s 623ms/step - loss: 0.4169 - accuracy: 0.7608 - val_loss: 0.3506 - val_accuracy: 0.8013\n",
      "Epoch 16/40\n",
      "1974/1974 [==============================] - ETA: 0s - loss: 0.4111 - accuracy: 0.7636\n",
      "Epoch 16: val_loss improved from 0.35058 to 0.34681, saving model to multimodal_resNET50BERT_minority-5.h5\n",
      "1974/1974 [==============================] - 1230s 623ms/step - loss: 0.4111 - accuracy: 0.7636 - val_loss: 0.3468 - val_accuracy: 0.8013\n",
      "Epoch 17/40\n",
      "1974/1974 [==============================] - ETA: 0s - loss: 0.4043 - accuracy: 0.7685\n",
      "Epoch 17: val_loss improved from 0.34681 to 0.34451, saving model to multimodal_resNET50BERT_minority-5.h5\n",
      "1974/1974 [==============================] - 1231s 623ms/step - loss: 0.4043 - accuracy: 0.7685 - val_loss: 0.3445 - val_accuracy: 0.8047\n",
      "Epoch 18/40\n",
      "1974/1974 [==============================] - ETA: 0s - loss: 0.4024 - accuracy: 0.7649\n",
      "Epoch 18: val_loss improved from 0.34451 to 0.34417, saving model to multimodal_resNET50BERT_minority-5.h5\n",
      "1974/1974 [==============================] - 1231s 623ms/step - loss: 0.4024 - accuracy: 0.7649 - val_loss: 0.3442 - val_accuracy: 0.8094\n",
      "Epoch 19/40\n",
      "1974/1974 [==============================] - ETA: 0s - loss: 0.3975 - accuracy: 0.7685\n",
      "Epoch 19: val_loss improved from 0.34417 to 0.34148, saving model to multimodal_resNET50BERT_minority-5.h5\n",
      "1974/1974 [==============================] - 1231s 623ms/step - loss: 0.3975 - accuracy: 0.7685 - val_loss: 0.3415 - val_accuracy: 0.8100\n",
      "Epoch 20/40\n",
      "1974/1974 [==============================] - ETA: 0s - loss: 0.3953 - accuracy: 0.7693\n",
      "Epoch 20: val_loss improved from 0.34148 to 0.33756, saving model to multimodal_resNET50BERT_minority-5.h5\n",
      "1974/1974 [==============================] - 1231s 623ms/step - loss: 0.3953 - accuracy: 0.7693 - val_loss: 0.3376 - val_accuracy: 0.8104\n",
      "Epoch 21/40\n",
      "1974/1974 [==============================] - ETA: 0s - loss: 0.3927 - accuracy: 0.7707\n",
      "Epoch 21: val_loss improved from 0.33756 to 0.33427, saving model to multimodal_resNET50BERT_minority-5.h5\n",
      "1974/1974 [==============================] - 1230s 623ms/step - loss: 0.3927 - accuracy: 0.7707 - val_loss: 0.3343 - val_accuracy: 0.8104\n",
      "Epoch 22/40\n",
      "1974/1974 [==============================] - ETA: 0s - loss: 0.3924 - accuracy: 0.7716\n",
      "Epoch 22: val_loss did not improve from 0.33427\n",
      "1974/1974 [==============================] - 1212s 614ms/step - loss: 0.3924 - accuracy: 0.7716 - val_loss: 0.3343 - val_accuracy: 0.8108\n",
      "Epoch 23/40\n",
      "1974/1974 [==============================] - ETA: 0s - loss: 0.3858 - accuracy: 0.7792\n",
      "Epoch 23: val_loss improved from 0.33427 to 0.33240, saving model to multimodal_resNET50BERT_minority-5.h5\n",
      "1974/1974 [==============================] - 1230s 623ms/step - loss: 0.3858 - accuracy: 0.7792 - val_loss: 0.3324 - val_accuracy: 0.8119\n",
      "Epoch 24/40\n",
      "1974/1974 [==============================] - ETA: 0s - loss: 0.3868 - accuracy: 0.7767\n",
      "Epoch 24: val_loss improved from 0.33240 to 0.33003, saving model to multimodal_resNET50BERT_minority-5.h5\n",
      "1974/1974 [==============================] - 1230s 623ms/step - loss: 0.3868 - accuracy: 0.7767 - val_loss: 0.3300 - val_accuracy: 0.8140\n",
      "Epoch 25/40\n",
      "1974/1974 [==============================] - ETA: 0s - loss: 0.3813 - accuracy: 0.7778\n",
      "Epoch 25: val_loss improved from 0.33003 to 0.32879, saving model to multimodal_resNET50BERT_minority-5.h5\n",
      "1974/1974 [==============================] - 1230s 623ms/step - loss: 0.3813 - accuracy: 0.7778 - val_loss: 0.3288 - val_accuracy: 0.8147\n",
      "Epoch 26/40\n",
      "1974/1974 [==============================] - ETA: 0s - loss: 0.3793 - accuracy: 0.7778\n",
      "Epoch 26: val_loss improved from 0.32879 to 0.32789, saving model to multimodal_resNET50BERT_minority-5.h5\n",
      "1974/1974 [==============================] - 1230s 623ms/step - loss: 0.3793 - accuracy: 0.7778 - val_loss: 0.3279 - val_accuracy: 0.8147\n",
      "Epoch 27/40\n",
      "1974/1974 [==============================] - ETA: 0s - loss: 0.3781 - accuracy: 0.7802\n",
      "Epoch 27: val_loss improved from 0.32789 to 0.32767, saving model to multimodal_resNET50BERT_minority-5.h5\n",
      "1974/1974 [==============================] - 1231s 623ms/step - loss: 0.3781 - accuracy: 0.7802 - val_loss: 0.3277 - val_accuracy: 0.8157\n",
      "Epoch 28/40\n",
      "1974/1974 [==============================] - ETA: 0s - loss: 0.3739 - accuracy: 0.7803\n",
      "Epoch 28: val_loss improved from 0.32767 to 0.32507, saving model to multimodal_resNET50BERT_minority-5.h5\n",
      "1974/1974 [==============================] - 1230s 623ms/step - loss: 0.3739 - accuracy: 0.7803 - val_loss: 0.3251 - val_accuracy: 0.8170\n",
      "Epoch 29/40\n",
      "1974/1974 [==============================] - ETA: 0s - loss: 0.3767 - accuracy: 0.7787\n",
      "Epoch 29: val_loss improved from 0.32507 to 0.32260, saving model to multimodal_resNET50BERT_minority-5.h5\n",
      "1974/1974 [==============================] - 1230s 623ms/step - loss: 0.3767 - accuracy: 0.7787 - val_loss: 0.3226 - val_accuracy: 0.8170\n",
      "Epoch 30/40\n",
      "1974/1974 [==============================] - ETA: 0s - loss: 0.3776 - accuracy: 0.7818\n",
      "Epoch 30: val_loss improved from 0.32260 to 0.32117, saving model to multimodal_resNET50BERT_minority-5.h5\n",
      "1974/1974 [==============================] - 1230s 623ms/step - loss: 0.3776 - accuracy: 0.7818 - val_loss: 0.3212 - val_accuracy: 0.8166\n",
      "Epoch 31/40\n",
      "1974/1974 [==============================] - ETA: 0s - loss: 0.3692 - accuracy: 0.7822\n",
      "Epoch 31: val_loss did not improve from 0.32117\n",
      "1974/1974 [==============================] - 1211s 613ms/step - loss: 0.3692 - accuracy: 0.7822 - val_loss: 0.3219 - val_accuracy: 0.8182\n",
      "Epoch 32/40\n",
      "1974/1974 [==============================] - ETA: 0s - loss: 0.3664 - accuracy: 0.7836\n",
      "Epoch 32: val_loss improved from 0.32117 to 0.32045, saving model to multimodal_resNET50BERT_minority-5.h5\n",
      "1974/1974 [==============================] - 1230s 623ms/step - loss: 0.3664 - accuracy: 0.7836 - val_loss: 0.3204 - val_accuracy: 0.8174\n",
      "Epoch 33/40\n",
      "1974/1974 [==============================] - ETA: 0s - loss: 0.3700 - accuracy: 0.7781\n",
      "Epoch 33: val_loss improved from 0.32045 to 0.31911, saving model to multimodal_resNET50BERT_minority-5.h5\n",
      "1974/1974 [==============================] - 1229s 623ms/step - loss: 0.3700 - accuracy: 0.7781 - val_loss: 0.3191 - val_accuracy: 0.8189\n",
      "Epoch 34/40\n",
      "1974/1974 [==============================] - ETA: 0s - loss: 0.3648 - accuracy: 0.7849\n",
      "Epoch 34: val_loss improved from 0.31911 to 0.31861, saving model to multimodal_resNET50BERT_minority-5.h5\n",
      "1974/1974 [==============================] - 1230s 623ms/step - loss: 0.3648 - accuracy: 0.7849 - val_loss: 0.3186 - val_accuracy: 0.8203\n",
      "Epoch 35/40\n",
      "1974/1974 [==============================] - ETA: 0s - loss: 0.3664 - accuracy: 0.7846\n",
      "Epoch 35: val_loss improved from 0.31861 to 0.31841, saving model to multimodal_resNET50BERT_minority-5.h5\n",
      "1974/1974 [==============================] - 1230s 623ms/step - loss: 0.3664 - accuracy: 0.7846 - val_loss: 0.3184 - val_accuracy: 0.8204\n",
      "Epoch 36/40\n",
      "1974/1974 [==============================] - ETA: 0s - loss: 0.3637 - accuracy: 0.7868\n",
      "Epoch 36: val_loss improved from 0.31841 to 0.31681, saving model to multimodal_resNET50BERT_minority-5.h5\n",
      "1974/1974 [==============================] - 1230s 623ms/step - loss: 0.3637 - accuracy: 0.7868 - val_loss: 0.3168 - val_accuracy: 0.8180\n",
      "Epoch 37/40\n",
      "1974/1974 [==============================] - ETA: 0s - loss: 0.3609 - accuracy: 0.7921\n",
      "Epoch 37: val_loss improved from 0.31681 to 0.31638, saving model to multimodal_resNET50BERT_minority-5.h5\n",
      "1974/1974 [==============================] - 1230s 623ms/step - loss: 0.3609 - accuracy: 0.7921 - val_loss: 0.3164 - val_accuracy: 0.8201\n",
      "Epoch 38/40\n",
      "1974/1974 [==============================] - ETA: 0s - loss: 0.3584 - accuracy: 0.7859\n",
      "Epoch 38: val_loss improved from 0.31638 to 0.31478, saving model to multimodal_resNET50BERT_minority-5.h5\n",
      "1974/1974 [==============================] - 1230s 623ms/step - loss: 0.3584 - accuracy: 0.7859 - val_loss: 0.3148 - val_accuracy: 0.8201\n",
      "Epoch 39/40\n",
      "1974/1974 [==============================] - ETA: 0s - loss: 0.3593 - accuracy: 0.7878\n",
      "Epoch 39: val_loss improved from 0.31478 to 0.31371, saving model to multimodal_resNET50BERT_minority-5.h5\n",
      "1974/1974 [==============================] - 1230s 623ms/step - loss: 0.3593 - accuracy: 0.7878 - val_loss: 0.3137 - val_accuracy: 0.8204\n",
      "Epoch 40/40\n",
      "1974/1974 [==============================] - ETA: 0s - loss: 0.3544 - accuracy: 0.7879\n",
      "Epoch 40: val_loss improved from 0.31371 to 0.31370, saving model to multimodal_resNET50BERT_minority-5.h5\n",
      "1974/1974 [==============================] - 1231s 624ms/step - loss: 0.3544 - accuracy: 0.7879 - val_loss: 0.3137 - val_accuracy: 0.8214\n",
      "Training on GPU took: 819.9886032422384 minutes\n"
     ]
    }
   ],
   "source": [
    "start = time.time()\n",
    "with tf.device('/device:GPU:0'):\n",
    "    history = multimodal_model.fit(train_ds, validation_data=validation_ds, callbacks=[es, checkpoint], epochs=EPOCHS)\n",
    "stop = time.time()\n",
    "print(f'Training on GPU took: {(stop-start)/60} minutes')"
   ]
  },
  {
   "cell_type": "code",
   "execution_count": 39,
   "id": "1dc844ba-107d-4a92-8cae-833d9d3e76c1",
   "metadata": {},
   "outputs": [
    {
     "data": {
      "image/png": "[encoded data removed]",
      "text/plain": [
       "<Figure size 640x480 with 1 Axes>"
      ]
     },
     "metadata": {},
     "output_type": "display_data"
    }
   ],
   "source": [
    "loss_val = history.history['val_loss']\n",
    "loss_train = history.history['loss']\n",
    "plt.plot(loss_train, 'g', label='Training loss')\n",
    "plt.plot(loss_val, 'b', label='validation loss')\n",
    "plt.title('Training and Validation loss')\n",
    "plt.xlabel('Epochs')\n",
    "plt.ylabel('Loss')\n",
    "plt.legend()\n",
    "plt.show()"
   ]
  },
  {
   "cell_type": "code",
   "execution_count": 40,
   "id": "ed08499f-1fe6-4410-9e4c-4c550d5dd1d2",
   "metadata": {},
   "outputs": [
    {
     "data": {
      "image/png": "[encoded data removed]",
      "text/plain": [
       "<Figure size 640x480 with 1 Axes>"
      ]
     },
     "metadata": {},
     "output_type": "display_data"
    }
   ],
   "source": [
    "loss_train = history.history['accuracy']\n",
    "loss_val = history.history['val_accuracy']\n",
    "plt.plot(loss_train, 'g', label='Training Accuracy')\n",
    "plt.plot(loss_val, 'b', label='Validation Accuracy')\n",
    "plt.title('Training and Validation Accuracy')\n",
    "plt.xlabel('Epochs')\n",
    "plt.ylabel('Loss')\n",
    "plt.legend()\n",
    "plt.show()"
   ]
  },
  {
   "cell_type": "code",
   "execution_count": 49,
   "id": "c20c1a6d-a5ac-415c-9b52-317523780c1b",
   "metadata": {},
   "outputs": [],
   "source": [
    "#model = keras.models.load_weights('multimodal_resNET50BERT_minority-3.h5')"
   ]
  },
  {
   "cell_type": "code",
   "execution_count": 36,
   "id": "be1b3eb7-2fab-4523-8aa2-0dc3bbdb4b7d",
   "metadata": {},
   "outputs": [],
   "source": [
    "multimodal_model.load_weights('multimodal_resNET50BERT_minority-5.h5')"
   ]
  },
  {
   "cell_type": "code",
   "execution_count": 42,
   "id": "7c867ddb-f012-4c62-a6ca-04eb5108a245",
   "metadata": {},
   "outputs": [
    {
     "name": "stdout",
     "output_type": "stream",
     "text": [
      "465/465 [==============================] - 214s 460ms/step - loss: 0.3174 - accuracy: 0.8191\n",
      "Accuracy on the test set: 81.91%.\n"
     ]
    }
   ],
   "source": [
    "_, acc = multimodal_model.evaluate(test_ds)\n",
    "print(f\"Accuracy on the test set: {round(acc * 100, 2)}%.\")"
   ]
  },
  {
   "cell_type": "code",
   "execution_count": 37,
   "id": "e3348ec5-2ba1-4987-b60f-f2324a1c89ec",
   "metadata": {},
   "outputs": [],
   "source": [
    "class_names = list(label_map.keys())\n",
    "def detailed_test_eval(model):\n",
    "    prediction_labels = np.argmax(model.predict(test_ds), 1)\n",
    "    print(classification_report(test_labels, prediction_labels, target_names=class_names))\n",
    "    result = pd.DataFrame(confusion_matrix(test_labels, prediction_labels),\n",
    "                        index=class_names, columns=class_names)\n",
    "    result.to_csv('ETDSeg_confusion-matrix-4.csv')\n",
    "    return result"
   ]
  },
  {
   "cell_type": "code",
   "execution_count": 38,
   "id": "abd805ff-dd99-4ed4-ae86-ce6eb20b3652",
   "metadata": {},
   "outputs": [
    {
     "name": "stdout",
     "output_type": "stream",
     "text": [
      "  1/465 [..............................] - ETA: 28:28"
     ]
    },
    {
     "name": "stderr",
     "output_type": "stream",
     "text": [
      "2023-06-01 10:29:54.728280: I tensorflow/stream_executor/cuda/cuda_dnn.cc:384] Loaded cuDNN version 8401\n"
     ]
    },
    {
     "name": "stdout",
     "output_type": "stream",
     "text": [
      "465/465 [==============================] - 215s 455ms/step\n",
      "                       precision    recall  f1-score   support\n",
      "\n",
      "     Label-Appendices       0.78      0.91      0.84      1217\n",
      "  Label-ReferenceList       0.92      0.94      0.93       485\n",
      "          Label-Other       0.56      0.36      0.44       354\n",
      " Label-TableofContent       0.79      0.82      0.80       168\n",
      "      Label-TitlePage       0.86      0.96      0.91       157\n",
      "       Label-Abstract       0.65      0.47      0.54       164\n",
      "  Label-ListofFigures       0.74      0.69      0.72       176\n",
      "Label-Acknowledgement       0.92      0.87      0.90       163\n",
      "   Label-ListofTables       0.83      0.57      0.67       166\n",
      "Label-CurriculumVitae       0.97      0.98      0.97       297\n",
      "     Label-Dedication       0.95      0.91      0.93       160\n",
      "Label-ChapterAbstract       0.87      0.96      0.91       208\n",
      "\n",
      "             accuracy                           0.82      3715\n",
      "            macro avg       0.82      0.79      0.80      3715\n",
      "         weighted avg       0.81      0.82      0.81      3715\n",
      "\n"
     ]
    },
    {
     "data": {
      "text/html": [
       "<div>\n",
       "<style scoped>\n",
       "    .dataframe tbody tr th:only-of-type {\n",
       "        vertical-align: middle;\n",
       "    }\n",
       "\n",
       "    .dataframe tbody tr th {\n",
       "        vertical-align: top;\n",
       "    }\n",
       "\n",
       "    .dataframe thead th {\n",
       "        text-align: right;\n",
       "    }\n",
       "</style>\n",
       "<table border=\"1\" class=\"dataframe\">\n",
       "  <thead>\n",
       "    <tr style=\"text-align: right;\">\n",
       "      <th></th>\n",
       "      <th>Label-Appendices</th>\n",
       "      <th>Label-ReferenceList</th>\n",
       "      <th>Label-Other</th>\n",
       "      <th>Label-TableofContent</th>\n",
       "      <th>Label-TitlePage</th>\n",
       "      <th>Label-Abstract</th>\n",
       "      <th>Label-ListofFigures</th>\n",
       "      <th>Label-Acknowledgement</th>\n",
       "      <th>Label-ListofTables</th>\n",
       "      <th>Label-CurriculumVitae</th>\n",
       "      <th>Label-Dedication</th>\n",
       "      <th>Label-ChapterAbstract</th>\n",
       "    </tr>\n",
       "  </thead>\n",
       "  <tbody>\n",
       "    <tr>\n",
       "      <th>Label-Appendices</th>\n",
       "      <td>1103</td>\n",
       "      <td>20</td>\n",
       "      <td>50</td>\n",
       "      <td>6</td>\n",
       "      <td>3</td>\n",
       "      <td>18</td>\n",
       "      <td>3</td>\n",
       "      <td>3</td>\n",
       "      <td>6</td>\n",
       "      <td>2</td>\n",
       "      <td>2</td>\n",
       "      <td>1</td>\n",
       "    </tr>\n",
       "    <tr>\n",
       "      <th>Label-ReferenceList</th>\n",
       "      <td>22</td>\n",
       "      <td>454</td>\n",
       "      <td>3</td>\n",
       "      <td>0</td>\n",
       "      <td>1</td>\n",
       "      <td>0</td>\n",
       "      <td>0</td>\n",
       "      <td>0</td>\n",
       "      <td>0</td>\n",
       "      <td>1</td>\n",
       "      <td>4</td>\n",
       "      <td>0</td>\n",
       "    </tr>\n",
       "    <tr>\n",
       "      <th>Label-Other</th>\n",
       "      <td>142</td>\n",
       "      <td>17</td>\n",
       "      <td>128</td>\n",
       "      <td>6</td>\n",
       "      <td>18</td>\n",
       "      <td>17</td>\n",
       "      <td>10</td>\n",
       "      <td>4</td>\n",
       "      <td>5</td>\n",
       "      <td>7</td>\n",
       "      <td>0</td>\n",
       "      <td>0</td>\n",
       "    </tr>\n",
       "    <tr>\n",
       "      <th>Label-TableofContent</th>\n",
       "      <td>20</td>\n",
       "      <td>0</td>\n",
       "      <td>1</td>\n",
       "      <td>138</td>\n",
       "      <td>0</td>\n",
       "      <td>0</td>\n",
       "      <td>6</td>\n",
       "      <td>0</td>\n",
       "      <td>3</td>\n",
       "      <td>0</td>\n",
       "      <td>0</td>\n",
       "      <td>0</td>\n",
       "    </tr>\n",
       "    <tr>\n",
       "      <th>Label-TitlePage</th>\n",
       "      <td>4</td>\n",
       "      <td>0</td>\n",
       "      <td>2</td>\n",
       "      <td>0</td>\n",
       "      <td>151</td>\n",
       "      <td>0</td>\n",
       "      <td>0</td>\n",
       "      <td>0</td>\n",
       "      <td>0</td>\n",
       "      <td>0</td>\n",
       "      <td>0</td>\n",
       "      <td>0</td>\n",
       "    </tr>\n",
       "    <tr>\n",
       "      <th>Label-Abstract</th>\n",
       "      <td>33</td>\n",
       "      <td>0</td>\n",
       "      <td>25</td>\n",
       "      <td>0</td>\n",
       "      <td>2</td>\n",
       "      <td>77</td>\n",
       "      <td>0</td>\n",
       "      <td>0</td>\n",
       "      <td>0</td>\n",
       "      <td>0</td>\n",
       "      <td>0</td>\n",
       "      <td>27</td>\n",
       "    </tr>\n",
       "    <tr>\n",
       "      <th>Label-ListofFigures</th>\n",
       "      <td>33</td>\n",
       "      <td>0</td>\n",
       "      <td>2</td>\n",
       "      <td>14</td>\n",
       "      <td>0</td>\n",
       "      <td>0</td>\n",
       "      <td>122</td>\n",
       "      <td>0</td>\n",
       "      <td>5</td>\n",
       "      <td>0</td>\n",
       "      <td>0</td>\n",
       "      <td>0</td>\n",
       "    </tr>\n",
       "    <tr>\n",
       "      <th>Label-Acknowledgement</th>\n",
       "      <td>10</td>\n",
       "      <td>0</td>\n",
       "      <td>8</td>\n",
       "      <td>0</td>\n",
       "      <td>0</td>\n",
       "      <td>0</td>\n",
       "      <td>0</td>\n",
       "      <td>142</td>\n",
       "      <td>0</td>\n",
       "      <td>0</td>\n",
       "      <td>2</td>\n",
       "      <td>1</td>\n",
       "    </tr>\n",
       "    <tr>\n",
       "      <th>Label-ListofTables</th>\n",
       "      <td>36</td>\n",
       "      <td>0</td>\n",
       "      <td>2</td>\n",
       "      <td>11</td>\n",
       "      <td>0</td>\n",
       "      <td>0</td>\n",
       "      <td>23</td>\n",
       "      <td>0</td>\n",
       "      <td>94</td>\n",
       "      <td>0</td>\n",
       "      <td>0</td>\n",
       "      <td>0</td>\n",
       "    </tr>\n",
       "    <tr>\n",
       "      <th>Label-CurriculumVitae</th>\n",
       "      <td>0</td>\n",
       "      <td>2</td>\n",
       "      <td>4</td>\n",
       "      <td>0</td>\n",
       "      <td>0</td>\n",
       "      <td>0</td>\n",
       "      <td>0</td>\n",
       "      <td>1</td>\n",
       "      <td>0</td>\n",
       "      <td>290</td>\n",
       "      <td>0</td>\n",
       "      <td>0</td>\n",
       "    </tr>\n",
       "    <tr>\n",
       "      <th>Label-Dedication</th>\n",
       "      <td>7</td>\n",
       "      <td>0</td>\n",
       "      <td>4</td>\n",
       "      <td>0</td>\n",
       "      <td>0</td>\n",
       "      <td>0</td>\n",
       "      <td>0</td>\n",
       "      <td>4</td>\n",
       "      <td>0</td>\n",
       "      <td>0</td>\n",
       "      <td>145</td>\n",
       "      <td>0</td>\n",
       "    </tr>\n",
       "    <tr>\n",
       "      <th>Label-ChapterAbstract</th>\n",
       "      <td>1</td>\n",
       "      <td>0</td>\n",
       "      <td>1</td>\n",
       "      <td>0</td>\n",
       "      <td>0</td>\n",
       "      <td>7</td>\n",
       "      <td>0</td>\n",
       "      <td>0</td>\n",
       "      <td>0</td>\n",
       "      <td>0</td>\n",
       "      <td>0</td>\n",
       "      <td>199</td>\n",
       "    </tr>\n",
       "  </tbody>\n",
       "</table>\n",
       "</div>"
      ],
      "text/plain": [
       "                       Label-Appendices  Label-ReferenceList  Label-Other  \\\n",
       "Label-Appendices                   1103                   20           50   \n",
       "Label-ReferenceList                  22                  454            3   \n",
       "Label-Other                         142                   17          128   \n",
       "Label-TableofContent                 20                    0            1   \n",
       "Label-TitlePage                       4                    0            2   \n",
       "Label-Abstract                       33                    0           25   \n",
       "Label-ListofFigures                  33                    0            2   \n",
       "Label-Acknowledgement                10                    0            8   \n",
       "Label-ListofTables                   36                    0            2   \n",
       "Label-CurriculumVitae                 0                    2            4   \n",
       "Label-Dedication                      7                    0            4   \n",
       "Label-ChapterAbstract                 1                    0            1   \n",
       "\n",
       "                       Label-TableofContent  Label-TitlePage  Label-Abstract  \\\n",
       "Label-Appendices                          6                3              18   \n",
       "Label-ReferenceList                       0                1               0   \n",
       "Label-Other                               6               18              17   \n",
       "Label-TableofContent                    138                0               0   \n",
       "Label-TitlePage                           0              151               0   \n",
       "Label-Abstract                            0                2              77   \n",
       "Label-ListofFigures                      14                0               0   \n",
       "Label-Acknowledgement                     0                0               0   \n",
       "Label-ListofTables                       11                0               0   \n",
       "Label-CurriculumVitae                     0                0               0   \n",
       "Label-Dedication                          0                0               0   \n",
       "Label-ChapterAbstract                     0                0               7   \n",
       "\n",
       "                       Label-ListofFigures  Label-Acknowledgement  \\\n",
       "Label-Appendices                         3                      3   \n",
       "Label-ReferenceList                      0                      0   \n",
       "Label-Other                             10                      4   \n",
       "Label-TableofContent                     6                      0   \n",
       "Label-TitlePage                          0                      0   \n",
       "Label-Abstract                           0                      0   \n",
       "Label-ListofFigures                    122                      0   \n",
       "Label-Acknowledgement                    0                    142   \n",
       "Label-ListofTables                      23                      0   \n",
       "Label-CurriculumVitae                    0                      1   \n",
       "Label-Dedication                         0                      4   \n",
       "Label-ChapterAbstract                    0                      0   \n",
       "\n",
       "                       Label-ListofTables  Label-CurriculumVitae  \\\n",
       "Label-Appendices                        6                      2   \n",
       "Label-ReferenceList                     0                      1   \n",
       "Label-Other                             5                      7   \n",
       "Label-TableofContent                    3                      0   \n",
       "Label-TitlePage                         0                      0   \n",
       "Label-Abstract                          0                      0   \n",
       "Label-ListofFigures                     5                      0   \n",
       "Label-Acknowledgement                   0                      0   \n",
       "Label-ListofTables                     94                      0   \n",
       "Label-CurriculumVitae                   0                    290   \n",
       "Label-Dedication                        0                      0   \n",
       "Label-ChapterAbstract                   0                      0   \n",
       "\n",
       "                       Label-Dedication  Label-ChapterAbstract  \n",
       "Label-Appendices                      2                      1  \n",
       "Label-ReferenceList                   4                      0  \n",
       "Label-Other                           0                      0  \n",
       "Label-TableofContent                  0                      0  \n",
       "Label-TitlePage                       0                      0  \n",
       "Label-Abstract                        0                     27  \n",
       "Label-ListofFigures                   0                      0  \n",
       "Label-Acknowledgement                 2                      1  \n",
       "Label-ListofTables                    0                      0  \n",
       "Label-CurriculumVitae                 0                      0  \n",
       "Label-Dedication                    145                      0  \n",
       "Label-ChapterAbstract                 0                    199  "
      ]
     },
     "execution_count": 38,
     "metadata": {},
     "output_type": "execute_result"
    }
   ],
   "source": [
    "detailed_test_eval(multimodal_model)"
   ]
  },
  {
   "cell_type": "code",
   "execution_count": null,
   "id": "e020ffe6-9bc6-47cf-8793-861bc92fd1ea",
   "metadata": {},
   "outputs": [],
   "source": []
  }
 ],
 "metadata": {
  "kernelspec": {
   "display_name": "Python 3 (ipykernel)",
   "language": "python",
   "name": "python3"
  },
  "language_info": {
   "codemirror_mode": {
    "name": "ipython",
    "version": 3
   },
   "file_extension": ".py",
   "mimetype": "text/x-python",
   "name": "python",
   "nbconvert_exporter": "python",
   "pygments_lexer": "ipython3",
   "version": "3.7.13"
  }
 },
 "nbformat": 4,
 "nbformat_minor": 5
}
