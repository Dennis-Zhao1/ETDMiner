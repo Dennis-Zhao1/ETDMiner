{
 "cells": [
  {
   "cell_type": "markdown",
   "metadata": {},
   "source": [
    "#### Importing Libraries"
   ]
  },
  {
   "cell_type": "code",
   "execution_count": 1,
   "metadata": {},
   "outputs": [],
   "source": [
    "#!pip install Pillow --upgrade"
   ]
  },
  {
   "cell_type": "code",
   "execution_count": 2,
   "metadata": {},
   "outputs": [],
   "source": [
    "#!pip install keras-adamw"
   ]
  },
  {
   "cell_type": "code",
   "execution_count": 3,
   "metadata": {},
   "outputs": [
    {
     "name": "stdout",
     "output_type": "stream",
     "text": [
      "Requirement already satisfied: tensorflow-addons in ./envs/default-tensorflow-gpu-2.4.1/lib/python3.7/site-packages (0.19.0)\n",
      "Requirement already satisfied: packaging in ./envs/default-tensorflow-gpu-2.4.1/lib/python3.7/site-packages (from tensorflow-addons) (21.3)\n",
      "Requirement already satisfied: typeguard>=2.7 in ./envs/default-tensorflow-gpu-2.4.1/lib/python3.7/site-packages (from tensorflow-addons) (2.13.3)\n",
      "Requirement already satisfied: pyparsing!=3.0.5,>=2.0.2 in /opt/conda/lib/python3.7/site-packages (from packaging->tensorflow-addons) (2.4.7)\n"
     ]
    }
   ],
   "source": [
    "#!pip install tensorflow-addons"
   ]
  },
  {
   "cell_type": "code",
   "execution_count": 1,
   "metadata": {},
   "outputs": [
    {
     "name": "stderr",
     "output_type": "stream",
     "text": [
      "2023-05-05 10:40:26.236283: I tensorflow/core/platform/cpu_feature_guard.cc:193] This TensorFlow binary is optimized with oneAPI Deep Neural Network Library (oneDNN) to use the following CPU instructions in performance-critical operations:  AVX2 AVX512F FMA\n",
      "To enable them in other operations, rebuild TensorFlow with the appropriate compiler flags.\n",
      "2023-05-05 10:40:29.014361: E tensorflow/stream_executor/cuda/cuda_blas.cc:2981] Unable to register cuBLAS factory: Attempting to register factory for plugin cuBLAS when one has already been registered\n",
      "Intel(R) Extension for Scikit-learn* enabled (https://github.com/intel/scikit-learn-intelex)\n",
      "/opt/conda/lib/python3.7/site-packages/sklearn/_distributor_init.py:25: FutureWarning: \n",
      "USE_DAAL4PY_SKLEARN variable is deprecated for Intel(R) Extension for Scikit-learn\n",
      "and will be delete in the 2022.1 release.\n",
      "Please, use new construction of global patching:\n",
      "python sklearnex.glob patch_sklearn\n",
      "Read more: https://intel.github.io/scikit-learn-intelex/global_patching.html\n",
      "  FutureWarning)\n"
     ]
    }
   ],
   "source": [
    "#impoting libraries\n",
    "import os\n",
    "import sys\n",
    "from tensorflow.keras.models import Sequential\n",
    "from tensorflow.keras.utils import to_categorical\n",
    "from sklearn.preprocessing import LabelEncoder\n",
    "from tensorflow.keras.preprocessing import image\n",
    "from tensorflow.keras.preprocessing.image import ImageDataGenerator\n",
    "import numpy as np\n",
    "import pandas as pd\n",
    "import re\n",
    "import glob\n",
    "#import cv2\n",
    "import matplotlib.pyplot as plt\n",
    "from sklearn.model_selection import train_test_split\n",
    "from tqdm import tqdm\n",
    "from tensorflow import keras\n",
    "from tensorflow.keras.models import Sequential\n",
    "get_ipython().magic('matplotlib inline')\n",
    "from tensorflow.keras.callbacks import EarlyStopping\n",
    "\n",
    "\n",
    "from tensorflow.keras.applications.vgg16 import VGG16\n",
    "from tensorflow.keras.applications.vgg16 import preprocess_input\n",
    "from tensorflow.keras.utils import to_categorical\n",
    "#from tensorflow_addons.optimizers import AdamW\n",
    "\n",
    "from tensorflow.keras.optimizers import SGD\n",
    "from tensorflow.keras.optimizers import Adam\n",
    "\n",
    "from tensorflow.keras.layers import Input, Dense, Convolution2D, MaxPooling2D, AveragePooling2D, ZeroPadding2D, Dropout, Flatten, Reshape, Activation\n",
    "\n",
    "from sklearn.metrics import log_loss\n",
    "from tensorflow.keras.models import Model\n",
    "import csv\n",
    "from tensorflow.keras import backend as K"
   ]
  },
  {
   "cell_type": "code",
   "execution_count": 5,
   "metadata": {},
   "outputs": [],
   "source": [
    "# # The function below will sort the files in numberical order \n",
    "# numbers = re.compile(r'(\\d+)')\n",
    "# def numericalSort(value):\n",
    "#     parts = numbers.split(value)\n",
    "#     parts[1::2] = map(int, parts[1::2])\n",
    "#     return parts"
   ]
  },
  {
   "cell_type": "code",
   "execution_count": null,
   "metadata": {},
   "outputs": [],
   "source": [
    "# directory = print(len(next(os.walk('/home/mchou001/train/'))[1]))"
   ]
  },
  {
   "cell_type": "code",
   "execution_count": null,
   "metadata": {},
   "outputs": [],
   "source": [
    "# from pathlib import Path \n",
    "# fc= sum(1 for fn in Path('/home/mchou001/train/').glob('**/*.png') if fn.is_file())"
   ]
  },
  {
   "cell_type": "code",
   "execution_count": null,
   "metadata": {},
   "outputs": [],
   "source": [
    "# fc"
   ]
  },
  {
   "cell_type": "code",
   "execution_count": null,
   "metadata": {},
   "outputs": [],
   "source": [
    "#img_path = sorted(glob.glob('/home/mchou001/train/**/*.png'), key = numericalSort) # importing training image files (400 ETDs -- 74,295 images)"
   ]
  },
  {
   "cell_type": "code",
   "execution_count": null,
   "metadata": {},
   "outputs": [],
   "source": [
    "#img_test_path = sorted(glob.glob('/home/mchou001/test/**/*.png'), key = numericalSort) # importing test image files (10 ETDs -- 735 images)"
   ]
  },
  {
   "cell_type": "code",
   "execution_count": null,
   "metadata": {},
   "outputs": [],
   "source": [
    "#classes = pd.read_csv(\"labels_train.csv\")"
   ]
  },
  {
   "cell_type": "code",
   "execution_count": null,
   "metadata": {},
   "outputs": [],
   "source": [
    "#classes.head()"
   ]
  },
  {
   "cell_type": "code",
   "execution_count": null,
   "metadata": {},
   "outputs": [],
   "source": [
    "#labels = classes['labels'] #consist of train_labels"
   ]
  },
  {
   "cell_type": "code",
   "execution_count": null,
   "metadata": {},
   "outputs": [],
   "source": [
    "#labels.value_counts()"
   ]
  },
  {
   "cell_type": "code",
   "execution_count": null,
   "metadata": {},
   "outputs": [],
   "source": [
    "#test_classes = pd.read_csv(\"test_labels.csv\")"
   ]
  },
  {
   "cell_type": "code",
   "execution_count": null,
   "metadata": {},
   "outputs": [],
   "source": [
    "#test_labels = test_classes['labels'] #consist of test_labels"
   ]
  },
  {
   "cell_type": "markdown",
   "metadata": {},
   "source": [
    "#### Map image path and class labels"
   ]
  },
  {
   "cell_type": "code",
   "execution_count": null,
   "metadata": {},
   "outputs": [],
   "source": [
    "#img_path_label_map = list(zip(img_path, labels))"
   ]
  },
  {
   "cell_type": "code",
   "execution_count": null,
   "metadata": {},
   "outputs": [],
   "source": [
    "#img_path_test_label_map = list(zip(img_test_path, labels))"
   ]
  },
  {
   "cell_type": "code",
   "execution_count": null,
   "metadata": {},
   "outputs": [],
   "source": [
    "#df = pd.DataFrame(img_path_label_map, columns = ['img_path', 'labels'])\n",
    "#df.to_csv('train400ETDs.csv', encoding = 'utf-8', index= None)"
   ]
  },
  {
   "cell_type": "code",
   "execution_count": null,
   "metadata": {},
   "outputs": [],
   "source": [
    "#train = pd.read_csv(\"train400ETDs.csv\")"
   ]
  },
  {
   "cell_type": "code",
   "execution_count": 4,
   "metadata": {},
   "outputs": [],
   "source": [
    "train_aug = pd.read_csv(\"train400ETDs.csv\")"
   ]
  },
  {
   "cell_type": "code",
   "execution_count": 5,
   "metadata": {},
   "outputs": [
    {
     "data": {
      "text/html": [
       "<div>\n",
       "<style scoped>\n",
       "    .dataframe tbody tr th:only-of-type {\n",
       "        vertical-align: middle;\n",
       "    }\n",
       "\n",
       "    .dataframe tbody tr th {\n",
       "        vertical-align: top;\n",
       "    }\n",
       "\n",
       "    .dataframe thead th {\n",
       "        text-align: right;\n",
       "    }\n",
       "</style>\n",
       "<table border=\"1\" class=\"dataframe\">\n",
       "  <thead>\n",
       "    <tr style=\"text-align: right;\">\n",
       "      <th></th>\n",
       "      <th>img_path</th>\n",
       "      <th>labels</th>\n",
       "    </tr>\n",
       "  </thead>\n",
       "  <tbody>\n",
       "    <tr>\n",
       "      <th>0</th>\n",
       "      <td>/home/mchou001/train/1/1.png</td>\n",
       "      <td>Label-TitlePage</td>\n",
       "    </tr>\n",
       "    <tr>\n",
       "      <th>1</th>\n",
       "      <td>/home/mchou001/train/1/2.png</td>\n",
       "      <td>Label-Dedication</td>\n",
       "    </tr>\n",
       "    <tr>\n",
       "      <th>2</th>\n",
       "      <td>/home/mchou001/train/1/3.png</td>\n",
       "      <td>Label-Abstract</td>\n",
       "    </tr>\n",
       "    <tr>\n",
       "      <th>3</th>\n",
       "      <td>/home/mchou001/train/1/4.png</td>\n",
       "      <td>Label-Acknowledgement</td>\n",
       "    </tr>\n",
       "    <tr>\n",
       "      <th>4</th>\n",
       "      <td>/home/mchou001/train/1/5.png</td>\n",
       "      <td>Label-TableofContent</td>\n",
       "    </tr>\n",
       "    <tr>\n",
       "      <th>...</th>\n",
       "      <td>...</td>\n",
       "      <td>...</td>\n",
       "    </tr>\n",
       "    <tr>\n",
       "      <th>74290</th>\n",
       "      <td>/home/mchou001/train/400/174.png</td>\n",
       "      <td>Label-ReferenceList</td>\n",
       "    </tr>\n",
       "    <tr>\n",
       "      <th>74291</th>\n",
       "      <td>/home/mchou001/train/400/175.png</td>\n",
       "      <td>Label-ReferenceList</td>\n",
       "    </tr>\n",
       "    <tr>\n",
       "      <th>74292</th>\n",
       "      <td>/home/mchou001/train/400/176.png</td>\n",
       "      <td>Label-ReferenceList</td>\n",
       "    </tr>\n",
       "    <tr>\n",
       "      <th>74293</th>\n",
       "      <td>/home/mchou001/train/400/177.png</td>\n",
       "      <td>Label-ReferenceList</td>\n",
       "    </tr>\n",
       "    <tr>\n",
       "      <th>74294</th>\n",
       "      <td>/home/mchou001/train/400/178.png</td>\n",
       "      <td>Label-Other</td>\n",
       "    </tr>\n",
       "  </tbody>\n",
       "</table>\n",
       "<p>74295 rows × 2 columns</p>\n",
       "</div>"
      ],
      "text/plain": [
       "                               img_path                 labels\n",
       "0          /home/mchou001/train/1/1.png        Label-TitlePage\n",
       "1          /home/mchou001/train/1/2.png       Label-Dedication\n",
       "2          /home/mchou001/train/1/3.png         Label-Abstract\n",
       "3          /home/mchou001/train/1/4.png  Label-Acknowledgement\n",
       "4          /home/mchou001/train/1/5.png   Label-TableofContent\n",
       "...                                 ...                    ...\n",
       "74290  /home/mchou001/train/400/174.png    Label-ReferenceList\n",
       "74291  /home/mchou001/train/400/175.png    Label-ReferenceList\n",
       "74292  /home/mchou001/train/400/176.png    Label-ReferenceList\n",
       "74293  /home/mchou001/train/400/177.png    Label-ReferenceList\n",
       "74294  /home/mchou001/train/400/178.png            Label-Other\n",
       "\n",
       "[74295 rows x 2 columns]"
      ]
     },
     "execution_count": 5,
     "metadata": {},
     "output_type": "execute_result"
    }
   ],
   "source": [
    "train_aug"
   ]
  },
  {
   "cell_type": "code",
   "execution_count": 7,
   "metadata": {},
   "outputs": [
    {
     "data": {
      "text/plain": [
       "Label-Chapters           57001\n",
       "Label-Appendices          8404\n",
       "Label-ReferenceList       2659\n",
       "Label-Other               2587\n",
       "Label-TableofContent       896\n",
       "Label-TitlePage            710\n",
       "Label-Abstract             568\n",
       "Label-ListofFigures        454\n",
       "Label-Acknowledgement      437\n",
       "Label-ListofTables         380\n",
       "Label-CurriculumVitae       77\n",
       "Label-Dedication            62\n",
       "Label-ChapterAbstract       56\n",
       "Label-GeneralAbstract        4\n",
       "Name: labels, dtype: int64"
      ]
     },
     "execution_count": 7,
     "metadata": {},
     "output_type": "execute_result"
    }
   ],
   "source": [
    "classes = train_aug['labels']\n",
    "classes.value_counts()"
   ]
  },
  {
   "cell_type": "code",
   "execution_count": 6,
   "metadata": {},
   "outputs": [],
   "source": [
    "# df = pd.DataFrame(img_path_test_label_map, columns = ['filename', 'labels'])\n",
    "# df.to_csv('test.csv', encoding = 'utf-8', index= None)"
   ]
  },
  {
   "cell_type": "code",
   "execution_count": 8,
   "metadata": {},
   "outputs": [],
   "source": [
    "test = pd.read_csv(\"test200ETDs.csv\")"
   ]
  },
  {
   "cell_type": "code",
   "execution_count": 9,
   "metadata": {},
   "outputs": [
    {
     "data": {
      "text/html": [
       "<div>\n",
       "<style scoped>\n",
       "    .dataframe tbody tr th:only-of-type {\n",
       "        vertical-align: middle;\n",
       "    }\n",
       "\n",
       "    .dataframe tbody tr th {\n",
       "        vertical-align: top;\n",
       "    }\n",
       "\n",
       "    .dataframe thead th {\n",
       "        text-align: right;\n",
       "    }\n",
       "</style>\n",
       "<table border=\"1\" class=\"dataframe\">\n",
       "  <thead>\n",
       "    <tr style=\"text-align: right;\">\n",
       "      <th></th>\n",
       "      <th>img_path</th>\n",
       "      <th>label</th>\n",
       "    </tr>\n",
       "  </thead>\n",
       "  <tbody>\n",
       "    <tr>\n",
       "      <th>0</th>\n",
       "      <td>/home/mchou001/test/401/1.png</td>\n",
       "      <td>Label-TitlePage</td>\n",
       "    </tr>\n",
       "    <tr>\n",
       "      <th>1</th>\n",
       "      <td>/home/mchou001/test/401/2.png</td>\n",
       "      <td>Label-TitlePage</td>\n",
       "    </tr>\n",
       "    <tr>\n",
       "      <th>2</th>\n",
       "      <td>/home/mchou001/test/401/3.png</td>\n",
       "      <td>Label-Other</td>\n",
       "    </tr>\n",
       "    <tr>\n",
       "      <th>3</th>\n",
       "      <td>/home/mchou001/test/401/4.png</td>\n",
       "      <td>Label-Dedication</td>\n",
       "    </tr>\n",
       "    <tr>\n",
       "      <th>4</th>\n",
       "      <td>/home/mchou001/test/401/5.png</td>\n",
       "      <td>Label-Acknowledgement</td>\n",
       "    </tr>\n",
       "    <tr>\n",
       "      <th>...</th>\n",
       "      <td>...</td>\n",
       "      <td>...</td>\n",
       "    </tr>\n",
       "    <tr>\n",
       "      <th>18075</th>\n",
       "      <td>/home/mchou001/test/500/188.png</td>\n",
       "      <td>Label-Appendices</td>\n",
       "    </tr>\n",
       "    <tr>\n",
       "      <th>18076</th>\n",
       "      <td>/home/mchou001/test/500/189.png</td>\n",
       "      <td>Label-Appendices</td>\n",
       "    </tr>\n",
       "    <tr>\n",
       "      <th>18077</th>\n",
       "      <td>/home/mchou001/test/500/190.png</td>\n",
       "      <td>Label-Appendices</td>\n",
       "    </tr>\n",
       "    <tr>\n",
       "      <th>18078</th>\n",
       "      <td>/home/mchou001/test/500/191.png</td>\n",
       "      <td>Label-Appendices</td>\n",
       "    </tr>\n",
       "    <tr>\n",
       "      <th>18079</th>\n",
       "      <td>/home/mchou001/test/500/192.png</td>\n",
       "      <td>Label-Appendices</td>\n",
       "    </tr>\n",
       "  </tbody>\n",
       "</table>\n",
       "<p>18080 rows × 2 columns</p>\n",
       "</div>"
      ],
      "text/plain": [
       "                              img_path                  label\n",
       "0        /home/mchou001/test/401/1.png        Label-TitlePage\n",
       "1        /home/mchou001/test/401/2.png        Label-TitlePage\n",
       "2        /home/mchou001/test/401/3.png            Label-Other\n",
       "3        /home/mchou001/test/401/4.png       Label-Dedication\n",
       "4        /home/mchou001/test/401/5.png  Label-Acknowledgement\n",
       "...                                ...                    ...\n",
       "18075  /home/mchou001/test/500/188.png       Label-Appendices\n",
       "18076  /home/mchou001/test/500/189.png       Label-Appendices\n",
       "18077  /home/mchou001/test/500/190.png       Label-Appendices\n",
       "18078  /home/mchou001/test/500/191.png       Label-Appendices\n",
       "18079  /home/mchou001/test/500/192.png       Label-Appendices\n",
       "\n",
       "[18080 rows x 2 columns]"
      ]
     },
     "execution_count": 9,
     "metadata": {},
     "output_type": "execute_result"
    }
   ],
   "source": [
    "test"
   ]
  },
  {
   "cell_type": "code",
   "execution_count": 10,
   "metadata": {},
   "outputs": [
    {
     "data": {
      "text/plain": [
       "Label-Chapters           14199\n",
       "Label-Appendices          1487\n",
       "Label-ReferenceList        726\n",
       "Label-Other                633\n",
       "Label-TableofContent       218\n",
       "Label-Abstract             209\n",
       "Label-TitlePage            201\n",
       "Label-ListofFigures        132\n",
       "Label-Acknowledgement      106\n",
       "Label-ListofTables          97\n",
       "Label-CurriculumVitae       47\n",
       "Label-Dedication            15\n",
       "Label-ChapterAbstract       10\n",
       "Name: label, dtype: int64"
      ]
     },
     "execution_count": 10,
     "metadata": {},
     "output_type": "execute_result"
    }
   ],
   "source": [
    "test_class = test['label']\n",
    "test_class.value_counts()"
   ]
  },
  {
   "cell_type": "code",
   "execution_count": 10,
   "metadata": {},
   "outputs": [],
   "source": [
    "train_generator = ImageDataGenerator(\n",
    "    preprocessing_function=preprocess_input # VGG16 preprocessing\n",
    ")"
   ]
  },
  {
   "cell_type": "code",
   "execution_count": 11,
   "metadata": {},
   "outputs": [],
   "source": [
    "test_generator = ImageDataGenerator(preprocessing_function=preprocess_input)"
   ]
  },
  {
   "cell_type": "markdown",
   "metadata": {},
   "source": [
    "#### Reading training images and resize it to the VGG16 accepted target size"
   ]
  },
  {
   "cell_type": "code",
   "execution_count": 12,
   "metadata": {},
   "outputs": [
    {
     "name": "stderr",
     "output_type": "stream",
     "text": [
      "100%|██████████| 9980/9980 [54:47<00:00,  3.04it/s]\n"
     ]
    }
   ],
   "source": [
    "train_img = []\n",
    "for i in tqdm(range(len(train_aug))):\n",
    "    img = image.load_img(train_aug['img_path'][i], target_size=(224, 224))\n",
    "    img_arr = image.img_to_array(img)\n",
    "    train_img.append(img_arr)\n",
    "\n",
    "train_img = np.array(train_img)"
   ]
  },
  {
   "cell_type": "code",
   "execution_count": 14,
   "metadata": {},
   "outputs": [],
   "source": [
    "train_arr = np.save('train_10k.npy', train_img)"
   ]
  },
  {
   "cell_type": "code",
   "execution_count": 12,
   "metadata": {},
   "outputs": [],
   "source": [
    "train_img = np.load('train_10k.npy')"
   ]
  },
  {
   "cell_type": "code",
   "execution_count": 13,
   "metadata": {},
   "outputs": [],
   "source": [
    "#traingen = train_generator.flow(train_img,batch_size=32)"
   ]
  },
  {
   "cell_type": "code",
   "execution_count": 14,
   "metadata": {},
   "outputs": [
    {
     "name": "stdout",
     "output_type": "stream",
     "text": [
      "(9980, 224, 224, 3)\n",
      "1502269440\n",
      "9980\n"
     ]
    }
   ],
   "source": [
    "print(train_img.shape)\n",
    "print(train_img.size)\n",
    "print(len(train_img))"
   ]
  },
  {
   "cell_type": "markdown",
   "metadata": {},
   "source": [
    "#### Reading test images and resize it to the VGG16 accepted target size"
   ]
  },
  {
   "cell_type": "code",
   "execution_count": 15,
   "metadata": {},
   "outputs": [
    {
     "name": "stderr",
     "output_type": "stream",
     "text": [
      "100%|██████████| 428/428 [01:00<00:00,  7.12it/s]\n"
     ]
    }
   ],
   "source": [
    "test_img = []\n",
    "for i in tqdm(range(len(test))):\n",
    "    img = image.load_img(test['img_path'][i], target_size = (224,224))\n",
    "    img_arr = image.img_to_array(img)    \n",
    "    test_img.append(img_arr)\n",
    "\n",
    "test_img = np.array(test_img)"
   ]
  },
  {
   "cell_type": "code",
   "execution_count": 16,
   "metadata": {},
   "outputs": [
    {
     "name": "stdout",
     "output_type": "stream",
     "text": [
      "(428, 224, 224, 3)\n",
      "64425984\n",
      "428\n"
     ]
    }
   ],
   "source": [
    "print(test_img.shape)\n",
    "print(test_img.size)\n",
    "print(len(test_img))"
   ]
  },
  {
   "cell_type": "markdown",
   "metadata": {},
   "source": [
    "#### Encoding Train labels to integers"
   ]
  },
  {
   "cell_type": "code",
   "execution_count": 17,
   "metadata": {},
   "outputs": [],
   "source": [
    "y_classes = np.asarray(train_aug['label'])\n",
    "le = LabelEncoder()\n",
    "le.fit(list(y_classes))\n",
    "train_y = le.transform(list(y_classes))\n",
    "labels_and_integers = dict(zip(train_y, y_classes))"
   ]
  },
  {
   "cell_type": "code",
   "execution_count": 18,
   "metadata": {},
   "outputs": [
    {
     "data": {
      "text/plain": [
       "{9: 'Label-TitlePage',\n",
       " 4: 'Label-Dedication',\n",
       " 0: 'Label-Abstract',\n",
       " 1: 'Label-Acknowledgement',\n",
       " 8: 'Label-TableofContent',\n",
       " 5: 'Label-ListofFigures',\n",
       " 6: 'Label-ListofTables',\n",
       " 3: 'Label-Chapters',\n",
       " 2: 'Label-Appendices',\n",
       " 7: 'Label-ReferenceList'}"
      ]
     },
     "execution_count": 18,
     "metadata": {},
     "output_type": "execute_result"
    }
   ],
   "source": [
    "labels_and_integers"
   ]
  },
  {
   "cell_type": "code",
   "execution_count": 19,
   "metadata": {},
   "outputs": [
    {
     "name": "stderr",
     "output_type": "stream",
     "text": [
      "/opt/conda/lib/python3.7/site-packages/sklearn/utils/validation.py:72: FutureWarning: Pass classes=[0 1 2 3 4 5 6 7 8 9], y=[9 4 0 ... 6 6 6] as keyword args. From version 1.0 (renaming of 0.25) passing these as positional arguments will result in an error\n",
      "  \"will result in an error\", FutureWarning)\n"
     ]
    }
   ],
   "source": [
    "from sklearn.utils import class_weight\n",
    "class_weights = class_weight.compute_class_weight('balanced',\n",
    "                                                 np.unique(train_y),\n",
    "                                                 train_y)"
   ]
  },
  {
   "cell_type": "code",
   "execution_count": 20,
   "metadata": {},
   "outputs": [
    {
     "data": {
      "text/plain": [
       "array([0.83305509, 0.86034483, 0.93097015, 0.74700599, 0.98909812,\n",
       "       1.50301205, 1.26010101, 0.84791844, 1.1150838 , 1.47415066])"
      ]
     },
     "execution_count": 20,
     "metadata": {},
     "output_type": "execute_result"
    }
   ],
   "source": [
    "class_weights"
   ]
  },
  {
   "cell_type": "code",
   "execution_count": 21,
   "metadata": {},
   "outputs": [
    {
     "data": {
      "text/plain": [
       "{0: 0.8330550918196995,\n",
       " 1: 0.8603448275862069,\n",
       " 2: 0.9309701492537313,\n",
       " 3: 0.7470059880239521,\n",
       " 4: 0.9890981169474727,\n",
       " 5: 1.5030120481927711,\n",
       " 6: 1.2601010101010102,\n",
       " 7: 0.8479184367034834,\n",
       " 8: 1.1150837988826816,\n",
       " 9: 1.4741506646971936}"
      ]
     },
     "execution_count": 21,
     "metadata": {},
     "output_type": "execute_result"
    }
   ],
   "source": [
    "class_weights_dict = dict(zip(le.transform(list(le.classes_)), class_weights))\n",
    "class_weights_dict"
   ]
  },
  {
   "cell_type": "code",
   "execution_count": 22,
   "metadata": {},
   "outputs": [
    {
     "name": "stdout",
     "output_type": "stream",
     "text": [
      "(9980,)\n",
      "[9 4 0 ... 6 6 6]\n",
      "9980\n"
     ]
    }
   ],
   "source": [
    "print(train_y.shape)\n",
    "print(train_y)\n",
    "print(len(train_y))"
   ]
  },
  {
   "cell_type": "markdown",
   "metadata": {},
   "source": [
    "#### Encoding Test labels to integers"
   ]
  },
  {
   "cell_type": "code",
   "execution_count": 23,
   "metadata": {},
   "outputs": [],
   "source": [
    "test_y_classes = np.asarray(test['label'])\n",
    "le = LabelEncoder()\n",
    "le.fit(list(test_y_classes))\n",
    "test_y = le.transform(list(test_y_classes))\n",
    "labels_and_integers_test = dict(zip(test_y, test_y_classes))"
   ]
  },
  {
   "cell_type": "code",
   "execution_count": 24,
   "metadata": {},
   "outputs": [
    {
     "data": {
      "text/plain": [
       "{9: 'Label-TitlePage',\n",
       " 4: 'Label-Dedication',\n",
       " 1: 'Label-Acknowledgement',\n",
       " 8: 'Label-TableofContent',\n",
       " 6: 'Label-ListofTables',\n",
       " 5: 'Label-ListofFigures',\n",
       " 0: 'Label-Abstract',\n",
       " 3: 'Label-Chapters',\n",
       " 7: 'Label-ReferenceList',\n",
       " 2: 'Label-Appendices'}"
      ]
     },
     "execution_count": 24,
     "metadata": {},
     "output_type": "execute_result"
    }
   ],
   "source": [
    "labels_and_integers_test"
   ]
  },
  {
   "cell_type": "code",
   "execution_count": 25,
   "metadata": {},
   "outputs": [
    {
     "name": "stdout",
     "output_type": "stream",
     "text": [
      "(428,)\n"
     ]
    }
   ],
   "source": [
    "print(test_y.shape)"
   ]
  },
  {
   "cell_type": "code",
   "execution_count": 26,
   "metadata": {},
   "outputs": [
    {
     "name": "stdout",
     "output_type": "stream",
     "text": [
      "[9 9 9 9 9 9 9 9 9 9 9 9 9 9 9 9 9 9 9 9 9 9 9 9 9 9 9 9 9 9 9 9 9 9 9 9 9\n",
      " 9 9 9 9 9 9 9 9 9 9 9 9 9 9 9 9 9 9 9 9 9 9 9 9 9 9 9 9 9 9 9 9 9 9 9 9 9\n",
      " 9 9 9 9 9 9 9 9 9 9 9 9 9 9 9 9 9 9 9 9 9 9 9 9 9 9 9 9 9 9 9 9 9 9 9 9 9\n",
      " 9 9 9 9 9 9 9 9 9 9 9 9 9 9 9 9 9 9 4 4 4 4 4 4 4 4 4 4 4 4 4 4 4 4 4 4 4\n",
      " 4 4 4 4 4 4 4 4 4 4 4 4 4 4 4 4 4 4 4 4 4 4 4 4 4 4 4 4 4 4 4 4 4 4 4 4 4\n",
      " 4 4 4 4 4 4 4 4 4 1 1 1 1 1 1 1 1 1 1 1 1 1 1 1 1 1 1 1 1 1 1 1 1 1 1 1 1\n",
      " 1 1 1 1 1 8 8 8 8 8 8 8 8 8 8 8 8 8 8 8 6 6 6 6 6 6 6 6 6 6 6 6 6 6 6 5 5\n",
      " 5 5 5 5 5 5 5 5 5 5 5 5 5 0 0 0 0 0 0 0 0 0 0 0 0 0 0 0 0 0 0 0 0 0 0 0 0\n",
      " 0 0 0 0 0 0 0 0 0 0 0 0 0 0 0 0 0 0 0 0 0 0 3 3 3 3 3 3 3 3 3 3 3 3 3 3 3\n",
      " 3 3 3 3 3 3 3 3 3 3 3 3 3 3 3 3 3 3 3 3 3 3 3 3 3 3 3 3 3 3 3 3 3 3 3 3 3\n",
      " 3 3 3 3 3 3 3 3 3 3 3 3 3 3 3 3 3 3 3 3 3 3 3 3 3 3 3 3 7 7 7 7 7 7 7 7 7\n",
      " 7 7 7 7 7 7 2 2 2 2 2 2 2 2 2 2 2 2 2 2 2]\n"
     ]
    }
   ],
   "source": [
    "print(test_y)"
   ]
  },
  {
   "cell_type": "markdown",
   "metadata": {},
   "source": [
    "# VGG16 Model"
   ]
  },
  {
   "cell_type": "markdown",
   "metadata": {},
   "source": [
    "### Defining metrics (F1, recall, precision)"
   ]
  },
  {
   "cell_type": "code",
   "execution_count": 27,
   "metadata": {},
   "outputs": [],
   "source": [
    "def recall_m(y_true, y_pred):\n",
    "    true_positives = K.sum(K.round(K.clip(y_true * y_pred, 0, 1)))\n",
    "    possible_positives = K.sum(K.round(K.clip(y_true, 0, 1)))\n",
    "    recall = true_positives / (possible_positives + K.epsilon())\n",
    "    return recall"
   ]
  },
  {
   "cell_type": "code",
   "execution_count": 28,
   "metadata": {},
   "outputs": [],
   "source": [
    "def precision_m(y_true, y_pred):\n",
    "    true_positives = K.sum(K.round(K.clip(y_true * y_pred, 0, 1)))\n",
    "    predicted_positives = K.sum(K.round(K.clip(y_pred, 0, 1)))\n",
    "    precision = true_positives / (predicted_positives + K.epsilon())\n",
    "    return precision"
   ]
  },
  {
   "cell_type": "code",
   "execution_count": 29,
   "metadata": {},
   "outputs": [],
   "source": [
    "def f1_m(y_true, y_pred):\n",
    "    precision = precision_m(y_true, y_pred)\n",
    "    recall = recall_m(y_true, y_pred)\n",
    "    return 2*((precision*recall)/(precision+recall+K.epsilon()))"
   ]
  },
  {
   "cell_type": "code",
   "execution_count": 64,
   "metadata": {},
   "outputs": [],
   "source": [
    "def vgg16_model(input_shape, num_classes):\n",
    "    conv_base = VGG16(weights='imagenet', include_top=False, input_shape=input_shape)\n",
    "    \n",
    "#     fine_tune = 2\n",
    "#     if fine_tune > 0:\n",
    "#         for layer in conv_base.layers[:-fine_tune]:\n",
    "#             layer.trainable = False\n",
    "#     else:\n",
    "#         for layer in conv_base.layers:\n",
    "#             layer.trainable = False\n",
    "            \n",
    "    top_model = conv_base.output\n",
    "    top_model = Flatten(name=\"flatten\")(top_model)\n",
    "    top_model = Dense(4096, activation='relu')(top_model)\n",
    "    top_model = Dense(1072, activation='relu')(top_model)\n",
    "    top_model = Dropout(0.8)(top_model)\n",
    "    output_layer = Dense(num_classes, activation='softmax')(top_model)\n",
    "    model = Model(conv_base.input, output_layer)\n",
    "    \n",
    "    # set the first 10 layers to non-trainable (weights will not be updated)\n",
    "    for layer in model.layers[:10]:\n",
    "        layer.trainable = False\n",
    "    \n",
    "    #optim = Adam(learning_rate = 0.001, epsilon=1e-07, beta_1=0.9, beta_2=0.999)\n",
    "    sgd = SGD(lr=1e-5, decay=1e-6, momentum=0.9, nesterov=True)\n",
    "    model.compile(optimizer=sgd, loss='sparse_categorical_crossentropy', metrics=['accuracy'])\n",
    "    return model"
   ]
  },
  {
   "cell_type": "markdown",
   "metadata": {},
   "source": [
    "#### Split the dataset to train and validation set using cross validation"
   ]
  },
  {
   "cell_type": "code",
   "execution_count": 41,
   "metadata": {},
   "outputs": [
    {
     "name": "stdout",
     "output_type": "stream",
     "text": [
      "TRAIN: [   1    2    3 ... 9977 9978 9979] TEST: [   0    8   11 ... 9956 9967 9974]\n",
      "TRAIN: [   0    1    2 ... 9977 9978 9979] TEST: [   5   21   25 ... 9965 9966 9971]\n",
      "TRAIN: [   0    1    2 ... 9977 9978 9979] TEST: [  17   33   35 ... 9970 9973 9975]\n",
      "TRAIN: [   0    1    2 ... 9976 9977 9978] TEST: [  10   12   22 ... 9933 9968 9979]\n",
      "TRAIN: [   0    2    3 ... 9976 9977 9979] TEST: [   1   15   16 ... 9957 9969 9978]\n",
      "TRAIN: [   0    1    2 ... 9975 9978 9979] TEST: [   3    4    6 ... 9959 9976 9977]\n",
      "TRAIN: [   0    1    3 ... 9977 9978 9979] TEST: [   2    7    9 ... 9937 9946 9972]\n"
     ]
    }
   ],
   "source": [
    "import numpy as np\n",
    "from sklearn.model_selection import StratifiedKFold\n",
    "\n",
    "skf = StratifiedKFold(n_splits=7, shuffle=True, random_state=1)\n",
    "\n",
    "for train_index, test_index in skf.split(train_img, train_y):\n",
    "    print(\"TRAIN:\", train_index, \"TEST:\", test_index)\n",
    "    X_train, X_valid = train_img[train_index], train_img[test_index]\n",
    "    Y_train, Y_valid = train_y[train_index], train_y[test_index]"
   ]
  },
  {
   "cell_type": "code",
   "execution_count": 42,
   "metadata": {},
   "outputs": [
    {
     "data": {
      "text/plain": [
       "(8555, 224, 224, 3)"
      ]
     },
     "execution_count": 42,
     "metadata": {},
     "output_type": "execute_result"
    }
   ],
   "source": [
    "X_train.shape"
   ]
  },
  {
   "cell_type": "code",
   "execution_count": 43,
   "metadata": {},
   "outputs": [
    {
     "data": {
      "text/plain": [
       "(8555,)"
      ]
     },
     "execution_count": 43,
     "metadata": {},
     "output_type": "execute_result"
    }
   ],
   "source": [
    "Y_train.shape"
   ]
  },
  {
   "cell_type": "code",
   "execution_count": 44,
   "metadata": {},
   "outputs": [
    {
     "data": {
      "text/plain": [
       "(1425, 224, 224, 3)"
      ]
     },
     "execution_count": 44,
     "metadata": {},
     "output_type": "execute_result"
    }
   ],
   "source": [
    "X_valid.shape"
   ]
  },
  {
   "cell_type": "code",
   "execution_count": 45,
   "metadata": {},
   "outputs": [
    {
     "data": {
      "text/plain": [
       "(1425,)"
      ]
     },
     "execution_count": 45,
     "metadata": {},
     "output_type": "execute_result"
    }
   ],
   "source": [
    "Y_valid.shape"
   ]
  },
  {
   "cell_type": "code",
   "execution_count": 46,
   "metadata": {},
   "outputs": [
    {
     "data": {
      "text/plain": [
       "(array([0, 1, 2, 3, 4, 5, 6, 7, 8, 9]),\n",
       " array([1026,  995,  919, 1145,  865,  569,  679, 1009,  767,  581]))"
      ]
     },
     "execution_count": 46,
     "metadata": {},
     "output_type": "execute_result"
    }
   ],
   "source": [
    "np.unique(Y_train, return_counts=True)"
   ]
  },
  {
   "cell_type": "code",
   "execution_count": 47,
   "metadata": {},
   "outputs": [
    {
     "data": {
      "text/plain": [
       "(array([0, 1, 2, 3, 4, 5, 6, 7, 8, 9]),\n",
       " array([172, 165, 153, 191, 144,  95, 113, 168, 128,  96]))"
      ]
     },
     "execution_count": 47,
     "metadata": {},
     "output_type": "execute_result"
    }
   ],
   "source": [
    "np.unique(Y_valid, return_counts=True)"
   ]
  },
  {
   "cell_type": "code",
   "execution_count": 48,
   "metadata": {},
   "outputs": [],
   "source": [
    "input_shape = (224, 224, 3)\n",
    "num_classes = 10\n",
    "batch_size = 20\n",
    "nb_epoch = 60"
   ]
  },
  {
   "cell_type": "code",
   "execution_count": 65,
   "metadata": {},
   "outputs": [],
   "source": [
    "model_vgg16 = vgg16_model(input_shape, num_classes)"
   ]
  },
  {
   "cell_type": "code",
   "execution_count": 66,
   "metadata": {},
   "outputs": [
    {
     "name": "stdout",
     "output_type": "stream",
     "text": [
      "Model: \"model_2\"\n",
      "_________________________________________________________________\n",
      "Layer (type)                 Output Shape              Param #   \n",
      "=================================================================\n",
      "input_3 (InputLayer)         [(None, 224, 224, 3)]     0         \n",
      "_________________________________________________________________\n",
      "block1_conv1 (Conv2D)        (None, 224, 224, 64)      1792      \n",
      "_________________________________________________________________\n",
      "block1_conv2 (Conv2D)        (None, 224, 224, 64)      36928     \n",
      "_________________________________________________________________\n",
      "block1_pool (MaxPooling2D)   (None, 112, 112, 64)      0         \n",
      "_________________________________________________________________\n",
      "block2_conv1 (Conv2D)        (None, 112, 112, 128)     73856     \n",
      "_________________________________________________________________\n",
      "block2_conv2 (Conv2D)        (None, 112, 112, 128)     147584    \n",
      "_________________________________________________________________\n",
      "block2_pool (MaxPooling2D)   (None, 56, 56, 128)       0         \n",
      "_________________________________________________________________\n",
      "block3_conv1 (Conv2D)        (None, 56, 56, 256)       295168    \n",
      "_________________________________________________________________\n",
      "block3_conv2 (Conv2D)        (None, 56, 56, 256)       590080    \n",
      "_________________________________________________________________\n",
      "block3_conv3 (Conv2D)        (None, 56, 56, 256)       590080    \n",
      "_________________________________________________________________\n",
      "block3_pool (MaxPooling2D)   (None, 28, 28, 256)       0         \n",
      "_________________________________________________________________\n",
      "block4_conv1 (Conv2D)        (None, 28, 28, 512)       1180160   \n",
      "_________________________________________________________________\n",
      "block4_conv2 (Conv2D)        (None, 28, 28, 512)       2359808   \n",
      "_________________________________________________________________\n",
      "block4_conv3 (Conv2D)        (None, 28, 28, 512)       2359808   \n",
      "_________________________________________________________________\n",
      "block4_pool (MaxPooling2D)   (None, 14, 14, 512)       0         \n",
      "_________________________________________________________________\n",
      "block5_conv1 (Conv2D)        (None, 14, 14, 512)       2359808   \n",
      "_________________________________________________________________\n",
      "block5_conv2 (Conv2D)        (None, 14, 14, 512)       2359808   \n",
      "_________________________________________________________________\n",
      "block5_conv3 (Conv2D)        (None, 14, 14, 512)       2359808   \n",
      "_________________________________________________________________\n",
      "block5_pool (MaxPooling2D)   (None, 7, 7, 512)         0         \n",
      "_________________________________________________________________\n",
      "flatten (Flatten)            (None, 25088)             0         \n",
      "_________________________________________________________________\n",
      "dense_6 (Dense)              (None, 4096)              102764544 \n",
      "_________________________________________________________________\n",
      "dense_7 (Dense)              (None, 1072)              4391984   \n",
      "_________________________________________________________________\n",
      "dropout_2 (Dropout)          (None, 1072)              0         \n",
      "_________________________________________________________________\n",
      "dense_8 (Dense)              (None, 10)                10730     \n",
      "=================================================================\n",
      "Total params: 121,881,946\n",
      "Trainable params: 120,146,458\n",
      "Non-trainable params: 1,735,488\n",
      "_________________________________________________________________\n"
     ]
    }
   ],
   "source": [
    "model_vgg16.summary()"
   ]
  },
  {
   "cell_type": "code",
   "execution_count": 67,
   "metadata": {},
   "outputs": [],
   "source": [
    "es = EarlyStopping(monitor='val_loss', patience=10, restore_best_weights=True, mode='min', verbose=1) # to get the best model"
   ]
  },
  {
   "cell_type": "code",
   "execution_count": 68,
   "metadata": {},
   "outputs": [],
   "source": [
    "traingen = train_generator.flow(X_train, Y_train, batch_size=batch_size)"
   ]
  },
  {
   "cell_type": "code",
   "execution_count": 69,
   "metadata": {},
   "outputs": [],
   "source": [
    "valigen = train_generator.flow(X_valid, Y_valid, batch_size=batch_size)"
   ]
  },
  {
   "cell_type": "code",
   "execution_count": 70,
   "metadata": {},
   "outputs": [
    {
     "name": "stdout",
     "output_type": "stream",
     "text": [
      "Epoch 1/60\n",
      "428/428 [==============================] - 25s 57ms/step - loss: 4.0115 - accuracy: 0.1989 - val_loss: 1.2561 - val_accuracy: 0.6519\n",
      "Epoch 2/60\n",
      "428/428 [==============================] - 24s 56ms/step - loss: 1.4107 - accuracy: 0.5179 - val_loss: 0.8429 - val_accuracy: 0.7235\n",
      "Epoch 3/60\n",
      "428/428 [==============================] - 24s 57ms/step - loss: 1.0106 - accuracy: 0.6645 - val_loss: 0.7361 - val_accuracy: 0.7467\n",
      "Epoch 4/60\n",
      "428/428 [==============================] - 24s 57ms/step - loss: 0.8642 - accuracy: 0.7145 - val_loss: 0.6410 - val_accuracy: 0.7782\n",
      "Epoch 5/60\n",
      "428/428 [==============================] - 24s 57ms/step - loss: 0.8182 - accuracy: 0.7230 - val_loss: 0.6817 - val_accuracy: 0.7509\n",
      "Epoch 6/60\n",
      "428/428 [==============================] - 24s 57ms/step - loss: 0.7189 - accuracy: 0.7567 - val_loss: 0.5822 - val_accuracy: 0.7986\n",
      "Epoch 7/60\n",
      "428/428 [==============================] - 24s 57ms/step - loss: 0.6626 - accuracy: 0.7776 - val_loss: 0.5707 - val_accuracy: 0.7916\n",
      "Epoch 8/60\n",
      "428/428 [==============================] - 24s 57ms/step - loss: 0.6284 - accuracy: 0.7881 - val_loss: 0.5293 - val_accuracy: 0.8119\n",
      "Epoch 9/60\n",
      "428/428 [==============================] - 24s 57ms/step - loss: 0.5966 - accuracy: 0.8006 - val_loss: 0.5337 - val_accuracy: 0.8105\n",
      "Epoch 10/60\n",
      "428/428 [==============================] - 24s 57ms/step - loss: 0.5775 - accuracy: 0.8008 - val_loss: 0.4971 - val_accuracy: 0.8309\n",
      "Epoch 11/60\n",
      "428/428 [==============================] - 24s 57ms/step - loss: 0.5885 - accuracy: 0.8001 - val_loss: 0.5003 - val_accuracy: 0.8154\n",
      "Epoch 12/60\n",
      "428/428 [==============================] - 24s 57ms/step - loss: 0.5411 - accuracy: 0.8133 - val_loss: 0.5196 - val_accuracy: 0.8042\n",
      "Epoch 13/60\n",
      "428/428 [==============================] - 24s 57ms/step - loss: 0.5445 - accuracy: 0.8187 - val_loss: 0.4555 - val_accuracy: 0.8358\n",
      "Epoch 14/60\n",
      "428/428 [==============================] - 24s 57ms/step - loss: 0.4984 - accuracy: 0.8325 - val_loss: 0.4544 - val_accuracy: 0.8414\n",
      "Epoch 15/60\n",
      "428/428 [==============================] - 24s 57ms/step - loss: 0.4831 - accuracy: 0.8312 - val_loss: 0.4423 - val_accuracy: 0.8421\n",
      "Epoch 16/60\n",
      "428/428 [==============================] - 24s 56ms/step - loss: 0.4646 - accuracy: 0.8414 - val_loss: 0.4558 - val_accuracy: 0.8323\n",
      "Epoch 17/60\n",
      "428/428 [==============================] - 24s 56ms/step - loss: 0.4477 - accuracy: 0.8362 - val_loss: 0.4456 - val_accuracy: 0.8309\n",
      "Epoch 18/60\n",
      "428/428 [==============================] - 24s 57ms/step - loss: 0.4333 - accuracy: 0.8464 - val_loss: 0.4571 - val_accuracy: 0.8372\n",
      "Epoch 19/60\n",
      "428/428 [==============================] - 24s 57ms/step - loss: 0.4350 - accuracy: 0.8490 - val_loss: 0.4406 - val_accuracy: 0.8449\n",
      "Epoch 20/60\n",
      "428/428 [==============================] - 24s 57ms/step - loss: 0.4495 - accuracy: 0.8425 - val_loss: 0.4153 - val_accuracy: 0.8512\n",
      "Epoch 21/60\n",
      "428/428 [==============================] - 24s 56ms/step - loss: 0.3949 - accuracy: 0.8665 - val_loss: 0.4090 - val_accuracy: 0.8540\n",
      "Epoch 22/60\n",
      "428/428 [==============================] - 24s 56ms/step - loss: 0.4015 - accuracy: 0.8604 - val_loss: 0.4093 - val_accuracy: 0.8519\n",
      "Epoch 23/60\n",
      "428/428 [==============================] - 24s 57ms/step - loss: 0.3801 - accuracy: 0.8674 - val_loss: 0.3991 - val_accuracy: 0.8582\n",
      "Epoch 24/60\n",
      "428/428 [==============================] - 24s 57ms/step - loss: 0.3493 - accuracy: 0.8741 - val_loss: 0.4089 - val_accuracy: 0.8561\n",
      "Epoch 25/60\n",
      "428/428 [==============================] - 24s 57ms/step - loss: 0.3834 - accuracy: 0.8742 - val_loss: 0.4221 - val_accuracy: 0.8456\n",
      "Epoch 26/60\n",
      "428/428 [==============================] - 24s 56ms/step - loss: 0.3334 - accuracy: 0.8812 - val_loss: 0.3910 - val_accuracy: 0.8582\n",
      "Epoch 27/60\n",
      "428/428 [==============================] - 24s 57ms/step - loss: 0.3242 - accuracy: 0.8897 - val_loss: 0.3974 - val_accuracy: 0.8568\n",
      "Epoch 28/60\n",
      "428/428 [==============================] - 24s 57ms/step - loss: 0.3209 - accuracy: 0.8860 - val_loss: 0.3837 - val_accuracy: 0.8667\n",
      "Epoch 29/60\n",
      "428/428 [==============================] - 24s 56ms/step - loss: 0.3025 - accuracy: 0.8924 - val_loss: 0.3852 - val_accuracy: 0.8660\n",
      "Epoch 30/60\n",
      "428/428 [==============================] - 24s 57ms/step - loss: 0.2958 - accuracy: 0.8939 - val_loss: 0.3940 - val_accuracy: 0.8639\n",
      "Epoch 31/60\n",
      "428/428 [==============================] - 24s 57ms/step - loss: 0.2809 - accuracy: 0.9032 - val_loss: 0.3793 - val_accuracy: 0.8702\n",
      "Epoch 32/60\n",
      "428/428 [==============================] - 24s 57ms/step - loss: 0.2811 - accuracy: 0.9021 - val_loss: 0.3943 - val_accuracy: 0.8575\n",
      "Epoch 33/60\n",
      "428/428 [==============================] - 24s 57ms/step - loss: 0.2772 - accuracy: 0.9043 - val_loss: 0.3669 - val_accuracy: 0.8695\n",
      "Epoch 34/60\n",
      "428/428 [==============================] - 24s 57ms/step - loss: 0.2835 - accuracy: 0.8982 - val_loss: 0.3647 - val_accuracy: 0.8709\n",
      "Epoch 35/60\n",
      "428/428 [==============================] - 24s 56ms/step - loss: 0.2657 - accuracy: 0.9067 - val_loss: 0.3638 - val_accuracy: 0.8723\n",
      "Epoch 36/60\n",
      "428/428 [==============================] - 24s 57ms/step - loss: 0.2481 - accuracy: 0.9134 - val_loss: 0.3632 - val_accuracy: 0.8786\n",
      "Epoch 37/60\n",
      "428/428 [==============================] - 24s 57ms/step - loss: 0.2582 - accuracy: 0.9085 - val_loss: 0.3781 - val_accuracy: 0.8730\n",
      "Epoch 38/60\n",
      "428/428 [==============================] - 24s 57ms/step - loss: 0.2391 - accuracy: 0.9164 - val_loss: 0.3915 - val_accuracy: 0.8709\n",
      "Epoch 39/60\n",
      "428/428 [==============================] - 24s 57ms/step - loss: 0.2229 - accuracy: 0.9205 - val_loss: 0.3751 - val_accuracy: 0.8695\n",
      "Epoch 40/60\n",
      "428/428 [==============================] - 24s 56ms/step - loss: 0.2420 - accuracy: 0.9166 - val_loss: 0.3591 - val_accuracy: 0.8744\n",
      "Epoch 41/60\n",
      "428/428 [==============================] - 24s 56ms/step - loss: 0.2200 - accuracy: 0.9246 - val_loss: 0.3798 - val_accuracy: 0.8737\n",
      "Epoch 42/60\n",
      "428/428 [==============================] - 24s 57ms/step - loss: 0.2142 - accuracy: 0.9254 - val_loss: 0.3645 - val_accuracy: 0.8821\n",
      "Epoch 43/60\n",
      "428/428 [==============================] - 24s 57ms/step - loss: 0.2216 - accuracy: 0.9248 - val_loss: 0.3784 - val_accuracy: 0.8751\n",
      "Epoch 44/60\n",
      "428/428 [==============================] - 24s 57ms/step - loss: 0.2003 - accuracy: 0.9269 - val_loss: 0.3751 - val_accuracy: 0.8695\n",
      "Epoch 45/60\n",
      "428/428 [==============================] - 24s 57ms/step - loss: 0.1893 - accuracy: 0.9345 - val_loss: 0.3525 - val_accuracy: 0.8807\n",
      "Epoch 46/60\n",
      "428/428 [==============================] - 24s 56ms/step - loss: 0.2085 - accuracy: 0.9293 - val_loss: 0.3725 - val_accuracy: 0.8737\n",
      "Epoch 47/60\n",
      "428/428 [==============================] - 24s 57ms/step - loss: 0.1884 - accuracy: 0.9374 - val_loss: 0.3528 - val_accuracy: 0.8849\n",
      "Epoch 48/60\n",
      "428/428 [==============================] - 24s 56ms/step - loss: 0.1868 - accuracy: 0.9372 - val_loss: 0.3634 - val_accuracy: 0.8772\n",
      "Epoch 49/60\n",
      "428/428 [==============================] - 24s 57ms/step - loss: 0.1791 - accuracy: 0.9333 - val_loss: 0.3596 - val_accuracy: 0.8835\n",
      "Epoch 50/60\n",
      "428/428 [==============================] - 24s 57ms/step - loss: 0.1812 - accuracy: 0.9387 - val_loss: 0.3689 - val_accuracy: 0.8723\n",
      "Epoch 51/60\n",
      "428/428 [==============================] - 24s 57ms/step - loss: 0.1702 - accuracy: 0.9407 - val_loss: 0.3562 - val_accuracy: 0.8835\n",
      "Epoch 52/60\n",
      "428/428 [==============================] - 24s 57ms/step - loss: 0.1666 - accuracy: 0.9452 - val_loss: 0.3692 - val_accuracy: 0.8793\n",
      "Epoch 53/60\n",
      "428/428 [==============================] - 24s 57ms/step - loss: 0.1608 - accuracy: 0.9443 - val_loss: 0.3664 - val_accuracy: 0.8807\n",
      "Epoch 54/60\n",
      "428/428 [==============================] - 24s 57ms/step - loss: 0.1636 - accuracy: 0.9460 - val_loss: 0.3817 - val_accuracy: 0.8835\n",
      "Epoch 55/60\n",
      "428/428 [==============================] - 24s 57ms/step - loss: 0.1482 - accuracy: 0.9463 - val_loss: 0.3721 - val_accuracy: 0.8863\n",
      "Restoring model weights from the end of the best epoch.\n",
      "Epoch 00055: early stopping\n"
     ]
    }
   ],
   "source": [
    "vgg_history = model_vgg16.fit(traingen, validation_data = valigen, epochs=nb_epoch, callbacks=[es], class_weight=class_weights_dict)"
   ]
  },
  {
   "cell_type": "code",
   "execution_count": 71,
   "metadata": {},
   "outputs": [],
   "source": [
    "model_vgg16.save('vgg16-ETDclassifier_60epoch_dropout_0.8_sgd_lr1e-5.h5')"
   ]
  },
  {
   "cell_type": "code",
   "execution_count": 72,
   "metadata": {},
   "outputs": [
    {
     "data": {
      "image/png": "[encoded data removed]",
      "text/plain": [
       "<Figure size 432x288 with 1 Axes>"
      ]
     },
     "metadata": {
      "needs_background": "light"
     },
     "output_type": "display_data"
    }
   ],
   "source": [
    "loss_train = vgg_history.history['loss']\n",
    "loss_val = vgg_history.history['val_loss']\n",
    "plt.plot(loss_train, 'g', label='Training loss')\n",
    "plt.plot(loss_val, 'b', label='validation loss')\n",
    "plt.title('Training and Validation loss')\n",
    "plt.xlabel('Epochs')\n",
    "plt.ylabel('Loss')\n",
    "plt.legend()\n",
    "plt.show()"
   ]
  },
  {
   "cell_type": "code",
   "execution_count": 73,
   "metadata": {},
   "outputs": [
    {
     "data": {
      "image/png": "[encoded data removed]",
      "text/plain": [
       "<Figure size 432x288 with 1 Axes>"
      ]
     },
     "metadata": {
      "needs_background": "light"
     },
     "output_type": "display_data"
    }
   ],
   "source": [
    "loss_train = vgg_history.history['accuracy']\n",
    "loss_val = vgg_history.history['val_accuracy']\n",
    "plt.plot(loss_train, 'g', label='Training Accuracy')\n",
    "plt.plot(loss_val, 'b', label='Validation Accuracy')\n",
    "plt.title('Training and Validation Accuracy')\n",
    "plt.xlabel('Epochs')\n",
    "plt.ylabel('Loss')\n",
    "plt.legend()\n",
    "plt.show()"
   ]
  },
  {
   "cell_type": "code",
   "execution_count": 74,
   "metadata": {},
   "outputs": [],
   "source": [
    "model = keras.models.load_model('vgg16-ETDclassifier_60epoch_dropout_0.8_sgd_lr1e-5.h5')"
   ]
  },
  {
   "cell_type": "markdown",
   "metadata": {},
   "source": [
    "## Predict the model on Dev images (i.e., Dev Set)"
   ]
  },
  {
   "cell_type": "code",
   "execution_count": 75,
   "metadata": {},
   "outputs": [
    {
     "name": "stdout",
     "output_type": "stream",
     "text": [
      "72/72 [==============================] - 2s 30ms/step\n"
     ]
    }
   ],
   "source": [
    "y_pred = model.predict(X_valid, batch_size=20, verbose=1)"
   ]
  },
  {
   "cell_type": "code",
   "execution_count": 76,
   "metadata": {},
   "outputs": [],
   "source": [
    "from sklearn.metrics import classification_report\n",
    "y_predict = np.argmax(y_pred, axis=1)"
   ]
  },
  {
   "cell_type": "code",
   "execution_count": 77,
   "metadata": {},
   "outputs": [
    {
     "name": "stdout",
     "output_type": "stream",
     "text": [
      "                       precision    recall  f1-score   support\n",
      "\n",
      "       Label-Abstract       0.99      0.94      0.96       172\n",
      "Label-Acknowledgement       0.99      0.90      0.95       165\n",
      "     Label-Appendices       0.73      0.54      0.62       153\n",
      "       Label-Chapters       0.75      0.71      0.73       191\n",
      "     Label-Dedication       0.99      0.99      0.99       144\n",
      "  Label-ListofFigures       0.87      0.61      0.72        95\n",
      "   Label-ListofTables       0.75      0.86      0.80       113\n",
      "  Label-ReferenceList       0.88      0.94      0.91       168\n",
      " Label-TableofContent       0.70      0.98      0.82       128\n",
      "      Label-TitlePage       0.78      0.97      0.87        96\n",
      "\n",
      "             accuracy                           0.84      1425\n",
      "            macro avg       0.84      0.84      0.84      1425\n",
      "         weighted avg       0.85      0.84      0.84      1425\n",
      "\n"
     ]
    }
   ],
   "source": [
    "print(classification_report(le.inverse_transform(Y_valid), le.inverse_transform(y_predict)))"
   ]
  },
  {
   "cell_type": "markdown",
   "metadata": {},
   "source": [
    "## Predict on unseen test set (ETD500)"
   ]
  },
  {
   "cell_type": "code",
   "execution_count": null,
   "metadata": {},
   "outputs": [],
   "source": [
    "#model = keras.models.load_model('vgg16-ETDclassifier_25epoch_dropout_0.8.h5')"
   ]
  },
  {
   "cell_type": "code",
   "execution_count": 78,
   "metadata": {},
   "outputs": [
    {
     "name": "stdout",
     "output_type": "stream",
     "text": [
      "14/14 [==============================] - 1s 53ms/step\n"
     ]
    }
   ],
   "source": [
    "y_test_pred = model.predict(test_img, verbose=1)"
   ]
  },
  {
   "cell_type": "code",
   "execution_count": 80,
   "metadata": {},
   "outputs": [
    {
     "name": "stdout",
     "output_type": "stream",
     "text": [
      "                       precision    recall  f1-score   support\n",
      "\n",
      "       Label-Abstract       1.00      0.70      0.82        46\n",
      "Label-Acknowledgement       1.00      0.55      0.71        33\n",
      "     Label-Appendices       0.00      0.00      0.00        15\n",
      "       Label-Chapters       0.00      0.00      0.00        80\n",
      "     Label-Dedication       1.00      0.77      0.87        65\n",
      "  Label-ListofFigures       0.00      0.00      0.00        15\n",
      "   Label-ListofTables       0.00      0.00      0.00        15\n",
      "  Label-ReferenceList       0.16      0.93      0.28        15\n",
      " Label-TableofContent       0.21      1.00      0.34        15\n",
      "      Label-TitlePage       0.77      0.98      0.86       129\n",
      "\n",
      "             accuracy                           0.60       428\n",
      "            macro avg       0.41      0.49      0.39       428\n",
      "         weighted avg       0.58      0.60      0.56       428\n",
      "\n"
     ]
    },
    {
     "name": "stderr",
     "output_type": "stream",
     "text": [
      "/opt/conda/lib/python3.7/site-packages/sklearn/metrics/_classification.py:1248: UndefinedMetricWarning: Precision and F-score are ill-defined and being set to 0.0 in labels with no predicted samples. Use `zero_division` parameter to control this behavior.\n",
      "  _warn_prf(average, modifier, msg_start, len(result))\n",
      "/opt/conda/lib/python3.7/site-packages/sklearn/metrics/_classification.py:1248: UndefinedMetricWarning: Precision and F-score are ill-defined and being set to 0.0 in labels with no predicted samples. Use `zero_division` parameter to control this behavior.\n",
      "  _warn_prf(average, modifier, msg_start, len(result))\n",
      "/opt/conda/lib/python3.7/site-packages/sklearn/metrics/_classification.py:1248: UndefinedMetricWarning: Precision and F-score are ill-defined and being set to 0.0 in labels with no predicted samples. Use `zero_division` parameter to control this behavior.\n",
      "  _warn_prf(average, modifier, msg_start, len(result))\n"
     ]
    }
   ],
   "source": [
    "from sklearn.metrics import classification_report\n",
    "from sklearn.metrics import accuracy_score\n",
    "y_test_predicted = np.argmax(y_test_pred, axis=1)\n",
    "print(classification_report(le.inverse_transform(test_y), le.inverse_transform(y_test_predicted)))"
   ]
  },
  {
   "cell_type": "code",
   "execution_count": null,
   "metadata": {},
   "outputs": [],
   "source": [
    "# import tensorflow\n",
    "# score = tensorflow.nn.softmax(y_test_pred[0])\n",
    "# print(\n",
    "#     \"This image most likely belongs to {} with a {:.2f} percent confidence.\"\n",
    "#     .format(test_y[np.argmax(score)], 100 * np.max(score))\n",
    "# )"
   ]
  },
  {
   "cell_type": "code",
   "execution_count": null,
   "metadata": {},
   "outputs": [],
   "source": [
    "# pred = []\n",
    "# for i in range(len(test)):\n",
    "#     img = image.load_img(test['filename'][i], target_size = (224,224))\n",
    "#     predict_labels = test_labels[np.argmax(y_pred, axis=1)]\n",
    "#     pred.append(predict_labels)\n",
    "#     print(predict_labels)\n",
    "#     plt.figure(figsize=(20,10))\n",
    "#     plt.imshow(img)\n",
    "#     plt.show()"
   ]
  },
  {
   "cell_type": "code",
   "execution_count": null,
   "metadata": {},
   "outputs": [],
   "source": [
    "pred_val = pd.DataFrame(pred, columns = ['predicted_label'])\n",
    "pred_val.to_csv('etd_result600.csv', encoding = 'utf-8', index= None)"
   ]
  },
  {
   "cell_type": "code",
   "execution_count": null,
   "metadata": {},
   "outputs": [],
   "source": [
    "df1 = pd.read_csv('etd_result600.csv')\n",
    "df2 = pd.read_csv('test.csv')\n",
    "\n",
    "df3 = df1['predicted_label']\n",
    "df4 = df2['labels']\n",
    "result = pd.concat([df4, df3], axis = 1, sort = False)\n",
    "result.to_csv(\"output_etd600.csv\", index = None, encoding = 'utf-8')"
   ]
  },
  {
   "cell_type": "code",
   "execution_count": null,
   "metadata": {},
   "outputs": [],
   "source": [
    "from sklearn.metrics import accuracy_score\n",
    "acc = accuracy_score(df4, df3)\n",
    "print(\"VGG16 Model Accuracy: {:.2f}%\".format(acc * 100))"
   ]
  },
  {
   "cell_type": "code",
   "execution_count": null,
   "metadata": {},
   "outputs": [],
   "source": [
    "from sklearn.metrics import classification_report"
   ]
  },
  {
   "cell_type": "code",
   "execution_count": null,
   "metadata": {},
   "outputs": [],
   "source": [
    "print(classification_report(test_y, pred))"
   ]
  },
  {
   "cell_type": "code",
   "execution_count": null,
   "metadata": {},
   "outputs": [],
   "source": []
  }
 ],
 "metadata": {
  "kernelspec": {
   "display_name": "Python 3 (ipykernel)",
   "language": "python",
   "name": "python3"
  },
  "language_info": {
   "codemirror_mode": {
    "name": "ipython",
    "version": 3
   },
   "file_extension": ".py",
   "mimetype": "text/x-python",
   "name": "python",
   "nbconvert_exporter": "python",
   "pygments_lexer": "ipython3",
   "version": "3.7.13"
  }
 },
 "nbformat": 4,
 "nbformat_minor": 4
}
