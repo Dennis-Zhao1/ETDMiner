{
 "cells": [
  {
   "cell_type": "markdown",
   "metadata": {},
   "source": [
    "#### Importing Libraries"
   ]
  },
  {
   "cell_type": "code",
   "execution_count": 1,
   "metadata": {},
   "outputs": [],
   "source": [
    "#impoting libraries\n",
    "import os\n",
    "import sys\n",
    "from tensorflow.keras.models import Sequential\n",
    "from tensorflow.keras.utils import to_categorical\n",
    "from sklearn.preprocessing import LabelEncoder\n",
    "from tensorflow.keras.preprocessing import image\n",
    "from tensorflow.keras.preprocessing.image import ImageDataGenerator\n",
    "import numpy as np\n",
    "import pandas as pd\n",
    "import re\n",
    "import glob\n",
    "#import cv2\n",
    "import matplotlib.pyplot as plt\n",
    "from sklearn.model_selection import train_test_split\n",
    "from tqdm import tqdm\n",
    "from tensorflow.keras.models import Sequential\n",
    "get_ipython().magic('matplotlib inline')\n",
    "from tensorflow.keras.callbacks import EarlyStopping\n",
    "\n",
    "from tensorflow.keras.applications.vgg16 import VGG16\n",
    "from tensorflow.keras.applications.vgg16 import preprocess_input\n",
    "from tensorflow.keras.utils import to_categorical\n",
    "\n",
    "from tensorflow.keras.optimizers import SGD\n",
    "from tensorflow.keras.optimizers import Adam\n",
    "from tensorflow.keras.layers import Input, Dense, Convolution2D, MaxPooling2D, AveragePooling2D, ZeroPadding2D, Dropout, Flatten, Reshape, Activation\n",
    "\n",
    "from sklearn.metrics import log_loss\n",
    "from tensorflow.keras.models import Model\n",
    "import csv\n",
    "from tensorflow.keras import backend as K"
   ]
  },
  {
   "cell_type": "code",
   "execution_count": 2,
   "metadata": {},
   "outputs": [],
   "source": [
    "# The function below will sort the files in numberical order \n",
    "numbers = re.compile(r'(\\d+)')\n",
    "def numericalSort(value):\n",
    "    parts = numbers.split(value)\n",
    "    parts[1::2] = map(int, parts[1::2])\n",
    "    return parts"
   ]
  },
  {
   "cell_type": "code",
   "execution_count": 3,
   "metadata": {},
   "outputs": [],
   "source": [
    "img_path = sorted(glob.glob('/home/mchou001/train/**/*.png'), key = numericalSort) # importing training image files (40 ETDs -- 5,605 images)"
   ]
  },
  {
   "cell_type": "code",
   "execution_count": 4,
   "metadata": {},
   "outputs": [],
   "source": [
    "img_test_path = sorted(glob.glob('/home/mchou001/test/**/*.png'), key = numericalSort) # importing test image files (10 ETDs -- 735 images)"
   ]
  },
  {
   "cell_type": "code",
   "execution_count": 5,
   "metadata": {},
   "outputs": [],
   "source": [
    "classes = pd.read_csv(\"labels.csv\")"
   ]
  },
  {
   "cell_type": "code",
   "execution_count": 6,
   "metadata": {},
   "outputs": [
    {
     "data": {
      "text/html": [
       "<div>\n",
       "<style scoped>\n",
       "    .dataframe tbody tr th:only-of-type {\n",
       "        vertical-align: middle;\n",
       "    }\n",
       "\n",
       "    .dataframe tbody tr th {\n",
       "        vertical-align: top;\n",
       "    }\n",
       "\n",
       "    .dataframe thead th {\n",
       "        text-align: right;\n",
       "    }\n",
       "</style>\n",
       "<table border=\"1\" class=\"dataframe\">\n",
       "  <thead>\n",
       "    <tr style=\"text-align: right;\">\n",
       "      <th></th>\n",
       "      <th>file_id</th>\n",
       "      <th>labels</th>\n",
       "    </tr>\n",
       "  </thead>\n",
       "  <tbody>\n",
       "    <tr>\n",
       "      <th>0</th>\n",
       "      <td>File Name: etd1_page1.png,</td>\n",
       "      <td>Label-TitlePage</td>\n",
       "    </tr>\n",
       "    <tr>\n",
       "      <th>1</th>\n",
       "      <td>File Name: etd1_page2.png,</td>\n",
       "      <td>Label-Dedication</td>\n",
       "    </tr>\n",
       "    <tr>\n",
       "      <th>2</th>\n",
       "      <td>File Name: etd1_page3.png,</td>\n",
       "      <td>Label-Abstract</td>\n",
       "    </tr>\n",
       "    <tr>\n",
       "      <th>3</th>\n",
       "      <td>File Name: etd1_page4.png,</td>\n",
       "      <td>Label-Acknowledgement</td>\n",
       "    </tr>\n",
       "    <tr>\n",
       "      <th>4</th>\n",
       "      <td>File Name: etd1_page5.png,</td>\n",
       "      <td>Label-TableofContent</td>\n",
       "    </tr>\n",
       "  </tbody>\n",
       "</table>\n",
       "</div>"
      ],
      "text/plain": [
       "                       file_id                 labels\n",
       "0  File Name: etd1_page1.png,         Label-TitlePage\n",
       "1  File Name: etd1_page2.png,        Label-Dedication\n",
       "2  File Name: etd1_page3.png,          Label-Abstract\n",
       "3  File Name: etd1_page4.png,   Label-Acknowledgement\n",
       "4  File Name: etd1_page5.png,    Label-TableofContent"
      ]
     },
     "execution_count": 6,
     "metadata": {},
     "output_type": "execute_result"
    }
   ],
   "source": [
    "classes.head()"
   ]
  },
  {
   "cell_type": "code",
   "execution_count": 7,
   "metadata": {},
   "outputs": [],
   "source": [
    "labels = classes['labels'] #consist of train_labels"
   ]
  },
  {
   "cell_type": "code",
   "execution_count": 8,
   "metadata": {},
   "outputs": [
    {
     "data": {
      "text/plain": [
       "Label-Chapters                       4018\n",
       "Label-Appendices                     1001\n",
       "Label-Other                           160\n",
       "Label-ReferenceList                   109\n",
       "Label-TableofContent                   85\n",
       "Label-ListofTables                     68\n",
       "Label-Abstract                         45\n",
       "Label-TitlePage                        43\n",
       "Label-DedicationOrAcknowledgement      37\n",
       "Label-ListofFigures                    29\n",
       "Label-GeneralAbstract                   4\n",
       "Label-Dedication                        3\n",
       "Label-Acknowledgement                   3\n",
       "Name: labels, dtype: int64"
      ]
     },
     "execution_count": 8,
     "metadata": {},
     "output_type": "execute_result"
    }
   ],
   "source": [
    "labels.value_counts()"
   ]
  },
  {
   "cell_type": "code",
   "execution_count": 29,
   "metadata": {},
   "outputs": [],
   "source": [
    "test_classes = pd.read_csv(\"test_labels.csv\")"
   ]
  },
  {
   "cell_type": "code",
   "execution_count": 30,
   "metadata": {},
   "outputs": [],
   "source": [
    "test_labels = test_classes['labels'] #consist of test_labels"
   ]
  },
  {
   "cell_type": "markdown",
   "metadata": {},
   "source": [
    "#### Map image path and class labels"
   ]
  },
  {
   "cell_type": "code",
   "execution_count": 31,
   "metadata": {},
   "outputs": [],
   "source": [
    "img_path_label_map = list(zip(img_path, labels))"
   ]
  },
  {
   "cell_type": "code",
   "execution_count": 32,
   "metadata": {},
   "outputs": [],
   "source": [
    "img_path_test_label_map = list(zip(img_test_path, labels))"
   ]
  },
  {
   "cell_type": "code",
   "execution_count": 33,
   "metadata": {},
   "outputs": [],
   "source": [
    "df = pd.DataFrame(img_path_label_map, columns = ['filename', 'labels'])\n",
    "df.to_csv('train.csv', encoding = 'utf-8', index= None)"
   ]
  },
  {
   "cell_type": "code",
   "execution_count": 34,
   "metadata": {},
   "outputs": [],
   "source": [
    "train = pd.read_csv(\"train.csv\")"
   ]
  },
  {
   "cell_type": "code",
   "execution_count": 35,
   "metadata": {},
   "outputs": [
    {
     "data": {
      "text/html": [
       "<div>\n",
       "<style scoped>\n",
       "    .dataframe tbody tr th:only-of-type {\n",
       "        vertical-align: middle;\n",
       "    }\n",
       "\n",
       "    .dataframe tbody tr th {\n",
       "        vertical-align: top;\n",
       "    }\n",
       "\n",
       "    .dataframe thead th {\n",
       "        text-align: right;\n",
       "    }\n",
       "</style>\n",
       "<table border=\"1\" class=\"dataframe\">\n",
       "  <thead>\n",
       "    <tr style=\"text-align: right;\">\n",
       "      <th></th>\n",
       "      <th>filename</th>\n",
       "      <th>labels</th>\n",
       "    </tr>\n",
       "  </thead>\n",
       "  <tbody>\n",
       "    <tr>\n",
       "      <th>0</th>\n",
       "      <td>/home/mchou001/train/1/1.png</td>\n",
       "      <td>Label-TitlePage</td>\n",
       "    </tr>\n",
       "    <tr>\n",
       "      <th>1</th>\n",
       "      <td>/home/mchou001/train/1/2.png</td>\n",
       "      <td>Label-Dedication</td>\n",
       "    </tr>\n",
       "    <tr>\n",
       "      <th>2</th>\n",
       "      <td>/home/mchou001/train/1/3.png</td>\n",
       "      <td>Label-Abstract</td>\n",
       "    </tr>\n",
       "    <tr>\n",
       "      <th>3</th>\n",
       "      <td>/home/mchou001/train/1/4.png</td>\n",
       "      <td>Label-Acknowledgement</td>\n",
       "    </tr>\n",
       "    <tr>\n",
       "      <th>4</th>\n",
       "      <td>/home/mchou001/train/1/5.png</td>\n",
       "      <td>Label-TableofContent</td>\n",
       "    </tr>\n",
       "  </tbody>\n",
       "</table>\n",
       "</div>"
      ],
      "text/plain": [
       "                       filename                 labels\n",
       "0  /home/mchou001/train/1/1.png        Label-TitlePage\n",
       "1  /home/mchou001/train/1/2.png       Label-Dedication\n",
       "2  /home/mchou001/train/1/3.png         Label-Abstract\n",
       "3  /home/mchou001/train/1/4.png  Label-Acknowledgement\n",
       "4  /home/mchou001/train/1/5.png   Label-TableofContent"
      ]
     },
     "execution_count": 35,
     "metadata": {},
     "output_type": "execute_result"
    }
   ],
   "source": [
    "train.head()"
   ]
  },
  {
   "cell_type": "code",
   "execution_count": 36,
   "metadata": {},
   "outputs": [],
   "source": [
    "df = pd.DataFrame(img_path_test_label_map, columns = ['filename', 'labels'])\n",
    "df.to_csv('test.csv', encoding = 'utf-8', index= None)"
   ]
  },
  {
   "cell_type": "code",
   "execution_count": 37,
   "metadata": {},
   "outputs": [],
   "source": [
    "test = pd.read_csv(\"test.csv\")"
   ]
  },
  {
   "cell_type": "code",
   "execution_count": 38,
   "metadata": {},
   "outputs": [
    {
     "data": {
      "text/html": [
       "<div>\n",
       "<style scoped>\n",
       "    .dataframe tbody tr th:only-of-type {\n",
       "        vertical-align: middle;\n",
       "    }\n",
       "\n",
       "    .dataframe tbody tr th {\n",
       "        vertical-align: top;\n",
       "    }\n",
       "\n",
       "    .dataframe thead th {\n",
       "        text-align: right;\n",
       "    }\n",
       "</style>\n",
       "<table border=\"1\" class=\"dataframe\">\n",
       "  <thead>\n",
       "    <tr style=\"text-align: right;\">\n",
       "      <th></th>\n",
       "      <th>filename</th>\n",
       "      <th>labels</th>\n",
       "    </tr>\n",
       "  </thead>\n",
       "  <tbody>\n",
       "    <tr>\n",
       "      <th>0</th>\n",
       "      <td>/home/mchou001/test/41/1.png</td>\n",
       "      <td>Label-TitlePage</td>\n",
       "    </tr>\n",
       "    <tr>\n",
       "      <th>1</th>\n",
       "      <td>/home/mchou001/test/41/2.png</td>\n",
       "      <td>Label-Dedication</td>\n",
       "    </tr>\n",
       "    <tr>\n",
       "      <th>2</th>\n",
       "      <td>/home/mchou001/test/41/3.png</td>\n",
       "      <td>Label-Abstract</td>\n",
       "    </tr>\n",
       "    <tr>\n",
       "      <th>3</th>\n",
       "      <td>/home/mchou001/test/41/4.png</td>\n",
       "      <td>Label-Acknowledgement</td>\n",
       "    </tr>\n",
       "    <tr>\n",
       "      <th>4</th>\n",
       "      <td>/home/mchou001/test/41/5.png</td>\n",
       "      <td>Label-TableofContent</td>\n",
       "    </tr>\n",
       "  </tbody>\n",
       "</table>\n",
       "</div>"
      ],
      "text/plain": [
       "                       filename                 labels\n",
       "0  /home/mchou001/test/41/1.png        Label-TitlePage\n",
       "1  /home/mchou001/test/41/2.png       Label-Dedication\n",
       "2  /home/mchou001/test/41/3.png         Label-Abstract\n",
       "3  /home/mchou001/test/41/4.png  Label-Acknowledgement\n",
       "4  /home/mchou001/test/41/5.png   Label-TableofContent"
      ]
     },
     "execution_count": 38,
     "metadata": {},
     "output_type": "execute_result"
    }
   ],
   "source": [
    "test.head()"
   ]
  },
  {
   "cell_type": "markdown",
   "metadata": {},
   "source": [
    "### Data Augmentation"
   ]
  },
  {
   "cell_type": "code",
   "execution_count": 106,
   "metadata": {},
   "outputs": [],
   "source": [
    "val_split = 0.20\n",
    "# Image augmentations\n",
    "train_generator = ImageDataGenerator(\n",
    "    vertical_flip=True,         # vertical transposition\n",
    "    horizontal_flip=True,       # horizontal transposition\n",
    "    rotation_range=90,          # random rotation at 90 degrees\n",
    "    height_shift_range=0.1,     # shift the height of the image 30%\n",
    "    width_shift_range=0.1,      # shift the width of the image 50%\n",
    "    brightness_range=[0.1, 0.5], # specify the range in which to decrease/increase brightness\n",
    "    validation_split=val_split,      # 10% of the data will be used for validation at end of each epoch\n",
    "    preprocessing_function=preprocess_input # VGG16 preprocessing\n",
    ")"
   ]
  },
  {
   "cell_type": "code",
   "execution_count": 107,
   "metadata": {},
   "outputs": [],
   "source": [
    "test_generator = ImageDataGenerator(preprocessing_function=preprocess_input)"
   ]
  },
  {
   "cell_type": "markdown",
   "metadata": {},
   "source": [
    "#### Reading training images and resize it to the VGG16 accepted target size"
   ]
  },
  {
   "cell_type": "code",
   "execution_count": 41,
   "metadata": {},
   "outputs": [],
   "source": [
    "train_img = []\n",
    "for i in range(len(train)):\n",
    "    img = image.load_img(train['filename'][i], target_size=(224, 224))\n",
    "    img_arr = image.img_to_array(img)\n",
    "    train_img.append(img_arr)\n",
    "\n",
    "train_img = np.array(train_img)\n",
    "#traingen = train_generator.flow(train_img,batch_size=32)\n",
    "\n",
    "#train_img = preprocess_input(train_img)"
   ]
  },
  {
   "cell_type": "markdown",
   "metadata": {},
   "source": [
    "#### Checking some of the samples after augmentation"
   ]
  },
  {
   "cell_type": "code",
   "execution_count": null,
   "metadata": {},
   "outputs": [],
   "source": [
    "# for i in range(9):\n",
    "#     plt.subplot(330+1+i) # defining the subplots\n",
    "#     batch = traingen.next()  # generate batch of images \n",
    "#     image = batch[0].astype('uint8') # convert to unsigned integers to view\n",
    "#     plt.imshow(image)\n",
    "\n",
    "# plt.show()"
   ]
  },
  {
   "cell_type": "code",
   "execution_count": 43,
   "metadata": {},
   "outputs": [
    {
     "name": "stdout",
     "output_type": "stream",
     "text": [
      "(5605, 224, 224, 3)\n",
      "843709440\n",
      "5605\n"
     ]
    }
   ],
   "source": [
    "print(train_img.shape)\n",
    "print(train_img.size)\n",
    "print(len(train_img))"
   ]
  },
  {
   "cell_type": "markdown",
   "metadata": {},
   "source": [
    "#### Reading test images and resize it to the VGG16 accepted target size"
   ]
  },
  {
   "cell_type": "code",
   "execution_count": 44,
   "metadata": {},
   "outputs": [],
   "source": [
    "test_img = []\n",
    "for i in range(len(test)):\n",
    "    img = image.load_img(test['filename'][i], target_size = (224,224))\n",
    "    img_arr = image.img_to_array(img)    \n",
    "    test_img.append(img_arr)\n",
    "\n",
    "test_img = np.array(test_img)\n",
    "testgen = test_generator.flow(test_img,batch_size=32)\n",
    "#test_img = preprocess_input(test_img)"
   ]
  },
  {
   "cell_type": "code",
   "execution_count": 45,
   "metadata": {},
   "outputs": [
    {
     "name": "stdout",
     "output_type": "stream",
     "text": [
      "(735, 224, 224, 3)\n",
      "110638080\n",
      "735\n"
     ]
    }
   ],
   "source": [
    "print(test_img.shape)\n",
    "print(test_img.size)\n",
    "print(len(test_img))"
   ]
  },
  {
   "cell_type": "markdown",
   "metadata": {},
   "source": [
    "#### Encoding Train labels to integers"
   ]
  },
  {
   "cell_type": "code",
   "execution_count": 46,
   "metadata": {},
   "outputs": [],
   "source": [
    "y_classes = np.asarray(train['labels'])\n",
    "le = LabelEncoder()\n",
    "le.fit(list(y_classes))\n",
    "train_y = le.transform(list(y_classes))\n",
    "labels_and_integers = dict(zip(train_y, y_classes))"
   ]
  },
  {
   "cell_type": "code",
   "execution_count": 47,
   "metadata": {},
   "outputs": [
    {
     "data": {
      "text/plain": [
       "{12: 'Label-TitlePage',\n",
       " 4: 'Label-Dedication',\n",
       " 0: 'Label-Abstract',\n",
       " 1: 'Label-Acknowledgement',\n",
       " 11: 'Label-TableofContent',\n",
       " 7: 'Label-ListofFigures',\n",
       " 8: 'Label-ListofTables',\n",
       " 3: 'Label-Chapters',\n",
       " 2: 'Label-Appendices',\n",
       " 9: 'Label-Other',\n",
       " 10: 'Label-ReferenceList',\n",
       " 5: 'Label-DedicationOrAcknowledgement',\n",
       " 6: 'Label-GeneralAbstract'}"
      ]
     },
     "execution_count": 47,
     "metadata": {},
     "output_type": "execute_result"
    }
   ],
   "source": [
    "labels_and_integers"
   ]
  },
  {
   "cell_type": "code",
   "execution_count": 48,
   "metadata": {},
   "outputs": [
    {
     "name": "stderr",
     "output_type": "stream",
     "text": [
      "/opt/conda/lib/python3.7/site-packages/sklearn/utils/validation.py:70: FutureWarning: Pass classes=[ 0  1  2  3  4  5  6  7  8  9 10 11 12], y=[12  4  0 ... 10 10 10] as keyword args. From version 0.25 passing these as positional arguments will result in an error\n",
      "  FutureWarning)\n"
     ]
    }
   ],
   "source": [
    "from sklearn.utils import class_weight\n",
    "class_weights = class_weight.compute_class_weight('balanced',\n",
    "                                                 np.unique(train_y),\n",
    "                                                 train_y)"
   ]
  },
  {
   "cell_type": "code",
   "execution_count": 49,
   "metadata": {},
   "outputs": [
    {
     "data": {
      "text/plain": [
       "{0: 9.581196581196581,\n",
       " 1: 143.71794871794873,\n",
       " 2: 0.43072312303081534,\n",
       " 3: 0.10730558639966306,\n",
       " 4: 143.71794871794873,\n",
       " 5: 11.652806652806653,\n",
       " 6: 107.78846153846153,\n",
       " 7: 14.86737400530504,\n",
       " 8: 6.340497737556561,\n",
       " 9: 2.6947115384615383,\n",
       " 10: 3.9555398729710656,\n",
       " 11: 5.072398190045249,\n",
       " 12: 10.026833631484795}"
      ]
     },
     "execution_count": 49,
     "metadata": {},
     "output_type": "execute_result"
    }
   ],
   "source": [
    "class_weights_dict = dict(zip(le.transform(list(le.classes_)), class_weights))\n",
    "class_weights_dict"
   ]
  },
  {
   "cell_type": "code",
   "execution_count": 50,
   "metadata": {},
   "outputs": [
    {
     "name": "stdout",
     "output_type": "stream",
     "text": [
      "(5605,)\n",
      "[12  4  0 ... 10 10 10]\n",
      "5605\n"
     ]
    }
   ],
   "source": [
    "print(train_y.shape)\n",
    "print(train_y)\n",
    "print(len(train_y))"
   ]
  },
  {
   "cell_type": "markdown",
   "metadata": {},
   "source": [
    "#### Encoding Test labels to integers"
   ]
  },
  {
   "cell_type": "code",
   "execution_count": 134,
   "metadata": {},
   "outputs": [],
   "source": [
    "test_y_classes = np.asarray(test['labels'])\n",
    "le = LabelEncoder()\n",
    "le.fit(list(test_y_classes))\n",
    "test_y = le.transform(list(test_y_classes))\n",
    "labels_and_integers_test = dict(zip(test_y, test_y_classes))"
   ]
  },
  {
   "cell_type": "code",
   "execution_count": 135,
   "metadata": {},
   "outputs": [
    {
     "data": {
      "text/plain": [
       "{11: 'Label-TitlePage',\n",
       " 4: 'Label-Dedication',\n",
       " 0: 'Label-Abstract',\n",
       " 1: 'Label-Acknowledgement',\n",
       " 10: 'Label-TableofContent',\n",
       " 6: 'Label-ListofFigures',\n",
       " 7: 'Label-ListofTables',\n",
       " 3: 'Label-Chapters',\n",
       " 2: 'Label-Appendices',\n",
       " 8: 'Label-Other',\n",
       " 9: 'Label-ReferenceList',\n",
       " 5: 'Label-DedicationOrAcknowledgement'}"
      ]
     },
     "execution_count": 135,
     "metadata": {},
     "output_type": "execute_result"
    }
   ],
   "source": [
    "labels_and_integers_test"
   ]
  },
  {
   "cell_type": "code",
   "execution_count": 52,
   "metadata": {},
   "outputs": [
    {
     "name": "stdout",
     "output_type": "stream",
     "text": [
      "(735,)\n"
     ]
    }
   ],
   "source": [
    "print(test_y.shape)"
   ]
  },
  {
   "cell_type": "code",
   "execution_count": 53,
   "metadata": {},
   "outputs": [
    {
     "name": "stdout",
     "output_type": "stream",
     "text": [
      "[11  4  0  1 10 10  6  6  7  3  3  3  3  3  3  3  3  3  3  3  3  3  3  3\n",
      "  3  3  3  3  3  3  3  3  3  3  3  3  3  3  3  3  3  3  3  3  3  3  3  3\n",
      "  3  3  3  3  3  3  3  3  3  3  3  3  3  3  3  3  3  3  3  3  3  3  3  3\n",
      "  3  3  3  3  3  2  2  2  2  2  2  2  2  2  2  2  2  2  2  2  2  2  2  2\n",
      "  2  2  2  2  2  2  2  2  2  2 11  0  1 10 10 10 10  8  8  8  8  8  8  8\n",
      "  3  3  3  3  3  3  3  3  3  3  3  3  3  3  3  3  3  3  3  3  3  3  3  3\n",
      "  3  3  3  3  3  3  3  3  3  3  3  3  3  3  3  3  3  3  3  3  3  3  3  3\n",
      "  3  3  3  3  3  3  3  3  3  3  3  3  3  3  3  3  3  3  3  3  3  3  3  3\n",
      "  3  3  3  3  3  3  3  3  3  3  3  3  3  3  3  3  3  3  3  3  3  3  3  3\n",
      "  3  3  3  3  3  3  3  3  3  3  3  3  3  3  3  3  3  3  3  3  3  3  3  3\n",
      "  3  3  3  3  3  3  3  3  3  3  3  3  3  3  3  3  3  3  3  3  3  3  3  3\n",
      "  3  3  3  3  3  3  3  3  3  3  3  3  3  3  3  3  3  3  3  3  3  3  3  3\n",
      "  3  3  3  3  3  3  3  3  3  3  3  3  3  3  3  3  3  3  3  3  3  3  3  3\n",
      "  3  3  3  3  3  3  3  3  3  3  3  3  3  3  3  3  3  3  3  3  3  3  3  3\n",
      "  3  3  3  3  3  3  3  3  3  3  3  3  3  3  3  3  3  3  3  3  3  3  3  3\n",
      "  3  3  3  3  3  3  3  3  3  3  3  3  3  3  3  3  3  3  3  3  3  3  3  3\n",
      "  3  3  3  3  3  3  3  3  3  3  3  3  3  3  3  3  3  3  3  3  3  3  3  3\n",
      "  3  3  3  3  3  3  3  3  3  3  3  3  3  3  3  3  3  3  3  3  3  3  3  3\n",
      "  3  3  3  3  3  3  3  3  3  3  3  3  3  3  3  3  3  3  3  3  3  3  3  3\n",
      "  3  3  3  3  3  3  3  9  9  9  9  9  9 11  0  5 10  8  3  3  3  3  3  3\n",
      "  3  3  3  3  3  2  2  2  9  8  8  8  8  8  8  8  8  8  8  8  8  8  8  8\n",
      "  8 11  0  5 10  7  6  3  3  3  3  3  3  3  3  3  3  3  3  3  3  3  3  3\n",
      "  3  3  3  3  3  3  3  3  3  3  3  3  3  3  3  3  3  3  3  3  3  3  3  3\n",
      "  3  3  3  3  3  3  3  3  3  3  3  3  3  3  3  3  3  3  3  3  3  3  3  3\n",
      "  3  3  3  3  3  3  3  3  3  3  3  3  3  3  3  3  3  3  3  3  3  3  3  3\n",
      "  3  3  3  3  3  3  3  3  3  3  3  3  3  3  3  3  3  3  3  3  3  3  3  3\n",
      "  3  3  3  3  3  3  3  3  3  3  3  3  3  3  3  3  3  3  3  3  3  3  3  3\n",
      "  3  3  3  3  3  3  3  3  3  3  3  3  3  3  3  3  3  3  3  3  3  3  3  3\n",
      "  3  3  3  3  3  3  3  3  3  3  3  3  3  3  3  3  3  3  3  3  3  3  3  3\n",
      "  3  3  3  3  3  3  9  9  9  2  2  2  2  2  2  2  2  2  2  2  2  2  2  2\n",
      "  2  2  2  2  2  2  2  2  2  2  2  2  2  2  2]\n"
     ]
    }
   ],
   "source": [
    "print(test_y)"
   ]
  },
  {
   "cell_type": "markdown",
   "metadata": {},
   "source": [
    "# VGG16 Model"
   ]
  },
  {
   "cell_type": "markdown",
   "metadata": {},
   "source": [
    "### Defining metrics (F1, recall, precision)"
   ]
  },
  {
   "cell_type": "code",
   "execution_count": 54,
   "metadata": {},
   "outputs": [],
   "source": [
    "def recall_m(y_true, y_pred):\n",
    "    true_positives = K.sum(K.round(K.clip(y_true * y_pred, 0, 1)))\n",
    "    possible_positives = K.sum(K.round(K.clip(y_true, 0, 1)))\n",
    "    recall = true_positives / (possible_positives + K.epsilon())\n",
    "    return recall"
   ]
  },
  {
   "cell_type": "code",
   "execution_count": 55,
   "metadata": {},
   "outputs": [],
   "source": [
    "def precision_m(y_true, y_pred):\n",
    "    true_positives = K.sum(K.round(K.clip(y_true * y_pred, 0, 1)))\n",
    "    predicted_positives = K.sum(K.round(K.clip(y_pred, 0, 1)))\n",
    "    precision = true_positives / (predicted_positives + K.epsilon())\n",
    "    return precision"
   ]
  },
  {
   "cell_type": "code",
   "execution_count": 56,
   "metadata": {},
   "outputs": [],
   "source": [
    "def f1_m(y_true, y_pred):\n",
    "    precision = precision_m(y_true, y_pred)\n",
    "    recall = recall_m(y_true, y_pred)\n",
    "    return 2*((precision*recall)/(precision+recall+K.epsilon()))"
   ]
  },
  {
   "cell_type": "code",
   "execution_count": 108,
   "metadata": {},
   "outputs": [],
   "source": [
    "def vgg16_model(input_shape, num_classes):\n",
    "    conv_base = VGG16(weights='imagenet', include_top=False, input_shape=input_shape)\n",
    "    top_model = conv_base.output\n",
    "    top_model = Flatten(name=\"flatten\")(top_model)\n",
    "    top_model = Dense(4096, activation='sigmoid')(top_model)\n",
    "    top_model = Dense(1072, activation='sigmoid')(top_model)\n",
    "    top_model = Dropout(0.2)(top_model)\n",
    "    output_layer = Dense(num_classes, activation='softmax')(top_model)\n",
    "    model = Model(conv_base.input, output_layer)\n",
    "    \n",
    "    #freezing top 4 layers (i.e., non-trainable)\n",
    "    for layer in conv_base.layers[:4]:\n",
    "        layer.trainable = False\n",
    "    \n",
    "    #optim = Adam(learning_rate = 0.001)\n",
    "    sgd = SGD(lr=1e-3, decay=1e-6, momentum=0.9, nesterov=True)\n",
    "    model.compile(optimizer=sgd, loss='sparse_categorical_crossentropy', metrics=['accuracy'])\n",
    "    return model"
   ]
  },
  {
   "cell_type": "markdown",
   "metadata": {},
   "source": [
    "#### Split the dataset to train and validation set"
   ]
  },
  {
   "cell_type": "code",
   "execution_count": 109,
   "metadata": {},
   "outputs": [],
   "source": [
    "X_train, X_valid, Y_train, Y_valid = train_test_split(train_img, train_y, stratify=train_y)"
   ]
  },
  {
   "cell_type": "code",
   "execution_count": 110,
   "metadata": {},
   "outputs": [
    {
     "data": {
      "text/plain": [
       "(4203, 224, 224, 3)"
      ]
     },
     "execution_count": 110,
     "metadata": {},
     "output_type": "execute_result"
    }
   ],
   "source": [
    "X_train.shape"
   ]
  },
  {
   "cell_type": "code",
   "execution_count": 111,
   "metadata": {},
   "outputs": [
    {
     "data": {
      "text/plain": [
       "(4203,)"
      ]
     },
     "execution_count": 111,
     "metadata": {},
     "output_type": "execute_result"
    }
   ],
   "source": [
    "Y_train.shape"
   ]
  },
  {
   "cell_type": "code",
   "execution_count": 112,
   "metadata": {},
   "outputs": [
    {
     "data": {
      "text/plain": [
       "(1402, 224, 224, 3)"
      ]
     },
     "execution_count": 112,
     "metadata": {},
     "output_type": "execute_result"
    }
   ],
   "source": [
    "X_valid.shape"
   ]
  },
  {
   "cell_type": "code",
   "execution_count": 113,
   "metadata": {},
   "outputs": [
    {
     "data": {
      "text/plain": [
       "(1402,)"
      ]
     },
     "execution_count": 113,
     "metadata": {},
     "output_type": "execute_result"
    }
   ],
   "source": [
    "Y_valid.shape"
   ]
  },
  {
   "cell_type": "code",
   "execution_count": 114,
   "metadata": {},
   "outputs": [
    {
     "data": {
      "text/plain": [
       "(array([ 0,  1,  2,  3,  4,  5,  6,  7,  8,  9, 10, 11, 12]),\n",
       " array([  34,    2,  750, 3013,    2,   28,    3,   22,   51,  120,   82,\n",
       "          64,   32]))"
      ]
     },
     "execution_count": 114,
     "metadata": {},
     "output_type": "execute_result"
    }
   ],
   "source": [
    "np.unique(Y_train, return_counts=True)"
   ]
  },
  {
   "cell_type": "code",
   "execution_count": 115,
   "metadata": {},
   "outputs": [
    {
     "data": {
      "text/plain": [
       "(array([ 0,  1,  2,  3,  4,  5,  6,  7,  8,  9, 10, 11, 12]),\n",
       " array([  11,    1,  251, 1005,    1,    9,    1,    7,   17,   40,   27,\n",
       "          21,   11]))"
      ]
     },
     "execution_count": 115,
     "metadata": {},
     "output_type": "execute_result"
    }
   ],
   "source": [
    "np.unique(Y_valid, return_counts=True)"
   ]
  },
  {
   "cell_type": "code",
   "execution_count": 116,
   "metadata": {},
   "outputs": [],
   "source": [
    "#np.unique(X_train, return_counts=True)"
   ]
  },
  {
   "cell_type": "code",
   "execution_count": 117,
   "metadata": {},
   "outputs": [],
   "source": [
    "input_shape = (224, 224, 3)\n",
    "num_classes = 13\n",
    "batch_size = 32\n",
    "nb_epoch = 30"
   ]
  },
  {
   "cell_type": "code",
   "execution_count": 118,
   "metadata": {},
   "outputs": [],
   "source": [
    "model_vgg16 = vgg16_model(input_shape, num_classes)"
   ]
  },
  {
   "cell_type": "code",
   "execution_count": 119,
   "metadata": {},
   "outputs": [
    {
     "name": "stdout",
     "output_type": "stream",
     "text": [
      "Model: \"model_2\"\n",
      "_________________________________________________________________\n",
      "Layer (type)                 Output Shape              Param #   \n",
      "=================================================================\n",
      "input_3 (InputLayer)         [(None, 224, 224, 3)]     0         \n",
      "_________________________________________________________________\n",
      "block1_conv1 (Conv2D)        (None, 224, 224, 64)      1792      \n",
      "_________________________________________________________________\n",
      "block1_conv2 (Conv2D)        (None, 224, 224, 64)      36928     \n",
      "_________________________________________________________________\n",
      "block1_pool (MaxPooling2D)   (None, 112, 112, 64)      0         \n",
      "_________________________________________________________________\n",
      "block2_conv1 (Conv2D)        (None, 112, 112, 128)     73856     \n",
      "_________________________________________________________________\n",
      "block2_conv2 (Conv2D)        (None, 112, 112, 128)     147584    \n",
      "_________________________________________________________________\n",
      "block2_pool (MaxPooling2D)   (None, 56, 56, 128)       0         \n",
      "_________________________________________________________________\n",
      "block3_conv1 (Conv2D)        (None, 56, 56, 256)       295168    \n",
      "_________________________________________________________________\n",
      "block3_conv2 (Conv2D)        (None, 56, 56, 256)       590080    \n",
      "_________________________________________________________________\n",
      "block3_conv3 (Conv2D)        (None, 56, 56, 256)       590080    \n",
      "_________________________________________________________________\n",
      "block3_pool (MaxPooling2D)   (None, 28, 28, 256)       0         \n",
      "_________________________________________________________________\n",
      "block4_conv1 (Conv2D)        (None, 28, 28, 512)       1180160   \n",
      "_________________________________________________________________\n",
      "block4_conv2 (Conv2D)        (None, 28, 28, 512)       2359808   \n",
      "_________________________________________________________________\n",
      "block4_conv3 (Conv2D)        (None, 28, 28, 512)       2359808   \n",
      "_________________________________________________________________\n",
      "block4_pool (MaxPooling2D)   (None, 14, 14, 512)       0         \n",
      "_________________________________________________________________\n",
      "block5_conv1 (Conv2D)        (None, 14, 14, 512)       2359808   \n",
      "_________________________________________________________________\n",
      "block5_conv2 (Conv2D)        (None, 14, 14, 512)       2359808   \n",
      "_________________________________________________________________\n",
      "block5_conv3 (Conv2D)        (None, 14, 14, 512)       2359808   \n",
      "_________________________________________________________________\n",
      "block5_pool (MaxPooling2D)   (None, 7, 7, 512)         0         \n",
      "_________________________________________________________________\n",
      "flatten (Flatten)            (None, 25088)             0         \n",
      "_________________________________________________________________\n",
      "dense_6 (Dense)              (None, 4096)              102764544 \n",
      "_________________________________________________________________\n",
      "dense_7 (Dense)              (None, 1072)              4391984   \n",
      "_________________________________________________________________\n",
      "dropout_2 (Dropout)          (None, 1072)              0         \n",
      "_________________________________________________________________\n",
      "dense_8 (Dense)              (None, 13)                13949     \n",
      "=================================================================\n",
      "Total params: 121,885,165\n",
      "Trainable params: 121,846,445\n",
      "Non-trainable params: 38,720\n",
      "_________________________________________________________________\n"
     ]
    }
   ],
   "source": [
    "model_vgg16.summary()"
   ]
  },
  {
   "cell_type": "code",
   "execution_count": 120,
   "metadata": {},
   "outputs": [],
   "source": [
    "es = EarlyStopping(monitor='val_loss', patience=10, restore_best_weights=True, mode='min', verbose=1) # to get the best model"
   ]
  },
  {
   "cell_type": "code",
   "execution_count": 121,
   "metadata": {},
   "outputs": [],
   "source": [
    "traingen = train_generator.flow(X_train, Y_train, batch_size=batch_size)"
   ]
  },
  {
   "cell_type": "code",
   "execution_count": 122,
   "metadata": {},
   "outputs": [],
   "source": [
    "valigen = train_generator.flow(X_valid, Y_valid, batch_size=batch_size)"
   ]
  },
  {
   "cell_type": "code",
   "execution_count": 123,
   "metadata": {},
   "outputs": [
    {
     "name": "stdout",
     "output_type": "stream",
     "text": [
      "Epoch 1/30\n",
      "131/132 [============================>.] - ETA: 0s - loss: 0.9638 - acc: 0.7216Epoch 1/30\n",
      "132/132 [==============================] - 115s 871ms/step - loss: 0.9628 - acc: 0.7216 - val_loss: 0.8645 - val_acc: 0.7382\n",
      "Epoch 2/30\n",
      "131/132 [============================>.] - ETA: 0s - loss: 0.8381 - acc: 0.7471Epoch 1/30\n",
      "132/132 [==============================] - 101s 769ms/step - loss: 0.8391 - acc: 0.7471 - val_loss: 0.8301 - val_acc: 0.7603\n",
      "Epoch 3/30\n",
      "131/132 [============================>.] - ETA: 0s - loss: 0.8006 - acc: 0.7689Epoch 1/30\n",
      "132/132 [==============================] - 103s 780ms/step - loss: 0.7998 - acc: 0.7692 - val_loss: 0.7785 - val_acc: 0.7632\n",
      "Epoch 4/30\n",
      "131/132 [============================>.] - ETA: 0s - loss: 0.7659 - acc: 0.7720Epoch 1/30\n",
      "132/132 [==============================] - 105s 792ms/step - loss: 0.7660 - acc: 0.7721 - val_loss: 0.7728 - val_acc: 0.7625\n",
      "Epoch 5/30\n",
      "131/132 [============================>.] - ETA: 0s - loss: 0.7309 - acc: 0.7849Epoch 1/30\n",
      "132/132 [==============================] - 100s 754ms/step - loss: 0.7318 - acc: 0.7844 - val_loss: 0.7359 - val_acc: 0.7846\n",
      "Epoch 6/30\n",
      "131/132 [============================>.] - ETA: 0s - loss: 0.7247 - acc: 0.7864Epoch 1/30\n",
      "132/132 [==============================] - 105s 793ms/step - loss: 0.7255 - acc: 0.7861 - val_loss: 0.7449 - val_acc: 0.7718\n",
      "Epoch 7/30\n",
      "131/132 [============================>.] - ETA: 0s - loss: 0.6959 - acc: 0.7869Epoch 1/30\n",
      "132/132 [==============================] - 104s 787ms/step - loss: 0.6946 - acc: 0.7868 - val_loss: 0.7285 - val_acc: 0.7703\n",
      "Epoch 8/30\n",
      "131/132 [============================>.] - ETA: 0s - loss: 0.6738 - acc: 0.8000Epoch 1/30\n",
      "132/132 [==============================] - 105s 799ms/step - loss: 0.6783 - acc: 0.7987 - val_loss: 0.7082 - val_acc: 0.7825\n",
      "Epoch 9/30\n",
      "131/132 [============================>.] - ETA: 0s - loss: 0.6569 - acc: 0.7977Epoch 1/30\n",
      "132/132 [==============================] - 105s 797ms/step - loss: 0.6567 - acc: 0.7978 - val_loss: 0.6655 - val_acc: 0.8017\n",
      "Epoch 10/30\n",
      "131/132 [============================>.] - ETA: 0s - loss: 0.6424 - acc: 0.8053Epoch 1/30\n",
      "132/132 [==============================] - 101s 768ms/step - loss: 0.6471 - acc: 0.8039 - val_loss: 0.7068 - val_acc: 0.7939\n",
      "Epoch 11/30\n",
      "131/132 [============================>.] - ETA: 0s - loss: 0.6243 - acc: 0.8113Epoch 1/30\n",
      "132/132 [==============================] - 106s 806ms/step - loss: 0.6251 - acc: 0.8106 - val_loss: 0.6807 - val_acc: 0.7932\n",
      "Epoch 12/30\n",
      "131/132 [============================>.] - ETA: 0s - loss: 0.6215 - acc: 0.8065Epoch 1/30\n",
      "132/132 [==============================] - 105s 792ms/step - loss: 0.6204 - acc: 0.8073 - val_loss: 0.6498 - val_acc: 0.8017\n",
      "Epoch 13/30\n",
      "131/132 [============================>.] - ETA: 0s - loss: 0.6052 - acc: 0.8140Epoch 1/30\n",
      "132/132 [==============================] - 102s 772ms/step - loss: 0.6065 - acc: 0.8137 - val_loss: 0.6772 - val_acc: 0.7932\n",
      "Epoch 14/30\n",
      "131/132 [============================>.] - ETA: 0s - loss: 0.5986 - acc: 0.8164Epoch 1/30\n",
      "132/132 [==============================] - 104s 787ms/step - loss: 0.5979 - acc: 0.8163 - val_loss: 0.6458 - val_acc: 0.8088\n",
      "Epoch 15/30\n",
      "131/132 [============================>.] - ETA: 0s - loss: 0.5846 - acc: 0.8233Epoch 1/30\n",
      "132/132 [==============================] - 105s 798ms/step - loss: 0.5849 - acc: 0.8230 - val_loss: 0.6417 - val_acc: 0.8060\n",
      "Epoch 16/30\n",
      "131/132 [============================>.] - ETA: 0s - loss: 0.5721 - acc: 0.8262Epoch 1/30\n",
      "132/132 [==============================] - 104s 786ms/step - loss: 0.5722 - acc: 0.8256 - val_loss: 0.6275 - val_acc: 0.7996\n",
      "Epoch 17/30\n",
      "131/132 [============================>.] - ETA: 0s - loss: 0.5663 - acc: 0.8341Epoch 1/30\n",
      "132/132 [==============================] - 104s 787ms/step - loss: 0.5678 - acc: 0.8337 - val_loss: 0.6062 - val_acc: 0.8124\n",
      "Epoch 18/30\n",
      "131/132 [============================>.] - ETA: 0s - loss: 0.5541 - acc: 0.8295Epoch 1/30\n",
      "132/132 [==============================] - 102s 775ms/step - loss: 0.5530 - acc: 0.8296 - val_loss: 0.6605 - val_acc: 0.7917\n",
      "Epoch 19/30\n",
      "131/132 [============================>.] - ETA: 0s - loss: 0.5558 - acc: 0.8317Epoch 1/30\n",
      "132/132 [==============================] - 105s 797ms/step - loss: 0.5564 - acc: 0.8318 - val_loss: 0.6342 - val_acc: 0.8146\n",
      "Epoch 20/30\n",
      "131/132 [============================>.] - ETA: 0s - loss: 0.5424 - acc: 0.8329Epoch 1/30\n",
      "132/132 [==============================] - 101s 769ms/step - loss: 0.5424 - acc: 0.8330 - val_loss: 0.5990 - val_acc: 0.8153\n",
      "Epoch 21/30\n",
      "131/132 [============================>.] - ETA: 0s - loss: 0.5164 - acc: 0.8413Epoch 1/30\n",
      "132/132 [==============================] - 107s 809ms/step - loss: 0.5144 - acc: 0.8415 - val_loss: 0.6406 - val_acc: 0.8003\n",
      "Epoch 22/30\n",
      "131/132 [============================>.] - ETA: 0s - loss: 0.5143 - acc: 0.8456Epoch 1/30\n",
      "132/132 [==============================] - 100s 758ms/step - loss: 0.5147 - acc: 0.8463 - val_loss: 0.5970 - val_acc: 0.8103\n",
      "Epoch 23/30\n",
      "131/132 [============================>.] - ETA: 0s - loss: 0.5013 - acc: 0.8458Epoch 1/30\n",
      "132/132 [==============================] - 107s 810ms/step - loss: 0.4996 - acc: 0.8465 - val_loss: 0.6412 - val_acc: 0.8124\n",
      "Epoch 24/30\n",
      "131/132 [============================>.] - ETA: 0s - loss: 0.5007 - acc: 0.8444Epoch 1/30\n",
      "132/132 [==============================] - 102s 774ms/step - loss: 0.4994 - acc: 0.8446 - val_loss: 0.6343 - val_acc: 0.8039\n",
      "Epoch 25/30\n",
      "131/132 [============================>.] - ETA: 0s - loss: 0.4945 - acc: 0.8480Epoch 1/30\n",
      "132/132 [==============================] - 102s 774ms/step - loss: 0.4937 - acc: 0.8484 - val_loss: 0.6001 - val_acc: 0.8103\n",
      "Epoch 26/30\n",
      "131/132 [============================>.] - ETA: 0s - loss: 0.4681 - acc: 0.8590Epoch 1/30\n",
      "132/132 [==============================] - 102s 770ms/step - loss: 0.4683 - acc: 0.8587 - val_loss: 0.5935 - val_acc: 0.8117\n",
      "Epoch 27/30\n",
      "131/132 [============================>.] - ETA: 0s - loss: 0.4717 - acc: 0.8602Epoch 1/30\n",
      "132/132 [==============================] - 104s 785ms/step - loss: 0.4717 - acc: 0.8601 - val_loss: 0.5783 - val_acc: 0.8217\n",
      "Epoch 28/30\n",
      "131/132 [============================>.] - ETA: 0s - loss: 0.4708 - acc: 0.8593Epoch 1/30\n",
      "132/132 [==============================] - 104s 786ms/step - loss: 0.4691 - acc: 0.8599 - val_loss: 0.5737 - val_acc: 0.8195\n",
      "Epoch 29/30\n",
      "131/132 [============================>.] - ETA: 0s - loss: 0.4563 - acc: 0.8585Epoch 1/30\n",
      "132/132 [==============================] - 106s 800ms/step - loss: 0.4565 - acc: 0.8584 - val_loss: 0.5905 - val_acc: 0.8174\n",
      "Epoch 30/30\n",
      "131/132 [============================>.] - ETA: 0s - loss: 0.4606 - acc: 0.8605Epoch 1/30\n",
      "132/132 [==============================] - 105s 795ms/step - loss: 0.4590 - acc: 0.8611 - val_loss: 0.6028 - val_acc: 0.8174\n"
     ]
    }
   ],
   "source": [
    "vgg_history = model_vgg16.fit(traingen, validation_data = valigen, epochs=nb_epoch, class_weight = class_weights, callbacks=[es])"
   ]
  },
  {
   "cell_type": "code",
   "execution_count": 50,
   "metadata": {},
   "outputs": [],
   "source": [
    "#model_vgg16.save('page_classification_vgg16.h5')"
   ]
  },
  {
   "cell_type": "code",
   "execution_count": 124,
   "metadata": {},
   "outputs": [],
   "source": [
    "model_vgg16.save('page_classification_vgg16-084acc.h5')"
   ]
  },
  {
   "cell_type": "code",
   "execution_count": 125,
   "metadata": {},
   "outputs": [
    {
     "data": {
      "image/png": "[encoded data removed]",
      "text/plain": [
       "<Figure size 432x288 with 1 Axes>"
      ]
     },
     "metadata": {
      "needs_background": "light"
     },
     "output_type": "display_data"
    }
   ],
   "source": [
    "loss_train = vgg_history.history['loss']\n",
    "loss_val = vgg_history.history['val_loss']\n",
    "plt.plot(loss_train, 'g', label='Training loss')\n",
    "plt.plot(loss_val, 'b', label='validation loss')\n",
    "plt.title('Training and Validation loss')\n",
    "plt.xlabel('Epochs')\n",
    "plt.ylabel('Loss')\n",
    "plt.legend()\n",
    "plt.show()"
   ]
  },
  {
   "cell_type": "code",
   "execution_count": 126,
   "metadata": {},
   "outputs": [
    {
     "data": {
      "image/png": "[encoded data removed]",
      "text/plain": [
       "<Figure size 432x288 with 1 Axes>"
      ]
     },
     "metadata": {
      "needs_background": "light"
     },
     "output_type": "display_data"
    }
   ],
   "source": [
    "loss_train = vgg_history.history['acc']\n",
    "loss_val = vgg_history.history['val_acc']\n",
    "plt.plot(loss_train, 'g', label='Training Accuracy')\n",
    "plt.plot(loss_val, 'b', label='Validation Accuracy')\n",
    "plt.title('Training and Validation Accuracy')\n",
    "plt.xlabel('Epochs')\n",
    "plt.ylabel('Loss')\n",
    "plt.legend()\n",
    "plt.show()"
   ]
  },
  {
   "cell_type": "markdown",
   "metadata": {},
   "source": [
    "## Predict the model on new images (i.e., Test image)"
   ]
  },
  {
   "cell_type": "code",
   "execution_count": 127,
   "metadata": {},
   "outputs": [
    {
     "name": "stdout",
     "output_type": "stream",
     "text": [
      "1402/1402 [==============================] - 3s 2ms/sample\n"
     ]
    }
   ],
   "source": [
    "y_pred = model_vgg16.predict(X_valid, batch_size=64, verbose=1)"
   ]
  },
  {
   "cell_type": "code",
   "execution_count": 128,
   "metadata": {},
   "outputs": [],
   "source": [
    "from sklearn.metrics import classification_report\n",
    "y_predicted = np.argmax(y_pred, axis=1)"
   ]
  },
  {
   "cell_type": "code",
   "execution_count": 129,
   "metadata": {},
   "outputs": [
    {
     "name": "stdout",
     "output_type": "stream",
     "text": [
      "              precision    recall  f1-score   support\n",
      "\n",
      "           0       0.17      0.09      0.12        11\n",
      "           1       0.00      0.00      0.00         1\n",
      "           2       0.79      0.42      0.55       251\n",
      "           3       0.82      0.99      0.89      1005\n",
      "           4       0.00      0.00      0.00         1\n",
      "           5       0.00      0.00      0.00         9\n",
      "           6       0.00      0.00      0.00         1\n",
      "           7       0.00      0.00      0.00         7\n",
      "           8       1.00      0.71      0.83        17\n",
      "           9       0.67      0.20      0.31        40\n",
      "          10       0.67      0.22      0.33        27\n",
      "          11       0.67      0.19      0.30        21\n",
      "          12       0.75      0.55      0.63        11\n",
      "\n",
      "    accuracy                           0.81      1402\n",
      "   macro avg       0.42      0.26      0.30      1402\n",
      "weighted avg       0.79      0.81      0.77      1402\n",
      "\n"
     ]
    },
    {
     "name": "stderr",
     "output_type": "stream",
     "text": [
      "/opt/conda/lib/python3.7/site-packages/sklearn/metrics/_classification.py:1221: UndefinedMetricWarning: Precision and F-score are ill-defined and being set to 0.0 in labels with no predicted samples. Use `zero_division` parameter to control this behavior.\n",
      "  _warn_prf(average, modifier, msg_start, len(result))\n"
     ]
    }
   ],
   "source": [
    "print(classification_report(Y_valid, y_predicted))"
   ]
  },
  {
   "cell_type": "code",
   "execution_count": 130,
   "metadata": {},
   "outputs": [
    {
     "name": "stdout",
     "output_type": "stream",
     "text": [
      "735/735 [==============================] - 1s 2ms/sample\n"
     ]
    }
   ],
   "source": [
    "y__test_pred = model_vgg16.predict(test_img, verbose=1)"
   ]
  },
  {
   "cell_type": "code",
   "execution_count": 133,
   "metadata": {},
   "outputs": [
    {
     "name": "stdout",
     "output_type": "stream",
     "text": [
      "              precision    recall  f1-score   support\n",
      "\n",
      "           0       0.00      0.00      0.00         4\n",
      "           1       0.00      0.00      0.00         2\n",
      "           2       0.11      0.15      0.13        62\n",
      "           3       0.84      0.81      0.83       613\n",
      "           4       0.00      0.00      0.00         1\n",
      "           5       0.00      0.00      0.00         2\n",
      "           6       0.00      0.00      0.00         3\n",
      "           7       0.00      0.00      0.00         2\n",
      "           8       0.00      0.00      0.00        24\n",
      "           9       0.00      0.00      0.00        10\n",
      "          10       0.00      0.00      0.00         8\n",
      "          11       0.00      0.00      0.00         4\n",
      "          12       0.00      0.00      0.00         0\n",
      "\n",
      "    accuracy                           0.69       735\n",
      "   macro avg       0.07      0.07      0.07       735\n",
      "weighted avg       0.71      0.69      0.70       735\n",
      "\n"
     ]
    },
    {
     "name": "stderr",
     "output_type": "stream",
     "text": [
      "/opt/conda/lib/python3.7/site-packages/sklearn/metrics/_classification.py:1221: UndefinedMetricWarning: Precision and F-score are ill-defined and being set to 0.0 in labels with no predicted samples. Use `zero_division` parameter to control this behavior.\n",
      "  _warn_prf(average, modifier, msg_start, len(result))\n",
      "/opt/conda/lib/python3.7/site-packages/sklearn/metrics/_classification.py:1221: UndefinedMetricWarning: Recall and F-score are ill-defined and being set to 0.0 in labels with no true samples. Use `zero_division` parameter to control this behavior.\n",
      "  _warn_prf(average, modifier, msg_start, len(result))\n"
     ]
    }
   ],
   "source": [
    "y_test_predicted = np.argmax(y__test_pred, axis=1)\n",
    "print(classification_report(test_y, y_test_predicted))"
   ]
  },
  {
   "cell_type": "code",
   "execution_count": 91,
   "metadata": {},
   "outputs": [],
   "source": [
    "# pred = []\n",
    "# for i in range(len(test)):\n",
    "#     img = image.load_img(test['filename'][i], target_size = (224,224))\n",
    "#     predict_labels = test_labels[np.argmax(y_pred, axis=1)]\n",
    "#     pred.append(predict_labels)\n",
    "#     print(predict_labels)\n",
    "#     plt.figure(figsize=(20,10))\n",
    "#     plt.imshow(img)\n",
    "#     plt.show()"
   ]
  },
  {
   "cell_type": "code",
   "execution_count": null,
   "metadata": {},
   "outputs": [],
   "source": [
    "pred_val = pd.DataFrame(pred, columns = ['predicted_label'])\n",
    "pred_val.to_csv('result.csv', encoding = 'utf-8', index= None)"
   ]
  },
  {
   "cell_type": "code",
   "execution_count": null,
   "metadata": {},
   "outputs": [],
   "source": [
    "df1 = pd.read_csv('result.csv')\n",
    "df2 = pd.read_csv('test.csv')\n",
    "\n",
    "df3 = df1['predicted_label']\n",
    "df4 = df2['labels']\n",
    "result = pd.concat([df3, df4], axis = 1, sort = False)\n",
    "result.to_csv(\"output.csv\", index = None, encoding = 'utf-8')"
   ]
  },
  {
   "cell_type": "code",
   "execution_count": null,
   "metadata": {},
   "outputs": [],
   "source": [
    "from sklearn.metrics import accuracy_score\n",
    "acc = accuracy_score(df4, df3)\n",
    "print(\"VGG16 Model Accuracy: {:.2f}%\".format(acc * 100))"
   ]
  },
  {
   "cell_type": "code",
   "execution_count": null,
   "metadata": {},
   "outputs": [],
   "source": [
    "from sklearn.metrics import classification_report"
   ]
  },
  {
   "cell_type": "code",
   "execution_count": null,
   "metadata": {},
   "outputs": [],
   "source": [
    "print(classification_report(test_y, pred))"
   ]
  },
  {
   "cell_type": "code",
   "execution_count": null,
   "metadata": {},
   "outputs": [],
   "source": []
  }
 ],
 "metadata": {
  "kernelspec": {
   "display_name": "Python 3",
   "language": "python",
   "name": "python3"
  },
  "language_info": {
   "codemirror_mode": {
    "name": "ipython",
    "version": 3
   },
   "file_extension": ".py",
   "mimetype": "text/x-python",
   "name": "python",
   "nbconvert_exporter": "python",
   "pygments_lexer": "ipython3",
   "version": "3.7.7"
  }
 },
 "nbformat": 4,
 "nbformat_minor": 4
}
