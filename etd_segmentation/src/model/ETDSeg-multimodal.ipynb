{
 "cells": [
  {
   "cell_type": "markdown",
   "id": "146c424f",
   "metadata": {},
   "source": [
    "## Data Preparation"
   ]
  },
  {
   "cell_type": "code",
   "execution_count": 1,
   "id": "c720d0ca",
   "metadata": {},
   "outputs": [
    {
     "name": "stderr",
     "output_type": "stream",
     "text": [
      "Intel(R) Extension for Scikit-learn* enabled (https://github.com/intel/scikit-learn-intelex)\n",
      "/opt/conda/lib/python3.7/site-packages/sklearn/_distributor_init.py:25: FutureWarning: \n",
      "USE_DAAL4PY_SKLEARN variable is deprecated for Intel(R) Extension for Scikit-learn\n",
      "and will be delete in the 2022.1 release.\n",
      "Please, use new construction of global patching:\n",
      "python sklearnex.glob patch_sklearn\n",
      "Read more: https://intel.github.io/scikit-learn-intelex/global_patching.html\n",
      "  FutureWarning)\n",
      "2023-05-20 03:03:24.527594: I tensorflow/core/platform/cpu_feature_guard.cc:193] This TensorFlow binary is optimized with oneAPI Deep Neural Network Library (oneDNN) to use the following CPU instructions in performance-critical operations:  AVX2 AVX512F FMA\n",
      "To enable them in other operations, rebuild TensorFlow with the appropriate compiler flags.\n",
      "2023-05-20 03:03:24.822416: E tensorflow/stream_executor/cuda/cuda_blas.cc:2981] Unable to register cuBLAS factory: Attempting to register factory for plugin cuBLAS when one has already been registered\n"
     ]
    }
   ],
   "source": [
    "import pandas as pd\n",
    "from sklearn.model_selection import train_test_split\n",
    "import numpy as np\n",
    "from sentence_splitter import SentenceSplitter\n",
    "import matplotlib.pyplot as plt\n",
    "import os\n",
    "import ast\n",
    "import cv2\n",
    "from sklearn.metrics import confusion_matrix, classification_report\n",
    "from tqdm import tqdm\n",
    "import time\n",
    "\n",
    "import tensorflow as tf\n",
    "import tensorflow_hub as hub\n",
    "import tensorflow_text as text\n",
    "from tensorflow import keras\n",
    "from tensorflow.keras.callbacks import EarlyStopping\n",
    "from tensorflow.keras.optimizers import SGD\n",
    "from tensorflow.python.keras import backend as K\n",
    "from focal_loss import SparseCategoricalFocalLoss"
   ]
  },
  {
   "cell_type": "code",
   "execution_count": 2,
   "id": "4cab5782-1087-419a-93cf-b7e21fcde925",
   "metadata": {},
   "outputs": [
    {
     "name": "stderr",
     "output_type": "stream",
     "text": [
      "2023-05-20 03:03:33.683201: I tensorflow/core/platform/cpu_feature_guard.cc:193] This TensorFlow binary is optimized with oneAPI Deep Neural Network Library (oneDNN) to use the following CPU instructions in performance-critical operations:  AVX2 AVX512F FMA\n",
      "To enable them in other operations, rebuild TensorFlow with the appropriate compiler flags.\n",
      "2023-05-20 03:03:34.818744: I tensorflow/core/common_runtime/gpu/gpu_device.cc:1616] Created device /job:localhost/replica:0/task:0/device:GPU:0 with 14615 MB memory:  -> device: 0, name: Tesla V100-SXM2-16GB, pci bus id: 0000:1c:00.0, compute capability: 7.0\n"
     ]
    }
   ],
   "source": [
    "config = tf.compat.v1.ConfigProto( device_count = {'GPU': 1} )\n",
    "sess = tf.compat.v1.Session(config=config) \n",
    "K.set_session(sess)"
   ]
  },
  {
   "cell_type": "code",
   "execution_count": 3,
   "id": "6e94a384-196f-4cff-ae3d-d95559ebed75",
   "metadata": {},
   "outputs": [
    {
     "name": "stdout",
     "output_type": "stream",
     "text": [
      "Found GPU at: /device:GPU:0\n"
     ]
    },
    {
     "name": "stderr",
     "output_type": "stream",
     "text": [
      "2023-05-20 03:03:36.754460: I tensorflow/core/common_runtime/gpu/gpu_device.cc:1616] Created device /device:GPU:0 with 14615 MB memory:  -> device: 0, name: Tesla V100-SXM2-16GB, pci bus id: 0000:1c:00.0, compute capability: 7.0\n"
     ]
    }
   ],
   "source": [
    "device_name = tf.test.gpu_device_name()\n",
    "if \"GPU\" not in device_name:\n",
    "    print(\"GPU device not found\")\n",
    "print('Found GPU at: {}'.format(device_name))"
   ]
  },
  {
   "cell_type": "code",
   "execution_count": 4,
   "id": "cc07ae00-3c41-4e65-84fd-16408bee23a5",
   "metadata": {},
   "outputs": [],
   "source": [
    "# data_1 = pd.read_csv(\"ETD_data.csv\")\n",
    "# data_1['text'] = data_1['text'].astype(str)\n",
    "# data_1\n",
    "# train_image = pd.read_csv(\"trainETD500.csv\")\n",
    "# data_2 = train_image.drop(columns = 'labels')\n",
    "# data_2\n",
    "# ETD500 = pd.concat([data_2, data_1], axis = 1)\n",
    "# ETD500.to_csv('500ETD.csv', encoding = 'utf-8', index=None)\n",
    "# ack = pd.read_csv('ack.csv')\n",
    "# ded = pd.read_csv('ded.csv')\n",
    "# chabs = pd.read_csv('chapter_abs.csv')\n",
    "# abstract = pd.read_csv('abstract.csv')\n",
    "# merged = pd.concat([ETD500, ack, ded, chabs, abstract], axis=0)\n",
    "# merged.set_index('img_path')\n",
    "# #merged.to_csv('inspect_merged.csv', index = None)"
   ]
  },
  {
   "cell_type": "code",
   "execution_count": 5,
   "id": "bf2a932b-0ba9-4770-9995-d48f1fb53ff6",
   "metadata": {},
   "outputs": [],
   "source": [
    "# df500 = pd.read_csv('500ETD_updated.csv')\n",
    "# df500['text'] = df500['text'].astype(str)\n",
    "# df500"
   ]
  },
  {
   "cell_type": "code",
   "execution_count": 6,
   "id": "a7e30d16-85be-4f79-a9ed-c543b34018ed",
   "metadata": {},
   "outputs": [],
   "source": [
    "# df500 = df500[df500['class'] != 'Label-Chapters']\n",
    "# df500.to_csv(\"500ETD_chaptersExcluded.csv\", encoding = 'utf-8', index = None)\n",
    "# df500"
   ]
  },
  {
   "cell_type": "code",
   "execution_count": 7,
   "id": "82e710bd-5ef1-4832-baa7-f36acaac7740",
   "metadata": {},
   "outputs": [
    {
     "data": {
      "text/html": [
       "<div>\n",
       "<style scoped>\n",
       "    .dataframe tbody tr th:only-of-type {\n",
       "        vertical-align: middle;\n",
       "    }\n",
       "\n",
       "    .dataframe tbody tr th {\n",
       "        vertical-align: top;\n",
       "    }\n",
       "\n",
       "    .dataframe thead th {\n",
       "        text-align: right;\n",
       "    }\n",
       "</style>\n",
       "<table border=\"1\" class=\"dataframe\">\n",
       "  <thead>\n",
       "    <tr style=\"text-align: right;\">\n",
       "      <th></th>\n",
       "      <th>img_path</th>\n",
       "      <th>text</th>\n",
       "      <th>class</th>\n",
       "    </tr>\n",
       "  </thead>\n",
       "  <tbody>\n",
       "    <tr>\n",
       "      <th>0</th>\n",
       "      <td>/home/mchou001/train/1/1.png</td>\n",
       "      <td>'SOME ASPECTS OF RADIATION INDUCED NUCLEATION ...</td>\n",
       "      <td>Label-TitlePage</td>\n",
       "    </tr>\n",
       "    <tr>\n",
       "      <th>1</th>\n",
       "      <td>/home/mchou001/train/1/2.png</td>\n",
       "      <td>'2', 'Dedicated to my', 'parents and sisters'</td>\n",
       "      <td>Label-Dedication</td>\n",
       "    </tr>\n",
       "    <tr>\n",
       "      <th>2</th>\n",
       "      <td>/home/mchou001/train/1/3.png</td>\n",
       "      <td>'3', 'SOME ASPECTS OF RADIATION INDUCED NUCLEA...</td>\n",
       "      <td>Label-Abstract</td>\n",
       "    </tr>\n",
       "    <tr>\n",
       "      <th>3</th>\n",
       "      <td>/home/mchou001/train/1/4.png</td>\n",
       "      <td>'4', 'Acknowledgements', 'I wish to thank fore...</td>\n",
       "      <td>Label-Acknowledgement</td>\n",
       "    </tr>\n",
       "    <tr>\n",
       "      <th>4</th>\n",
       "      <td>/home/mchou001/train/1/5.png</td>\n",
       "      <td>'5', 'Table of Contents', 'Abstract', '3', 'Ac...</td>\n",
       "      <td>Label-TableofContent</td>\n",
       "    </tr>\n",
       "    <tr>\n",
       "      <th>...</th>\n",
       "      <td>...</td>\n",
       "      <td>...</td>\n",
       "      <td>...</td>\n",
       "    </tr>\n",
       "    <tr>\n",
       "      <th>24760</th>\n",
       "      <td>/home/mchou001/Label-Dedication/502/aug987.png</td>\n",
       "      <td>Dedication\\nThe song was reproduced with the p...</td>\n",
       "      <td>Label-Dedication</td>\n",
       "    </tr>\n",
       "    <tr>\n",
       "      <th>24761</th>\n",
       "      <td>/home/mchou001/Label-Dedication/502/aug988.png</td>\n",
       "      <td>Dedication\\nPermission is required for further...</td>\n",
       "      <td>Label-Dedication</td>\n",
       "    </tr>\n",
       "    <tr>\n",
       "      <th>24762</th>\n",
       "      <td>/home/mchou001/Label-Dedication/502/aug989.png</td>\n",
       "      <td>Dedication\\nPermission is needed for further r...</td>\n",
       "      <td>Label-Dedication</td>\n",
       "    </tr>\n",
       "    <tr>\n",
       "      <th>24763</th>\n",
       "      <td>/home/mchou001/Label-Dedication/502/aug990.png</td>\n",
       "      <td>Dedication\\nPermission is required for any fur...</td>\n",
       "      <td>Label-Dedication</td>\n",
       "    </tr>\n",
       "    <tr>\n",
       "      <th>24764</th>\n",
       "      <td>/home/mchou001/Label-Dedication/502/aug991.png</td>\n",
       "      <td>Dedication\\nPermission is not granted for furt...</td>\n",
       "      <td>Label-Dedication</td>\n",
       "    </tr>\n",
       "  </tbody>\n",
       "</table>\n",
       "<p>24765 rows × 3 columns</p>\n",
       "</div>"
      ],
      "text/plain": [
       "                                             img_path  \\\n",
       "0                        /home/mchou001/train/1/1.png   \n",
       "1                        /home/mchou001/train/1/2.png   \n",
       "2                        /home/mchou001/train/1/3.png   \n",
       "3                        /home/mchou001/train/1/4.png   \n",
       "4                        /home/mchou001/train/1/5.png   \n",
       "...                                               ...   \n",
       "24760  /home/mchou001/Label-Dedication/502/aug987.png   \n",
       "24761  /home/mchou001/Label-Dedication/502/aug988.png   \n",
       "24762  /home/mchou001/Label-Dedication/502/aug989.png   \n",
       "24763  /home/mchou001/Label-Dedication/502/aug990.png   \n",
       "24764  /home/mchou001/Label-Dedication/502/aug991.png   \n",
       "\n",
       "                                                    text  \\\n",
       "0      'SOME ASPECTS OF RADIATION INDUCED NUCLEATION ...   \n",
       "1          '2', 'Dedicated to my', 'parents and sisters'   \n",
       "2      '3', 'SOME ASPECTS OF RADIATION INDUCED NUCLEA...   \n",
       "3      '4', 'Acknowledgements', 'I wish to thank fore...   \n",
       "4      '5', 'Table of Contents', 'Abstract', '3', 'Ac...   \n",
       "...                                                  ...   \n",
       "24760  Dedication\\nThe song was reproduced with the p...   \n",
       "24761  Dedication\\nPermission is required for further...   \n",
       "24762  Dedication\\nPermission is needed for further r...   \n",
       "24763  Dedication\\nPermission is required for any fur...   \n",
       "24764  Dedication\\nPermission is not granted for furt...   \n",
       "\n",
       "                       class  \n",
       "0            Label-TitlePage  \n",
       "1           Label-Dedication  \n",
       "2             Label-Abstract  \n",
       "3      Label-Acknowledgement  \n",
       "4       Label-TableofContent  \n",
       "...                      ...  \n",
       "24760       Label-Dedication  \n",
       "24761       Label-Dedication  \n",
       "24762       Label-Dedication  \n",
       "24763       Label-Dedication  \n",
       "24764       Label-Dedication  \n",
       "\n",
       "[24765 rows x 3 columns]"
      ]
     },
     "execution_count": 7,
     "metadata": {},
     "output_type": "execute_result"
    }
   ],
   "source": [
    "data = pd.read_csv(\"500ETD_v2.csv\", encoding = 'utf-8')\n",
    "data['text'] = data['text'].astype(str)\n",
    "data"
   ]
  },
  {
   "cell_type": "code",
   "execution_count": 8,
   "id": "9af3ce40-24d5-4404-8d39-e4555d2a14e6",
   "metadata": {},
   "outputs": [],
   "source": [
    "label_map = {\"Label-Appendices\": 0, \"Label-ReferenceList\": 1, \"Label-Other\": 2, \"Label-TableofContent\": 3,  \"Label-TitlePage\": 4, \"Label-Abstract\": 5,\n",
    "             \"Label-ListofFigures\": 6, \"Label-Acknowledgement\": 7, \"Label-ListofTables\": 8, \"Label-CurriculumVitae\": 9, \"Label-Dedication\": 10, \"Label-ChapterAbstract\": 11}"
   ]
  },
  {
   "cell_type": "code",
   "execution_count": 9,
   "id": "fb854e44-5924-4b4e-b056-05c7797105a6",
   "metadata": {},
   "outputs": [],
   "source": [
    "data['label_idx'] = data['class'].apply(lambda x: label_map[x])"
   ]
  },
  {
   "cell_type": "code",
   "execution_count": 10,
   "id": "cedaf4d5-47e1-4517-b96e-96fc10fb268c",
   "metadata": {},
   "outputs": [
    {
     "data": {
      "text/html": [
       "<div>\n",
       "<style scoped>\n",
       "    .dataframe tbody tr th:only-of-type {\n",
       "        vertical-align: middle;\n",
       "    }\n",
       "\n",
       "    .dataframe tbody tr th {\n",
       "        vertical-align: top;\n",
       "    }\n",
       "\n",
       "    .dataframe thead th {\n",
       "        text-align: right;\n",
       "    }\n",
       "</style>\n",
       "<table border=\"1\" class=\"dataframe\">\n",
       "  <thead>\n",
       "    <tr style=\"text-align: right;\">\n",
       "      <th></th>\n",
       "      <th>img_path</th>\n",
       "      <th>text</th>\n",
       "      <th>class</th>\n",
       "      <th>label_idx</th>\n",
       "    </tr>\n",
       "  </thead>\n",
       "  <tbody>\n",
       "    <tr>\n",
       "      <th>0</th>\n",
       "      <td>/home/mchou001/train/1/1.png</td>\n",
       "      <td>'SOME ASPECTS OF RADIATION INDUCED NUCLEATION ...</td>\n",
       "      <td>Label-TitlePage</td>\n",
       "      <td>4</td>\n",
       "    </tr>\n",
       "    <tr>\n",
       "      <th>1</th>\n",
       "      <td>/home/mchou001/train/1/2.png</td>\n",
       "      <td>'2', 'Dedicated to my', 'parents and sisters'</td>\n",
       "      <td>Label-Dedication</td>\n",
       "      <td>10</td>\n",
       "    </tr>\n",
       "    <tr>\n",
       "      <th>2</th>\n",
       "      <td>/home/mchou001/train/1/3.png</td>\n",
       "      <td>'3', 'SOME ASPECTS OF RADIATION INDUCED NUCLEA...</td>\n",
       "      <td>Label-Abstract</td>\n",
       "      <td>5</td>\n",
       "    </tr>\n",
       "    <tr>\n",
       "      <th>3</th>\n",
       "      <td>/home/mchou001/train/1/4.png</td>\n",
       "      <td>'4', 'Acknowledgements', 'I wish to thank fore...</td>\n",
       "      <td>Label-Acknowledgement</td>\n",
       "      <td>7</td>\n",
       "    </tr>\n",
       "    <tr>\n",
       "      <th>4</th>\n",
       "      <td>/home/mchou001/train/1/5.png</td>\n",
       "      <td>'5', 'Table of Contents', 'Abstract', '3', 'Ac...</td>\n",
       "      <td>Label-TableofContent</td>\n",
       "      <td>3</td>\n",
       "    </tr>\n",
       "    <tr>\n",
       "      <th>...</th>\n",
       "      <td>...</td>\n",
       "      <td>...</td>\n",
       "      <td>...</td>\n",
       "      <td>...</td>\n",
       "    </tr>\n",
       "    <tr>\n",
       "      <th>24760</th>\n",
       "      <td>/home/mchou001/Label-Dedication/502/aug987.png</td>\n",
       "      <td>Dedication\\nThe song was reproduced with the p...</td>\n",
       "      <td>Label-Dedication</td>\n",
       "      <td>10</td>\n",
       "    </tr>\n",
       "    <tr>\n",
       "      <th>24761</th>\n",
       "      <td>/home/mchou001/Label-Dedication/502/aug988.png</td>\n",
       "      <td>Dedication\\nPermission is required for further...</td>\n",
       "      <td>Label-Dedication</td>\n",
       "      <td>10</td>\n",
       "    </tr>\n",
       "    <tr>\n",
       "      <th>24762</th>\n",
       "      <td>/home/mchou001/Label-Dedication/502/aug989.png</td>\n",
       "      <td>Dedication\\nPermission is needed for further r...</td>\n",
       "      <td>Label-Dedication</td>\n",
       "      <td>10</td>\n",
       "    </tr>\n",
       "    <tr>\n",
       "      <th>24763</th>\n",
       "      <td>/home/mchou001/Label-Dedication/502/aug990.png</td>\n",
       "      <td>Dedication\\nPermission is required for any fur...</td>\n",
       "      <td>Label-Dedication</td>\n",
       "      <td>10</td>\n",
       "    </tr>\n",
       "    <tr>\n",
       "      <th>24764</th>\n",
       "      <td>/home/mchou001/Label-Dedication/502/aug991.png</td>\n",
       "      <td>Dedication\\nPermission is not granted for furt...</td>\n",
       "      <td>Label-Dedication</td>\n",
       "      <td>10</td>\n",
       "    </tr>\n",
       "  </tbody>\n",
       "</table>\n",
       "<p>24765 rows × 4 columns</p>\n",
       "</div>"
      ],
      "text/plain": [
       "                                             img_path  \\\n",
       "0                        /home/mchou001/train/1/1.png   \n",
       "1                        /home/mchou001/train/1/2.png   \n",
       "2                        /home/mchou001/train/1/3.png   \n",
       "3                        /home/mchou001/train/1/4.png   \n",
       "4                        /home/mchou001/train/1/5.png   \n",
       "...                                               ...   \n",
       "24760  /home/mchou001/Label-Dedication/502/aug987.png   \n",
       "24761  /home/mchou001/Label-Dedication/502/aug988.png   \n",
       "24762  /home/mchou001/Label-Dedication/502/aug989.png   \n",
       "24763  /home/mchou001/Label-Dedication/502/aug990.png   \n",
       "24764  /home/mchou001/Label-Dedication/502/aug991.png   \n",
       "\n",
       "                                                    text  \\\n",
       "0      'SOME ASPECTS OF RADIATION INDUCED NUCLEATION ...   \n",
       "1          '2', 'Dedicated to my', 'parents and sisters'   \n",
       "2      '3', 'SOME ASPECTS OF RADIATION INDUCED NUCLEA...   \n",
       "3      '4', 'Acknowledgements', 'I wish to thank fore...   \n",
       "4      '5', 'Table of Contents', 'Abstract', '3', 'Ac...   \n",
       "...                                                  ...   \n",
       "24760  Dedication\\nThe song was reproduced with the p...   \n",
       "24761  Dedication\\nPermission is required for further...   \n",
       "24762  Dedication\\nPermission is needed for further r...   \n",
       "24763  Dedication\\nPermission is required for any fur...   \n",
       "24764  Dedication\\nPermission is not granted for furt...   \n",
       "\n",
       "                       class  label_idx  \n",
       "0            Label-TitlePage          4  \n",
       "1           Label-Dedication         10  \n",
       "2             Label-Abstract          5  \n",
       "3      Label-Acknowledgement          7  \n",
       "4       Label-TableofContent          3  \n",
       "...                      ...        ...  \n",
       "24760       Label-Dedication         10  \n",
       "24761       Label-Dedication         10  \n",
       "24762       Label-Dedication         10  \n",
       "24763       Label-Dedication         10  \n",
       "24764       Label-Dedication         10  \n",
       "\n",
       "[24765 rows x 4 columns]"
      ]
     },
     "execution_count": 10,
     "metadata": {},
     "output_type": "execute_result"
    }
   ],
   "source": [
    "data"
   ]
  },
  {
   "cell_type": "markdown",
   "id": "84cd7fb6-c376-4940-8bce-9afd40487d9f",
   "metadata": {},
   "source": [
    "## Visualize the data"
   ]
  },
  {
   "cell_type": "code",
   "execution_count": 11,
   "id": "5699cb9a-312f-426a-94ef-6bb824c7a336",
   "metadata": {},
   "outputs": [
    {
     "data": {
      "image/png": "[encoded data removed]",
      "text/plain": [
       "<Figure size 640x480 with 1 Axes>"
      ]
     },
     "metadata": {},
     "output_type": "display_data"
    },
    {
     "name": "stdout",
     "output_type": "stream",
     "text": [
      "Text:'Table 26. Environmental distribution of variance/mean', 'ratios for species number (s), bivalve number (x) and', 'length number (X) 1.00+0.48 is random at P<.05.', 'Values in parentheses are for ratios calculated on means 1.', 'VARIABLE AND', 'GROUP', 'I', 'II', 'III', 'IV', 'Group 1', 'S', '0.15', '0.20', '0.37', '0.88', 'X', '1.53', '2.46', '2.66', '1.51', 'X', '6.20', '7.45', '7.11', '4.86', 'L', 'Group 2', 'S', '0.08', '0.13', '0.27', '(0.94)', 'X', '1.50', '2.47', '2.21', '(1.31)', 'XL', '5.65', '6.52', '4.86', '(1.66)', 'Group 3', 'S', '(0.88)', '(0.67)', '1.03', '0.58', 'X', '(2.08)', '(1.23)', '1.28', '1.10', 'x', '7.62', '7.39', '3.79', '2.24', 'Reproduced with permission of the copyright owner. Further reproduction prohibited without permission.'\n",
      "Label:Label-Appendices\n"
     ]
    }
   ],
   "source": [
    "%matplotlib inline\n",
    "def visualize(idx):\n",
    "    current_row = data.iloc[idx]\n",
    "    image = cv2.imread(current_row['img_path'])\n",
    "    text = current_row['text']\n",
    "    label = current_row['class']\n",
    "    \n",
    "    plt.subplot(1,2,1)\n",
    "    plt.imshow(image)\n",
    "    plt.axis(\"off\")\n",
    "    plt.title(\"Image\")\n",
    "    plt.show()\n",
    "    \n",
    "    print(f\"Text:{text}\")\n",
    "    print(f\"Label:{label}\")\n",
    "\n",
    "random_idx = np.random.choice(len(data))\n",
    "visualize(random_idx)"
   ]
  },
  {
   "cell_type": "code",
   "execution_count": 12,
   "id": "cb557ed4-c1f2-4cde-9671-10b0bee6b2f6",
   "metadata": {},
   "outputs": [
    {
     "data": {
      "text/plain": [
       "Label-Appendices         8112\n",
       "Label-ReferenceList      3230\n",
       "Label-Other              2363\n",
       "Label-CurriculumVitae    1980\n",
       "Label-ChapterAbstract    1386\n",
       "Label-ListofFigures      1171\n",
       "Label-TableofContent     1120\n",
       "Label-ListofTables       1110\n",
       "Label-Abstract           1094\n",
       "Label-Acknowledgement    1084\n",
       "Label-Dedication         1069\n",
       "Label-TitlePage          1046\n",
       "Name: class, dtype: int64"
      ]
     },
     "execution_count": 12,
     "metadata": {},
     "output_type": "execute_result"
    }
   ],
   "source": [
    "data['class'].value_counts()"
   ]
  },
  {
   "cell_type": "markdown",
   "id": "d93d76b2-a9f7-40b2-8d27-d581eca27958",
   "metadata": {},
   "source": [
    "## Train, Test and Validation set"
   ]
  },
  {
   "cell_type": "code",
   "execution_count": 13,
   "id": "a19f31ca",
   "metadata": {},
   "outputs": [
    {
     "name": "stdout",
     "output_type": "stream",
     "text": [
      "Total training examples: 15787\n",
      "Total validation examples: 5263\n",
      "Total test examples: 3715\n"
     ]
    }
   ],
   "source": [
    "# 15% for test\n",
    "train_df, test_df = train_test_split(\n",
    "    data, test_size=0.15, stratify=data[\"class\"].values, random_state=42\n",
    ")\n",
    "# 25% for validation\n",
    "train_df, val_df = train_test_split(\n",
    "    train_df, test_size=0.25, stratify=train_df[\"class\"].values, random_state=42\n",
    ")\n",
    "\n",
    "print(f\"Total training examples: {len(train_df)}\")\n",
    "print(f\"Total validation examples: {len(val_df)}\")\n",
    "print(f\"Total test examples: {len(test_df)}\")"
   ]
  },
  {
   "cell_type": "code",
   "execution_count": 14,
   "id": "9b83c0f0-e37b-4482-8522-84a73290de01",
   "metadata": {},
   "outputs": [
    {
     "data": {
      "text/plain": [
       "img_path     object\n",
       "text         object\n",
       "class        object\n",
       "label_idx     int64\n",
       "dtype: object"
      ]
     },
     "execution_count": 14,
     "metadata": {},
     "output_type": "execute_result"
    }
   ],
   "source": [
    "train_df.dtypes"
   ]
  },
  {
   "cell_type": "code",
   "execution_count": 15,
   "id": "6fe940a4-bab4-48ea-b079-cd36baa8ccff",
   "metadata": {},
   "outputs": [
    {
     "data": {
      "text/plain": [
       "img_path     object\n",
       "text         object\n",
       "class        object\n",
       "label_idx     int64\n",
       "dtype: object"
      ]
     },
     "execution_count": 15,
     "metadata": {},
     "output_type": "execute_result"
    }
   ],
   "source": [
    "test_df.dtypes"
   ]
  },
  {
   "cell_type": "code",
   "execution_count": 16,
   "id": "6dbfb349-aad9-4e3e-ae7c-584e13149b53",
   "metadata": {},
   "outputs": [
    {
     "data": {
      "text/plain": [
       "img_path     object\n",
       "text         object\n",
       "class        object\n",
       "label_idx     int64\n",
       "dtype: object"
      ]
     },
     "execution_count": 16,
     "metadata": {},
     "output_type": "execute_result"
    }
   ],
   "source": [
    "val_df.dtypes"
   ]
  },
  {
   "cell_type": "code",
   "execution_count": 17,
   "id": "2f50bad2-cbe7-4fdd-bd3b-23f10989cb5e",
   "metadata": {},
   "outputs": [
    {
     "data": {
      "text/plain": [
       "Label-Appendices         5171\n",
       "Label-ReferenceList      2059\n",
       "Label-Other              1507\n",
       "Label-CurriculumVitae    1262\n",
       "Label-ChapterAbstract     883\n",
       "Label-ListofFigures       746\n",
       "Label-TableofContent      714\n",
       "Label-ListofTables        708\n",
       "Label-Abstract            697\n",
       "Label-Acknowledgement     691\n",
       "Label-Dedication          682\n",
       "Label-TitlePage           667\n",
       "Name: class, dtype: int64"
      ]
     },
     "execution_count": 17,
     "metadata": {},
     "output_type": "execute_result"
    }
   ],
   "source": [
    "train_df['class'].value_counts()"
   ]
  },
  {
   "cell_type": "code",
   "execution_count": 18,
   "id": "5802eda4-30c1-4753-b042-552ab795f95a",
   "metadata": {},
   "outputs": [
    {
     "data": {
      "text/plain": [
       "Label-Appendices         1217\n",
       "Label-ReferenceList       485\n",
       "Label-Other               354\n",
       "Label-CurriculumVitae     297\n",
       "Label-ChapterAbstract     208\n",
       "Label-ListofFigures       176\n",
       "Label-TableofContent      168\n",
       "Label-ListofTables        166\n",
       "Label-Abstract            164\n",
       "Label-Acknowledgement     163\n",
       "Label-Dedication          160\n",
       "Label-TitlePage           157\n",
       "Name: class, dtype: int64"
      ]
     },
     "execution_count": 18,
     "metadata": {},
     "output_type": "execute_result"
    }
   ],
   "source": [
    "test_df['class'].value_counts()"
   ]
  },
  {
   "cell_type": "code",
   "execution_count": 19,
   "id": "2bbbf235-cf9c-49e8-9a27-92651f34a65b",
   "metadata": {},
   "outputs": [
    {
     "data": {
      "text/plain": [
       "Label-Appendices         1724\n",
       "Label-ReferenceList       686\n",
       "Label-Other               502\n",
       "Label-CurriculumVitae     421\n",
       "Label-ChapterAbstract     295\n",
       "Label-ListofFigures       249\n",
       "Label-TableofContent      238\n",
       "Label-ListofTables        236\n",
       "Label-Abstract            233\n",
       "Label-Acknowledgement     230\n",
       "Label-Dedication          227\n",
       "Label-TitlePage           222\n",
       "Name: class, dtype: int64"
      ]
     },
     "execution_count": 19,
     "metadata": {},
     "output_type": "execute_result"
    }
   ],
   "source": [
    "val_df['class'].value_counts()"
   ]
  },
  {
   "cell_type": "code",
   "execution_count": 20,
   "id": "2ad2594e-78f3-4b2d-8fd3-5f0b0b8fad9f",
   "metadata": {},
   "outputs": [],
   "source": [
    "# Define TF Hub paths to the BERT encoder and its preprocessor\n",
    "#'https://tfhub.dev/tensorflow/bert_en_uncased_L-24_H-1024_A-16/3'\n",
    "    \n",
    "bert_model_path = (\n",
    "    'https://tfhub.dev/tensorflow/talkheads_ggelu_bert_en_large/2'\n",
    ")\n",
    "bert_preprocess_path = \"https://tfhub.dev/tensorflow/bert_en_uncased_preprocess/3\""
   ]
  },
  {
   "cell_type": "code",
   "execution_count": 21,
   "id": "0bbaecf0-02f5-418e-8655-78f28b77f5ce",
   "metadata": {},
   "outputs": [],
   "source": [
    "def make_bert_preprocessing_model(sentence_features, seq_length=512):\n",
    "    \"\"\"Returns Model mapping string features to BERT inputs.\n",
    "\n",
    "  Args:\n",
    "    sentence_features: A list with the names of string-valued features.\n",
    "    seq_length: An integer that defines the sequence length of BERT inputs.\n",
    "\n",
    "  Returns:\n",
    "    A Keras Model that can be called on a list or dict of string Tensors\n",
    "    (with the order or names, resp., given by sentence_features) and\n",
    "    returns a dict of tensors for input to BERT.\n",
    "  \"\"\"\n",
    "\n",
    "    input_segments = [\n",
    "        tf.keras.layers.Input(shape=(), dtype=tf.string, name=ft)\n",
    "        for ft in sentence_features\n",
    "    ]\n",
    "\n",
    "    # Tokenize the text to word pieces.\n",
    "    bert_preprocess = hub.load(bert_preprocess_path)\n",
    "    tokenizer = hub.KerasLayer(bert_preprocess.tokenize, name=\"tokenizer\")\n",
    "    segments = [tokenizer(s) for s in input_segments]\n",
    "\n",
    "    # Optional: Trim segments in a smart way to fit seq_length.\n",
    "    # Simple cases (like this example) can skip this step and let\n",
    "    # the next step apply a default truncation to approximately equal lengths.\n",
    "    truncated_segments = segments\n",
    "\n",
    "    # Pack inputs. The details (start/end token ids, dict of output tensors)\n",
    "    # are model-dependent, so this gets loaded from the SavedModel.\n",
    "    packer = hub.KerasLayer(\n",
    "        bert_preprocess.bert_pack_inputs,\n",
    "        arguments=dict(seq_length=seq_length),\n",
    "        name=\"packer\",\n",
    "    )\n",
    "    model_inputs = packer(truncated_segments)\n",
    "    return keras.Model(input_segments, model_inputs)"
   ]
  },
  {
   "cell_type": "code",
   "execution_count": 22,
   "id": "23d1c5dd-7f11-4c32-a2c9-51079b733a1d",
   "metadata": {},
   "outputs": [
    {
     "name": "stderr",
     "output_type": "stream",
     "text": [
      "2023-05-20 03:03:59.493181: I tensorflow/core/common_runtime/gpu/gpu_device.cc:1616] Created device /job:localhost/replica:0/task:0/device:GPU:0 with 14615 MB memory:  -> device: 0, name: Tesla V100-SXM2-16GB, pci bus id: 0000:1c:00.0, compute capability: 7.0\n"
     ]
    }
   ],
   "source": [
    "bert_preprocess_model = make_bert_preprocessing_model(['text'])\n",
    "#keras.utils.plot_model(bert_preprocess_model, show_shapes=True, show_dtype=True)"
   ]
  },
  {
   "cell_type": "markdown",
   "id": "fd11ac09-9ba6-4d77-8b41-0db80fec9670",
   "metadata": {},
   "source": [
    "## Running the preprocessor on a sample unit"
   ]
  },
  {
   "cell_type": "code",
   "execution_count": 23,
   "id": "f684f11b-6e29-4d87-bcfd-3569b960e4fa",
   "metadata": {},
   "outputs": [
    {
     "name": "stdout",
     "output_type": "stream",
     "text": [
      "Text: 'non-breeding surplus and population structure of the', 'red-winged blackbird (agelaius phoeniceus)', 'by', 'louis joseph laux, jr.', 'a dissertation submitted in partial fulfillment', 'of the requirements for the degree of', 'doctor of philosophy', '(zoology)', 'in the university of michigan', '1970', 'doctoral committee:', 'professor frederick e. smith, co-chairman, harvard university', 'professor francis c. evans, co-chairman', 'professor warren h. wagner, jr.', 'professor charles f. walker'\n"
     ]
    }
   ],
   "source": [
    "idx = np.random.choice(len(train_df))\n",
    "row = train_df.iloc[idx]\n",
    "sample_text  = row[\"text\"].lower()\n",
    "\n",
    "print(f\"Text: {sample_text}\")"
   ]
  },
  {
   "cell_type": "code",
   "execution_count": 24,
   "id": "960916a0-ab97-47dd-8c28-a0f90fa8839e",
   "metadata": {},
   "outputs": [],
   "source": [
    "test_text = [np.array([sample_text])]\n",
    "text_preprocessed = bert_preprocess_model(test_text)"
   ]
  },
  {
   "cell_type": "code",
   "execution_count": 25,
   "id": "3335f6a0-3db8-4813-95a2-2192d67162b7",
   "metadata": {},
   "outputs": [
    {
     "name": "stdout",
     "output_type": "stream",
     "text": [
      "Keys           :  ['input_type_ids', 'input_word_ids', 'input_mask']\n",
      "Shape Word Ids :  (1, 512)\n",
      "Word Ids       :  tf.Tensor(\n",
      "[  101  1005  2512  1011  8119 15726  1998  2313  3252  1997  1996  1005\n",
      "  1010  1005  2417  1011], shape=(16,), dtype=int32)\n",
      "Shape Mask     :  (1, 512)\n",
      "Input Mask     :  tf.Tensor([1 1 1 1 1 1 1 1 1 1 1 1 1 1 1 1], shape=(16,), dtype=int32)\n",
      "Shape Type Ids :  (1, 512)\n",
      "Type Ids       :  tf.Tensor([0 0 0 0 0 0 0 0 0 0 0 0 0 0 0 0], shape=(16,), dtype=int32)\n"
     ]
    }
   ],
   "source": [
    "print(\"Keys           : \", list(text_preprocessed.keys()))\n",
    "print(\"Shape Word Ids : \", text_preprocessed[\"input_word_ids\"].shape)\n",
    "print(\"Word Ids       : \", text_preprocessed[\"input_word_ids\"][0, :16])\n",
    "print(\"Shape Mask     : \", text_preprocessed[\"input_mask\"].shape)\n",
    "print(\"Input Mask     : \", text_preprocessed[\"input_mask\"][0, :16])\n",
    "print(\"Shape Type Ids : \", text_preprocessed[\"input_type_ids\"].shape)\n",
    "print(\"Type Ids       : \", text_preprocessed[\"input_type_ids\"][0, :16])"
   ]
  },
  {
   "cell_type": "code",
   "execution_count": 26,
   "id": "dbfbc844-00ba-4a0f-b6c3-5bfa94046fe9",
   "metadata": {},
   "outputs": [],
   "source": [
    "def dataframe_to_dataset(dataframe):\n",
    "    columns = [\"img_path\", \"text\", \"label_idx\"]\n",
    "    dataframe = dataframe[columns].copy()\n",
    "    labels = dataframe.pop(\"label_idx\")\n",
    "    ds = tf.data.Dataset.from_tensor_slices((dict(dataframe), labels))\n",
    "    ds = ds.shuffle(buffer_size=len(dataframe))\n",
    "    return ds"
   ]
  },
  {
   "cell_type": "code",
   "execution_count": 27,
   "id": "92a2f1bc-8e39-420e-98e1-48b5e82cc34d",
   "metadata": {},
   "outputs": [],
   "source": [
    "resize = (224, 224)\n",
    "bert_input_features = [\"input_word_ids\", \"input_type_ids\", \"input_mask\"]\n",
    "\n",
    "from keras.preprocessing.image import ImageDataGenerator\n",
    "\n",
    "def preprocess_image(image_path):\n",
    "\n",
    "    img_path = tf.io.read_file(image_path)\n",
    "    image_decode = tf.image.decode_png(img_path, 3)\n",
    "    image = tf.image.resize(image_decode, resize)\n",
    "    return image\n",
    "\n",
    "\n",
    "def preprocess_text(text):\n",
    "    text = tf.convert_to_tensor([text])\n",
    "    output = bert_preprocess_model([text])\n",
    "    output = {feature: tf.squeeze(output[feature]) for feature in bert_input_features}\n",
    "    return output\n",
    "\n",
    "\n",
    "def preprocess_text_and_image(sample):\n",
    "    image_1 = preprocess_image(sample[\"img_path\"])\n",
    "    text = preprocess_text(sample[\"text\"])\n",
    "    return {\"image\": image_1, \"text\": text}"
   ]
  },
  {
   "cell_type": "code",
   "execution_count": 28,
   "id": "f57fe8ed-410d-4a51-af44-226f10588fe5",
   "metadata": {},
   "outputs": [],
   "source": [
    "# example of progressively loading data\n",
    "batch_size = 8\n",
    "auto = tf.data.AUTOTUNE\n",
    "\n",
    "\n",
    "def prepare_dataset(dataframe, training=True):\n",
    "    ds = dataframe_to_dataset(dataframe)\n",
    "    if training:\n",
    "        ds = ds.shuffle(len(train_df))\n",
    "    ds = ds.map(lambda x, y: (preprocess_text_and_image(x), y)).cache()\n",
    "    ds = ds.batch(batch_size).prefetch(auto)\n",
    "    return ds"
   ]
  },
  {
   "cell_type": "code",
   "execution_count": 29,
   "id": "d71c45b7-4cd0-486f-a7c3-c628de437cb3",
   "metadata": {},
   "outputs": [],
   "source": [
    "train_ds = prepare_dataset(train_df)\n",
    "validation_ds = prepare_dataset(val_df, False)\n",
    "test_ds = prepare_dataset(test_df, False)"
   ]
  },
  {
   "cell_type": "code",
   "execution_count": 30,
   "id": "7d7f08f2-5e8b-4ad0-84fb-f2ea668fe9ca",
   "metadata": {},
   "outputs": [
    {
     "data": {
      "text/plain": [
       "<PrefetchDataset element_spec=({'image': TensorSpec(shape=(None, 224, 224, 3), dtype=tf.float32, name=None), 'text': {'input_word_ids': TensorSpec(shape=(None, 512), dtype=tf.int32, name=None), 'input_type_ids': TensorSpec(shape=(None, 512), dtype=tf.int32, name=None), 'input_mask': TensorSpec(shape=(None, 512), dtype=tf.int32, name=None)}}, TensorSpec(shape=(None,), dtype=tf.int64, name=None))>"
      ]
     },
     "execution_count": 30,
     "metadata": {},
     "output_type": "execute_result"
    }
   ],
   "source": [
    "train_ds"
   ]
  },
  {
   "cell_type": "code",
   "execution_count": 31,
   "id": "bd013758-e3fd-46d4-8fef-53d437097b5b",
   "metadata": {},
   "outputs": [],
   "source": [
    "def separate_labels(ds):\n",
    "    labels = []\n",
    "    for _, label in tqdm(ds.unbatch(), desc = 'Progress Bar'):\n",
    "        labels.append(label)\n",
    "    labels = np.array(labels)\n",
    "    return labels"
   ]
  },
  {
   "cell_type": "code",
   "execution_count": 32,
   "id": "0948c15c-0d10-4d1c-af0a-1bc53dbf6e1f",
   "metadata": {},
   "outputs": [
    {
     "name": "stdout",
     "output_type": "stream",
     "text": [
      "####### Separating Test Labels ##############\n"
     ]
    },
    {
     "name": "stderr",
     "output_type": "stream",
     "text": [
      "Progress Bar: 3715it [04:25, 14.02it/s]\n"
     ]
    }
   ],
   "source": [
    "print('####### Separating Test Labels ##############')\n",
    "test_labels = separate_labels(test_ds)"
   ]
  },
  {
   "cell_type": "markdown",
   "id": "051e4947-4818-4f09-81c6-40d227d4db58",
   "metadata": {},
   "source": [
    "## Projection Configuration"
   ]
  },
  {
   "cell_type": "code",
   "execution_count": 33,
   "id": "bd0de663-6b03-4e3f-9a1a-1e568df3dab8",
   "metadata": {},
   "outputs": [],
   "source": [
    "def project_embeddings(\n",
    "    embeddings, num_projection_layers, projection_dims, dropout_rate\n",
    "):\n",
    "    projected_embeddings = keras.layers.Dense(units=projection_dims)(embeddings)\n",
    "    for _ in range(num_projection_layers):\n",
    "        x = tf.nn.gelu(projected_embeddings)\n",
    "        x = keras.layers.Dense(projection_dims)(x)\n",
    "        x = keras.layers.Dropout(dropout_rate)(x)\n",
    "        x = keras.layers.Add()([projected_embeddings, x])\n",
    "        projected_embeddings = keras.layers.LayerNormalization()(x)\n",
    "    return projected_embeddings"
   ]
  },
  {
   "cell_type": "markdown",
   "id": "358a986b-1c23-43b7-a04a-ba5a5344898d",
   "metadata": {},
   "source": [
    "## Vision Encoder"
   ]
  },
  {
   "cell_type": "code",
   "execution_count": 34,
   "id": "a473614a-cd41-4a0c-b81d-76fed359ba21",
   "metadata": {},
   "outputs": [],
   "source": [
    "def create_vision_encoder(\n",
    "    num_projection_layers, projection_dims, dropout_rate, trainable=False\n",
    "):\n",
    "    # Load the pre-trained ResNet50V2 model to be used as the base encoder.\n",
    "    resnet_v2 = keras.applications.ResNet50V2(\n",
    "        include_top=False, weights=\"imagenet\", pooling=\"avg\"\n",
    "    )\n",
    "    # Set the trainability of the base encoder.\n",
    "    for layer in resnet_v2.layers:\n",
    "        layer.trainable = trainable\n",
    "\n",
    "    # Receive the images as inputs.\n",
    "    image_1 = keras.Input(shape=(224, 224, 3), name=\"image\")\n",
    "\n",
    "    # Preprocess the input image.\n",
    "    preprocessed_1 = keras.applications.resnet_v2.preprocess_input(image_1)\n",
    "\n",
    "    # Generate the embeddings for the images using the resnet_v2 model\n",
    "    embeddings = resnet_v2(preprocessed_1)\n",
    "    # embeddings = keras.layers.Concatenate()([embeddings_1, embeddings_2])\n",
    "\n",
    "    # Project the embeddings produced by the model.\n",
    "    outputs = project_embeddings(\n",
    "        embeddings, num_projection_layers, projection_dims, dropout_rate\n",
    "    )\n",
    "    # Create the vision encoder model.\n",
    "    return keras.Model([image_1], outputs, name=\"vision_encoder\")"
   ]
  },
  {
   "cell_type": "markdown",
   "id": "eb3e7926-c9e0-452f-90cd-7bbe2654870e",
   "metadata": {},
   "source": [
    "## Text Encoder"
   ]
  },
  {
   "cell_type": "code",
   "execution_count": 35,
   "id": "7ba597a8-e54a-429c-80d3-5e80188cfb3c",
   "metadata": {},
   "outputs": [],
   "source": [
    "def create_text_encoder(\n",
    "    num_projection_layers, projection_dims, dropout_rate, trainable=False\n",
    "):\n",
    "    # Load the pre-trained BERT model to be used as the base encoder.\n",
    "    bert = hub.KerasLayer(bert_model_path, name=\"bert\",)\n",
    "    # Set the trainability of the base encoder.\n",
    "    bert.trainable = trainable\n",
    "\n",
    "    # Receive the text as inputs.\n",
    "    bert_input_features = [\"input_type_ids\", \"input_mask\", \"input_word_ids\"]\n",
    "    inputs = {\n",
    "        feature: keras.Input(shape=(512,), dtype=tf.int32, name=feature)\n",
    "        for feature in bert_input_features\n",
    "    }\n",
    "\n",
    "    # Generate embeddings for the preprocessed text using the BERT model.\n",
    "    embeddings = bert(inputs)[\"pooled_output\"]\n",
    "\n",
    "    # Project the embeddings produced by the model.\n",
    "    outputs = project_embeddings(\n",
    "        embeddings, num_projection_layers, projection_dims, dropout_rate\n",
    "    )\n",
    "    # Create the text encoder model.\n",
    "    return keras.Model(inputs, outputs, name=\"text_encoder\")"
   ]
  },
  {
   "cell_type": "markdown",
   "id": "91481603-e387-408a-ac77-056c596d8076",
   "metadata": {},
   "source": [
    "## Multimodal"
   ]
  },
  {
   "cell_type": "code",
   "execution_count": 36,
   "id": "09b1a0f4-7ee4-4560-89e8-208aeea76a11",
   "metadata": {},
   "outputs": [
    {
     "name": "stdout",
     "output_type": "stream",
     "text": [
      "Model: \"model_1\"\n",
      "__________________________________________________________________________________________________\n",
      " Layer (type)                   Output Shape         Param #     Connected to                     \n",
      "==================================================================================================\n",
      " image (InputLayer)             [(None, 224, 224, 3  0           []                               \n",
      "                                )]                                                                \n",
      "                                                                                                  \n",
      " input_mask (InputLayer)        [(None, 512)]        0           []                               \n",
      "                                                                                                  \n",
      " input_type_ids (InputLayer)    [(None, 512)]        0           []                               \n",
      "                                                                                                  \n",
      " input_word_ids (InputLayer)    [(None, 512)]        0           []                               \n",
      "                                                                                                  \n",
      " vision_encoder (Functional)    (None, 256)          24155648    ['image[0][0]']                  \n",
      "                                                                                                  \n",
      " text_encoder (Functional)      (None, 256)          436244481   ['input_mask[0][0]',             \n",
      "                                                                  'input_type_ids[0][0]',         \n",
      "                                                                  'input_word_ids[0][0]']         \n",
      "                                                                                                  \n",
      " dropout_2 (Dropout)            (None, 256)          0           ['vision_encoder[0][0]']         \n",
      "                                                                                                  \n",
      " dropout_3 (Dropout)            (None, 256)          0           ['text_encoder[0][0]']           \n",
      "                                                                                                  \n",
      " concatenate (Concatenate)      (None, 512)          0           ['dropout_2[0][0]',              \n",
      "                                                                  'dropout_3[0][0]']              \n",
      "                                                                                                  \n",
      " dense_4 (Dense)                (None, 12)           6156        ['concatenate[0][0]']            \n",
      "                                                                                                  \n",
      "==================================================================================================\n",
      "Total params: 460,406,285\n",
      "Trainable params: 925,708\n",
      "Non-trainable params: 459,480,577\n",
      "__________________________________________________________________________________________________\n"
     ]
    }
   ],
   "source": [
    "def create_multimodal_model(\n",
    "    num_projection_layers=1,\n",
    "    projection_dims=256,\n",
    "    dropout_rate=0.1,\n",
    "    vision_trainable=False,\n",
    "    text_trainable=False,\n",
    "    attention = False\n",
    "):\n",
    "    # Receive the images as inputs.\n",
    "    image_1 = keras.Input(shape=(224, 224, 3), name=\"image\")\n",
    "\n",
    "    # Receive the text as inputs.\n",
    "    bert_input_features = [\"input_type_ids\", \"input_mask\", \"input_word_ids\"]\n",
    "    text_inputs = {\n",
    "        feature: keras.Input(shape=(512,), dtype=tf.int32, name=feature)\n",
    "        for feature in bert_input_features\n",
    "    }\n",
    "\n",
    "    # Create the encoders.\n",
    "    vision_encoder = create_vision_encoder(\n",
    "        num_projection_layers, projection_dims, dropout_rate, vision_trainable\n",
    "    )\n",
    "    text_encoder = create_text_encoder(\n",
    "        num_projection_layers, projection_dims, dropout_rate, text_trainable\n",
    "    )\n",
    "\n",
    "    # Fetch the embedding projections.\n",
    "    vision_projections = vision_encoder([image_1])\n",
    "    text_projections = text_encoder(text_inputs)\n",
    "    \n",
    "    # Cross attention\n",
    "    if attention:\n",
    "        query_value_attention_seq = keras.layers.Attention(use_scale=True, dropout=0.8)(\n",
    "            [vision_projections, text_projections]\n",
    "        )\n",
    "    \n",
    "    # Dropout\n",
    "    vision_projections = keras.layers.Dropout(0.8)(vision_projections)\n",
    "    text_projections = keras.layers.Dropout(0.8)(text_projections)\n",
    "\n",
    "    # Concatenate the projections and pass through the classification layer.\n",
    "    concatenated = keras.layers.Concatenate()([vision_projections, text_projections])\n",
    "    if attention:\n",
    "        concatenated = keras.layers.Concatenate()([concatenated, query_value_attention_seq])\n",
    "    outputs = keras.layers.Dense(12, activation=\"softmax\")(concatenated)\n",
    "    return keras.Model([image_1, text_inputs], outputs)\n",
    "\n",
    "\n",
    "multimodal_model = create_multimodal_model(attention=False)\n",
    "multimodal_model.summary()"
   ]
  },
  {
   "cell_type": "code",
   "execution_count": 40,
   "id": "dd038060-8bff-47d4-8719-22e21e7590c1",
   "metadata": {},
   "outputs": [],
   "source": [
    "EPOCHS = 40\n",
    "# learning_rate = keras.optimizers.schedules.CosineDecay(\n",
    "#     initial_learning_rate=0.001, decay_steps=train_ds.cardinality() * EPOCHS\n",
    "# )\n",
    "optimizer = tf.keras.optimizers.Adam(\n",
    "    decay=0.004, epsilon=1e-07, clipvalue=2.0, learning_rate=0.001)\n",
    "\n",
    "multimodal_model.compile(\n",
    "    optimizer=optimizer, loss=SparseCategoricalFocalLoss(gamma=2), metrics=\"accuracy\"\n",
    ")"
   ]
  },
  {
   "cell_type": "code",
   "execution_count": 41,
   "id": "53863842-cf5c-4b21-ae5f-5e6c2fa88d4b",
   "metadata": {},
   "outputs": [],
   "source": [
    "checkpoint = tf.keras.callbacks.ModelCheckpoint('multimodal_resNET50BERT_minority-3.h5', monitor='val_loss', save_best_only=True, verbose=1)\n",
    "es = EarlyStopping(monitor='val_loss', patience=10, restore_best_weights=True, mode='min', verbose=1)"
   ]
  },
  {
   "cell_type": "code",
   "execution_count": 42,
   "id": "190ecb6e-c8eb-4710-b6d2-812c7b447ffe",
   "metadata": {},
   "outputs": [
    {
     "name": "stdout",
     "output_type": "stream",
     "text": [
      "Epoch 1/40\n",
      "1974/1974 [==============================] - ETA: 0s - loss: 1.3523 - accuracy: 0.5150\n",
      "Epoch 1: val_loss improved from inf to 0.50147, saving model to multimodal_resNET50BERT_minority-3.h5\n",
      "1974/1974 [==============================] - 1509s 759ms/step - loss: 1.3523 - accuracy: 0.5150 - val_loss: 0.5015 - val_accuracy: 0.7346\n",
      "Epoch 2/40\n",
      "1974/1974 [==============================] - ETA: 0s - loss: 0.6072 - accuracy: 0.6790\n",
      "Epoch 2: val_loss improved from 0.50147 to 0.40431, saving model to multimodal_resNET50BERT_minority-3.h5\n",
      "1974/1974 [==============================] - 1288s 652ms/step - loss: 0.6072 - accuracy: 0.6790 - val_loss: 0.4043 - val_accuracy: 0.7788\n",
      "Epoch 3/40\n",
      "1974/1974 [==============================] - ETA: 0s - loss: 0.4768 - accuracy: 0.7366\n",
      "Epoch 3: val_loss improved from 0.40431 to 0.34108, saving model to multimodal_resNET50BERT_minority-3.h5\n",
      "1974/1974 [==============================] - 1287s 652ms/step - loss: 0.4768 - accuracy: 0.7366 - val_loss: 0.3411 - val_accuracy: 0.8041\n",
      "Epoch 4/40\n",
      "1974/1974 [==============================] - ETA: 0s - loss: 0.4018 - accuracy: 0.7704\n",
      "Epoch 4: val_loss improved from 0.34108 to 0.31025, saving model to multimodal_resNET50BERT_minority-3.h5\n",
      "1974/1974 [==============================] - 1287s 652ms/step - loss: 0.4018 - accuracy: 0.7704 - val_loss: 0.3103 - val_accuracy: 0.8151\n",
      "Epoch 5/40\n",
      "1974/1974 [==============================] - ETA: 0s - loss: 0.3618 - accuracy: 0.7896\n",
      "Epoch 5: val_loss improved from 0.31025 to 0.28838, saving model to multimodal_resNET50BERT_minority-3.h5\n",
      "1974/1974 [==============================] - 1287s 652ms/step - loss: 0.3618 - accuracy: 0.7896 - val_loss: 0.2884 - val_accuracy: 0.8301\n",
      "Epoch 6/40\n",
      "1974/1974 [==============================] - ETA: 0s - loss: 0.3360 - accuracy: 0.8006\n",
      "Epoch 6: val_loss improved from 0.28838 to 0.28283, saving model to multimodal_resNET50BERT_minority-3.h5\n",
      "1974/1974 [==============================] - 1288s 652ms/step - loss: 0.3360 - accuracy: 0.8006 - val_loss: 0.2828 - val_accuracy: 0.8288\n",
      "Epoch 7/40\n",
      "1974/1974 [==============================] - ETA: 0s - loss: 0.3221 - accuracy: 0.8059\n",
      "Epoch 7: val_loss improved from 0.28283 to 0.27136, saving model to multimodal_resNET50BERT_minority-3.h5\n",
      "1974/1974 [==============================] - 1288s 652ms/step - loss: 0.3221 - accuracy: 0.8059 - val_loss: 0.2714 - val_accuracy: 0.8383\n",
      "Epoch 8/40\n",
      "1974/1974 [==============================] - ETA: 0s - loss: 0.3094 - accuracy: 0.8104\n",
      "Epoch 8: val_loss improved from 0.27136 to 0.26488, saving model to multimodal_resNET50BERT_minority-3.h5\n",
      "1974/1974 [==============================] - 1287s 652ms/step - loss: 0.3094 - accuracy: 0.8104 - val_loss: 0.2649 - val_accuracy: 0.8423\n",
      "Epoch 9/40\n",
      "1974/1974 [==============================] - ETA: 0s - loss: 0.3016 - accuracy: 0.8116\n",
      "Epoch 9: val_loss improved from 0.26488 to 0.26278, saving model to multimodal_resNET50BERT_minority-3.h5\n",
      "1974/1974 [==============================] - 1287s 652ms/step - loss: 0.3016 - accuracy: 0.8116 - val_loss: 0.2628 - val_accuracy: 0.8419\n",
      "Epoch 10/40\n",
      "1974/1974 [==============================] - ETA: 0s - loss: 0.2872 - accuracy: 0.8242\n",
      "Epoch 10: val_loss improved from 0.26278 to 0.25774, saving model to multimodal_resNET50BERT_minority-3.h5\n",
      "1974/1974 [==============================] - 1287s 652ms/step - loss: 0.2872 - accuracy: 0.8242 - val_loss: 0.2577 - val_accuracy: 0.8436\n",
      "Epoch 11/40\n",
      "1974/1974 [==============================] - ETA: 0s - loss: 0.2887 - accuracy: 0.8231\n",
      "Epoch 11: val_loss improved from 0.25774 to 0.25343, saving model to multimodal_resNET50BERT_minority-3.h5\n",
      "1974/1974 [==============================] - 1287s 652ms/step - loss: 0.2887 - accuracy: 0.8231 - val_loss: 0.2534 - val_accuracy: 0.8470\n",
      "Epoch 12/40\n",
      "1974/1974 [==============================] - ETA: 0s - loss: 0.2799 - accuracy: 0.8260\n",
      "Epoch 12: val_loss improved from 0.25343 to 0.25043, saving model to multimodal_resNET50BERT_minority-3.h5\n",
      "1974/1974 [==============================] - 1288s 652ms/step - loss: 0.2799 - accuracy: 0.8260 - val_loss: 0.2504 - val_accuracy: 0.8503\n",
      "Epoch 13/40\n",
      "1974/1974 [==============================] - ETA: 0s - loss: 0.2705 - accuracy: 0.8279\n",
      "Epoch 13: val_loss improved from 0.25043 to 0.24832, saving model to multimodal_resNET50BERT_minority-3.h5\n",
      "1974/1974 [==============================] - 1287s 652ms/step - loss: 0.2705 - accuracy: 0.8279 - val_loss: 0.2483 - val_accuracy: 0.8497\n",
      "Epoch 14/40\n",
      "1974/1974 [==============================] - ETA: 0s - loss: 0.2724 - accuracy: 0.8346\n",
      "Epoch 14: val_loss improved from 0.24832 to 0.24506, saving model to multimodal_resNET50BERT_minority-3.h5\n",
      "1974/1974 [==============================] - 1288s 652ms/step - loss: 0.2724 - accuracy: 0.8346 - val_loss: 0.2451 - val_accuracy: 0.8495\n",
      "Epoch 15/40\n",
      "1974/1974 [==============================] - ETA: 0s - loss: 0.2679 - accuracy: 0.8333\n",
      "Epoch 15: val_loss improved from 0.24506 to 0.24446, saving model to multimodal_resNET50BERT_minority-3.h5\n",
      "1974/1974 [==============================] - 1287s 652ms/step - loss: 0.2679 - accuracy: 0.8333 - val_loss: 0.2445 - val_accuracy: 0.8518\n",
      "Epoch 16/40\n",
      "1974/1974 [==============================] - ETA: 0s - loss: 0.2602 - accuracy: 0.8383\n",
      "Epoch 16: val_loss improved from 0.24446 to 0.24168, saving model to multimodal_resNET50BERT_minority-3.h5\n",
      "1974/1974 [==============================] - 1287s 652ms/step - loss: 0.2602 - accuracy: 0.8383 - val_loss: 0.2417 - val_accuracy: 0.8539\n",
      "Epoch 17/40\n",
      "1974/1974 [==============================] - ETA: 0s - loss: 0.2564 - accuracy: 0.8377\n",
      "Epoch 17: val_loss improved from 0.24168 to 0.24008, saving model to multimodal_resNET50BERT_minority-3.h5\n",
      "1974/1974 [==============================] - 1287s 652ms/step - loss: 0.2564 - accuracy: 0.8377 - val_loss: 0.2401 - val_accuracy: 0.8548\n",
      "Epoch 18/40\n",
      "1974/1974 [==============================] - ETA: 0s - loss: 0.2531 - accuracy: 0.8409\n",
      "Epoch 18: val_loss improved from 0.24008 to 0.23897, saving model to multimodal_resNET50BERT_minority-3.h5\n",
      "1974/1974 [==============================] - 1287s 652ms/step - loss: 0.2531 - accuracy: 0.8409 - val_loss: 0.2390 - val_accuracy: 0.8556\n",
      "Epoch 19/40\n",
      "1974/1974 [==============================] - ETA: 0s - loss: 0.2471 - accuracy: 0.8423\n",
      "Epoch 19: val_loss improved from 0.23897 to 0.23824, saving model to multimodal_resNET50BERT_minority-3.h5\n",
      "1974/1974 [==============================] - 1288s 652ms/step - loss: 0.2471 - accuracy: 0.8423 - val_loss: 0.2382 - val_accuracy: 0.8548\n",
      "Epoch 20/40\n",
      "1974/1974 [==============================] - ETA: 0s - loss: 0.2502 - accuracy: 0.8398\n",
      "Epoch 20: val_loss improved from 0.23824 to 0.23585, saving model to multimodal_resNET50BERT_minority-3.h5\n",
      "1974/1974 [==============================] - 1287s 652ms/step - loss: 0.2502 - accuracy: 0.8398 - val_loss: 0.2358 - val_accuracy: 0.8533\n",
      "Epoch 21/40\n",
      "1974/1974 [==============================] - ETA: 0s - loss: 0.2490 - accuracy: 0.8429\n",
      "Epoch 21: val_loss improved from 0.23585 to 0.23440, saving model to multimodal_resNET50BERT_minority-3.h5\n",
      "1974/1974 [==============================] - 1287s 652ms/step - loss: 0.2490 - accuracy: 0.8429 - val_loss: 0.2344 - val_accuracy: 0.8567\n",
      "Epoch 22/40\n",
      "1974/1974 [==============================] - ETA: 0s - loss: 0.2435 - accuracy: 0.8444\n",
      "Epoch 22: val_loss improved from 0.23440 to 0.23413, saving model to multimodal_resNET50BERT_minority-3.h5\n",
      "1974/1974 [==============================] - 1287s 652ms/step - loss: 0.2435 - accuracy: 0.8444 - val_loss: 0.2341 - val_accuracy: 0.8564\n",
      "Epoch 23/40\n",
      "1974/1974 [==============================] - ETA: 0s - loss: 0.2425 - accuracy: 0.8476\n",
      "Epoch 23: val_loss improved from 0.23413 to 0.23293, saving model to multimodal_resNET50BERT_minority-3.h5\n",
      "1974/1974 [==============================] - 1288s 652ms/step - loss: 0.2425 - accuracy: 0.8476 - val_loss: 0.2329 - val_accuracy: 0.8575\n",
      "Epoch 24/40\n",
      "1974/1974 [==============================] - ETA: 0s - loss: 0.2410 - accuracy: 0.8440\n",
      "Epoch 24: val_loss improved from 0.23293 to 0.23283, saving model to multimodal_resNET50BERT_minority-3.h5\n",
      "1974/1974 [==============================] - 1287s 652ms/step - loss: 0.2410 - accuracy: 0.8440 - val_loss: 0.2328 - val_accuracy: 0.8586\n",
      "Epoch 25/40\n",
      "1974/1974 [==============================] - ETA: 0s - loss: 0.2378 - accuracy: 0.8480\n",
      "Epoch 25: val_loss improved from 0.23283 to 0.23213, saving model to multimodal_resNET50BERT_minority-3.h5\n",
      "1974/1974 [==============================] - 1288s 653ms/step - loss: 0.2378 - accuracy: 0.8480 - val_loss: 0.2321 - val_accuracy: 0.8579\n",
      "Epoch 26/40\n",
      "1974/1974 [==============================] - ETA: 0s - loss: 0.2381 - accuracy: 0.8491\n",
      "Epoch 26: val_loss improved from 0.23213 to 0.22950, saving model to multimodal_resNET50BERT_minority-3.h5\n",
      "1974/1974 [==============================] - 1287s 652ms/step - loss: 0.2381 - accuracy: 0.8491 - val_loss: 0.2295 - val_accuracy: 0.8590\n",
      "Epoch 27/40\n",
      "1974/1974 [==============================] - ETA: 0s - loss: 0.2303 - accuracy: 0.8525\n",
      "Epoch 27: val_loss improved from 0.22950 to 0.22924, saving model to multimodal_resNET50BERT_minority-3.h5\n",
      "1974/1974 [==============================] - 1287s 652ms/step - loss: 0.2303 - accuracy: 0.8525 - val_loss: 0.2292 - val_accuracy: 0.8594\n",
      "Epoch 28/40\n",
      "1974/1974 [==============================] - ETA: 0s - loss: 0.2336 - accuracy: 0.8527\n",
      "Epoch 28: val_loss improved from 0.22924 to 0.22803, saving model to multimodal_resNET50BERT_minority-3.h5\n",
      "1974/1974 [==============================] - 1286s 652ms/step - loss: 0.2336 - accuracy: 0.8527 - val_loss: 0.2280 - val_accuracy: 0.8603\n",
      "Epoch 29/40\n",
      "1974/1974 [==============================] - ETA: 0s - loss: 0.2313 - accuracy: 0.8512\n",
      "Epoch 29: val_loss improved from 0.22803 to 0.22771, saving model to multimodal_resNET50BERT_minority-3.h5\n",
      "1974/1974 [==============================] - 1287s 652ms/step - loss: 0.2313 - accuracy: 0.8512 - val_loss: 0.2277 - val_accuracy: 0.8619\n",
      "Epoch 30/40\n",
      "1974/1974 [==============================] - ETA: 0s - loss: 0.2295 - accuracy: 0.8536\n",
      "Epoch 30: val_loss improved from 0.22771 to 0.22711, saving model to multimodal_resNET50BERT_minority-3.h5\n",
      "1974/1974 [==============================] - 1286s 651ms/step - loss: 0.2295 - accuracy: 0.8536 - val_loss: 0.2271 - val_accuracy: 0.8594\n",
      "Epoch 31/40\n",
      "1974/1974 [==============================] - ETA: 0s - loss: 0.2277 - accuracy: 0.8517\n",
      "Epoch 31: val_loss improved from 0.22711 to 0.22578, saving model to multimodal_resNET50BERT_minority-3.h5\n",
      "1974/1974 [==============================] - 1287s 652ms/step - loss: 0.2277 - accuracy: 0.8517 - val_loss: 0.2258 - val_accuracy: 0.8609\n",
      "Epoch 32/40\n",
      "1974/1974 [==============================] - ETA: 0s - loss: 0.2223 - accuracy: 0.8558\n",
      "Epoch 32: val_loss improved from 0.22578 to 0.22536, saving model to multimodal_resNET50BERT_minority-3.h5\n",
      "1974/1974 [==============================] - 1288s 652ms/step - loss: 0.2223 - accuracy: 0.8558 - val_loss: 0.2254 - val_accuracy: 0.8619\n",
      "Epoch 33/40\n",
      "1974/1974 [==============================] - ETA: 0s - loss: 0.2287 - accuracy: 0.8515\n",
      "Epoch 33: val_loss improved from 0.22536 to 0.22459, saving model to multimodal_resNET50BERT_minority-3.h5\n",
      "1974/1974 [==============================] - 1286s 651ms/step - loss: 0.2287 - accuracy: 0.8515 - val_loss: 0.2246 - val_accuracy: 0.8617\n",
      "Epoch 34/40\n",
      "1974/1974 [==============================] - ETA: 0s - loss: 0.2197 - accuracy: 0.8581\n",
      "Epoch 34: val_loss improved from 0.22459 to 0.22423, saving model to multimodal_resNET50BERT_minority-3.h5\n",
      "1974/1974 [==============================] - 1288s 653ms/step - loss: 0.2197 - accuracy: 0.8581 - val_loss: 0.2242 - val_accuracy: 0.8632\n",
      "Epoch 35/40\n",
      "1974/1974 [==============================] - ETA: 0s - loss: 0.2244 - accuracy: 0.8549\n",
      "Epoch 35: val_loss did not improve from 0.22423\n",
      "1974/1974 [==============================] - 1266s 642ms/step - loss: 0.2244 - accuracy: 0.8549 - val_loss: 0.2244 - val_accuracy: 0.8634\n",
      "Epoch 36/40\n",
      "1974/1974 [==============================] - ETA: 0s - loss: 0.2220 - accuracy: 0.8584\n",
      "Epoch 36: val_loss improved from 0.22423 to 0.22386, saving model to multimodal_resNET50BERT_minority-3.h5\n",
      "1974/1974 [==============================] - 1286s 652ms/step - loss: 0.2220 - accuracy: 0.8584 - val_loss: 0.2239 - val_accuracy: 0.8621\n",
      "Epoch 37/40\n",
      "1974/1974 [==============================] - ETA: 0s - loss: 0.2197 - accuracy: 0.8580\n",
      "Epoch 37: val_loss improved from 0.22386 to 0.22371, saving model to multimodal_resNET50BERT_minority-3.h5\n",
      "1974/1974 [==============================] - 1287s 652ms/step - loss: 0.2197 - accuracy: 0.8580 - val_loss: 0.2237 - val_accuracy: 0.8624\n",
      "Epoch 38/40\n",
      "1974/1974 [==============================] - ETA: 0s - loss: 0.2230 - accuracy: 0.8560\n",
      "Epoch 38: val_loss improved from 0.22371 to 0.22303, saving model to multimodal_resNET50BERT_minority-3.h5\n",
      "1974/1974 [==============================] - 1288s 653ms/step - loss: 0.2230 - accuracy: 0.8560 - val_loss: 0.2230 - val_accuracy: 0.8634\n",
      "Epoch 39/40\n",
      "1974/1974 [==============================] - ETA: 0s - loss: 0.2198 - accuracy: 0.8553\n",
      "Epoch 39: val_loss improved from 0.22303 to 0.22227, saving model to multimodal_resNET50BERT_minority-3.h5\n",
      "1974/1974 [==============================] - 1286s 651ms/step - loss: 0.2198 - accuracy: 0.8553 - val_loss: 0.2223 - val_accuracy: 0.8636\n",
      "Epoch 40/40\n",
      "1974/1974 [==============================] - ETA: 0s - loss: 0.2165 - accuracy: 0.8576\n",
      "Epoch 40: val_loss improved from 0.22227 to 0.22118, saving model to multimodal_resNET50BERT_minority-3.h5\n",
      "1974/1974 [==============================] - 1287s 652ms/step - loss: 0.2165 - accuracy: 0.8576 - val_loss: 0.2212 - val_accuracy: 0.8662\n",
      "Training on GPU took: 861.4773773829143 minutes\n"
     ]
    }
   ],
   "source": [
    "start = time.time()\n",
    "with tf.device('/device:GPU:0'):\n",
    "    history = multimodal_model.fit(train_ds, validation_data=validation_ds, callbacks=[es, checkpoint], epochs=EPOCHS)\n",
    "stop = time.time()\n",
    "print(f'Training on GPU took: {(stop-start)/60} minutes')"
   ]
  },
  {
   "cell_type": "code",
   "execution_count": 43,
   "id": "1dc844ba-107d-4a92-8cae-833d9d3e76c1",
   "metadata": {},
   "outputs": [
    {
     "data": {
      "image/png": "[encoded data removed]",
      "text/plain": [
       "<Figure size 640x480 with 1 Axes>"
      ]
     },
     "metadata": {},
     "output_type": "display_data"
    }
   ],
   "source": [
    "loss_val = history.history['val_loss']\n",
    "loss_train = history.history['loss']\n",
    "plt.plot(loss_train, 'g', label='Training loss')\n",
    "plt.plot(loss_val, 'b', label='validation loss')\n",
    "plt.title('Training and Validation loss')\n",
    "plt.xlabel('Epochs')\n",
    "plt.ylabel('Loss')\n",
    "plt.legend()\n",
    "plt.show()"
   ]
  },
  {
   "cell_type": "code",
   "execution_count": 44,
   "id": "ed08499f-1fe6-4410-9e4c-4c550d5dd1d2",
   "metadata": {},
   "outputs": [
    {
     "data": {
      "image/png": "[encoded data removed]",
      "text/plain": [
       "<Figure size 640x480 with 1 Axes>"
      ]
     },
     "metadata": {},
     "output_type": "display_data"
    }
   ],
   "source": [
    "loss_train = history.history['accuracy']\n",
    "loss_val = history.history['val_accuracy']\n",
    "plt.plot(loss_train, 'g', label='Training Accuracy')\n",
    "plt.plot(loss_val, 'b', label='Validation Accuracy')\n",
    "plt.title('Training and Validation Accuracy')\n",
    "plt.xlabel('Epochs')\n",
    "plt.ylabel('Loss')\n",
    "plt.legend()\n",
    "plt.show()"
   ]
  },
  {
   "cell_type": "code",
   "execution_count": 49,
   "id": "c20c1a6d-a5ac-415c-9b52-317523780c1b",
   "metadata": {},
   "outputs": [],
   "source": [
    "#model = keras.models.load_weights('multimodal_resNET50BERT_minority-3.h5')"
   ]
  },
  {
   "cell_type": "code",
   "execution_count": 47,
   "id": "be1b3eb7-2fab-4523-8aa2-0dc3bbdb4b7d",
   "metadata": {},
   "outputs": [],
   "source": [
    "multimodal_model.load_weights('multimodal_resNET50BERT_minority-3.h5')"
   ]
  },
  {
   "cell_type": "code",
   "execution_count": 60,
   "id": "7c867ddb-f012-4c62-a6ca-04eb5108a245",
   "metadata": {},
   "outputs": [
    {
     "name": "stdout",
     "output_type": "stream",
     "text": [
      "472/472 [==============================] - 154s 327ms/step - loss: 0.3284 - accuracy: 0.8079\n",
      "Accuracy on the test set: 80.79%.\n"
     ]
    }
   ],
   "source": [
    "_, acc = multimodal_model.evaluate(test_ds)\n",
    "print(f\"Accuracy on the test set: {round(acc * 100, 2)}%.\")"
   ]
  },
  {
   "cell_type": "code",
   "execution_count": 45,
   "id": "e3348ec5-2ba1-4987-b60f-f2324a1c89ec",
   "metadata": {},
   "outputs": [],
   "source": [
    "class_names = list(label_map.keys())\n",
    "def detailed_test_eval(model):\n",
    "    prediction_labels = np.argmax(model.predict(test_ds), 1)\n",
    "    print(classification_report(test_labels, prediction_labels, target_names=class_names))\n",
    "    result = pd.DataFrame(confusion_matrix(test_labels, prediction_labels),\n",
    "                        index=class_names, columns=class_names)\n",
    "    result.to_csv('ETDSeg_confusion-matrix-2.csv')\n",
    "    return result"
   ]
  },
  {
   "cell_type": "code",
   "execution_count": 46,
   "id": "abd805ff-dd99-4ed4-ae86-ce6eb20b3652",
   "metadata": {},
   "outputs": [
    {
     "name": "stdout",
     "output_type": "stream",
     "text": [
      "465/465 [==============================] - 223s 472ms/step\n",
      "                       precision    recall  f1-score   support\n",
      "\n",
      "     Label-Appendices       0.85      0.90      0.87      1217\n",
      "  Label-ReferenceList       0.93      0.95      0.94       485\n",
      "          Label-Other       0.64      0.52      0.58       354\n",
      " Label-TableofContent       0.84      0.90      0.87       168\n",
      "      Label-TitlePage       0.89      0.92      0.91       157\n",
      "       Label-Abstract       0.71      0.66      0.68       164\n",
      "  Label-ListofFigures       0.75      0.80      0.77       176\n",
      "Label-Acknowledgement       0.94      0.93      0.93       163\n",
      "   Label-ListofTables       0.87      0.75      0.80       166\n",
      "Label-CurriculumVitae       0.98      0.98      0.98       297\n",
      "     Label-Dedication       0.99      0.91      0.95       160\n",
      "Label-ChapterAbstract       1.00      0.95      0.98       208\n",
      "\n",
      "             accuracy                           0.86      3715\n",
      "            macro avg       0.86      0.85      0.86      3715\n",
      "         weighted avg       0.86      0.86      0.86      3715\n",
      "\n"
     ]
    },
    {
     "data": {
      "text/html": [
       "<div>\n",
       "<style scoped>\n",
       "    .dataframe tbody tr th:only-of-type {\n",
       "        vertical-align: middle;\n",
       "    }\n",
       "\n",
       "    .dataframe tbody tr th {\n",
       "        vertical-align: top;\n",
       "    }\n",
       "\n",
       "    .dataframe thead th {\n",
       "        text-align: right;\n",
       "    }\n",
       "</style>\n",
       "<table border=\"1\" class=\"dataframe\">\n",
       "  <thead>\n",
       "    <tr style=\"text-align: right;\">\n",
       "      <th></th>\n",
       "      <th>Label-Appendices</th>\n",
       "      <th>Label-ReferenceList</th>\n",
       "      <th>Label-Other</th>\n",
       "      <th>Label-TableofContent</th>\n",
       "      <th>Label-TitlePage</th>\n",
       "      <th>Label-Abstract</th>\n",
       "      <th>Label-ListofFigures</th>\n",
       "      <th>Label-Acknowledgement</th>\n",
       "      <th>Label-ListofTables</th>\n",
       "      <th>Label-CurriculumVitae</th>\n",
       "      <th>Label-Dedication</th>\n",
       "      <th>Label-ChapterAbstract</th>\n",
       "    </tr>\n",
       "  </thead>\n",
       "  <tbody>\n",
       "    <tr>\n",
       "      <th>Label-Appendices</th>\n",
       "      <td>1100</td>\n",
       "      <td>17</td>\n",
       "      <td>68</td>\n",
       "      <td>4</td>\n",
       "      <td>2</td>\n",
       "      <td>16</td>\n",
       "      <td>3</td>\n",
       "      <td>3</td>\n",
       "      <td>2</td>\n",
       "      <td>2</td>\n",
       "      <td>0</td>\n",
       "      <td>0</td>\n",
       "    </tr>\n",
       "    <tr>\n",
       "      <th>Label-ReferenceList</th>\n",
       "      <td>18</td>\n",
       "      <td>462</td>\n",
       "      <td>1</td>\n",
       "      <td>1</td>\n",
       "      <td>0</td>\n",
       "      <td>1</td>\n",
       "      <td>1</td>\n",
       "      <td>0</td>\n",
       "      <td>0</td>\n",
       "      <td>0</td>\n",
       "      <td>1</td>\n",
       "      <td>0</td>\n",
       "    </tr>\n",
       "    <tr>\n",
       "      <th>Label-Other</th>\n",
       "      <td>97</td>\n",
       "      <td>16</td>\n",
       "      <td>185</td>\n",
       "      <td>5</td>\n",
       "      <td>15</td>\n",
       "      <td>20</td>\n",
       "      <td>7</td>\n",
       "      <td>3</td>\n",
       "      <td>4</td>\n",
       "      <td>2</td>\n",
       "      <td>0</td>\n",
       "      <td>0</td>\n",
       "    </tr>\n",
       "    <tr>\n",
       "      <th>Label-TableofContent</th>\n",
       "      <td>9</td>\n",
       "      <td>0</td>\n",
       "      <td>1</td>\n",
       "      <td>152</td>\n",
       "      <td>0</td>\n",
       "      <td>0</td>\n",
       "      <td>4</td>\n",
       "      <td>0</td>\n",
       "      <td>2</td>\n",
       "      <td>0</td>\n",
       "      <td>0</td>\n",
       "      <td>0</td>\n",
       "    </tr>\n",
       "    <tr>\n",
       "      <th>Label-TitlePage</th>\n",
       "      <td>3</td>\n",
       "      <td>0</td>\n",
       "      <td>8</td>\n",
       "      <td>0</td>\n",
       "      <td>145</td>\n",
       "      <td>0</td>\n",
       "      <td>0</td>\n",
       "      <td>0</td>\n",
       "      <td>0</td>\n",
       "      <td>1</td>\n",
       "      <td>0</td>\n",
       "      <td>0</td>\n",
       "    </tr>\n",
       "    <tr>\n",
       "      <th>Label-Abstract</th>\n",
       "      <td>36</td>\n",
       "      <td>0</td>\n",
       "      <td>17</td>\n",
       "      <td>0</td>\n",
       "      <td>1</td>\n",
       "      <td>108</td>\n",
       "      <td>2</td>\n",
       "      <td>0</td>\n",
       "      <td>0</td>\n",
       "      <td>0</td>\n",
       "      <td>0</td>\n",
       "      <td>0</td>\n",
       "    </tr>\n",
       "    <tr>\n",
       "      <th>Label-ListofFigures</th>\n",
       "      <td>10</td>\n",
       "      <td>1</td>\n",
       "      <td>0</td>\n",
       "      <td>15</td>\n",
       "      <td>0</td>\n",
       "      <td>0</td>\n",
       "      <td>140</td>\n",
       "      <td>0</td>\n",
       "      <td>10</td>\n",
       "      <td>0</td>\n",
       "      <td>0</td>\n",
       "      <td>0</td>\n",
       "    </tr>\n",
       "    <tr>\n",
       "      <th>Label-Acknowledgement</th>\n",
       "      <td>7</td>\n",
       "      <td>0</td>\n",
       "      <td>4</td>\n",
       "      <td>0</td>\n",
       "      <td>0</td>\n",
       "      <td>0</td>\n",
       "      <td>0</td>\n",
       "      <td>151</td>\n",
       "      <td>0</td>\n",
       "      <td>1</td>\n",
       "      <td>0</td>\n",
       "      <td>0</td>\n",
       "    </tr>\n",
       "    <tr>\n",
       "      <th>Label-ListofTables</th>\n",
       "      <td>8</td>\n",
       "      <td>0</td>\n",
       "      <td>0</td>\n",
       "      <td>5</td>\n",
       "      <td>0</td>\n",
       "      <td>1</td>\n",
       "      <td>28</td>\n",
       "      <td>0</td>\n",
       "      <td>124</td>\n",
       "      <td>0</td>\n",
       "      <td>0</td>\n",
       "      <td>0</td>\n",
       "    </tr>\n",
       "    <tr>\n",
       "      <th>Label-CurriculumVitae</th>\n",
       "      <td>1</td>\n",
       "      <td>2</td>\n",
       "      <td>1</td>\n",
       "      <td>0</td>\n",
       "      <td>0</td>\n",
       "      <td>0</td>\n",
       "      <td>0</td>\n",
       "      <td>1</td>\n",
       "      <td>1</td>\n",
       "      <td>291</td>\n",
       "      <td>0</td>\n",
       "      <td>0</td>\n",
       "    </tr>\n",
       "    <tr>\n",
       "      <th>Label-Dedication</th>\n",
       "      <td>10</td>\n",
       "      <td>0</td>\n",
       "      <td>0</td>\n",
       "      <td>0</td>\n",
       "      <td>0</td>\n",
       "      <td>0</td>\n",
       "      <td>1</td>\n",
       "      <td>3</td>\n",
       "      <td>0</td>\n",
       "      <td>0</td>\n",
       "      <td>146</td>\n",
       "      <td>0</td>\n",
       "    </tr>\n",
       "    <tr>\n",
       "      <th>Label-ChapterAbstract</th>\n",
       "      <td>0</td>\n",
       "      <td>0</td>\n",
       "      <td>3</td>\n",
       "      <td>0</td>\n",
       "      <td>0</td>\n",
       "      <td>7</td>\n",
       "      <td>0</td>\n",
       "      <td>0</td>\n",
       "      <td>0</td>\n",
       "      <td>0</td>\n",
       "      <td>0</td>\n",
       "      <td>198</td>\n",
       "    </tr>\n",
       "  </tbody>\n",
       "</table>\n",
       "</div>"
      ],
      "text/plain": [
       "                       Label-Appendices  Label-ReferenceList  Label-Other  \\\n",
       "Label-Appendices                   1100                   17           68   \n",
       "Label-ReferenceList                  18                  462            1   \n",
       "Label-Other                          97                   16          185   \n",
       "Label-TableofContent                  9                    0            1   \n",
       "Label-TitlePage                       3                    0            8   \n",
       "Label-Abstract                       36                    0           17   \n",
       "Label-ListofFigures                  10                    1            0   \n",
       "Label-Acknowledgement                 7                    0            4   \n",
       "Label-ListofTables                    8                    0            0   \n",
       "Label-CurriculumVitae                 1                    2            1   \n",
       "Label-Dedication                     10                    0            0   \n",
       "Label-ChapterAbstract                 0                    0            3   \n",
       "\n",
       "                       Label-TableofContent  Label-TitlePage  Label-Abstract  \\\n",
       "Label-Appendices                          4                2              16   \n",
       "Label-ReferenceList                       1                0               1   \n",
       "Label-Other                               5               15              20   \n",
       "Label-TableofContent                    152                0               0   \n",
       "Label-TitlePage                           0              145               0   \n",
       "Label-Abstract                            0                1             108   \n",
       "Label-ListofFigures                      15                0               0   \n",
       "Label-Acknowledgement                     0                0               0   \n",
       "Label-ListofTables                        5                0               1   \n",
       "Label-CurriculumVitae                     0                0               0   \n",
       "Label-Dedication                          0                0               0   \n",
       "Label-ChapterAbstract                     0                0               7   \n",
       "\n",
       "                       Label-ListofFigures  Label-Acknowledgement  \\\n",
       "Label-Appendices                         3                      3   \n",
       "Label-ReferenceList                      1                      0   \n",
       "Label-Other                              7                      3   \n",
       "Label-TableofContent                     4                      0   \n",
       "Label-TitlePage                          0                      0   \n",
       "Label-Abstract                           2                      0   \n",
       "Label-ListofFigures                    140                      0   \n",
       "Label-Acknowledgement                    0                    151   \n",
       "Label-ListofTables                      28                      0   \n",
       "Label-CurriculumVitae                    0                      1   \n",
       "Label-Dedication                         1                      3   \n",
       "Label-ChapterAbstract                    0                      0   \n",
       "\n",
       "                       Label-ListofTables  Label-CurriculumVitae  \\\n",
       "Label-Appendices                        2                      2   \n",
       "Label-ReferenceList                     0                      0   \n",
       "Label-Other                             4                      2   \n",
       "Label-TableofContent                    2                      0   \n",
       "Label-TitlePage                         0                      1   \n",
       "Label-Abstract                          0                      0   \n",
       "Label-ListofFigures                    10                      0   \n",
       "Label-Acknowledgement                   0                      1   \n",
       "Label-ListofTables                    124                      0   \n",
       "Label-CurriculumVitae                   1                    291   \n",
       "Label-Dedication                        0                      0   \n",
       "Label-ChapterAbstract                   0                      0   \n",
       "\n",
       "                       Label-Dedication  Label-ChapterAbstract  \n",
       "Label-Appendices                      0                      0  \n",
       "Label-ReferenceList                   1                      0  \n",
       "Label-Other                           0                      0  \n",
       "Label-TableofContent                  0                      0  \n",
       "Label-TitlePage                       0                      0  \n",
       "Label-Abstract                        0                      0  \n",
       "Label-ListofFigures                   0                      0  \n",
       "Label-Acknowledgement                 0                      0  \n",
       "Label-ListofTables                    0                      0  \n",
       "Label-CurriculumVitae                 0                      0  \n",
       "Label-Dedication                    146                      0  \n",
       "Label-ChapterAbstract                 0                    198  "
      ]
     },
     "execution_count": 46,
     "metadata": {},
     "output_type": "execute_result"
    }
   ],
   "source": [
    "detailed_test_eval(multimodal_model)"
   ]
  },
  {
   "cell_type": "code",
   "execution_count": null,
   "id": "e020ffe6-9bc6-47cf-8793-861bc92fd1ea",
   "metadata": {},
   "outputs": [],
   "source": []
  }
 ],
 "metadata": {
  "kernelspec": {
   "display_name": "Python 3 (ipykernel)",
   "language": "python",
   "name": "python3"
  },
  "language_info": {
   "codemirror_mode": {
    "name": "ipython",
    "version": 3
   },
   "file_extension": ".py",
   "mimetype": "text/x-python",
   "name": "python",
   "nbconvert_exporter": "python",
   "pygments_lexer": "ipython3",
   "version": "3.7.13"
  }
 },
 "nbformat": 4,
 "nbformat_minor": 5
}
