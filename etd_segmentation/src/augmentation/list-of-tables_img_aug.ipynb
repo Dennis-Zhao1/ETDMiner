{
 "cells": [
  {
   "cell_type": "markdown",
   "metadata": {},
   "source": [
    "### This script is going through all the list of tables images and perform image transformation and save the result as .png format."
   ]
  },
  {
   "cell_type": "code",
   "execution_count": 1,
   "metadata": {},
   "outputs": [],
   "source": [
    "## importing the modules from ETDAugmentation script\n",
    "from ipynb.fs.full.ETDaugmentation import *\n",
    "from imgaug import augmenters as iaa\n",
    "import imgaug as ia\n",
    "import pandas as pd\n",
    "import numpy as np\n",
    "import cv2\n",
    "import glob\n",
    "import re"
   ]
  },
  {
   "cell_type": "code",
   "execution_count": 17,
   "metadata": {},
   "outputs": [],
   "source": [
    "class LIST_TABLE_IMG_AUG:\n",
    "    \n",
    "    def img_transform(self, img_files):\n",
    "        self.img_files = img_files\n",
    "        \n",
    "        img_augmentation = iaa.Sequential([\n",
    "            iaa.Affine(rotate=(-6, 6)),\n",
    "            iaa.AdditiveGaussianNoise(scale=(10, 30)),\n",
    "            iaa.SaltAndPepper(p=0.07),\n",
    "            iaa.GaussianBlur(sigma=0.09),\n",
    "            iaa.LinearContrast(alpha=1),\n",
    "            iaa.PerspectiveTransform(scale=0.025, keep_size=True)\n",
    "        ], random_order = True)\n",
    "        \n",
    "        lower = 0\n",
    "        upper = 700\n",
    "        while lower < upper:\n",
    "            for n, images in enumerate(self.img_files[0:]):\n",
    "                aug_image = img_augmentation(image=cv2.imread(images))\n",
    "                cv2.imwrite('./Label-ListofTables/508/aug{}.png'.format(lower),aug_image)\n",
    "                lower += 1"
   ]
  },
  {
   "cell_type": "code",
   "execution_count": 18,
   "metadata": {},
   "outputs": [],
   "source": [
    "if __name__ == \"__main__\":\n",
    "    \n",
    "    parser = Preprocessor()    \n",
    "    tables = LIST_TABLE_IMG_AUG()\n",
    "    \n",
    "    img_path = glob.glob('./Label-ListofTables/*.png')\n",
    "    \n",
    "    augmented_img = tables.img_transform(img_path)\n",
    "    \n",
    "    image_path = sorted(glob.glob('/home/mchou001/Label-ListofTables/508/*.png'), key = parser.numericalSort)\n",
    "\n",
    "    df = pd.DataFrame(image_path, columns = ['filename'])\n",
    "    df['class'] = np.nan\n",
    "    df = df.fillna(\"Label-ListofTables\")\n",
    "    df.to_csv('list_of_tables_img_aug.csv', encoding = 'utf-8', index= None)"
   ]
  },
  {
   "cell_type": "code",
   "execution_count": 19,
   "metadata": {},
   "outputs": [
    {
     "name": "stdout",
     "output_type": "stream",
     "text": [
      "File count: 700\n"
     ]
    }
   ],
   "source": [
    "import os\n",
    "\n",
    "# folder path\n",
    "dir_path = './Label-ListofTables/508/'\n",
    "count = 0\n",
    "# Iterate directory\n",
    "for path in os.listdir(dir_path):\n",
    "    # check if current path is a file\n",
    "    if os.path.isfile(os.path.join(dir_path, path)):\n",
    "        count += 1\n",
    "print('File count:', count)"
   ]
  },
  {
   "cell_type": "code",
   "execution_count": 2,
   "metadata": {},
   "outputs": [],
   "source": [
    "#!zip -r cv_img.zip ./Label-CurriculumVitae/506/"
   ]
  },
  {
   "cell_type": "code",
   "execution_count": 5,
   "metadata": {},
   "outputs": [],
   "source": []
  },
  {
   "cell_type": "code",
   "execution_count": null,
   "metadata": {},
   "outputs": [],
   "source": []
  }
 ],
 "metadata": {
  "kernelspec": {
   "display_name": "Python 3",
   "language": "python",
   "name": "python3"
  },
  "language_info": {
   "codemirror_mode": {
    "name": "ipython",
    "version": 3
   },
   "file_extension": ".py",
   "mimetype": "text/x-python",
   "name": "python",
   "nbconvert_exporter": "python",
   "pygments_lexer": "ipython3",
   "version": "3.7.7"
  }
 },
 "nbformat": 4,
 "nbformat_minor": 4
}
