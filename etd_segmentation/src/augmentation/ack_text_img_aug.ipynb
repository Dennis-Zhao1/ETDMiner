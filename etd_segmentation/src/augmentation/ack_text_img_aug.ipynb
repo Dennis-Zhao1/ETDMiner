{
 "cells": [
  {
   "cell_type": "markdown",
   "metadata": {},
   "source": [
    "### This script is taking all the acknowledgement text, processing it, and then calling paraphrasing model to perform text based Augmentation. Then save the result as a image(.png) format. Finally, it goes through all the images and perform image transformation and save the result as .png format."
   ]
  },
  {
   "cell_type": "code",
   "execution_count": 1,
   "metadata": {},
   "outputs": [],
   "source": [
    "## importing the modules from ETDAugmentation script\n",
    "from ipynb.fs.full.ETDaugmentation import *\n",
    "from imgaug import augmenters as iaa\n",
    "import imgaug as ia\n",
    "import pandas as pd\n",
    "import numpy as np\n",
    "import cv2\n",
    "import glob\n",
    "import re"
   ]
  },
  {
   "cell_type": "code",
   "execution_count": 2,
   "metadata": {},
   "outputs": [],
   "source": [
    "class ACK_TEXT_IMG_AUG:\n",
    "    \n",
    "    def list_of_phrases(self, phrases_ack):\n",
    "        phrases_list = []\n",
    "        self.phrases_ack = phrases_ack\n",
    "        for text in self.phrases_ack:\n",
    "            ack = parser.preprocess_ack(text)\n",
    "            ack_paraphrase = augmentation.paraphrased_text(ack)\n",
    "            ack_list = [ack_paraphrase]\n",
    "            phrases_list.append(ack_list)\n",
    "        \n",
    "        return phrases_list\n",
    "\n",
    "    ## This function is taking all the augmented text and wrapping it so that it can fit into the page\n",
    "    ## it also adds heading to the top of the page\n",
    "\n",
    "    def list_of_ack(self, ack_text):\n",
    "        list_ack = []\n",
    "        self.ack_text = ack_text\n",
    "        for text in self.ack_text:\n",
    "            for row in text:\n",
    "                ack_text_wrap = augmentation.wrap_text(row)\n",
    "                ack_title = \"\\t\\t\\t\\t\\t\\t\\t\\t\\t\\t\\t\\t\\t\\t\\t\\t\\t\\t\\t\\t\\t\\t\\t\\t\\t\\t\\t\\t\\tACKNOWLEDGEMENTS\\n\" + ack_text_wrap\n",
    "                list_ack.append(ack_title)\n",
    "        return list_ack\n",
    "    \n",
    "    def text_on_img(self, fileName, text, size):\n",
    "        self.fileName = fileName\n",
    "        self.text = text\n",
    "        self.size = size\n",
    "        self.W = 2360\n",
    "        self.H = 3200\n",
    "        font = ImageFont.truetype('NimbusMonoPS-Bold.otf', size)\n",
    "        image = Image.new(mode = \"RGB\", size = (self.W, self.H), color = \"white\")\n",
    "        draw = ImageDraw.Draw(image)\n",
    "        w, h = draw.textsize(text)\n",
    "        ## Adjust the texual position in a page and draw the text on a image\n",
    "        '''\n",
    "        dedication -- 10 width and height 6; \n",
    "        ack -- 15 width and 6 height; \n",
    "        gabs -- 13 width and height 16;\n",
    "        abstract -- 20 width and height 6\n",
    "        '''\n",
    "        draw.text(((self.W-w)/15,(self.H-h)/6), text, font=font, fill=(0,0,0), spacing=60)\n",
    "        image.save(fileName)\n",
    "        \n",
    "        return image\n",
    "    \n",
    "    ## This function is calling text_on_image function and save the image to the directory\n",
    "    def ack_aug(self, ack_text_title):\n",
    "        self.ack_text_title = ack_text_title\n",
    "        for n, row in enumerate(self.ack_text_title):\n",
    "            fileName = (\"/home/mchou001/Label-Acknowledgement/aug_text{}.png\".format(n))\n",
    "            save_image = self.text_on_img(fileName, row, 40) ## dedication -- 43, ack and abstract - 40, gabs -- 38\n",
    "        \n",
    "        return save_image\n",
    "    \n",
    "    def img_transform(self, img_files):\n",
    "        self.img_files = img_files\n",
    "        \n",
    "        img_augmentation = iaa.Sequential([\n",
    "            iaa.Affine(rotate=(-6, 6)),\n",
    "            iaa.AdditiveGaussianNoise(scale=(10, 50)),\n",
    "            iaa.SaltAndPepper(p=0.1),\n",
    "            iaa.GaussianBlur(sigma=0.5),\n",
    "            iaa.LinearContrast(alpha=1),\n",
    "            iaa.PerspectiveTransform(scale=0.025, keep_size=True)\n",
    "        ], random_order = True)\n",
    "        \n",
    "        lower = 0\n",
    "        upper = 1000\n",
    "        while lower < upper:\n",
    "            for n, images in enumerate(self.img_files[0:]):\n",
    "                aug_image = img_augmentation(image=cv2.imread(images))\n",
    "                cv2.imwrite('./Label-Acknowledgement/501/aug{}.png'.format(lower),aug_image)\n",
    "                lower += 1"
   ]
  },
  {
   "cell_type": "code",
   "execution_count": 3,
   "metadata": {},
   "outputs": [
    {
     "name": "stdout",
     "output_type": "stream",
     "text": [
      "CPU times: user 9 µs, sys: 0 ns, total: 9 µs\n",
      "Wall time: 22.4 µs\n"
     ]
    }
   ],
   "source": [
    "if __name__ == \"__main__\":\n",
    "    \n",
    "    parser = Preprocessor()\n",
    "    augmentation = Augmentation()\n",
    "    \n",
    "    acknowledgement_text = ACK_TEXT_IMG_AUG()\n",
    "    \n",
    "    etd_data = pd.read_csv('ETD_aug.csv')\n",
    "    etd_data.set_index(\"class\", inplace = True)\n",
    "\n",
    "    label_ack = etd_data.loc[\"Label-Acknowledgement\"]\n",
    "    phrases_ack = label_ack['text']\n",
    "    \n",
    "    ack = acknowledgement_text.list_of_phrases(phrases_ack)\n",
    "    \n",
    "    ack_ = acknowledgement_text.list_of_ack(ack)\n",
    "    \n",
    "    ack_text_aug = acknowledgement_text.ack_aug(ack_)\n",
    "    \n",
    "    img_path = sorted(glob.glob('./Label-Acknowledgement/*.png'), key = parser.numericalSort)\n",
    "    \n",
    "    augmented_img = acknowledgement_text.img_transform(img_path)\n",
    "    \n",
    "    %%time \n",
    "    [ x**2 for x in range(10000)]"
   ]
  },
  {
   "cell_type": "code",
   "execution_count": null,
   "metadata": {},
   "outputs": [],
   "source": []
  }
 ],
 "metadata": {
  "kernelspec": {
   "display_name": "Python 3",
   "language": "python",
   "name": "python3"
  },
  "language_info": {
   "codemirror_mode": {
    "name": "ipython",
    "version": 3
   },
   "file_extension": ".py",
   "mimetype": "text/x-python",
   "name": "python",
   "nbconvert_exporter": "python",
   "pygments_lexer": "ipython3",
   "version": "3.7.7"
  }
 },
 "nbformat": 4,
 "nbformat_minor": 4
}
