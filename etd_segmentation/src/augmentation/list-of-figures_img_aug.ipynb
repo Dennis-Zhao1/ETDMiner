{
 "cells": [
  {
   "cell_type": "markdown",
   "metadata": {},
   "source": [
    "### This script is going through all the list of figures images and perform image transformation and save the result as .png format."
   ]
  },
  {
   "cell_type": "code",
   "execution_count": 1,
   "metadata": {},
   "outputs": [
    {
     "name": "stderr",
     "output_type": "stream",
     "text": [
      "2023-08-10 18:37:37.135687: I tensorflow/core/platform/cpu_feature_guard.cc:193] This TensorFlow binary is optimized with oneAPI Deep Neural Network Library (oneDNN) to use the following CPU instructions in performance-critical operations:  AVX2 AVX512F FMA\n",
      "To enable them in other operations, rebuild TensorFlow with the appropriate compiler flags.\n",
      "2023-08-10 18:37:37.535499: E tensorflow/stream_executor/cuda/cuda_blas.cc:2981] Unable to register cuBLAS factory: Attempting to register factory for plugin cuBLAS when one has already been registered\n"
     ]
    }
   ],
   "source": [
    "## importing the modules from ETDAugmentation script\n",
    "from ipynb.fs.full.ETDaugmentation import *\n",
    "from imgaug import augmenters as iaa\n",
    "import imgaug as ia\n",
    "import pandas as pd\n",
    "import numpy as np\n",
    "import cv2\n",
    "import glob\n",
    "import re\n",
    "import time\n",
    "from tqdm import tqdm\n",
    "import tensorflow as tf"
   ]
  },
  {
   "cell_type": "code",
   "execution_count": 9,
   "metadata": {},
   "outputs": [],
   "source": [
    "class LIST_FIG_IMG_AUG:\n",
    "    \n",
    "    def img_transform(self, img_files):\n",
    "        self.img_files = img_files\n",
    "        \n",
    "        img_augmentation = iaa.Sequential([\n",
    "            iaa.AdditiveGaussianNoise(scale=(10, 30)),\n",
    "            #iaa.SaltAndPepper(p=0.07),\n",
    "            iaa.GaussianBlur(sigma=0.09),\n",
    "            #iaa.LinearContrast(alpha=1),\n",
    "        ], random_order = True)\n",
    "        \n",
    "        for n, images in tqdm(enumerate(self.img_files[0:]), desc = 'Processing augmented images'):\n",
    "            aug_image = img_augmentation(image=cv2.imread(images))\n",
    "            cv2.imwrite('./Label-ListofFigures/524/aug{}.png'.format(n),aug_image)"
   ]
  },
  {
   "cell_type": "code",
   "execution_count": 10,
   "metadata": {},
   "outputs": [
    {
     "name": "stderr",
     "output_type": "stream",
     "text": [
      "Processing augmented images: 586it [05:38,  1.73it/s]\n"
     ]
    }
   ],
   "source": [
    "if __name__ == \"__main__\":\n",
    "    \n",
    "    start = time.time()\n",
    "    with tf.device('/gpu:0'):\n",
    "        #parser = Preprocessor()\n",
    "        LoF = LIST_FIG_IMG_AUG()\n",
    "        \n",
    "        etd_data = pd.read_csv('/home/mchou001/ResNET/500ETD.csv')\n",
    "        etd_data.set_index(\"class\", inplace = True)\n",
    "        \n",
    "        label_LoF = etd_data.loc[\"Label-ListofFigures\"]\n",
    "        img_path = label_LoF['img_path']\n",
    "    \n",
    "        augmented_img = LoF.img_transform(img_path)\n",
    "    \n",
    "#        image_path = sorted(glob.glob('/home/mchou001/Label-ListofFigures/508/*.png'), key = parser.numericalSort)\n",
    "\n",
    "#     df = pd.DataFrame(image_path, columns = ['filename'])\n",
    "#     df['class'] = np.nan\n",
    "#     df = df.fillna(\"Label-ListofFigures\")\n",
    "#     df.to_csv('list-of-figures_img_aug.csv', encoding = 'utf-8', index= None)"
   ]
  },
  {
   "cell_type": "code",
   "execution_count": 11,
   "metadata": {},
   "outputs": [
    {
     "name": "stdout",
     "output_type": "stream",
     "text": [
      "File count: 586\n"
     ]
    }
   ],
   "source": [
    "import os\n",
    "\n",
    "# folder path\n",
    "dir_path = './Label-ListofFigures/524/'\n",
    "count = 0\n",
    "# Iterate directory\n",
    "for path in os.listdir(dir_path):\n",
    "    # check if current path is a file\n",
    "    if os.path.isfile(os.path.join(dir_path, path)):\n",
    "        count += 1\n",
    "print('File count:', count)"
   ]
  },
  {
   "cell_type": "code",
   "execution_count": 12,
   "metadata": {},
   "outputs": [],
   "source": [
    "text = label_LoF['text']\n",
    "df = pd.DataFrame(text, columns = ['text'])\n",
    "df.to_csv('./Label-ListofFigures/LoF_text_v2.csv', encoding = 'utf-8', index= None)"
   ]
  },
  {
   "cell_type": "code",
   "execution_count": 13,
   "metadata": {},
   "outputs": [],
   "source": [
    "parser = Preprocessor()\n",
    "image_path = sorted(glob.glob('/home/mchou001/Label-ListofFigures/524/*.png'), key = parser.numericalSort)\n",
    "\n",
    "df = pd.DataFrame(image_path, columns = ['img_path'])\n",
    "df.to_csv('./Label-ListofFigures/LoF_v2.csv', encoding = 'utf-8', index= None)"
   ]
  },
  {
   "cell_type": "code",
   "execution_count": 14,
   "metadata": {},
   "outputs": [],
   "source": [
    "df1 = pd.read_csv('./Label-ListofFigures/LoF_v2.csv')\n",
    "df2 = pd.read_csv('./Label-ListofFigures/LoF_text_v2.csv')"
   ]
  },
  {
   "cell_type": "code",
   "execution_count": 15,
   "metadata": {},
   "outputs": [],
   "source": [
    "df3 = pd.concat([df1, df2], axis = 1)\n",
    "df3['class'] = np.nan\n",
    "df3 = df3.fillna(\"Label-ListofFigures\")\n",
    "df3.to_csv('./Label-ListofFigures/LoF_img_aug_v2.csv', index = None)"
   ]
  },
  {
   "cell_type": "code",
   "execution_count": null,
   "metadata": {},
   "outputs": [],
   "source": []
  }
 ],
 "metadata": {
  "kernelspec": {
   "display_name": "Python 3 (ipykernel)",
   "language": "python",
   "name": "python3"
  },
  "language_info": {
   "codemirror_mode": {
    "name": "ipython",
    "version": 3
   },
   "file_extension": ".py",
   "mimetype": "text/x-python",
   "name": "python",
   "nbconvert_exporter": "python",
   "pygments_lexer": "ipython3",
   "version": "3.7.13"
  }
 },
 "nbformat": 4,
 "nbformat_minor": 4
}
