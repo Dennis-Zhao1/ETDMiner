{
 "cells": [
  {
   "cell_type": "code",
   "execution_count": 619,
   "metadata": {},
   "outputs": [],
   "source": [
    "from ipynb.fs.full.ETDaugmentation import *\n",
    "from imgaug import augmenters as iaa\n",
    "import imgaug as ia\n",
    "import pandas as pd\n",
    "import numpy as np\n",
    "import cv2\n",
    "import glob\n",
    "import re\n",
    "import csv"
   ]
  },
  {
   "cell_type": "code",
   "execution_count": 341,
   "metadata": {},
   "outputs": [],
   "source": [
    "data = pd.read_csv('cv_data.csv')"
   ]
  },
  {
   "cell_type": "code",
   "execution_count": 342,
   "metadata": {},
   "outputs": [],
   "source": [
    "def cleanResume(resumeText):\n",
    "    resumeText = re.sub('http\\S+\\s*', ' ', resumeText)  # remove URLs\n",
    "    resumeText = re.sub('RT|cc', ' ', resumeText)  # remove RT and cc\n",
    "    resumeText = re.sub('#\\S+', '', resumeText)  # remove hashtags\n",
    "    #resumeText = re.sub('@\\S+', '  ', resumeText)  # remove mentions\n",
    "    #resumeText = re.sub('[%s]' % re.escape(\"\"\"!\"#$%&'()*+-./;:<=>?@[\\]^_`{|}~\"\"\"), ' ', resumeText)  # remove punctuations\n",
    "    resumeText = re.sub(r'[^\\x00-\\x7f]','', resumeText)\n",
    "    return resumeText"
   ]
  },
  {
   "cell_type": "code",
   "execution_count": 343,
   "metadata": {},
   "outputs": [],
   "source": [
    "data['cleaned_text'] = data['Resume'].apply(lambda x: cleanResume(x))\n",
    "df = data['cleaned_text']\n",
    "resume_list = df.values.tolist()"
   ]
  },
  {
   "cell_type": "code",
   "execution_count": 614,
   "metadata": {},
   "outputs": [],
   "source": [
    "W = 2360\n",
    "H = 3200\n",
    "\n",
    "def text_on_img(fileName, text, size):\n",
    "    font = ImageFont.truetype('NimbusMonoPS-Bold.otf', size)\n",
    "    image = Image.new(mode = \"RGB\", size = (W,H), color = \"white\")\n",
    "    draw = ImageDraw.Draw(image)\n",
    "    w, h = draw.textsize(text)\n",
    "    ## Adjust the texual position in a page and draw the text on a image\n",
    "    '''\n",
    "    dedication -- 14 width and height 8; \n",
    "    ack -- 15 width and 6 height; \n",
    "    gabs -- 13 width and height 16\n",
    "    abstract -- 16 width and height 12\n",
    "    chapter abstract -- 18 width and height 6\n",
    "    '''\n",
    "    alignments = [\"left\"]\n",
    "    y = 10\n",
    "    for alignment in alignments:\n",
    "        draw.text(((W-1000)/15,(H-600)/16), text, align=alignment, font=font, fill=(0,0,0), spacing=15)\n",
    "        image.save(fileName)\n",
    "\n",
    "    return image\n",
    "    \n",
    "## This function is calling text_on_image function and save the image to the directory\n",
    "def cv_aug(cv_text_list):\n",
    "    for n, row in enumerate(cv_text_list):\n",
    "        fileName = (\"/home/mchou001/Label-CurriculumVitae/aug_text{}.png\".format(n))\n",
    "        save_image = text_on_img(fileName, row, 32) ## dedication -- 43, ack and abstract - 40, gabs -- 38\n",
    "\n",
    "    return save_image\n",
    "\n",
    "def img_transform(img_files):\n",
    "\n",
    "    img_augmentation = iaa.Sequential([\n",
    "        iaa.Affine(rotate=(-6, 6)),\n",
    "        iaa.AdditiveGaussianNoise(scale=(10, 50)),\n",
    "        iaa.SaltAndPepper(p=0.1),\n",
    "        iaa.GaussianBlur(sigma=0.5),\n",
    "        iaa.LinearContrast(alpha=1),\n",
    "        iaa.PerspectiveTransform(scale=0.025, keep_size=True)\n",
    "    ], random_order = True)\n",
    "\n",
    "    lower = 0\n",
    "    upper = 1000\n",
    "    while lower < upper:\n",
    "        for n, images in enumerate(img_files[0:]):\n",
    "            aug_image = img_augmentation(image=cv2.imread(images))\n",
    "            cv2.imwrite('./Label-CurriculumVitae/506/aug{}.png'.format(lower),aug_image)\n",
    "            lower += 1"
   ]
  },
  {
   "cell_type": "code",
   "execution_count": 615,
   "metadata": {},
   "outputs": [],
   "source": [
    "#resume_list[0:4]"
   ]
  },
  {
   "cell_type": "code",
   "execution_count": 616,
   "metadata": {},
   "outputs": [],
   "source": [
    "text_title = []\n",
    "resume_text = []\n",
    "for rows in resume_list[0:]:\n",
    "    lines = [rows]\n",
    "    for txt in lines:\n",
    "        text_wrap = re.sub('(^[a-z]){1,100}\\s?', '\\n', txt)\n",
    "        text_wrap = re.sub('\\.\\s?', '\\n', txt)\n",
    "        text_wrap = re.sub('  ', ' * ', text_wrap)\n",
    "        text_wrap = re.sub('#\\s|/', '\\n', text_wrap)\n",
    "        #text_wrap = re.sub('[^,{1,100}]', '\\n', text_wrap)\n",
    "        text_title.append(text_wrap)\n",
    "\n",
    "text_titles = \"\\t\\t\\t\\t\\t\\t\\t\\t\\t\\t\\t\\t\\t\\t\\t\\t\\t\\t\\t\\t\\t\\t\\t\\t\\t\\t\\t\\t\\t\\t\\t\\t\\t\\t\\t\\t\\tCURRICULUM VITAE\\n\\n\"\n",
    "for rows in text_title:\n",
    "    resume = text_titles + rows\n",
    "    resume_text.append(resume)"
   ]
  },
  {
   "cell_type": "code",
   "execution_count": 620,
   "metadata": {},
   "outputs": [],
   "source": [
    "if __name__ == \"__main__\":\n",
    "    parser = Preprocessor()\n",
    "    img_path = glob.glob('./Label-CurriculumVitae/*.png')\n",
    "    cv_text_aug = cv_aug(resume_text)\n",
    "    cv_img_aug = img_transform(img_path)\n",
    "\n",
    "    image_path = sorted(glob.glob('/home/mchou001/Label-CurriculumVitae/506/*.png'), key = parser.numericalSort)\n",
    "    df = pd.DataFrame(image_path, columns = ['filename'])\n",
    "    df['class'] = np.nan\n",
    "    df = df.fillna(\"Label-CurriculumVitae\")\n",
    "    df.to_csv('cv_img_aug.csv', encoding = 'utf-8', index= None)"
   ]
  },
  {
   "cell_type": "code",
   "execution_count": 621,
   "metadata": {},
   "outputs": [
    {
     "name": "stdout",
     "output_type": "stream",
     "text": [
      "File count: 1924\n"
     ]
    }
   ],
   "source": [
    "import os\n",
    "\n",
    "# folder path\n",
    "dir_path = './Label-CurriculumVitae/506/'\n",
    "count = 0\n",
    "# Iterate directory\n",
    "for path in os.listdir(dir_path):\n",
    "    # check if current path is a file\n",
    "    if os.path.isfile(os.path.join(dir_path, path)):\n",
    "        count += 1\n",
    "print('File count:', count)"
   ]
  },
  {
   "cell_type": "code",
   "execution_count": 259,
   "metadata": {},
   "outputs": [],
   "source": [
    "#!zip -r cv_txt_img.zip ./Label-CurriculumVitae"
   ]
  },
  {
   "cell_type": "code",
   "execution_count": null,
   "metadata": {},
   "outputs": [],
   "source": []
  }
 ],
 "metadata": {
  "kernelspec": {
   "display_name": "Python 3",
   "language": "python",
   "name": "python3"
  },
  "language_info": {
   "codemirror_mode": {
    "name": "ipython",
    "version": 3
   },
   "file_extension": ".py",
   "mimetype": "text/x-python",
   "name": "python",
   "nbconvert_exporter": "python",
   "pygments_lexer": "ipython3",
   "version": "3.7.7"
  }
 },
 "nbformat": 4,
 "nbformat_minor": 4
}
