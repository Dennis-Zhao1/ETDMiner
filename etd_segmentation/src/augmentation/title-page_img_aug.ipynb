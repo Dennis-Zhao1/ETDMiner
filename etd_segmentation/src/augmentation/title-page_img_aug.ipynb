{
 "cells": [
  {
   "cell_type": "markdown",
   "metadata": {},
   "source": [
    "### This script is going through all the list of figures images and perform image transformation and save the result as .png format."
   ]
  },
  {
   "cell_type": "code",
   "execution_count": 1,
   "metadata": {},
   "outputs": [
    {
     "name": "stderr",
     "output_type": "stream",
     "text": [
      "2023-08-10 21:00:51.270808: I tensorflow/core/platform/cpu_feature_guard.cc:193] This TensorFlow binary is optimized with oneAPI Deep Neural Network Library (oneDNN) to use the following CPU instructions in performance-critical operations:  AVX2 AVX512F FMA\n",
      "To enable them in other operations, rebuild TensorFlow with the appropriate compiler flags.\n",
      "2023-08-10 21:00:51.585766: E tensorflow/stream_executor/cuda/cuda_blas.cc:2981] Unable to register cuBLAS factory: Attempting to register factory for plugin cuBLAS when one has already been registered\n"
     ]
    }
   ],
   "source": [
    "## importing the modules from ETDAugmentation script\n",
    "from ipynb.fs.full.ETDaugmentation import *\n",
    "from imgaug import augmenters as iaa\n",
    "import imgaug as ia\n",
    "import pandas as pd\n",
    "import numpy as np\n",
    "import cv2\n",
    "import glob\n",
    "import re\n",
    "import time\n",
    "from tqdm import tqdm\n",
    "import tensorflow as tf"
   ]
  },
  {
   "cell_type": "code",
   "execution_count": 2,
   "metadata": {},
   "outputs": [],
   "source": [
    "class TITLE_PAGE_IMG_AUG:\n",
    "    \n",
    "    def img_transform(self, img_files):\n",
    "        self.img_files = img_files\n",
    "        \n",
    "        img_augmentation = iaa.Sequential([\n",
    "            iaa.AdditiveGaussianNoise(scale=(10, 30)),\n",
    "            iaa.SaltAndPepper(p=0.07),\n",
    "            iaa.GaussianBlur(sigma=0.09),\n",
    "            iaa.LinearContrast(alpha=1),\n",
    "        ], random_order = True)\n",
    "        \n",
    "        for n, images in tqdm(enumerate(self.img_files[0:]), desc = 'Processing augmented images'):\n",
    "            aug_image = img_augmentation(image=cv2.imread(images))\n",
    "            cv2.imwrite('./Label-TitlePage/526/aug{}.png'.format(n),aug_image)"
   ]
  },
  {
   "cell_type": "code",
   "execution_count": 3,
   "metadata": {},
   "outputs": [
    {
     "name": "stderr",
     "output_type": "stream",
     "text": [
      "2023-08-10 21:01:13.521397: I tensorflow/core/platform/cpu_feature_guard.cc:193] This TensorFlow binary is optimized with oneAPI Deep Neural Network Library (oneDNN) to use the following CPU instructions in performance-critical operations:  AVX2 AVX512F FMA\n",
      "To enable them in other operations, rebuild TensorFlow with the appropriate compiler flags.\n",
      "2023-08-10 21:01:14.372148: I tensorflow/core/common_runtime/gpu/gpu_device.cc:1616] Created device /job:localhost/replica:0/task:0/device:GPU:0 with 1112 MB memory:  -> device: 0, name: Tesla V100-SXM2-16GB, pci bus id: 0000:1a:00.0, compute capability: 7.0\n",
      "Processing augmented images: 600it [10:34,  1.06s/it]\n"
     ]
    }
   ],
   "source": [
    "if __name__ == \"__main__\":\n",
    "    \n",
    "    start = time.time()\n",
    "    with tf.device('/gpu:0'):\n",
    "        #parser = Preprocessor()\n",
    "        titlePage = TITLE_PAGE_IMG_AUG()\n",
    "        \n",
    "        etd_data = pd.read_csv('/home/mchou001/ResNET/500ETD.csv')\n",
    "        etd_data.set_index(\"class\", inplace = True)\n",
    "        \n",
    "        label_tp = etd_data.loc[\"Label-TitlePage\"][0:600]\n",
    "        img_path = label_tp['img_path']\n",
    "    \n",
    "        augmented_img = titlePage.img_transform(img_path)\n",
    "    \n",
    "#        image_path = sorted(glob.glob('/home/mchou001/Label-ListofFigures/508/*.png'), key = parser.numericalSort)\n",
    "\n",
    "#     df = pd.DataFrame(image_path, columns = ['filename'])\n",
    "#     df['class'] = np.nan\n",
    "#     df = df.fillna(\"Label-ListofFigures\")\n",
    "#     df.to_csv('list-of-figures_img_aug.csv', encoding = 'utf-8', index= None)"
   ]
  },
  {
   "cell_type": "code",
   "execution_count": 25,
   "metadata": {},
   "outputs": [
    {
     "name": "stdout",
     "output_type": "stream",
     "text": [
      "File count: 600\n"
     ]
    }
   ],
   "source": [
    "import os\n",
    "\n",
    "# folder path\n",
    "dir_path = './Label-TitlePage/526/'\n",
    "count = 0\n",
    "# Iterate directory\n",
    "for path in os.listdir(dir_path):\n",
    "    # check if current path is a file\n",
    "    if os.path.isfile(os.path.join(dir_path, path)):\n",
    "        count += 1\n",
    "print('File count:', count)"
   ]
  },
  {
   "cell_type": "code",
   "execution_count": 26,
   "metadata": {},
   "outputs": [],
   "source": [
    "text = label_tp['text']\n",
    "df = pd.DataFrame(text, columns = ['text'])\n",
    "df.to_csv('./Label-TitlePage/titlePage_text.csv', encoding = 'utf-8', index= None)"
   ]
  },
  {
   "cell_type": "code",
   "execution_count": 27,
   "metadata": {},
   "outputs": [],
   "source": [
    "parser = Preprocessor()\n",
    "image_path = sorted(glob.glob('/home/mchou001/Label-TitlePage/526/*.png'), key = parser.numericalSort)\n",
    "\n",
    "df = pd.DataFrame(image_path, columns = ['img_path'])\n",
    "df.to_csv('./Label-TitlePage/titlePage_img.csv', encoding = 'utf-8', index= None)"
   ]
  },
  {
   "cell_type": "code",
   "execution_count": 31,
   "metadata": {},
   "outputs": [],
   "source": [
    "df1 = pd.read_csv('./Label-TitlePage/titlePage_img.csv')\n",
    "df2 = pd.read_csv('./Label-TitlePage/titlePage_text.csv')"
   ]
  },
  {
   "cell_type": "code",
   "execution_count": 32,
   "metadata": {},
   "outputs": [],
   "source": [
    "df3 = pd.concat([df1, df2], axis = 1)\n",
    "df3['class'] = np.nan\n",
    "df3 = df3.fillna(\"Label-TitlePage\")\n",
    "df3.to_csv('./Label-TitlePage/titlePage_img_aug.csv', index = None)"
   ]
  },
  {
   "cell_type": "code",
   "execution_count": 33,
   "metadata": {},
   "outputs": [
    {
     "data": {
      "text/html": [
       "<div>\n",
       "<style scoped>\n",
       "    .dataframe tbody tr th:only-of-type {\n",
       "        vertical-align: middle;\n",
       "    }\n",
       "\n",
       "    .dataframe tbody tr th {\n",
       "        vertical-align: top;\n",
       "    }\n",
       "\n",
       "    .dataframe thead th {\n",
       "        text-align: right;\n",
       "    }\n",
       "</style>\n",
       "<table border=\"1\" class=\"dataframe\">\n",
       "  <thead>\n",
       "    <tr style=\"text-align: right;\">\n",
       "      <th></th>\n",
       "      <th>img_path</th>\n",
       "      <th>text</th>\n",
       "      <th>class</th>\n",
       "    </tr>\n",
       "  </thead>\n",
       "  <tbody>\n",
       "    <tr>\n",
       "      <th>0</th>\n",
       "      <td>/home/mchou001/Label-TitlePage/526/aug0.png</td>\n",
       "      <td>'SOME ASPECTS OF RADIATION INDUCED NUCLEATION ...</td>\n",
       "      <td>Label-TitlePage</td>\n",
       "    </tr>\n",
       "    <tr>\n",
       "      <th>1</th>\n",
       "      <td>/home/mchou001/Label-TitlePage/526/aug1.png</td>\n",
       "      <td>'PPOCEDUPES AS A PE PPESENTATION FCP nATA', 'I...</td>\n",
       "      <td>Label-TitlePage</td>\n",
       "    </tr>\n",
       "    <tr>\n",
       "      <th>2</th>\n",
       "      <td>/home/mchou001/Label-TitlePage/526/aug2.png</td>\n",
       "      <td>'i', 'AN EXPERIMENTAL INVESTIGATION OF', 'OIL ...</td>\n",
       "      <td>Label-TitlePage</td>\n",
       "    </tr>\n",
       "    <tr>\n",
       "      <th>3</th>\n",
       "      <td>/home/mchou001/Label-TitlePage/526/aug3.png</td>\n",
       "      <td>'DIGITAL SIMULATION OF A', 'TRANSPORTATION INT...</td>\n",
       "      <td>Label-TitlePage</td>\n",
       "    </tr>\n",
       "    <tr>\n",
       "      <th>4</th>\n",
       "      <td>/home/mchou001/Label-TitlePage/526/aug4.png</td>\n",
       "      <td>'IMMERSIONS OF SYMMETRIC SPACES', 'by', 'EDMUN...</td>\n",
       "      <td>Label-TitlePage</td>\n",
       "    </tr>\n",
       "    <tr>\n",
       "      <th>...</th>\n",
       "      <td>...</td>\n",
       "      <td>...</td>\n",
       "      <td>...</td>\n",
       "    </tr>\n",
       "    <tr>\n",
       "      <th>595</th>\n",
       "      <td>/home/mchou001/Label-TitlePage/526/aug595.png</td>\n",
       "      <td>'73-27,539', 'FISCHER, Richard Gatts, 1942-', ...</td>\n",
       "      <td>Label-TitlePage</td>\n",
       "    </tr>\n",
       "    <tr>\n",
       "      <th>596</th>\n",
       "      <td>/home/mchou001/Label-TitlePage/526/aug596.png</td>\n",
       "      <td>'IMPROVING INVESTMENT PERTORMANCE', 'AND', 'TH...</td>\n",
       "      <td>Label-TitlePage</td>\n",
       "    </tr>\n",
       "    <tr>\n",
       "      <th>597</th>\n",
       "      <td>/home/mchou001/Label-TitlePage/526/aug597.png</td>\n",
       "      <td>'73-30,191', 'BUNTING, Charles I., 1942-', 'TH...</td>\n",
       "      <td>Label-TitlePage</td>\n",
       "    </tr>\n",
       "    <tr>\n",
       "      <th>598</th>\n",
       "      <td>/home/mchou001/Label-TitlePage/526/aug598.png</td>\n",
       "      <td>'THE PROCESS OF PROGRAM INITIATION AT THE FEDE...</td>\n",
       "      <td>Label-TitlePage</td>\n",
       "    </tr>\n",
       "    <tr>\n",
       "      <th>599</th>\n",
       "      <td>/home/mchou001/Label-TitlePage/526/aug599.png</td>\n",
       "      <td>'74-5785', 'WILLIAMSON, Lorna Joan, 1947-', 'I...</td>\n",
       "      <td>Label-TitlePage</td>\n",
       "    </tr>\n",
       "  </tbody>\n",
       "</table>\n",
       "<p>600 rows × 3 columns</p>\n",
       "</div>"
      ],
      "text/plain": [
       "                                          img_path  \\\n",
       "0      /home/mchou001/Label-TitlePage/526/aug0.png   \n",
       "1      /home/mchou001/Label-TitlePage/526/aug1.png   \n",
       "2      /home/mchou001/Label-TitlePage/526/aug2.png   \n",
       "3      /home/mchou001/Label-TitlePage/526/aug3.png   \n",
       "4      /home/mchou001/Label-TitlePage/526/aug4.png   \n",
       "..                                             ...   \n",
       "595  /home/mchou001/Label-TitlePage/526/aug595.png   \n",
       "596  /home/mchou001/Label-TitlePage/526/aug596.png   \n",
       "597  /home/mchou001/Label-TitlePage/526/aug597.png   \n",
       "598  /home/mchou001/Label-TitlePage/526/aug598.png   \n",
       "599  /home/mchou001/Label-TitlePage/526/aug599.png   \n",
       "\n",
       "                                                  text            class  \n",
       "0    'SOME ASPECTS OF RADIATION INDUCED NUCLEATION ...  Label-TitlePage  \n",
       "1    'PPOCEDUPES AS A PE PPESENTATION FCP nATA', 'I...  Label-TitlePage  \n",
       "2    'i', 'AN EXPERIMENTAL INVESTIGATION OF', 'OIL ...  Label-TitlePage  \n",
       "3    'DIGITAL SIMULATION OF A', 'TRANSPORTATION INT...  Label-TitlePage  \n",
       "4    'IMMERSIONS OF SYMMETRIC SPACES', 'by', 'EDMUN...  Label-TitlePage  \n",
       "..                                                 ...              ...  \n",
       "595  '73-27,539', 'FISCHER, Richard Gatts, 1942-', ...  Label-TitlePage  \n",
       "596  'IMPROVING INVESTMENT PERTORMANCE', 'AND', 'TH...  Label-TitlePage  \n",
       "597  '73-30,191', 'BUNTING, Charles I., 1942-', 'TH...  Label-TitlePage  \n",
       "598  'THE PROCESS OF PROGRAM INITIATION AT THE FEDE...  Label-TitlePage  \n",
       "599  '74-5785', 'WILLIAMSON, Lorna Joan, 1947-', 'I...  Label-TitlePage  \n",
       "\n",
       "[600 rows x 3 columns]"
      ]
     },
     "execution_count": 33,
     "metadata": {},
     "output_type": "execute_result"
    }
   ],
   "source": [
    "df3"
   ]
  },
  {
   "cell_type": "code",
   "execution_count": null,
   "metadata": {},
   "outputs": [],
   "source": []
  }
 ],
 "metadata": {
  "kernelspec": {
   "display_name": "Python 3 (ipykernel)",
   "language": "python",
   "name": "python3"
  },
  "language_info": {
   "codemirror_mode": {
    "name": "ipython",
    "version": 3
   },
   "file_extension": ".py",
   "mimetype": "text/x-python",
   "name": "python",
   "nbconvert_exporter": "python",
   "pygments_lexer": "ipython3",
   "version": "3.7.13"
  }
 },
 "nbformat": 4,
 "nbformat_minor": 4
}
