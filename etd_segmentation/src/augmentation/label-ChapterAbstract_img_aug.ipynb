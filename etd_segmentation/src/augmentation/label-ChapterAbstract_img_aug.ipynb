{
 "cells": [
  {
   "cell_type": "code",
   "execution_count": 1,
   "metadata": {},
   "outputs": [],
   "source": [
    "from tensorflow.keras.preprocessing import image\n",
    "from imgaug import augmenters as iaa\n",
    "import imgaug as ia\n",
    "import pandas as pd\n",
    "import numpy as np\n",
    "import cv2\n",
    "import glob\n",
    "import re\n",
    "import os"
   ]
  },
  {
   "cell_type": "code",
   "execution_count": 2,
   "metadata": {},
   "outputs": [],
   "source": [
    "# The function below will sort the files in numberical order \n",
    "numbers = re.compile(r'(\\d+)')\n",
    "def numericalSort(value):\n",
    "    parts = numbers.split(value)\n",
    "    parts[1::2] = map(int, parts[1::2])\n",
    "    return parts"
   ]
  },
  {
   "cell_type": "code",
   "execution_count": 3,
   "metadata": {},
   "outputs": [],
   "source": [
    "seq = iaa.Sequential([\n",
    "    iaa.Affine(rotate=(-6, 6)),\n",
    "    iaa.AdditiveGaussianNoise(scale=(10, 50)),\n",
    "    iaa.SaltAndPepper(p=0.1),\n",
    "    iaa.GaussianBlur(sigma=0.5),\n",
    "    iaa.LinearContrast(alpha=1),\n",
    "    iaa.PerspectiveTransform(scale=0.025, keep_size=True)\n",
    "], random_order = True)"
   ]
  },
  {
   "cell_type": "code",
   "execution_count": 4,
   "metadata": {},
   "outputs": [],
   "source": [
    "img_path = sorted(glob.glob('/home/mchou001/Label-ChapterAbstract/*.png'), key = numericalSort)\n",
    "\n",
    "lower = 0\n",
    "upper = 1000\n",
    "while lower < upper:\n",
    "    for n, images in enumerate(img_path[0:]):\n",
    "        aug_image = seq(image=cv2.imread(images))\n",
    "        cv2.imwrite('/home/mchou001/Label-ChapterAbstract/503/aug{}.png'.format(lower),aug_image)\n",
    "        lower += 1"
   ]
  },
  {
   "cell_type": "code",
   "execution_count": 5,
   "metadata": {},
   "outputs": [],
   "source": [
    "image_path = sorted(glob.glob('/home/mchou001/Label-ChapterAbstract/503/*.png'), key = numericalSort)\n",
    "\n",
    "df = pd.DataFrame(image_path, columns = ['filename'])\n",
    "df['class'] = np.nan\n",
    "df = df.fillna(\"Label-ChapterAbstract\")\n",
    "df.to_csv('chapter-abs_img_aug.csv', encoding = 'utf-8', index= None)"
   ]
  },
  {
   "cell_type": "code",
   "execution_count": 6,
   "metadata": {},
   "outputs": [
    {
     "data": {
      "text/html": [
       "<div>\n",
       "<style scoped>\n",
       "    .dataframe tbody tr th:only-of-type {\n",
       "        vertical-align: middle;\n",
       "    }\n",
       "\n",
       "    .dataframe tbody tr th {\n",
       "        vertical-align: top;\n",
       "    }\n",
       "\n",
       "    .dataframe thead th {\n",
       "        text-align: right;\n",
       "    }\n",
       "</style>\n",
       "<table border=\"1\" class=\"dataframe\">\n",
       "  <thead>\n",
       "    <tr style=\"text-align: right;\">\n",
       "      <th></th>\n",
       "      <th>filename</th>\n",
       "      <th>class</th>\n",
       "    </tr>\n",
       "  </thead>\n",
       "  <tbody>\n",
       "    <tr>\n",
       "      <th>0</th>\n",
       "      <td>/home/mchou001/Label-ChapterAbstract/503/aug0.png</td>\n",
       "      <td>Label-ChapterAbstract</td>\n",
       "    </tr>\n",
       "    <tr>\n",
       "      <th>1</th>\n",
       "      <td>/home/mchou001/Label-ChapterAbstract/503/aug1.png</td>\n",
       "      <td>Label-ChapterAbstract</td>\n",
       "    </tr>\n",
       "    <tr>\n",
       "      <th>2</th>\n",
       "      <td>/home/mchou001/Label-ChapterAbstract/503/aug2.png</td>\n",
       "      <td>Label-ChapterAbstract</td>\n",
       "    </tr>\n",
       "    <tr>\n",
       "      <th>3</th>\n",
       "      <td>/home/mchou001/Label-ChapterAbstract/503/aug3.png</td>\n",
       "      <td>Label-ChapterAbstract</td>\n",
       "    </tr>\n",
       "    <tr>\n",
       "      <th>4</th>\n",
       "      <td>/home/mchou001/Label-ChapterAbstract/503/aug4.png</td>\n",
       "      <td>Label-ChapterAbstract</td>\n",
       "    </tr>\n",
       "    <tr>\n",
       "      <th>...</th>\n",
       "      <td>...</td>\n",
       "      <td>...</td>\n",
       "    </tr>\n",
       "    <tr>\n",
       "      <th>1051</th>\n",
       "      <td>/home/mchou001/Label-ChapterAbstract/503/aug10...</td>\n",
       "      <td>Label-ChapterAbstract</td>\n",
       "    </tr>\n",
       "    <tr>\n",
       "      <th>1052</th>\n",
       "      <td>/home/mchou001/Label-ChapterAbstract/503/aug10...</td>\n",
       "      <td>Label-ChapterAbstract</td>\n",
       "    </tr>\n",
       "    <tr>\n",
       "      <th>1053</th>\n",
       "      <td>/home/mchou001/Label-ChapterAbstract/503/aug10...</td>\n",
       "      <td>Label-ChapterAbstract</td>\n",
       "    </tr>\n",
       "    <tr>\n",
       "      <th>1054</th>\n",
       "      <td>/home/mchou001/Label-ChapterAbstract/503/aug10...</td>\n",
       "      <td>Label-ChapterAbstract</td>\n",
       "    </tr>\n",
       "    <tr>\n",
       "      <th>1055</th>\n",
       "      <td>/home/mchou001/Label-ChapterAbstract/503/aug10...</td>\n",
       "      <td>Label-ChapterAbstract</td>\n",
       "    </tr>\n",
       "  </tbody>\n",
       "</table>\n",
       "<p>1056 rows × 2 columns</p>\n",
       "</div>"
      ],
      "text/plain": [
       "                                               filename                  class\n",
       "0     /home/mchou001/Label-ChapterAbstract/503/aug0.png  Label-ChapterAbstract\n",
       "1     /home/mchou001/Label-ChapterAbstract/503/aug1.png  Label-ChapterAbstract\n",
       "2     /home/mchou001/Label-ChapterAbstract/503/aug2.png  Label-ChapterAbstract\n",
       "3     /home/mchou001/Label-ChapterAbstract/503/aug3.png  Label-ChapterAbstract\n",
       "4     /home/mchou001/Label-ChapterAbstract/503/aug4.png  Label-ChapterAbstract\n",
       "...                                                 ...                    ...\n",
       "1051  /home/mchou001/Label-ChapterAbstract/503/aug10...  Label-ChapterAbstract\n",
       "1052  /home/mchou001/Label-ChapterAbstract/503/aug10...  Label-ChapterAbstract\n",
       "1053  /home/mchou001/Label-ChapterAbstract/503/aug10...  Label-ChapterAbstract\n",
       "1054  /home/mchou001/Label-ChapterAbstract/503/aug10...  Label-ChapterAbstract\n",
       "1055  /home/mchou001/Label-ChapterAbstract/503/aug10...  Label-ChapterAbstract\n",
       "\n",
       "[1056 rows x 2 columns]"
      ]
     },
     "execution_count": 6,
     "metadata": {},
     "output_type": "execute_result"
    }
   ],
   "source": [
    "df"
   ]
  },
  {
   "cell_type": "code",
   "execution_count": null,
   "metadata": {},
   "outputs": [
    {
     "name": "stdout",
     "output_type": "stream",
     "text": [
      "  adding: Label-ChapterAbstract/503/ (stored 0%)\n",
      "  adding: Label-ChapterAbstract/503/aug987.png (deflated 15%)\n",
      "  adding: Label-ChapterAbstract/503/aug174.png (deflated 18%)\n",
      "  adding: Label-ChapterAbstract/503/aug884.png (deflated 16%)\n",
      "  adding: Label-ChapterAbstract/503/aug606.png (deflated 15%)\n",
      "  adding: Label-ChapterAbstract/503/aug87.png (deflated 18%)\n",
      "  adding: Label-ChapterAbstract/503/aug809.png (deflated 16%)\n",
      "  adding: Label-ChapterAbstract/503/aug729.png (deflated 14%)\n",
      "  adding: Label-ChapterAbstract/503/aug883.png (deflated 18%)\n",
      "  adding: Label-ChapterAbstract/503/aug365.png (deflated 15%)\n",
      "  adding: Label-ChapterAbstract/503/aug515.png (deflated 15%)\n",
      "  adding: Label-ChapterAbstract/503/aug750.png (deflated 17%)\n",
      "  adding: Label-ChapterAbstract/503/aug759.png (deflated 16%)\n",
      "  adding: Label-ChapterAbstract/503/aug549.png (deflated 17%)\n",
      "  adding: Label-ChapterAbstract/503/aug659.png (deflated 15%)\n",
      "  adding: Label-ChapterAbstract/503/aug284.png (deflated 13%)\n",
      "  adding: Label-ChapterAbstract/503/aug547.png (deflated 15%)\n",
      "  adding: Label-ChapterAbstract/503/aug859.png (deflated 17%)\n",
      "  adding: Label-ChapterAbstract/503/aug667.png (deflated 16%)\n",
      "  adding: Label-ChapterAbstract/503/aug312.png (deflated 15%)\n",
      "  adding: Label-ChapterAbstract/503/aug500.png (deflated 15%)\n",
      "  adding: Label-ChapterAbstract/503/aug327.png (deflated 15%)\n",
      "  adding: Label-ChapterAbstract/503/aug131.png (deflated 16%)\n",
      "  adding: Label-ChapterAbstract/503/aug584.png (deflated 14%)\n",
      "  adding: Label-ChapterAbstract/503/aug48.png (deflated 15%)\n",
      "  adding: Label-ChapterAbstract/503/aug779.png (deflated 14%)\n",
      "  adding: Label-ChapterAbstract/503/aug930.png (deflated 16%)\n",
      "  adding: Label-ChapterAbstract/503/aug78.png (deflated 18%)\n",
      "  adding: Label-ChapterAbstract/503/aug13.png (deflated 17%)\n",
      "  adding: Label-ChapterAbstract/503/aug825.png (deflated 13%)\n",
      "  adding: Label-ChapterAbstract/503/aug899.png (deflated 15%)\n",
      "  adding: Label-ChapterAbstract/503/aug440.png (deflated 18%)\n",
      "  adding: Label-ChapterAbstract/503/aug437.png (deflated 15%)\n",
      "  adding: Label-ChapterAbstract/503/aug514.png (deflated 15%)\n",
      "  adding: Label-ChapterAbstract/503/aug675.png (deflated 15%)\n",
      "  adding: Label-ChapterAbstract/503/aug581.png (deflated 16%)\n",
      "  adding: Label-ChapterAbstract/503/aug598.png"
     ]
    }
   ],
   "source": [
    "!zip -r aug_image_chapterabs.zip ./Label-ChapterAbstract/503/"
   ]
  },
  {
   "cell_type": "code",
   "execution_count": null,
   "metadata": {},
   "outputs": [],
   "source": []
  }
 ],
 "metadata": {
  "kernelspec": {
   "display_name": "Python 3",
   "language": "python",
   "name": "python3"
  },
  "language_info": {
   "codemirror_mode": {
    "name": "ipython",
    "version": 3
   },
   "file_extension": ".py",
   "mimetype": "text/x-python",
   "name": "python",
   "nbconvert_exporter": "python",
   "pygments_lexer": "ipython3",
   "version": "3.7.7"
  }
 },
 "nbformat": 4,
 "nbformat_minor": 4
}
