{
 "cells": [
  {
   "cell_type": "markdown",
   "metadata": {},
   "source": [
    "### This script is taking all the chapter abstract text, process it, and then call paraphrasing model to perform text based Augmentation. Then save the result as a image(.png) format. Finally, it goes through all the images and perform image transformation and save the result as .png format."
   ]
  },
  {
   "cell_type": "code",
   "execution_count": 2,
   "metadata": {},
   "outputs": [],
   "source": [
    "## importing the modules from ETDAugmentation script\n",
    "from ipynb.fs.full.ETDaugmentation import *\n",
    "from imgaug import augmenters as iaa\n",
    "import imgaug as ia\n",
    "import pandas as pd\n",
    "import numpy as np\n",
    "import cv2\n",
    "import glob\n",
    "import re"
   ]
  },
  {
   "cell_type": "code",
   "execution_count": 2,
   "metadata": {},
   "outputs": [],
   "source": [
    "class GABS_TEXT_IMG_AUG:\n",
    "    \n",
    "    def list_of_phrases(self, phrases_abs):\n",
    "        phrases_list = []\n",
    "        self.phrases_abs = phrases_abs\n",
    "        for text in self.phrases_abs:\n",
    "            abs_ = parser.preprocess_cabs_abs(text)\n",
    "            abs_paraphrase = augmentation.paraphrased_text(abs_)\n",
    "            abs_list = [abs_paraphrase]\n",
    "            phrases_list.append(abs_list)\n",
    "        \n",
    "        return phrases_list\n",
    "\n",
    "    ## This function is taking all the augmented text and wrapping it so that it can fit into the page\n",
    "    ## it also adds heading to the top of the page\n",
    "\n",
    "    def list_of_abs(self, abs_text):\n",
    "        list_abs = []\n",
    "        self.abs_text = abs_text\n",
    "        abs_text_wrap = augmentation.wrap_text(self.abs_text)\n",
    "        abs_title = \"\\t\\t\\t\\t\\t\\t\\t\\t\\t\\t\\t\\t\\t\\t\\t\\t\\t\\t\\t\\t\\t\\t\\t\\t\\t\\t\\t\\t\\t\\t\\t\\t\\t\\t\\t\\t\\tSummary\\n\" + abs_text_wrap\n",
    "        list_abs.append(abs_title)\n",
    "        \n",
    "        return list_abs\n",
    "    \n",
    "    def text_on_img(self, fileName, text, size):\n",
    "        self.fileName = fileName\n",
    "        self.text = text\n",
    "        self.size = size\n",
    "        self.W = 2360\n",
    "        self.H = 3200\n",
    "        font = ImageFont.truetype('NimbusMonoPS-Regular.otf', size)\n",
    "        image = Image.new(mode = \"RGB\", size = (self.W, self.H), color = \"white\")\n",
    "        draw = ImageDraw.Draw(image)\n",
    "        w, h = draw.textsize(text)\n",
    "        ## Adjust the texual position in a page and draw the text on a image\n",
    "        '''\n",
    "        dedication -- 14 width and height 8; \n",
    "        ack -- 15 width and 6 height; \n",
    "        gabs -- 13 width and height 16\n",
    "        abstract -- 16 width and height 12\n",
    "        chapter abstract -- 18 width and height 6\n",
    "        '''\n",
    "        draw.text(((self.W-w)/13,(self.H-h)/16), text, font=font, fill=(0,0,0), spacing=60)\n",
    "        image.save(fileName)\n",
    "        \n",
    "        return image\n",
    "    \n",
    "    ## This function is calling text_on_image function and save the image to the directory\n",
    "    def abs_aug(self, abs_text_title):\n",
    "        self.abs_text_title = abs_text_title\n",
    "        for n, row in enumerate(self.abs_text_title):\n",
    "            fileName = (\"/home/mchou001/Label-GeneralAbstract/aug_text{}.png\".format(n))\n",
    "            ## dedication: 43, ack: 40, chapter abstract: 39, abstract - 42, gabs -- 38\n",
    "            save_image = self.text_on_img(fileName, row, 38) \n",
    "        \n",
    "        return save_image\n",
    "    \n",
    "    def img_transform(self, img_files):\n",
    "        self.img_files = img_files\n",
    "        \n",
    "        img_augmentation = iaa.Sequential([\n",
    "            iaa.Affine(rotate=(-6, 6)),\n",
    "            iaa.AdditiveGaussianNoise(scale=(10, 50)),\n",
    "            iaa.SaltAndPepper(p=0.1),\n",
    "            iaa.GaussianBlur(sigma=0.5),\n",
    "            iaa.LinearContrast(alpha=1),\n",
    "            iaa.PerspectiveTransform(scale=0.025, keep_size=True)\n",
    "        ], random_order = True)\n",
    "        \n",
    "        lower = 0\n",
    "        upper = 1000\n",
    "        while lower < upper:\n",
    "            for n, images in enumerate(self.img_files[0:]):\n",
    "                aug_image = img_augmentation(image=cv2.imread(images))\n",
    "                cv2.imwrite('./Label-GeneralAbstract/505/aug{}.png'.format(lower),aug_image)\n",
    "                lower += 1"
   ]
  },
  {
   "cell_type": "code",
   "execution_count": 3,
   "metadata": {},
   "outputs": [
    {
     "name": "stdout",
     "output_type": "stream",
     "text": [
      "CPU times: user 8 µs, sys: 1e+03 ns, total: 9 µs\n",
      "Wall time: 21.5 µs\n"
     ]
    }
   ],
   "source": [
    "if __name__ == \"__main__\":\n",
    "    \n",
    "    parser = Preprocessor()\n",
    "    augmentation = Augmentation()\n",
    "    \n",
    "    abs_text = GABS_TEXT_IMG_AUG()\n",
    "    \n",
    "    etd_data = pd.read_csv('ETD_aug.csv')\n",
    "    etd_data.set_index(\"class\", inplace = True)\n",
    "\n",
    "    label_abs = etd_data.loc[\"Label-GeneralAbstract\"]\n",
    "    phrases_abs = label_abs['text']\n",
    "\n",
    "    list_ = []\n",
    "    for texts in phrases_abs:\n",
    "        gabs =ast.literal_eval(texts)\n",
    "        list_.extend(gabs)\n",
    "    \n",
    "    splitter = SentenceSplitter(language='en')\n",
    "    gabs_list = splitter.split(str(list_))\n",
    "    aug_gabs = augmentation.paraphrased_text(gabs_list)\n",
    "    \n",
    "    aug_gabs_list = abs_text.list_of_abs(aug_gabs)\n",
    "    \n",
    "    abs_text_aug = abs_text.abs_aug(aug_gabs_list)\n",
    "    \n",
    "    \n",
    "    img_path = sorted(glob.glob('./Label-GeneralAbstract/*.png'), key = parser.numericalSort)\n",
    "    \n",
    "    augmented_img = abs_text.img_transform(img_path)\n",
    "    \n",
    "    %%time \n",
    "    [ x**2 for x in range(10000)]"
   ]
  },
  {
   "cell_type": "code",
   "execution_count": 1,
   "metadata": {},
   "outputs": [
    {
     "name": "stdout",
     "output_type": "stream",
     "text": [
      "File count: 1000\n"
     ]
    }
   ],
   "source": [
    "import os\n",
    "\n",
    "# folder path\n",
    "dir_path = './Label-GeneralAbstract/505'\n",
    "count = 0\n",
    "# Iterate directory\n",
    "for path in os.listdir(dir_path):\n",
    "    # check if current path is a file\n",
    "    if os.path.isfile(os.path.join(dir_path, path)):\n",
    "        count += 1\n",
    "print('File count:', count)"
   ]
  },
  {
   "cell_type": "code",
   "execution_count": 3,
   "metadata": {},
   "outputs": [],
   "source": [
    "#!zip -r gabs_txt_img.zip ./Label-GeneralAbstract/505/"
   ]
  },
  {
   "cell_type": "code",
   "execution_count": 4,
   "metadata": {},
   "outputs": [],
   "source": [
    "parser = Preprocessor()\n",
    "image_path = sorted(glob.glob('/home/mchou001/Label-GeneralAbstract/505/*.png'), key = parser.numericalSort)\n",
    "\n",
    "df = pd.DataFrame(image_path, columns = ['filename'])\n",
    "df['class'] = np.nan\n",
    "df = df.fillna(\"Label-GeneralAbstract\")\n",
    "df.to_csv('gabs_img_aug.csv', encoding = 'utf-8', index= None)"
   ]
  },
  {
   "cell_type": "code",
   "execution_count": null,
   "metadata": {},
   "outputs": [],
   "source": []
  }
 ],
 "metadata": {
  "kernelspec": {
   "display_name": "Python 3 (ipykernel)",
   "language": "python",
   "name": "python3"
  },
  "language_info": {
   "codemirror_mode": {
    "name": "ipython",
    "version": 3
   },
   "file_extension": ".py",
   "mimetype": "text/x-python",
   "name": "python",
   "nbconvert_exporter": "python",
   "pygments_lexer": "ipython3",
   "version": "3.7.13"
  }
 },
 "nbformat": 4,
 "nbformat_minor": 4
}
