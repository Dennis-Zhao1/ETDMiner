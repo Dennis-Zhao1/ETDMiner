{
 "cells": [
  {
   "cell_type": "markdown",
   "metadata": {},
   "source": [
    "### This script is going through all the cv images and perform image transformation and save the result as .png format."
   ]
  },
  {
   "cell_type": "code",
   "execution_count": 1,
   "metadata": {},
   "outputs": [
    {
     "name": "stderr",
     "output_type": "stream",
     "text": [
      "2023-08-07 16:30:08.552903: I tensorflow/core/platform/cpu_feature_guard.cc:193] This TensorFlow binary is optimized with oneAPI Deep Neural Network Library (oneDNN) to use the following CPU instructions in performance-critical operations:  AVX2 AVX512F FMA\n",
      "To enable them in other operations, rebuild TensorFlow with the appropriate compiler flags.\n",
      "2023-08-07 16:30:08.885783: E tensorflow/stream_executor/cuda/cuda_blas.cc:2981] Unable to register cuBLAS factory: Attempting to register factory for plugin cuBLAS when one has already been registered\n"
     ]
    }
   ],
   "source": [
    "## importing the modules from ETDAugmentation script\n",
    "from ipynb.fs.full.ETDaugmentation import *\n",
    "from imgaug import augmenters as iaa\n",
    "import imgaug as ia\n",
    "import pandas as pd\n",
    "import numpy as np\n",
    "import cv2\n",
    "import glob\n",
    "import re\n",
    "import time\n",
    "from tqdm import tqdm\n",
    "import tensorflow as tf"
   ]
  },
  {
   "cell_type": "code",
   "execution_count": 31,
   "metadata": {},
   "outputs": [],
   "source": [
    "class CV_IMG_AUG:\n",
    "    \n",
    "    def img_transform(self, img_files):\n",
    "        self.img_files = img_files\n",
    "        \n",
    "        img_augmentation = iaa.Sequential([\n",
    "            #iaa.AdditiveGaussianNoise(scale=(10, 50)),\n",
    "            #iaa.SaltAndPepper(p=0.1),\n",
    "            #iaa.GaussianBlur(sigma=0.5),\n",
    "            iaa.LinearContrast(alpha=1),\n",
    "        ], random_order = True)\n",
    "        \n",
    "        for n, images in tqdm(enumerate(self.img_files[0:]), desc = 'Processing augmented images'):\n",
    "            aug_image = img_augmentation(image=cv2.imread(images))\n",
    "            cv2.imwrite('./Label-CurriculumVitae/521/aug{}.png'.format(n),aug_image)"
   ]
  },
  {
   "cell_type": "code",
   "execution_count": 32,
   "metadata": {},
   "outputs": [
    {
     "name": "stderr",
     "output_type": "stream",
     "text": [
      "Processing augmented images: 124it [00:11, 10.59it/s]\n"
     ]
    }
   ],
   "source": [
    "if __name__ == \"__main__\":\n",
    "    \n",
    "    start = time.time()\n",
    "    with tf.device('/gpu:0'):\n",
    "        cv = CV_IMG_AUG()\n",
    "        \n",
    "        etd_data = pd.read_csv('/home/mchou001/ResNET/500ETD.csv')\n",
    "        etd_data.set_index(\"class\", inplace = True)\n",
    "        \n",
    "        label_cv = etd_data.loc[\"Label-CurriculumVitae\"]\n",
    "        img_path = label_cv['img_path']\n",
    "    \n",
    "        augmented_img = cv.img_transform(img_path)"
   ]
  },
  {
   "cell_type": "code",
   "execution_count": 33,
   "metadata": {},
   "outputs": [
    {
     "name": "stdout",
     "output_type": "stream",
     "text": [
      "File count: 124\n"
     ]
    }
   ],
   "source": [
    "import os\n",
    "\n",
    "# folder path\n",
    "dir_path = './Label-CurriculumVitae/521/'\n",
    "count = 0\n",
    "# Iterate directory\n",
    "for path in os.listdir(dir_path):\n",
    "    # check if current path is a file\n",
    "    if os.path.isfile(os.path.join(dir_path, path)):\n",
    "        count += 1\n",
    "print('File count:', count)"
   ]
  },
  {
   "cell_type": "code",
   "execution_count": 34,
   "metadata": {},
   "outputs": [],
   "source": [
    "text = label_cv['text']\n",
    "df = pd.DataFrame(text, columns = ['text'])\n",
    "df.to_csv('./Label-CurriculumVitae/cv_text_v4.csv', encoding = 'utf-8', index= None)"
   ]
  },
  {
   "cell_type": "code",
   "execution_count": 35,
   "metadata": {},
   "outputs": [],
   "source": [
    "parser = Preprocessor()\n",
    "image_path = sorted(glob.glob('/home/mchou001/Label-CurriculumVitae/521/*.png'), key = parser.numericalSort)\n",
    "\n",
    "df = pd.DataFrame(image_path, columns = ['img_path'])\n",
    "df.to_csv('./Label-CurriculumVitae/cv_v4.csv', encoding = 'utf-8', index= None)"
   ]
  },
  {
   "cell_type": "code",
   "execution_count": 36,
   "metadata": {},
   "outputs": [],
   "source": [
    "df1 = pd.read_csv('./Label-CurriculumVitae/cv_v4.csv')\n",
    "df2 = pd.read_csv('./Label-CurriculumVitae/cv_text_v4.csv')"
   ]
  },
  {
   "cell_type": "code",
   "execution_count": 37,
   "metadata": {},
   "outputs": [],
   "source": [
    "df3 = pd.concat([df1, df2], axis = 1)\n",
    "df3['class'] = np.nan\n",
    "df3 = df3.fillna(\"Label-CurriculumVitae\")\n",
    "df3.to_csv('./Label-CurriculumVitae/cv_img_aug_v4.csv', index = None)"
   ]
  },
  {
   "cell_type": "code",
   "execution_count": null,
   "metadata": {},
   "outputs": [],
   "source": []
  }
 ],
 "metadata": {
  "kernelspec": {
   "display_name": "Python 3 (ipykernel)",
   "language": "python",
   "name": "python3"
  },
  "language_info": {
   "codemirror_mode": {
    "name": "ipython",
    "version": 3
   },
   "file_extension": ".py",
   "mimetype": "text/x-python",
   "name": "python",
   "nbconvert_exporter": "python",
   "pygments_lexer": "ipython3",
   "version": "3.7.13"
  }
 },
 "nbformat": 4,
 "nbformat_minor": 4
}
