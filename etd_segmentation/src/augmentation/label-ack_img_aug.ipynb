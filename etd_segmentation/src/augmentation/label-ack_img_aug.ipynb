{
 "cells": [
  {
   "cell_type": "code",
   "execution_count": 7,
   "metadata": {},
   "outputs": [],
   "source": [
    "from tensorflow.keras.preprocessing import image\n",
    "from imgaug import augmenters as iaa\n",
    "import imgaug as ia\n",
    "import pandas as pd\n",
    "import numpy as np\n",
    "import cv2\n",
    "import glob\n",
    "import re\n",
    "import os"
   ]
  },
  {
   "cell_type": "code",
   "execution_count": 8,
   "metadata": {},
   "outputs": [],
   "source": [
    "# The function below will sort the files in numberical order \n",
    "numbers = re.compile(r'(\\d+)')\n",
    "def numericalSort(value):\n",
    "    parts = numbers.split(value)\n",
    "    parts[1::2] = map(int, parts[1::2])\n",
    "    return parts"
   ]
  },
  {
   "cell_type": "code",
   "execution_count": 9,
   "metadata": {},
   "outputs": [],
   "source": [
    "seq = iaa.Sequential([\n",
    "    iaa.Affine(rotate=(-6, 6)),\n",
    "    iaa.AdditiveGaussianNoise(scale=(10, 50)),\n",
    "    iaa.SaltAndPepper(p=0.1),\n",
    "    iaa.GaussianBlur(sigma=0.5),\n",
    "    iaa.LinearContrast(alpha=1),\n",
    "    iaa.PerspectiveTransform(scale=0.025, keep_size=True)\n",
    "], random_order = True)"
   ]
  },
  {
   "cell_type": "code",
   "execution_count": 10,
   "metadata": {},
   "outputs": [],
   "source": [
    "img_path = sorted(glob.glob('/home/mchou001/Label-Acknowledgement/*.png'), key = numericalSort)\n",
    "\n",
    "lower = 0\n",
    "upper = 1000\n",
    "while lower < upper:\n",
    "    for n, images in enumerate(img_path[0:]):\n",
    "        aug_image = seq(image=cv2.imread(images))\n",
    "        cv2.imwrite('/home/mchou001/Label-Acknowledgement/501/aug{}.png'.format(lower),aug_image)\n",
    "        lower += 1"
   ]
  },
  {
   "cell_type": "code",
   "execution_count": 5,
   "metadata": {},
   "outputs": [],
   "source": [
    "image_path = sorted(glob.glob('/home/mchou001/Label-Acknowledgement/501/*.png'), key = numericalSort)\n",
    "\n",
    "df = pd.DataFrame(image_path, columns = ['filename'])\n",
    "df['class'] = np.nan\n",
    "df = df.fillna(\"Label-Acknowledgement\")\n",
    "df.to_csv('ack_img_aug.csv', encoding = 'utf-8', index= None)"
   ]
  },
  {
   "cell_type": "code",
   "execution_count": 6,
   "metadata": {},
   "outputs": [
    {
     "data": {
      "text/html": [
       "<div>\n",
       "<style scoped>\n",
       "    .dataframe tbody tr th:only-of-type {\n",
       "        vertical-align: middle;\n",
       "    }\n",
       "\n",
       "    .dataframe tbody tr th {\n",
       "        vertical-align: top;\n",
       "    }\n",
       "\n",
       "    .dataframe thead th {\n",
       "        text-align: right;\n",
       "    }\n",
       "</style>\n",
       "<table border=\"1\" class=\"dataframe\">\n",
       "  <thead>\n",
       "    <tr style=\"text-align: right;\">\n",
       "      <th></th>\n",
       "      <th>filename</th>\n",
       "      <th>class</th>\n",
       "    </tr>\n",
       "  </thead>\n",
       "  <tbody>\n",
       "    <tr>\n",
       "      <th>0</th>\n",
       "      <td>/home/mchou001/Label-Acknowledgement/501/aug0.png</td>\n",
       "      <td>Label-Acknowledgement</td>\n",
       "    </tr>\n",
       "    <tr>\n",
       "      <th>1</th>\n",
       "      <td>/home/mchou001/Label-Acknowledgement/501/aug1.png</td>\n",
       "      <td>Label-Acknowledgement</td>\n",
       "    </tr>\n",
       "    <tr>\n",
       "      <th>2</th>\n",
       "      <td>/home/mchou001/Label-Acknowledgement/501/aug2.png</td>\n",
       "      <td>Label-Acknowledgement</td>\n",
       "    </tr>\n",
       "    <tr>\n",
       "      <th>3</th>\n",
       "      <td>/home/mchou001/Label-Acknowledgement/501/aug3.png</td>\n",
       "      <td>Label-Acknowledgement</td>\n",
       "    </tr>\n",
       "    <tr>\n",
       "      <th>4</th>\n",
       "      <td>/home/mchou001/Label-Acknowledgement/501/aug4.png</td>\n",
       "      <td>Label-Acknowledgement</td>\n",
       "    </tr>\n",
       "    <tr>\n",
       "      <th>...</th>\n",
       "      <td>...</td>\n",
       "      <td>...</td>\n",
       "    </tr>\n",
       "    <tr>\n",
       "      <th>1312</th>\n",
       "      <td>/home/mchou001/Label-Acknowledgement/501/aug13...</td>\n",
       "      <td>Label-Acknowledgement</td>\n",
       "    </tr>\n",
       "    <tr>\n",
       "      <th>1313</th>\n",
       "      <td>/home/mchou001/Label-Acknowledgement/501/aug13...</td>\n",
       "      <td>Label-Acknowledgement</td>\n",
       "    </tr>\n",
       "    <tr>\n",
       "      <th>1314</th>\n",
       "      <td>/home/mchou001/Label-Acknowledgement/501/aug13...</td>\n",
       "      <td>Label-Acknowledgement</td>\n",
       "    </tr>\n",
       "    <tr>\n",
       "      <th>1315</th>\n",
       "      <td>/home/mchou001/Label-Acknowledgement/501/aug13...</td>\n",
       "      <td>Label-Acknowledgement</td>\n",
       "    </tr>\n",
       "    <tr>\n",
       "      <th>1316</th>\n",
       "      <td>/home/mchou001/Label-Acknowledgement/501/aug13...</td>\n",
       "      <td>Label-Acknowledgement</td>\n",
       "    </tr>\n",
       "  </tbody>\n",
       "</table>\n",
       "<p>1317 rows × 2 columns</p>\n",
       "</div>"
      ],
      "text/plain": [
       "                                               filename                  class\n",
       "0     /home/mchou001/Label-Acknowledgement/501/aug0.png  Label-Acknowledgement\n",
       "1     /home/mchou001/Label-Acknowledgement/501/aug1.png  Label-Acknowledgement\n",
       "2     /home/mchou001/Label-Acknowledgement/501/aug2.png  Label-Acknowledgement\n",
       "3     /home/mchou001/Label-Acknowledgement/501/aug3.png  Label-Acknowledgement\n",
       "4     /home/mchou001/Label-Acknowledgement/501/aug4.png  Label-Acknowledgement\n",
       "...                                                 ...                    ...\n",
       "1312  /home/mchou001/Label-Acknowledgement/501/aug13...  Label-Acknowledgement\n",
       "1313  /home/mchou001/Label-Acknowledgement/501/aug13...  Label-Acknowledgement\n",
       "1314  /home/mchou001/Label-Acknowledgement/501/aug13...  Label-Acknowledgement\n",
       "1315  /home/mchou001/Label-Acknowledgement/501/aug13...  Label-Acknowledgement\n",
       "1316  /home/mchou001/Label-Acknowledgement/501/aug13...  Label-Acknowledgement\n",
       "\n",
       "[1317 rows x 2 columns]"
      ]
     },
     "execution_count": 6,
     "metadata": {},
     "output_type": "execute_result"
    }
   ],
   "source": [
    "df"
   ]
  }
 ],
 "metadata": {
  "kernelspec": {
   "display_name": "Python 3",
   "language": "python",
   "name": "python3"
  },
  "language_info": {
   "codemirror_mode": {
    "name": "ipython",
    "version": 3
   },
   "file_extension": ".py",
   "mimetype": "text/x-python",
   "name": "python",
   "nbconvert_exporter": "python",
   "pygments_lexer": "ipython3",
   "version": "3.7.7"
  }
 },
 "nbformat": 4,
 "nbformat_minor": 4
}
