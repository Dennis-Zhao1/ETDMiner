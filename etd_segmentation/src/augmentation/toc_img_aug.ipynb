{
 "cells": [
  {
   "cell_type": "markdown",
   "metadata": {},
   "source": [
    "### This script is going through all the list of figures images and perform image transformation and save the result as .png format."
   ]
  },
  {
   "cell_type": "code",
   "execution_count": 1,
   "metadata": {},
   "outputs": [
    {
     "name": "stderr",
     "output_type": "stream",
     "text": [
      "2023-08-10 22:22:26.314903: I tensorflow/core/platform/cpu_feature_guard.cc:193] This TensorFlow binary is optimized with oneAPI Deep Neural Network Library (oneDNN) to use the following CPU instructions in performance-critical operations:  AVX2 AVX512F FMA\n",
      "To enable them in other operations, rebuild TensorFlow with the appropriate compiler flags.\n",
      "2023-08-10 22:22:28.396228: E tensorflow/stream_executor/cuda/cuda_blas.cc:2981] Unable to register cuBLAS factory: Attempting to register factory for plugin cuBLAS when one has already been registered\n"
     ]
    }
   ],
   "source": [
    "## importing the modules from ETDAugmentation script\n",
    "from ipynb.fs.full.ETDaugmentation import *\n",
    "from imgaug import augmenters as iaa\n",
    "import imgaug as ia\n",
    "import pandas as pd\n",
    "import numpy as np\n",
    "import cv2\n",
    "import glob\n",
    "import re\n",
    "import time\n",
    "from tqdm import tqdm\n",
    "import tensorflow as tf"
   ]
  },
  {
   "cell_type": "code",
   "execution_count": 2,
   "metadata": {},
   "outputs": [],
   "source": [
    "class TOC_IMG_AUG:\n",
    "    \n",
    "    def img_transform(self, img_files):\n",
    "        self.img_files = img_files\n",
    "        \n",
    "        img_augmentation = iaa.Sequential([\n",
    "            iaa.AdditiveGaussianNoise(scale=(10, 30)),\n",
    "            iaa.SaltAndPepper(p=0.07),\n",
    "            iaa.GaussianBlur(sigma=0.09),\n",
    "            iaa.LinearContrast(alpha=1),\n",
    "        ], random_order = True)\n",
    "        \n",
    "        for n, images in tqdm(enumerate(self.img_files[0:]), desc = 'Processing augmented images'):\n",
    "            aug_image = img_augmentation(image=cv2.imread(images))\n",
    "            cv2.imwrite('./Label-TableofContent/527/aug{}.png'.format(n),aug_image)"
   ]
  },
  {
   "cell_type": "code",
   "execution_count": 3,
   "metadata": {},
   "outputs": [
    {
     "name": "stderr",
     "output_type": "stream",
     "text": [
      "2023-08-10 22:23:14.398942: I tensorflow/core/platform/cpu_feature_guard.cc:193] This TensorFlow binary is optimized with oneAPI Deep Neural Network Library (oneDNN) to use the following CPU instructions in performance-critical operations:  AVX2 AVX512F FMA\n",
      "To enable them in other operations, rebuild TensorFlow with the appropriate compiler flags.\n",
      "2023-08-10 22:23:17.400975: I tensorflow/core/common_runtime/gpu/gpu_device.cc:1616] Created device /job:localhost/replica:0/task:0/device:GPU:0 with 11523 MB memory:  -> device: 0, name: Tesla V100-SXM2-16GB, pci bus id: 0000:1c:00.0, compute capability: 7.0\n",
      "Processing augmented images: 600it [13:37,  1.36s/it]\n"
     ]
    }
   ],
   "source": [
    "if __name__ == \"__main__\":\n",
    "    \n",
    "    start = time.time()\n",
    "    with tf.device('/gpu:0'):\n",
    "        #parser = Preprocessor()\n",
    "        toc = TOC_IMG_AUG()\n",
    "        \n",
    "        etd_data = pd.read_csv('/home/mchou001/ResNET/500ETD.csv')\n",
    "        etd_data.set_index(\"class\", inplace = True)\n",
    "        \n",
    "        label_toc = etd_data.loc[\"Label-TableofContent\"][0:600]\n",
    "        img_path = label_toc['img_path']\n",
    "    \n",
    "        augmented_img = toc.img_transform(img_path)\n",
    "    \n",
    "#        image_path = sorted(glob.glob('/home/mchou001/Label-ListofFigures/508/*.png'), key = parser.numericalSort)\n",
    "\n",
    "#     df = pd.DataFrame(image_path, columns = ['filename'])\n",
    "#     df['class'] = np.nan\n",
    "#     df = df.fillna(\"Label-ListofFigures\")\n",
    "#     df.to_csv('list-of-figures_img_aug.csv', encoding = 'utf-8', index= None)"
   ]
  },
  {
   "cell_type": "code",
   "execution_count": 4,
   "metadata": {},
   "outputs": [
    {
     "name": "stdout",
     "output_type": "stream",
     "text": [
      "File count: 600\n"
     ]
    }
   ],
   "source": [
    "import os\n",
    "\n",
    "# folder path\n",
    "dir_path = './Label-TableofContent/527/'\n",
    "count = 0\n",
    "# Iterate directory\n",
    "for path in os.listdir(dir_path):\n",
    "    # check if current path is a file\n",
    "    if os.path.isfile(os.path.join(dir_path, path)):\n",
    "        count += 1\n",
    "print('File count:', count)"
   ]
  },
  {
   "cell_type": "code",
   "execution_count": 6,
   "metadata": {},
   "outputs": [],
   "source": [
    "text = label_toc['text']\n",
    "df = pd.DataFrame(text, columns = ['text'])\n",
    "df.to_csv('./Label-TableofContent/toc_text.csv', encoding = 'utf-8', index= None)"
   ]
  },
  {
   "cell_type": "code",
   "execution_count": 7,
   "metadata": {},
   "outputs": [],
   "source": [
    "parser = Preprocessor()\n",
    "image_path = sorted(glob.glob('/home/mchou001/Label-TableofContent/527/*.png'), key = parser.numericalSort)\n",
    "\n",
    "df = pd.DataFrame(image_path, columns = ['img_path'])\n",
    "df.to_csv('./Label-TableofContent/toc_img.csv', encoding = 'utf-8', index= None)"
   ]
  },
  {
   "cell_type": "code",
   "execution_count": 8,
   "metadata": {},
   "outputs": [],
   "source": [
    "df1 = pd.read_csv('./Label-TableofContent/toc_img.csv')\n",
    "df2 = pd.read_csv('./Label-TableofContent/toc_text.csv')"
   ]
  },
  {
   "cell_type": "code",
   "execution_count": 9,
   "metadata": {},
   "outputs": [],
   "source": [
    "df3 = pd.concat([df1, df2], axis = 1)\n",
    "df3['class'] = np.nan\n",
    "df3 = df3.fillna(\"Label-TableofContent\")\n",
    "df3.to_csv('./Label-TableofContent/toc_img_aug.csv', index = None)"
   ]
  },
  {
   "cell_type": "code",
   "execution_count": 10,
   "metadata": {},
   "outputs": [
    {
     "data": {
      "text/html": [
       "<div>\n",
       "<style scoped>\n",
       "    .dataframe tbody tr th:only-of-type {\n",
       "        vertical-align: middle;\n",
       "    }\n",
       "\n",
       "    .dataframe tbody tr th {\n",
       "        vertical-align: top;\n",
       "    }\n",
       "\n",
       "    .dataframe thead th {\n",
       "        text-align: right;\n",
       "    }\n",
       "</style>\n",
       "<table border=\"1\" class=\"dataframe\">\n",
       "  <thead>\n",
       "    <tr style=\"text-align: right;\">\n",
       "      <th></th>\n",
       "      <th>img_path</th>\n",
       "      <th>text</th>\n",
       "      <th>class</th>\n",
       "    </tr>\n",
       "  </thead>\n",
       "  <tbody>\n",
       "    <tr>\n",
       "      <th>0</th>\n",
       "      <td>/home/mchou001/Label-TableofContent/527/aug0.png</td>\n",
       "      <td>'5', 'Table of Contents', 'Abstract', '3', 'Ac...</td>\n",
       "      <td>Label-TableofContent</td>\n",
       "    </tr>\n",
       "    <tr>\n",
       "      <th>1</th>\n",
       "      <td>/home/mchou001/Label-TableofContent/527/aug1.png</td>\n",
       "      <td>'6', 'PWR Conditions', '3.5.2', 'Neutron Induc...</td>\n",
       "      <td>Label-TableofContent</td>\n",
       "    </tr>\n",
       "    <tr>\n",
       "      <th>2</th>\n",
       "      <td>/home/mchou001/Label-TableofContent/527/aug2.png</td>\n",
       "      <td>'4', 'TABLE OF CONTENTS', 'PREFACE -- Talking ...</td>\n",
       "      <td>Label-TableofContent</td>\n",
       "    </tr>\n",
       "    <tr>\n",
       "      <th>3</th>\n",
       "      <td>/home/mchou001/Label-TableofContent/527/aug3.png</td>\n",
       "      <td>'5', '2.4.1 Operation of the System', '152', '...</td>\n",
       "      <td>Label-TableofContent</td>\n",
       "    </tr>\n",
       "    <tr>\n",
       "      <th>4</th>\n",
       "      <td>/home/mchou001/Label-TableofContent/527/aug4.png</td>\n",
       "      <td>'6', '3.4.3 Actions', '237', '3.4.4 Memory', '...</td>\n",
       "      <td>Label-TableofContent</td>\n",
       "    </tr>\n",
       "    <tr>\n",
       "      <th>...</th>\n",
       "      <td>...</td>\n",
       "      <td>...</td>\n",
       "      <td>...</td>\n",
       "    </tr>\n",
       "    <tr>\n",
       "      <th>595</th>\n",
       "      <td>/home/mchou001/Label-TableofContent/527/aug595...</td>\n",
       "      <td>'V', 'TABLE OF CONTENTS', 'Page', 'I.', 'Backg...</td>\n",
       "      <td>Label-TableofContent</td>\n",
       "    </tr>\n",
       "    <tr>\n",
       "      <th>596</th>\n",
       "      <td>/home/mchou001/Label-TableofContent/527/aug596...</td>\n",
       "      <td>'vi', 'Page', 'V. Results', '45', 'A. Reliabil...</td>\n",
       "      <td>Label-TableofContent</td>\n",
       "    </tr>\n",
       "    <tr>\n",
       "      <th>597</th>\n",
       "      <td>/home/mchou001/Label-TableofContent/527/aug597...</td>\n",
       "      <td>'vii', 'Page', 'VIII. Appendices', '103', 'A. ...</td>\n",
       "      <td>Label-TableofContent</td>\n",
       "    </tr>\n",
       "    <tr>\n",
       "      <th>598</th>\n",
       "      <td>/home/mchou001/Label-TableofContent/527/aug598...</td>\n",
       "      <td>'iii', 'TABLE OF CONTENTS', 'I.', 'Introductio...</td>\n",
       "      <td>Label-TableofContent</td>\n",
       "    </tr>\n",
       "    <tr>\n",
       "      <th>599</th>\n",
       "      <td>/home/mchou001/Label-TableofContent/527/aug599...</td>\n",
       "      <td>'i', \"An Empirical Typology of College Women's...</td>\n",
       "      <td>Label-TableofContent</td>\n",
       "    </tr>\n",
       "  </tbody>\n",
       "</table>\n",
       "<p>600 rows × 3 columns</p>\n",
       "</div>"
      ],
      "text/plain": [
       "                                              img_path  \\\n",
       "0     /home/mchou001/Label-TableofContent/527/aug0.png   \n",
       "1     /home/mchou001/Label-TableofContent/527/aug1.png   \n",
       "2     /home/mchou001/Label-TableofContent/527/aug2.png   \n",
       "3     /home/mchou001/Label-TableofContent/527/aug3.png   \n",
       "4     /home/mchou001/Label-TableofContent/527/aug4.png   \n",
       "..                                                 ...   \n",
       "595  /home/mchou001/Label-TableofContent/527/aug595...   \n",
       "596  /home/mchou001/Label-TableofContent/527/aug596...   \n",
       "597  /home/mchou001/Label-TableofContent/527/aug597...   \n",
       "598  /home/mchou001/Label-TableofContent/527/aug598...   \n",
       "599  /home/mchou001/Label-TableofContent/527/aug599...   \n",
       "\n",
       "                                                  text                 class  \n",
       "0    '5', 'Table of Contents', 'Abstract', '3', 'Ac...  Label-TableofContent  \n",
       "1    '6', 'PWR Conditions', '3.5.2', 'Neutron Induc...  Label-TableofContent  \n",
       "2    '4', 'TABLE OF CONTENTS', 'PREFACE -- Talking ...  Label-TableofContent  \n",
       "3    '5', '2.4.1 Operation of the System', '152', '...  Label-TableofContent  \n",
       "4    '6', '3.4.3 Actions', '237', '3.4.4 Memory', '...  Label-TableofContent  \n",
       "..                                                 ...                   ...  \n",
       "595  'V', 'TABLE OF CONTENTS', 'Page', 'I.', 'Backg...  Label-TableofContent  \n",
       "596  'vi', 'Page', 'V. Results', '45', 'A. Reliabil...  Label-TableofContent  \n",
       "597  'vii', 'Page', 'VIII. Appendices', '103', 'A. ...  Label-TableofContent  \n",
       "598  'iii', 'TABLE OF CONTENTS', 'I.', 'Introductio...  Label-TableofContent  \n",
       "599  'i', \"An Empirical Typology of College Women's...  Label-TableofContent  \n",
       "\n",
       "[600 rows x 3 columns]"
      ]
     },
     "execution_count": 10,
     "metadata": {},
     "output_type": "execute_result"
    }
   ],
   "source": [
    "df3"
   ]
  },
  {
   "cell_type": "code",
   "execution_count": null,
   "metadata": {},
   "outputs": [],
   "source": []
  }
 ],
 "metadata": {
  "kernelspec": {
   "display_name": "Python 3 (ipykernel)",
   "language": "python",
   "name": "python3"
  },
  "language_info": {
   "codemirror_mode": {
    "name": "ipython",
    "version": 3
   },
   "file_extension": ".py",
   "mimetype": "text/x-python",
   "name": "python",
   "nbconvert_exporter": "python",
   "pygments_lexer": "ipython3",
   "version": "3.7.13"
  }
 },
 "nbformat": 4,
 "nbformat_minor": 4
}
